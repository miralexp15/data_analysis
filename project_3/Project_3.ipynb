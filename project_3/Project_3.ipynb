{
 "cells": [
  {
   "cell_type": "markdown",
   "metadata": {},
   "source": [
    "# Определение перспективного тарифа для телеком-компании\n",
    "<br><br>\n",
    "**Описание проекта**\n",
    "\n",
    "*Цели*: провести предобработку данных, провести исследовательский анализ и проверить статистические гипотезы.\n",
    "\n",
    "*Входные данные*: датасеты по пользователям, тарифам, звонкам, сообщениям, интернету.\n",
    "<br><br>\n",
    "**План проекта**:\n",
    "- Проведена предобработка данных:\n",
    "    + Обработка пропусков, дубликатов, некорректных значений;\n",
    "    + Проверка соответствия типов данных.\n",
    "- Проведен анализ данных;\n",
    "- Проверены статистические гипотезы."
   ]
  },
  {
   "cell_type": "markdown",
   "metadata": {
    "toc": true
   },
   "source": [
    "<h1>Содержание<span class=\"tocSkip\"></span></h1>\n",
    "<div class=\"toc\"><ul class=\"toc-item\"><li><span><a href=\"#1.-Изучение-данных-из-файлов\" data-toc-modified-id=\"1.-Изучение-данных-из-файлов-1\">1. Изучение данных из файлов</a></span><ul class=\"toc-item\"><li><span><a href=\"#1.1.-Файл-users.csv\" data-toc-modified-id=\"1.1.-Файл-users.csv-1.1\">1.1. Файл users.csv</a></span></li><li><span><a href=\"#1.2.-Файл-tariffs.csv\" data-toc-modified-id=\"1.2.-Файл-tariffs.csv-1.2\">1.2. Файл tariffs.csv</a></span></li><li><span><a href=\"#1.3.-Файл-calls.csv\" data-toc-modified-id=\"1.3.-Файл-calls.csv-1.3\">1.3. Файл calls.csv</a></span></li><li><span><a href=\"#1.4.-Файл-messages.csv\" data-toc-modified-id=\"1.4.-Файл-messages.csv-1.4\">1.4. Файл messages.csv</a></span></li><li><span><a href=\"#1.5.-Файл-internet.csv\" data-toc-modified-id=\"1.5.-Файл-internet.csv-1.5\">1.5. Файл internet.csv</a></span></li><li><span><a href=\"#1.6.-Вывод\" data-toc-modified-id=\"1.6.-Вывод-1.6\">1.6. Вывод</a></span></li></ul></li><li><span><a href=\"#2.-Подготовка-данных\" data-toc-modified-id=\"2.-Подготовка-данных-2\">2. Подготовка данных</a></span><ul class=\"toc-item\"><li><span><a href=\"#2.1.-Предобработка-данных\" data-toc-modified-id=\"2.1.-Предобработка-данных-2.1\">2.1. Предобработка данных</a></span><ul class=\"toc-item\"><li><span><a href=\"#2.1.1.-Датафрейм-users_df\" data-toc-modified-id=\"2.1.1.-Датафрейм-users_df-2.1.1\">2.1.1. Датафрейм users_df</a></span></li><li><span><a href=\"#2.1.2.-Датафрейм-tariffs_df\" data-toc-modified-id=\"2.1.2.-Датафрейм-tariffs_df-2.1.2\">2.1.2. Датафрейм tariffs_df</a></span></li><li><span><a href=\"#2.1.3.-Датафрейм-calls_df\" data-toc-modified-id=\"2.1.3.-Датафрейм-calls_df-2.1.3\">2.1.3. Датафрейм calls_df</a></span></li><li><span><a href=\"#2.1.4.-Датафрейм-messages_df\" data-toc-modified-id=\"2.1.4.-Датафрейм-messages_df-2.1.4\">2.1.4. Датафрейм messages_df</a></span></li><li><span><a href=\"#2.1.5.-Датафрейм-internet_df\" data-toc-modified-id=\"2.1.5.-Датафрейм-internet_df-2.1.5\">2.1.5. Датафрейм internet_df</a></span></li></ul></li><li><span><a href=\"#2.2.-Подсчет-значений-по-месяцам\" data-toc-modified-id=\"2.2.-Подсчет-значений-по-месяцам-2.2\">2.2. Подсчет значений по месяцам</a></span><ul class=\"toc-item\"><li><span><a href=\"#2.2.1.-Количество--звонков-и-израсходованных-минут-по-месяцам\" data-toc-modified-id=\"2.2.1.-Количество--звонков-и-израсходованных-минут-по-месяцам-2.2.1\">2.2.1. Количество  звонков и израсходованных минут по месяцам</a></span></li><li><span><a href=\"#2.2.2.-Количество-сообщений-по-месяцам\" data-toc-modified-id=\"2.2.2.-Количество-сообщений-по-месяцам-2.2.2\">2.2.2. Количество сообщений по месяцам</a></span></li><li><span><a href=\"#2.2.3.-Объем-интернет-трафика-по-месяцам\" data-toc-modified-id=\"2.2.3.-Объем-интернет-трафика-по-месяцам-2.2.3\">2.2.3. Объем интернет-трафика по месяцам</a></span></li><li><span><a href=\"#2.2.4.-Помесячная-выручка-с-каждого-пользователя\" data-toc-modified-id=\"2.2.4.-Помесячная-выручка-с-каждого-пользователя-2.2.4\">2.2.4. Помесячная выручка с каждого пользователя</a></span></li></ul></li><li><span><a href=\"#2.3.-Вывод\" data-toc-modified-id=\"2.3.-Вывод-2.3\">2.3. Вывод</a></span></li></ul></li><li><span><a href=\"#3.-Анализ-данных\" data-toc-modified-id=\"3.-Анализ-данных-3\">3. Анализ данных</a></span><ul class=\"toc-item\"><li><span><a href=\"#3.1.-Минуты-разговора\" data-toc-modified-id=\"3.1.-Минуты-разговора-3.1\">3.1. Минуты разговора</a></span></li><li><span><a href=\"#3.2.-Количество-сообщений\" data-toc-modified-id=\"3.2.-Количество-сообщений-3.2\">3.2. Количество сообщений</a></span></li><li><span><a href=\"#3.3.-Объем-интернет-трафика\" data-toc-modified-id=\"3.3.-Объем-интернет-трафика-3.3\">3.3. Объем интернет-трафика</a></span></li><li><span><a href=\"#3.4.-Вывод\" data-toc-modified-id=\"3.4.-Вывод-3.4\">3.4. Вывод</a></span></li></ul></li><li><span><a href=\"#4.-Проверка-гипотез\" data-toc-modified-id=\"4.-Проверка-гипотез-4\">4. Проверка гипотез</a></span><ul class=\"toc-item\"><li><span><a href=\"#4.1.-Средняя-выручка-пользователей-двух-тарифов\" data-toc-modified-id=\"4.1.-Средняя-выручка-пользователей-двух-тарифов-4.1\">4.1. Средняя выручка пользователей двух тарифов</a></span></li><li><span><a href=\"#4.2.-Средняя-выручка-пользователей-из-Москвы-и-других-регионов\" data-toc-modified-id=\"4.2.-Средняя-выручка-пользователей-из-Москвы-и-других-регионов-4.2\">4.2. Средняя выручка пользователей из Москвы и других регионов</a></span></li><li><span><a href=\"#4.3.-Вывод\" data-toc-modified-id=\"4.3.-Вывод-4.3\">4.3. Вывод</a></span></li></ul></li><li><span><a href=\"#5.-Общий-вывод\" data-toc-modified-id=\"5.-Общий-вывод-5\">5. Общий вывод</a></span></li></ul></div>"
   ]
  },
  {
   "cell_type": "markdown",
   "metadata": {},
   "source": [
    "## 1. Изучение данных из файлов"
   ]
  },
  {
   "cell_type": "code",
   "execution_count": 1,
   "metadata": {},
   "outputs": [],
   "source": [
    "# <импорт необходимых библиотек>\n",
    "import pandas as pd\n",
    "import numpy as np\n",
    "from scipy import stats as st\n",
    "import matplotlib.pyplot as plt\n",
    "import seaborn as sns"
   ]
  },
  {
   "cell_type": "markdown",
   "metadata": {},
   "source": [
    "### 1.1. Файл users.csv"
   ]
  },
  {
   "cell_type": "code",
   "execution_count": 2,
   "metadata": {},
   "outputs": [
    {
     "data": {
      "text/html": [
       "<div>\n",
       "<style scoped>\n",
       "    .dataframe tbody tr th:only-of-type {\n",
       "        vertical-align: middle;\n",
       "    }\n",
       "\n",
       "    .dataframe tbody tr th {\n",
       "        vertical-align: top;\n",
       "    }\n",
       "\n",
       "    .dataframe thead th {\n",
       "        text-align: right;\n",
       "    }\n",
       "</style>\n",
       "<table border=\"1\" class=\"dataframe\">\n",
       "  <thead>\n",
       "    <tr style=\"text-align: right;\">\n",
       "      <th></th>\n",
       "      <th>user_id</th>\n",
       "      <th>age</th>\n",
       "      <th>churn_date</th>\n",
       "      <th>city</th>\n",
       "      <th>first_name</th>\n",
       "      <th>last_name</th>\n",
       "      <th>reg_date</th>\n",
       "      <th>tariff</th>\n",
       "    </tr>\n",
       "  </thead>\n",
       "  <tbody>\n",
       "    <tr>\n",
       "      <td>0</td>\n",
       "      <td>1000</td>\n",
       "      <td>52</td>\n",
       "      <td>NaN</td>\n",
       "      <td>Краснодар</td>\n",
       "      <td>Рафаил</td>\n",
       "      <td>Верещагин</td>\n",
       "      <td>2018-05-25</td>\n",
       "      <td>ultra</td>\n",
       "    </tr>\n",
       "    <tr>\n",
       "      <td>1</td>\n",
       "      <td>1001</td>\n",
       "      <td>41</td>\n",
       "      <td>NaN</td>\n",
       "      <td>Москва</td>\n",
       "      <td>Иван</td>\n",
       "      <td>Ежов</td>\n",
       "      <td>2018-11-01</td>\n",
       "      <td>smart</td>\n",
       "    </tr>\n",
       "    <tr>\n",
       "      <td>2</td>\n",
       "      <td>1002</td>\n",
       "      <td>59</td>\n",
       "      <td>NaN</td>\n",
       "      <td>Стерлитамак</td>\n",
       "      <td>Евгений</td>\n",
       "      <td>Абрамович</td>\n",
       "      <td>2018-06-17</td>\n",
       "      <td>smart</td>\n",
       "    </tr>\n",
       "    <tr>\n",
       "      <td>3</td>\n",
       "      <td>1003</td>\n",
       "      <td>23</td>\n",
       "      <td>NaN</td>\n",
       "      <td>Москва</td>\n",
       "      <td>Белла</td>\n",
       "      <td>Белякова</td>\n",
       "      <td>2018-08-17</td>\n",
       "      <td>ultra</td>\n",
       "    </tr>\n",
       "    <tr>\n",
       "      <td>4</td>\n",
       "      <td>1004</td>\n",
       "      <td>68</td>\n",
       "      <td>NaN</td>\n",
       "      <td>Новокузнецк</td>\n",
       "      <td>Татьяна</td>\n",
       "      <td>Авдеенко</td>\n",
       "      <td>2018-05-14</td>\n",
       "      <td>ultra</td>\n",
       "    </tr>\n",
       "  </tbody>\n",
       "</table>\n",
       "</div>"
      ],
      "text/plain": [
       "   user_id  age churn_date         city first_name  last_name    reg_date  \\\n",
       "0     1000   52        NaN    Краснодар     Рафаил  Верещагин  2018-05-25   \n",
       "1     1001   41        NaN       Москва       Иван       Ежов  2018-11-01   \n",
       "2     1002   59        NaN  Стерлитамак    Евгений  Абрамович  2018-06-17   \n",
       "3     1003   23        NaN       Москва      Белла   Белякова  2018-08-17   \n",
       "4     1004   68        NaN  Новокузнецк    Татьяна   Авдеенко  2018-05-14   \n",
       "\n",
       "  tariff  \n",
       "0  ultra  \n",
       "1  smart  \n",
       "2  smart  \n",
       "3  ultra  \n",
       "4  ultra  "
      ]
     },
     "execution_count": 2,
     "metadata": {},
     "output_type": "execute_result"
    }
   ],
   "source": [
    "# <считывание файла 'users.csv'>\n",
    "try:\n",
    "    users_df = pd.read_csv('/datasets/users.csv')\n",
    "except:\n",
    "    users_df = pd.read_csv('users.csv')\n",
    "users_df.head()"
   ]
  },
  {
   "cell_type": "code",
   "execution_count": 3,
   "metadata": {},
   "outputs": [
    {
     "name": "stdout",
     "output_type": "stream",
     "text": [
      "<class 'pandas.core.frame.DataFrame'>\n",
      "RangeIndex: 500 entries, 0 to 499\n",
      "Data columns (total 8 columns):\n",
      "user_id       500 non-null int64\n",
      "age           500 non-null int64\n",
      "churn_date    38 non-null object\n",
      "city          500 non-null object\n",
      "first_name    500 non-null object\n",
      "last_name     500 non-null object\n",
      "reg_date      500 non-null object\n",
      "tariff        500 non-null object\n",
      "dtypes: int64(2), object(6)\n",
      "memory usage: 31.4+ KB\n"
     ]
    }
   ],
   "source": [
    "# <общая информация о датафрейме users_df>\n",
    "users_df.info()"
   ]
  },
  {
   "cell_type": "code",
   "execution_count": 4,
   "metadata": {},
   "outputs": [
    {
     "name": "stdout",
     "output_type": "stream",
     "text": [
      "0\n"
     ]
    },
    {
     "data": {
      "text/plain": [
       "0"
      ]
     },
     "execution_count": 4,
     "metadata": {},
     "output_type": "execute_result"
    }
   ],
   "source": [
    "# <проверка наличия дубликатов>\n",
    "print(users_df.duplicated().sum())\n",
    "# <проверка наличия дубликатов в столбце 'user_id'>\n",
    "users_df.user_id.duplicated().sum() "
   ]
  },
  {
   "cell_type": "markdown",
   "metadata": {},
   "source": [
    "Имеется 500 пользователей, из них 38 ушли с тарифа в течение года."
   ]
  },
  {
   "cell_type": "markdown",
   "metadata": {},
   "source": [
    "### 1.2. Файл tariffs.csv"
   ]
  },
  {
   "cell_type": "code",
   "execution_count": 5,
   "metadata": {},
   "outputs": [
    {
     "data": {
      "text/html": [
       "<div>\n",
       "<style scoped>\n",
       "    .dataframe tbody tr th:only-of-type {\n",
       "        vertical-align: middle;\n",
       "    }\n",
       "\n",
       "    .dataframe tbody tr th {\n",
       "        vertical-align: top;\n",
       "    }\n",
       "\n",
       "    .dataframe thead th {\n",
       "        text-align: right;\n",
       "    }\n",
       "</style>\n",
       "<table border=\"1\" class=\"dataframe\">\n",
       "  <thead>\n",
       "    <tr style=\"text-align: right;\">\n",
       "      <th></th>\n",
       "      <th>messages_included</th>\n",
       "      <th>mb_per_month_included</th>\n",
       "      <th>minutes_included</th>\n",
       "      <th>rub_monthly_fee</th>\n",
       "      <th>rub_per_gb</th>\n",
       "      <th>rub_per_message</th>\n",
       "      <th>rub_per_minute</th>\n",
       "      <th>tariff_name</th>\n",
       "    </tr>\n",
       "  </thead>\n",
       "  <tbody>\n",
       "    <tr>\n",
       "      <td>0</td>\n",
       "      <td>50</td>\n",
       "      <td>15360</td>\n",
       "      <td>500</td>\n",
       "      <td>550</td>\n",
       "      <td>200</td>\n",
       "      <td>3</td>\n",
       "      <td>3</td>\n",
       "      <td>smart</td>\n",
       "    </tr>\n",
       "    <tr>\n",
       "      <td>1</td>\n",
       "      <td>1000</td>\n",
       "      <td>30720</td>\n",
       "      <td>3000</td>\n",
       "      <td>1950</td>\n",
       "      <td>150</td>\n",
       "      <td>1</td>\n",
       "      <td>1</td>\n",
       "      <td>ultra</td>\n",
       "    </tr>\n",
       "  </tbody>\n",
       "</table>\n",
       "</div>"
      ],
      "text/plain": [
       "   messages_included  mb_per_month_included  minutes_included  \\\n",
       "0                 50                  15360               500   \n",
       "1               1000                  30720              3000   \n",
       "\n",
       "   rub_monthly_fee  rub_per_gb  rub_per_message  rub_per_minute tariff_name  \n",
       "0              550         200                3               3       smart  \n",
       "1             1950         150                1               1       ultra  "
      ]
     },
     "execution_count": 5,
     "metadata": {},
     "output_type": "execute_result"
    }
   ],
   "source": [
    "# <считывание файла 'tariffs.csv'>\n",
    "try:\n",
    "    tariffs_df = pd.read_csv('/datasets/tariffs.csv')\n",
    "except:\n",
    "    tariffs_df = pd.read_csv('tariffs.csv')\n",
    "tariffs_df"
   ]
  },
  {
   "cell_type": "code",
   "execution_count": 6,
   "metadata": {},
   "outputs": [
    {
     "name": "stdout",
     "output_type": "stream",
     "text": [
      "<class 'pandas.core.frame.DataFrame'>\n",
      "RangeIndex: 2 entries, 0 to 1\n",
      "Data columns (total 8 columns):\n",
      "messages_included        2 non-null int64\n",
      "mb_per_month_included    2 non-null int64\n",
      "minutes_included         2 non-null int64\n",
      "rub_monthly_fee          2 non-null int64\n",
      "rub_per_gb               2 non-null int64\n",
      "rub_per_message          2 non-null int64\n",
      "rub_per_minute           2 non-null int64\n",
      "tariff_name              2 non-null object\n",
      "dtypes: int64(7), object(1)\n",
      "memory usage: 256.0+ bytes\n"
     ]
    }
   ],
   "source": [
    "# <общая информация о датафрейме tariffs_df>\n",
    "tariffs_df.info() "
   ]
  },
  {
   "cell_type": "markdown",
   "metadata": {},
   "source": [
    "### 1.3. Файл calls.csv"
   ]
  },
  {
   "cell_type": "code",
   "execution_count": 7,
   "metadata": {},
   "outputs": [
    {
     "data": {
      "text/html": [
       "<div>\n",
       "<style scoped>\n",
       "    .dataframe tbody tr th:only-of-type {\n",
       "        vertical-align: middle;\n",
       "    }\n",
       "\n",
       "    .dataframe tbody tr th {\n",
       "        vertical-align: top;\n",
       "    }\n",
       "\n",
       "    .dataframe thead th {\n",
       "        text-align: right;\n",
       "    }\n",
       "</style>\n",
       "<table border=\"1\" class=\"dataframe\">\n",
       "  <thead>\n",
       "    <tr style=\"text-align: right;\">\n",
       "      <th></th>\n",
       "      <th>id</th>\n",
       "      <th>call_date</th>\n",
       "      <th>duration</th>\n",
       "      <th>user_id</th>\n",
       "    </tr>\n",
       "  </thead>\n",
       "  <tbody>\n",
       "    <tr>\n",
       "      <td>0</td>\n",
       "      <td>1000_0</td>\n",
       "      <td>2018-07-25</td>\n",
       "      <td>0.00</td>\n",
       "      <td>1000</td>\n",
       "    </tr>\n",
       "    <tr>\n",
       "      <td>1</td>\n",
       "      <td>1000_1</td>\n",
       "      <td>2018-08-17</td>\n",
       "      <td>0.00</td>\n",
       "      <td>1000</td>\n",
       "    </tr>\n",
       "    <tr>\n",
       "      <td>2</td>\n",
       "      <td>1000_2</td>\n",
       "      <td>2018-06-11</td>\n",
       "      <td>2.85</td>\n",
       "      <td>1000</td>\n",
       "    </tr>\n",
       "    <tr>\n",
       "      <td>3</td>\n",
       "      <td>1000_3</td>\n",
       "      <td>2018-09-21</td>\n",
       "      <td>13.80</td>\n",
       "      <td>1000</td>\n",
       "    </tr>\n",
       "    <tr>\n",
       "      <td>4</td>\n",
       "      <td>1000_4</td>\n",
       "      <td>2018-12-15</td>\n",
       "      <td>5.18</td>\n",
       "      <td>1000</td>\n",
       "    </tr>\n",
       "  </tbody>\n",
       "</table>\n",
       "</div>"
      ],
      "text/plain": [
       "       id   call_date  duration  user_id\n",
       "0  1000_0  2018-07-25      0.00     1000\n",
       "1  1000_1  2018-08-17      0.00     1000\n",
       "2  1000_2  2018-06-11      2.85     1000\n",
       "3  1000_3  2018-09-21     13.80     1000\n",
       "4  1000_4  2018-12-15      5.18     1000"
      ]
     },
     "execution_count": 7,
     "metadata": {},
     "output_type": "execute_result"
    }
   ],
   "source": [
    "# <считывание файла 'calls.csv'>\n",
    "try:\n",
    "    calls_df = pd.read_csv('/datasets/calls.csv')\n",
    "except:\n",
    "    calls_df = pd.read_csv('calls.csv')\n",
    "calls_df.head()"
   ]
  },
  {
   "cell_type": "code",
   "execution_count": 8,
   "metadata": {},
   "outputs": [
    {
     "name": "stdout",
     "output_type": "stream",
     "text": [
      "<class 'pandas.core.frame.DataFrame'>\n",
      "RangeIndex: 202607 entries, 0 to 202606\n",
      "Data columns (total 4 columns):\n",
      "id           202607 non-null object\n",
      "call_date    202607 non-null object\n",
      "duration     202607 non-null float64\n",
      "user_id      202607 non-null int64\n",
      "dtypes: float64(1), int64(1), object(2)\n",
      "memory usage: 6.2+ MB\n"
     ]
    }
   ],
   "source": [
    "# <общая информация о датафрейме calls_df>\n",
    "calls_df.info() "
   ]
  },
  {
   "cell_type": "code",
   "execution_count": 9,
   "metadata": {},
   "outputs": [
    {
     "name": "stdout",
     "output_type": "stream",
     "text": [
      "492\n"
     ]
    },
    {
     "data": {
      "text/plain": [
       "0"
      ]
     },
     "execution_count": 9,
     "metadata": {},
     "output_type": "execute_result"
    }
   ],
   "source": [
    "# <количество уникальных user_id в датафрейме calls_df>\n",
    "print(calls_df.user_id.nunique())\n",
    "# <проверка наличия дубликатов в датафрейме calls_df>\n",
    "calls_df.duplicated().sum() "
   ]
  },
  {
   "cell_type": "markdown",
   "metadata": {},
   "source": [
    "Количество уникальных user_id в **calls_df** (*492*) меньше, чем в таблице **users_df** (*500*). Некоторые абоненты могут не пользоваться звонками, так что на данном этапе ошибки не обнаружено."
   ]
  },
  {
   "cell_type": "markdown",
   "metadata": {},
   "source": [
    "### 1.4. Файл messages.csv"
   ]
  },
  {
   "cell_type": "code",
   "execution_count": 10,
   "metadata": {},
   "outputs": [
    {
     "data": {
      "text/html": [
       "<div>\n",
       "<style scoped>\n",
       "    .dataframe tbody tr th:only-of-type {\n",
       "        vertical-align: middle;\n",
       "    }\n",
       "\n",
       "    .dataframe tbody tr th {\n",
       "        vertical-align: top;\n",
       "    }\n",
       "\n",
       "    .dataframe thead th {\n",
       "        text-align: right;\n",
       "    }\n",
       "</style>\n",
       "<table border=\"1\" class=\"dataframe\">\n",
       "  <thead>\n",
       "    <tr style=\"text-align: right;\">\n",
       "      <th></th>\n",
       "      <th>id</th>\n",
       "      <th>message_date</th>\n",
       "      <th>user_id</th>\n",
       "    </tr>\n",
       "  </thead>\n",
       "  <tbody>\n",
       "    <tr>\n",
       "      <td>0</td>\n",
       "      <td>1000_0</td>\n",
       "      <td>2018-06-27</td>\n",
       "      <td>1000</td>\n",
       "    </tr>\n",
       "    <tr>\n",
       "      <td>1</td>\n",
       "      <td>1000_1</td>\n",
       "      <td>2018-10-08</td>\n",
       "      <td>1000</td>\n",
       "    </tr>\n",
       "    <tr>\n",
       "      <td>2</td>\n",
       "      <td>1000_2</td>\n",
       "      <td>2018-08-04</td>\n",
       "      <td>1000</td>\n",
       "    </tr>\n",
       "    <tr>\n",
       "      <td>3</td>\n",
       "      <td>1000_3</td>\n",
       "      <td>2018-06-16</td>\n",
       "      <td>1000</td>\n",
       "    </tr>\n",
       "    <tr>\n",
       "      <td>4</td>\n",
       "      <td>1000_4</td>\n",
       "      <td>2018-12-05</td>\n",
       "      <td>1000</td>\n",
       "    </tr>\n",
       "  </tbody>\n",
       "</table>\n",
       "</div>"
      ],
      "text/plain": [
       "       id message_date  user_id\n",
       "0  1000_0   2018-06-27     1000\n",
       "1  1000_1   2018-10-08     1000\n",
       "2  1000_2   2018-08-04     1000\n",
       "3  1000_3   2018-06-16     1000\n",
       "4  1000_4   2018-12-05     1000"
      ]
     },
     "execution_count": 10,
     "metadata": {},
     "output_type": "execute_result"
    }
   ],
   "source": [
    "# <считывание файла 'messages.csv'>\n",
    "try:\n",
    "    messages_df = pd.read_csv('/datasets/messages.csv')\n",
    "except:\n",
    "    messages_df = pd.read_csv('messages.csv')\n",
    "messages_df.head()"
   ]
  },
  {
   "cell_type": "code",
   "execution_count": 11,
   "metadata": {
    "scrolled": true
   },
   "outputs": [
    {
     "name": "stdout",
     "output_type": "stream",
     "text": [
      "<class 'pandas.core.frame.DataFrame'>\n",
      "RangeIndex: 123036 entries, 0 to 123035\n",
      "Data columns (total 3 columns):\n",
      "id              123036 non-null object\n",
      "message_date    123036 non-null object\n",
      "user_id         123036 non-null int64\n",
      "dtypes: int64(1), object(2)\n",
      "memory usage: 2.8+ MB\n"
     ]
    }
   ],
   "source": [
    "# <общая информация о датафрейме messages_df>\n",
    "messages_df.info() "
   ]
  },
  {
   "cell_type": "code",
   "execution_count": 12,
   "metadata": {},
   "outputs": [
    {
     "name": "stdout",
     "output_type": "stream",
     "text": [
      "426\n"
     ]
    },
    {
     "data": {
      "text/plain": [
       "0"
      ]
     },
     "execution_count": 12,
     "metadata": {},
     "output_type": "execute_result"
    }
   ],
   "source": [
    "# <количество уникальных user_id в датафрейме messages_df>\n",
    "print(messages_df.user_id.nunique()) \n",
    "# <проверка наличия дубликатов в датафрейме messages_df>\n",
    "messages_df.duplicated().sum() "
   ]
  },
  {
   "cell_type": "markdown",
   "metadata": {},
   "source": [
    "Количество уникальных user_id в **calls_df** (*426*) меньше, чем в таблице **users_df** (*500*). Некоторые абоненты могут не пользоваться сообщениями, так что на данном этапе ошибки не обнаружено."
   ]
  },
  {
   "cell_type": "markdown",
   "metadata": {},
   "source": [
    "### 1.5. Файл internet.csv"
   ]
  },
  {
   "cell_type": "code",
   "execution_count": 13,
   "metadata": {},
   "outputs": [
    {
     "data": {
      "text/html": [
       "<div>\n",
       "<style scoped>\n",
       "    .dataframe tbody tr th:only-of-type {\n",
       "        vertical-align: middle;\n",
       "    }\n",
       "\n",
       "    .dataframe tbody tr th {\n",
       "        vertical-align: top;\n",
       "    }\n",
       "\n",
       "    .dataframe thead th {\n",
       "        text-align: right;\n",
       "    }\n",
       "</style>\n",
       "<table border=\"1\" class=\"dataframe\">\n",
       "  <thead>\n",
       "    <tr style=\"text-align: right;\">\n",
       "      <th></th>\n",
       "      <th>id</th>\n",
       "      <th>mb_used</th>\n",
       "      <th>session_date</th>\n",
       "      <th>user_id</th>\n",
       "    </tr>\n",
       "  </thead>\n",
       "  <tbody>\n",
       "    <tr>\n",
       "      <td>0</td>\n",
       "      <td>1000_0</td>\n",
       "      <td>112.95</td>\n",
       "      <td>2018-11-25</td>\n",
       "      <td>1000</td>\n",
       "    </tr>\n",
       "    <tr>\n",
       "      <td>1</td>\n",
       "      <td>1000_1</td>\n",
       "      <td>1052.81</td>\n",
       "      <td>2018-09-07</td>\n",
       "      <td>1000</td>\n",
       "    </tr>\n",
       "    <tr>\n",
       "      <td>2</td>\n",
       "      <td>1000_2</td>\n",
       "      <td>1197.26</td>\n",
       "      <td>2018-06-25</td>\n",
       "      <td>1000</td>\n",
       "    </tr>\n",
       "    <tr>\n",
       "      <td>3</td>\n",
       "      <td>1000_3</td>\n",
       "      <td>550.27</td>\n",
       "      <td>2018-08-22</td>\n",
       "      <td>1000</td>\n",
       "    </tr>\n",
       "    <tr>\n",
       "      <td>4</td>\n",
       "      <td>1000_4</td>\n",
       "      <td>302.56</td>\n",
       "      <td>2018-09-24</td>\n",
       "      <td>1000</td>\n",
       "    </tr>\n",
       "  </tbody>\n",
       "</table>\n",
       "</div>"
      ],
      "text/plain": [
       "       id  mb_used session_date  user_id\n",
       "0  1000_0   112.95   2018-11-25     1000\n",
       "1  1000_1  1052.81   2018-09-07     1000\n",
       "2  1000_2  1197.26   2018-06-25     1000\n",
       "3  1000_3   550.27   2018-08-22     1000\n",
       "4  1000_4   302.56   2018-09-24     1000"
      ]
     },
     "execution_count": 13,
     "metadata": {},
     "output_type": "execute_result"
    }
   ],
   "source": [
    "# <считывание файла 'internet.csv', в качестве индекса указывается первый столбец>\n",
    "try:\n",
    "    internet_df = pd.read_csv('/datasets/internet.csv', index_col=0)\n",
    "except:\n",
    "    internet_df = pd.read_csv('internet.csv', index_col=0)\n",
    "internet_df.head()"
   ]
  },
  {
   "cell_type": "code",
   "execution_count": 14,
   "metadata": {
    "scrolled": true
   },
   "outputs": [
    {
     "name": "stdout",
     "output_type": "stream",
     "text": [
      "<class 'pandas.core.frame.DataFrame'>\n",
      "Int64Index: 149396 entries, 0 to 149395\n",
      "Data columns (total 4 columns):\n",
      "id              149396 non-null object\n",
      "mb_used         149396 non-null float64\n",
      "session_date    149396 non-null object\n",
      "user_id         149396 non-null int64\n",
      "dtypes: float64(1), int64(1), object(2)\n",
      "memory usage: 5.7+ MB\n"
     ]
    }
   ],
   "source": [
    "# <общая информация о датафрейме internet_df>\n",
    "internet_df.info() "
   ]
  },
  {
   "cell_type": "code",
   "execution_count": 15,
   "metadata": {},
   "outputs": [
    {
     "name": "stdout",
     "output_type": "stream",
     "text": [
      "497\n"
     ]
    },
    {
     "data": {
      "text/plain": [
       "0"
      ]
     },
     "execution_count": 15,
     "metadata": {},
     "output_type": "execute_result"
    }
   ],
   "source": [
    "# <количество уникальных user_id в датафрейме internet_df>\n",
    "print(internet_df.user_id.nunique()) \n",
    "# <проверка наличия дубликатов в датафрейме internet_df>\n",
    "internet_df.duplicated().sum() "
   ]
  },
  {
   "cell_type": "markdown",
   "metadata": {},
   "source": [
    "Количество уникальных user_id в **calls_df** (*497*) меньше, чем в таблице **users_df** (*500*). Некоторые абоненты могут не пользоваться интернетом, так что на данном этапе ошибки не обнаружено."
   ]
  },
  {
   "cell_type": "markdown",
   "metadata": {},
   "source": [
    "### 1.6. Вывод"
   ]
  },
  {
   "cell_type": "markdown",
   "metadata": {},
   "source": [
    "5 файлов (**users.csv**, **tariffs.csv**, **calls_csv**, **messages.csv** и **internet.csv**) были записаны в датафреймы **users_df**, **tariffs_df**, **calls_df**, **messages_df** и **internet_df**.<br><br>\n",
    "Объединение таблиц в одну было решено не проводить, так как удобней провести предобработку каждого датафрейма отдельно."
   ]
  },
  {
   "cell_type": "markdown",
   "metadata": {},
   "source": [
    "## 2. Подготовка данных"
   ]
  },
  {
   "cell_type": "markdown",
   "metadata": {},
   "source": [
    "### 2.1. Предобработка данных"
   ]
  },
  {
   "cell_type": "markdown",
   "metadata": {},
   "source": [
    "#### 2.1.1. Датафрейм users_df"
   ]
  },
  {
   "cell_type": "code",
   "execution_count": 16,
   "metadata": {},
   "outputs": [
    {
     "data": {
      "text/html": [
       "<div>\n",
       "<style scoped>\n",
       "    .dataframe tbody tr th:only-of-type {\n",
       "        vertical-align: middle;\n",
       "    }\n",
       "\n",
       "    .dataframe tbody tr th {\n",
       "        vertical-align: top;\n",
       "    }\n",
       "\n",
       "    .dataframe thead th {\n",
       "        text-align: right;\n",
       "    }\n",
       "</style>\n",
       "<table border=\"1\" class=\"dataframe\">\n",
       "  <thead>\n",
       "    <tr style=\"text-align: right;\">\n",
       "      <th></th>\n",
       "      <th>user_id</th>\n",
       "      <th>age</th>\n",
       "      <th>churn_date</th>\n",
       "      <th>city</th>\n",
       "      <th>first_name</th>\n",
       "      <th>last_name</th>\n",
       "      <th>reg_date</th>\n",
       "      <th>tariff</th>\n",
       "    </tr>\n",
       "  </thead>\n",
       "  <tbody>\n",
       "    <tr>\n",
       "      <td>0</td>\n",
       "      <td>1000</td>\n",
       "      <td>52</td>\n",
       "      <td>NaN</td>\n",
       "      <td>Краснодар</td>\n",
       "      <td>Рафаил</td>\n",
       "      <td>Верещагин</td>\n",
       "      <td>2018-05-25</td>\n",
       "      <td>ultra</td>\n",
       "    </tr>\n",
       "    <tr>\n",
       "      <td>1</td>\n",
       "      <td>1001</td>\n",
       "      <td>41</td>\n",
       "      <td>NaN</td>\n",
       "      <td>Москва</td>\n",
       "      <td>Иван</td>\n",
       "      <td>Ежов</td>\n",
       "      <td>2018-11-01</td>\n",
       "      <td>smart</td>\n",
       "    </tr>\n",
       "    <tr>\n",
       "      <td>2</td>\n",
       "      <td>1002</td>\n",
       "      <td>59</td>\n",
       "      <td>NaN</td>\n",
       "      <td>Стерлитамак</td>\n",
       "      <td>Евгений</td>\n",
       "      <td>Абрамович</td>\n",
       "      <td>2018-06-17</td>\n",
       "      <td>smart</td>\n",
       "    </tr>\n",
       "    <tr>\n",
       "      <td>3</td>\n",
       "      <td>1003</td>\n",
       "      <td>23</td>\n",
       "      <td>NaN</td>\n",
       "      <td>Москва</td>\n",
       "      <td>Белла</td>\n",
       "      <td>Белякова</td>\n",
       "      <td>2018-08-17</td>\n",
       "      <td>ultra</td>\n",
       "    </tr>\n",
       "    <tr>\n",
       "      <td>4</td>\n",
       "      <td>1004</td>\n",
       "      <td>68</td>\n",
       "      <td>NaN</td>\n",
       "      <td>Новокузнецк</td>\n",
       "      <td>Татьяна</td>\n",
       "      <td>Авдеенко</td>\n",
       "      <td>2018-05-14</td>\n",
       "      <td>ultra</td>\n",
       "    </tr>\n",
       "  </tbody>\n",
       "</table>\n",
       "</div>"
      ],
      "text/plain": [
       "   user_id  age churn_date         city first_name  last_name    reg_date  \\\n",
       "0     1000   52        NaN    Краснодар     Рафаил  Верещагин  2018-05-25   \n",
       "1     1001   41        NaN       Москва       Иван       Ежов  2018-11-01   \n",
       "2     1002   59        NaN  Стерлитамак    Евгений  Абрамович  2018-06-17   \n",
       "3     1003   23        NaN       Москва      Белла   Белякова  2018-08-17   \n",
       "4     1004   68        NaN  Новокузнецк    Татьяна   Авдеенко  2018-05-14   \n",
       "\n",
       "  tariff  \n",
       "0  ultra  \n",
       "1  smart  \n",
       "2  smart  \n",
       "3  ultra  \n",
       "4  ultra  "
      ]
     },
     "execution_count": 16,
     "metadata": {},
     "output_type": "execute_result"
    }
   ],
   "source": [
    "# <вывод первых пяти строк users_df>\n",
    "users_df.head() "
   ]
  },
  {
   "cell_type": "code",
   "execution_count": 17,
   "metadata": {},
   "outputs": [
    {
     "name": "stdout",
     "output_type": "stream",
     "text": [
      "<class 'pandas.core.frame.DataFrame'>\n",
      "RangeIndex: 500 entries, 0 to 499\n",
      "Data columns (total 8 columns):\n",
      "user_id       500 non-null int64\n",
      "age           500 non-null int64\n",
      "churn_date    38 non-null object\n",
      "city          500 non-null object\n",
      "first_name    500 non-null object\n",
      "last_name     500 non-null object\n",
      "reg_date      500 non-null object\n",
      "tariff        500 non-null object\n",
      "dtypes: int64(2), object(6)\n",
      "memory usage: 31.4+ KB\n"
     ]
    }
   ],
   "source": [
    "# <общая информация о датафрейме users_df>\n",
    "users_df.info() "
   ]
  },
  {
   "cell_type": "code",
   "execution_count": 18,
   "metadata": {},
   "outputs": [
    {
     "data": {
      "text/plain": [
       "user_id       500\n",
       "age            58\n",
       "churn_date     33\n",
       "city           76\n",
       "first_name    246\n",
       "last_name     419\n",
       "reg_date      270\n",
       "tariff          2\n",
       "dtype: int64"
      ]
     },
     "execution_count": 18,
     "metadata": {},
     "output_type": "execute_result"
    }
   ],
   "source": [
    "# <количество уникальных значений столбцов>\n",
    "users_df.nunique() "
   ]
  },
  {
   "cell_type": "markdown",
   "metadata": {},
   "source": [
    "**Столбец user_id**."
   ]
  },
  {
   "cell_type": "code",
   "execution_count": 19,
   "metadata": {},
   "outputs": [
    {
     "data": {
      "text/plain": [
       "count      500.0\n",
       "min       1000.0\n",
       "max       1499.0\n",
       "mean      1249.5\n",
       "median    1249.5\n",
       "Name: user_id, dtype: float64"
      ]
     },
     "execution_count": 19,
     "metadata": {},
     "output_type": "execute_result"
    }
   ],
   "source": [
    "# <значения столбца 'user_id'>\n",
    "users_df.user_id.agg(['count', 'min', 'max', 'mean', 'median']) "
   ]
  },
  {
   "cell_type": "markdown",
   "metadata": {},
   "source": [
    "Ячейки столбца **user_id** принимают значения от **1000** до **1499** (*500 элементов*)."
   ]
  },
  {
   "cell_type": "markdown",
   "metadata": {},
   "source": [
    "**Столбец age**."
   ]
  },
  {
   "cell_type": "code",
   "execution_count": 20,
   "metadata": {},
   "outputs": [
    {
     "data": {
      "text/plain": [
       "array([18, 19, 20, 21, 22, 23, 24, 25, 26, 27, 28, 29, 30, 31, 32, 33, 34,\n",
       "       35, 36, 37, 38, 39, 40, 41, 42, 43, 44, 45, 46, 47, 48, 49, 50, 51,\n",
       "       52, 53, 54, 55, 56, 57, 58, 59, 60, 61, 62, 63, 64, 65, 66, 67, 68,\n",
       "       69, 70, 71, 72, 73, 74, 75], dtype=int64)"
      ]
     },
     "execution_count": 20,
     "metadata": {},
     "output_type": "execute_result"
    }
   ],
   "source": [
    "# <проверка уникальных значений столбца 'age'>\n",
    "np.sort(users_df.age.unique()) "
   ]
  },
  {
   "cell_type": "markdown",
   "metadata": {},
   "source": [
    "**Столбец churn_date**."
   ]
  },
  {
   "cell_type": "code",
   "execution_count": 21,
   "metadata": {},
   "outputs": [
    {
     "data": {
      "text/plain": [
       "2018-10-03    2\n",
       "2018-12-09    2\n",
       "2018-12-21    2\n",
       "2018-12-03    2\n",
       "2018-10-14    2\n",
       "2018-11-26    1\n",
       "2018-11-16    1\n",
       "2018-12-26    1\n",
       "2018-11-22    1\n",
       "2018-11-07    1\n",
       "2018-10-25    1\n",
       "2018-08-31    1\n",
       "2018-12-30    1\n",
       "2018-10-28    1\n",
       "2018-11-21    1\n",
       "2018-12-18    1\n",
       "2018-12-16    1\n",
       "2018-10-04    1\n",
       "2018-12-20    1\n",
       "2018-12-14    1\n",
       "2018-09-26    1\n",
       "2018-12-24    1\n",
       "2018-09-02    1\n",
       "2018-11-30    1\n",
       "2018-11-13    1\n",
       "2018-12-23    1\n",
       "2018-11-27    1\n",
       "2018-12-11    1\n",
       "2018-09-27    1\n",
       "2018-10-27    1\n",
       "2018-10-05    1\n",
       "2018-12-25    1\n",
       "2018-08-17    1\n",
       "Name: churn_date, dtype: int64"
      ]
     },
     "execution_count": 21,
     "metadata": {},
     "output_type": "execute_result"
    }
   ],
   "source": [
    "# <проверка уникальных значений столбца 'churn_date'>\n",
    "users_df.churn_date.value_counts() "
   ]
  },
  {
   "cell_type": "markdown",
   "metadata": {},
   "source": [
    "Пустующие строки заполним значением **2018-12-31** -> конец периода. Это понадобится для дальнейших вычислений."
   ]
  },
  {
   "cell_type": "code",
   "execution_count": 22,
   "metadata": {},
   "outputs": [
    {
     "data": {
      "text/plain": [
       "0    2018-12-31\n",
       "1    2018-12-31\n",
       "2    2018-12-31\n",
       "3    2018-12-31\n",
       "4    2018-12-31\n",
       "Name: churn_date, dtype: object"
      ]
     },
     "execution_count": 22,
     "metadata": {},
     "output_type": "execute_result"
    }
   ],
   "source": [
    "# <заполнение пропусков>\n",
    "users_df.fillna('2018-12-31', inplace=True) \n",
    "# <вывод первых пяти строк столбца>\n",
    "users_df.churn_date.head() "
   ]
  },
  {
   "cell_type": "markdown",
   "metadata": {},
   "source": [
    "**Столбец city**."
   ]
  },
  {
   "cell_type": "code",
   "execution_count": 23,
   "metadata": {},
   "outputs": [
    {
     "data": {
      "text/plain": [
       "array(['Архангельск', 'Астрахань', 'Балашиха', 'Барнаул', 'Белгород',\n",
       "       'Брянск', 'Владивосток', 'Владикавказ', 'Владимир', 'Волгоград',\n",
       "       'Волжский', 'Вологда', 'Воронеж', 'Грозный', 'Екатеринбург',\n",
       "       'Иваново', 'Ижевск', 'Иркутск', 'Казань', 'Калининград', 'Калуга',\n",
       "       'Кемерово', 'Киров', 'Кострома', 'Краснодар', 'Красноярск',\n",
       "       'Курган', 'Курск', 'Липецк', 'Магнитогорск', 'Махачкала', 'Москва',\n",
       "       'Мурманск', 'Набережные Челны', 'Нижневартовск', 'Нижний Новгород',\n",
       "       'Нижний Тагил', 'Новокузнецк', 'Новороссийск', 'Новосибирск',\n",
       "       'Омск', 'Оренбург', 'Орёл', 'Пенза', 'Пермь', 'Петрозаводск',\n",
       "       'Подольск', 'Ростов-на-Дону', 'Рязань', 'Самара',\n",
       "       'Санкт-Петербург', 'Саранск', 'Саратов', 'Севастополь', 'Смоленск',\n",
       "       'Сочи', 'Ставрополь', 'Стерлитамак', 'Сургут', 'Тамбов', 'Тверь',\n",
       "       'Тольятти', 'Томск', 'Тула', 'Тюмень', 'Улан-Удэ', 'Ульяновск',\n",
       "       'Уфа', 'Хабаровск', 'Химки', 'Чебоксары', 'Челябинск', 'Череповец',\n",
       "       'Чита', 'Якутск', 'Ярославль'], dtype=object)"
      ]
     },
     "execution_count": 23,
     "metadata": {},
     "output_type": "execute_result"
    }
   ],
   "source": [
    "# <проверка уникальных значений столбца 'city'>\n",
    "np.sort(users_df.city.unique()) "
   ]
  },
  {
   "cell_type": "markdown",
   "metadata": {},
   "source": [
    "**Столбцы first_name и last_name**."
   ]
  },
  {
   "cell_type": "code",
   "execution_count": 24,
   "metadata": {},
   "outputs": [
    {
     "name": "stdout",
     "output_type": "stream",
     "text": [
      "500\n"
     ]
    },
    {
     "data": {
      "text/plain": [
       "array(['Рафаил Верещагин', 'Иван Ежов', 'Евгений Абрамович',\n",
       "       'Белла Белякова', 'Татьяна Авдеенко'], dtype=object)"
      ]
     },
     "execution_count": 24,
     "metadata": {},
     "output_type": "execute_result"
    }
   ],
   "source": [
    "# <количество уникальных имени + фамилии>\n",
    "print((users_df.first_name + ' ' + users_df.last_name).nunique()) \n",
    "# <вывод первых пяти абонентов>\n",
    "(users_df.first_name + ' ' + users_df.last_name).unique()[:5] "
   ]
  },
  {
   "cell_type": "markdown",
   "metadata": {},
   "source": [
    "**Столбец reg_date**."
   ]
  },
  {
   "cell_type": "code",
   "execution_count": 25,
   "metadata": {},
   "outputs": [
    {
     "data": {
      "text/plain": [
       "array(['2018-01-01', '2018-12-31'], dtype=object)"
      ]
     },
     "execution_count": 25,
     "metadata": {},
     "output_type": "execute_result"
    }
   ],
   "source": [
    "# <проверка размаха значений столбца 'reg_date'>\n",
    "np.sort(users_df.reg_date.unique())[[0, -1]] "
   ]
  },
  {
   "cell_type": "code",
   "execution_count": 26,
   "metadata": {},
   "outputs": [
    {
     "data": {
      "text/plain": [
       "36"
      ]
     },
     "execution_count": 26,
     "metadata": {},
     "output_type": "execute_result"
    }
   ],
   "source": [
    "# <количество абонентов, зарегистрировавшихся в декабре 2018>\n",
    "users_df.loc[users_df['reg_date'] > '2018-12-00', 'reg_date'].count() "
   ]
  },
  {
   "cell_type": "markdown",
   "metadata": {},
   "source": [
    "Информация собрана об абонентах, зарегистрировавшихся в 2018 году. Из них **36** зарегистрировались в декабре 2018, поэтому если информация в других таблицах собрана только за 2018 год, для этих абонентов рассматриваемый период ограничен **<= 1 мес**."
   ]
  },
  {
   "cell_type": "markdown",
   "metadata": {},
   "source": [
    "**Столбец tariff**."
   ]
  },
  {
   "cell_type": "code",
   "execution_count": 27,
   "metadata": {},
   "outputs": [
    {
     "data": {
      "text/plain": [
       "smart    351\n",
       "ultra    149\n",
       "Name: tariff, dtype: int64"
      ]
     },
     "execution_count": 27,
     "metadata": {},
     "output_type": "execute_result"
    }
   ],
   "source": [
    "# <проверка уникальных значений столбца 'tariff'>\n",
    "users_df.tariff.value_counts() "
   ]
  },
  {
   "cell_type": "markdown",
   "metadata": {},
   "source": [
    "**Преобразование типов.**"
   ]
  },
  {
   "cell_type": "markdown",
   "metadata": {},
   "source": [
    "В таблице **users_df** некорректных значений не обнаружено.<br><br>\n",
    "Однако наблюдается тип данных *object* в столбцах с датой (столбцы **churn_date** и **reg_date**). Поменяем *object* на *datetime64*."
   ]
  },
  {
   "cell_type": "code",
   "execution_count": 28,
   "metadata": {},
   "outputs": [
    {
     "data": {
      "text/html": [
       "<div>\n",
       "<style scoped>\n",
       "    .dataframe tbody tr th:only-of-type {\n",
       "        vertical-align: middle;\n",
       "    }\n",
       "\n",
       "    .dataframe tbody tr th {\n",
       "        vertical-align: top;\n",
       "    }\n",
       "\n",
       "    .dataframe thead th {\n",
       "        text-align: right;\n",
       "    }\n",
       "</style>\n",
       "<table border=\"1\" class=\"dataframe\">\n",
       "  <thead>\n",
       "    <tr style=\"text-align: right;\">\n",
       "      <th></th>\n",
       "      <th>user_id</th>\n",
       "      <th>age</th>\n",
       "      <th>churn_date</th>\n",
       "      <th>city</th>\n",
       "      <th>first_name</th>\n",
       "      <th>last_name</th>\n",
       "      <th>reg_date</th>\n",
       "      <th>tariff</th>\n",
       "    </tr>\n",
       "  </thead>\n",
       "  <tbody>\n",
       "    <tr>\n",
       "      <td>0</td>\n",
       "      <td>1000</td>\n",
       "      <td>52</td>\n",
       "      <td>2018-12-31</td>\n",
       "      <td>Краснодар</td>\n",
       "      <td>Рафаил</td>\n",
       "      <td>Верещагин</td>\n",
       "      <td>2018-05-25</td>\n",
       "      <td>ultra</td>\n",
       "    </tr>\n",
       "    <tr>\n",
       "      <td>1</td>\n",
       "      <td>1001</td>\n",
       "      <td>41</td>\n",
       "      <td>2018-12-31</td>\n",
       "      <td>Москва</td>\n",
       "      <td>Иван</td>\n",
       "      <td>Ежов</td>\n",
       "      <td>2018-11-01</td>\n",
       "      <td>smart</td>\n",
       "    </tr>\n",
       "    <tr>\n",
       "      <td>2</td>\n",
       "      <td>1002</td>\n",
       "      <td>59</td>\n",
       "      <td>2018-12-31</td>\n",
       "      <td>Стерлитамак</td>\n",
       "      <td>Евгений</td>\n",
       "      <td>Абрамович</td>\n",
       "      <td>2018-06-17</td>\n",
       "      <td>smart</td>\n",
       "    </tr>\n",
       "    <tr>\n",
       "      <td>3</td>\n",
       "      <td>1003</td>\n",
       "      <td>23</td>\n",
       "      <td>2018-12-31</td>\n",
       "      <td>Москва</td>\n",
       "      <td>Белла</td>\n",
       "      <td>Белякова</td>\n",
       "      <td>2018-08-17</td>\n",
       "      <td>ultra</td>\n",
       "    </tr>\n",
       "    <tr>\n",
       "      <td>4</td>\n",
       "      <td>1004</td>\n",
       "      <td>68</td>\n",
       "      <td>2018-12-31</td>\n",
       "      <td>Новокузнецк</td>\n",
       "      <td>Татьяна</td>\n",
       "      <td>Авдеенко</td>\n",
       "      <td>2018-05-14</td>\n",
       "      <td>ultra</td>\n",
       "    </tr>\n",
       "  </tbody>\n",
       "</table>\n",
       "</div>"
      ],
      "text/plain": [
       "   user_id  age churn_date         city first_name  last_name   reg_date  \\\n",
       "0     1000   52 2018-12-31    Краснодар     Рафаил  Верещагин 2018-05-25   \n",
       "1     1001   41 2018-12-31       Москва       Иван       Ежов 2018-11-01   \n",
       "2     1002   59 2018-12-31  Стерлитамак    Евгений  Абрамович 2018-06-17   \n",
       "3     1003   23 2018-12-31       Москва      Белла   Белякова 2018-08-17   \n",
       "4     1004   68 2018-12-31  Новокузнецк    Татьяна   Авдеенко 2018-05-14   \n",
       "\n",
       "  tariff  \n",
       "0  ultra  \n",
       "1  smart  \n",
       "2  smart  \n",
       "3  ultra  \n",
       "4  ultra  "
      ]
     },
     "execution_count": 28,
     "metadata": {},
     "output_type": "execute_result"
    }
   ],
   "source": [
    "# <преобразование дат к типу 'datetime64'>\n",
    "users_df['churn_date'] = pd.to_datetime(users_df['churn_date'], format='%Y-%m-%d')\n",
    "users_df['reg_date'] = pd.to_datetime(users_df['reg_date'], format='%Y-%m-%d')\n",
    "users_df.head()"
   ]
  },
  {
   "cell_type": "code",
   "execution_count": 29,
   "metadata": {},
   "outputs": [
    {
     "name": "stdout",
     "output_type": "stream",
     "text": [
      "<class 'pandas.core.frame.DataFrame'>\n",
      "RangeIndex: 500 entries, 0 to 499\n",
      "Data columns (total 8 columns):\n",
      "user_id       500 non-null int64\n",
      "age           500 non-null int64\n",
      "churn_date    500 non-null datetime64[ns]\n",
      "city          500 non-null object\n",
      "first_name    500 non-null object\n",
      "last_name     500 non-null object\n",
      "reg_date      500 non-null datetime64[ns]\n",
      "tariff        500 non-null object\n",
      "dtypes: datetime64[ns](2), int64(2), object(4)\n",
      "memory usage: 31.4+ KB\n"
     ]
    }
   ],
   "source": [
    "# <общая информация о датафрейме users_df>\n",
    "users_df.info() "
   ]
  },
  {
   "cell_type": "markdown",
   "metadata": {},
   "source": [
    "Датафрейм **users_df** обработан."
   ]
  },
  {
   "cell_type": "markdown",
   "metadata": {},
   "source": [
    "#### 2.1.2. Датафрейм tariffs_df"
   ]
  },
  {
   "cell_type": "code",
   "execution_count": 30,
   "metadata": {},
   "outputs": [
    {
     "data": {
      "text/html": [
       "<div>\n",
       "<style scoped>\n",
       "    .dataframe tbody tr th:only-of-type {\n",
       "        vertical-align: middle;\n",
       "    }\n",
       "\n",
       "    .dataframe tbody tr th {\n",
       "        vertical-align: top;\n",
       "    }\n",
       "\n",
       "    .dataframe thead th {\n",
       "        text-align: right;\n",
       "    }\n",
       "</style>\n",
       "<table border=\"1\" class=\"dataframe\">\n",
       "  <thead>\n",
       "    <tr style=\"text-align: right;\">\n",
       "      <th></th>\n",
       "      <th>messages_included</th>\n",
       "      <th>mb_per_month_included</th>\n",
       "      <th>minutes_included</th>\n",
       "      <th>rub_monthly_fee</th>\n",
       "      <th>rub_per_gb</th>\n",
       "      <th>rub_per_message</th>\n",
       "      <th>rub_per_minute</th>\n",
       "      <th>tariff_name</th>\n",
       "    </tr>\n",
       "  </thead>\n",
       "  <tbody>\n",
       "    <tr>\n",
       "      <td>0</td>\n",
       "      <td>50</td>\n",
       "      <td>15360</td>\n",
       "      <td>500</td>\n",
       "      <td>550</td>\n",
       "      <td>200</td>\n",
       "      <td>3</td>\n",
       "      <td>3</td>\n",
       "      <td>smart</td>\n",
       "    </tr>\n",
       "    <tr>\n",
       "      <td>1</td>\n",
       "      <td>1000</td>\n",
       "      <td>30720</td>\n",
       "      <td>3000</td>\n",
       "      <td>1950</td>\n",
       "      <td>150</td>\n",
       "      <td>1</td>\n",
       "      <td>1</td>\n",
       "      <td>ultra</td>\n",
       "    </tr>\n",
       "  </tbody>\n",
       "</table>\n",
       "</div>"
      ],
      "text/plain": [
       "   messages_included  mb_per_month_included  minutes_included  \\\n",
       "0                 50                  15360               500   \n",
       "1               1000                  30720              3000   \n",
       "\n",
       "   rub_monthly_fee  rub_per_gb  rub_per_message  rub_per_minute tariff_name  \n",
       "0              550         200                3               3       smart  \n",
       "1             1950         150                1               1       ultra  "
      ]
     },
     "execution_count": 30,
     "metadata": {},
     "output_type": "execute_result"
    }
   ],
   "source": [
    "# <вывод датафрейма>\n",
    "tariffs_df"
   ]
  },
  {
   "cell_type": "markdown",
   "metadata": {},
   "source": [
    "Переведем Мегабайты в Гигабайты."
   ]
  },
  {
   "cell_type": "code",
   "execution_count": 31,
   "metadata": {
    "scrolled": true
   },
   "outputs": [
    {
     "data": {
      "text/html": [
       "<div>\n",
       "<style scoped>\n",
       "    .dataframe tbody tr th:only-of-type {\n",
       "        vertical-align: middle;\n",
       "    }\n",
       "\n",
       "    .dataframe tbody tr th {\n",
       "        vertical-align: top;\n",
       "    }\n",
       "\n",
       "    .dataframe thead th {\n",
       "        text-align: right;\n",
       "    }\n",
       "</style>\n",
       "<table border=\"1\" class=\"dataframe\">\n",
       "  <thead>\n",
       "    <tr style=\"text-align: right;\">\n",
       "      <th></th>\n",
       "      <th>messages_included</th>\n",
       "      <th>gb_per_month_included</th>\n",
       "      <th>minutes_included</th>\n",
       "      <th>rub_monthly_fee</th>\n",
       "      <th>rub_per_gb</th>\n",
       "      <th>rub_per_message</th>\n",
       "      <th>rub_per_minute</th>\n",
       "      <th>tariff_name</th>\n",
       "    </tr>\n",
       "  </thead>\n",
       "  <tbody>\n",
       "    <tr>\n",
       "      <td>0</td>\n",
       "      <td>50</td>\n",
       "      <td>15</td>\n",
       "      <td>500</td>\n",
       "      <td>550</td>\n",
       "      <td>200</td>\n",
       "      <td>3</td>\n",
       "      <td>3</td>\n",
       "      <td>smart</td>\n",
       "    </tr>\n",
       "    <tr>\n",
       "      <td>1</td>\n",
       "      <td>1000</td>\n",
       "      <td>30</td>\n",
       "      <td>3000</td>\n",
       "      <td>1950</td>\n",
       "      <td>150</td>\n",
       "      <td>1</td>\n",
       "      <td>1</td>\n",
       "      <td>ultra</td>\n",
       "    </tr>\n",
       "  </tbody>\n",
       "</table>\n",
       "</div>"
      ],
      "text/plain": [
       "   messages_included  gb_per_month_included  minutes_included  \\\n",
       "0                 50                     15               500   \n",
       "1               1000                     30              3000   \n",
       "\n",
       "   rub_monthly_fee  rub_per_gb  rub_per_message  rub_per_minute tariff_name  \n",
       "0              550         200                3               3       smart  \n",
       "1             1950         150                1               1       ultra  "
      ]
     },
     "execution_count": 31,
     "metadata": {},
     "output_type": "execute_result"
    }
   ],
   "source": [
    "# <перевод Мегабайтов в Гигабайты>\n",
    "tariffs_df['mb_per_month_included'] = (tariffs_df['mb_per_month_included'] / 1024).astype('int')\n",
    "tariffs_df.columns = ['messages_included', 'gb_per_month_included', 'minutes_included',\n",
    "       'rub_monthly_fee', 'rub_per_gb', 'rub_per_message', 'rub_per_minute',\n",
    "       'tariff_name']\n",
    "tariffs_df"
   ]
  },
  {
   "cell_type": "markdown",
   "metadata": {},
   "source": [
    "#### 2.1.3. Датафрейм calls_df"
   ]
  },
  {
   "cell_type": "code",
   "execution_count": 32,
   "metadata": {},
   "outputs": [
    {
     "data": {
      "text/html": [
       "<div>\n",
       "<style scoped>\n",
       "    .dataframe tbody tr th:only-of-type {\n",
       "        vertical-align: middle;\n",
       "    }\n",
       "\n",
       "    .dataframe tbody tr th {\n",
       "        vertical-align: top;\n",
       "    }\n",
       "\n",
       "    .dataframe thead th {\n",
       "        text-align: right;\n",
       "    }\n",
       "</style>\n",
       "<table border=\"1\" class=\"dataframe\">\n",
       "  <thead>\n",
       "    <tr style=\"text-align: right;\">\n",
       "      <th></th>\n",
       "      <th>id</th>\n",
       "      <th>call_date</th>\n",
       "      <th>duration</th>\n",
       "      <th>user_id</th>\n",
       "    </tr>\n",
       "  </thead>\n",
       "  <tbody>\n",
       "    <tr>\n",
       "      <td>0</td>\n",
       "      <td>1000_0</td>\n",
       "      <td>2018-07-25</td>\n",
       "      <td>0.00</td>\n",
       "      <td>1000</td>\n",
       "    </tr>\n",
       "    <tr>\n",
       "      <td>1</td>\n",
       "      <td>1000_1</td>\n",
       "      <td>2018-08-17</td>\n",
       "      <td>0.00</td>\n",
       "      <td>1000</td>\n",
       "    </tr>\n",
       "    <tr>\n",
       "      <td>2</td>\n",
       "      <td>1000_2</td>\n",
       "      <td>2018-06-11</td>\n",
       "      <td>2.85</td>\n",
       "      <td>1000</td>\n",
       "    </tr>\n",
       "    <tr>\n",
       "      <td>3</td>\n",
       "      <td>1000_3</td>\n",
       "      <td>2018-09-21</td>\n",
       "      <td>13.80</td>\n",
       "      <td>1000</td>\n",
       "    </tr>\n",
       "    <tr>\n",
       "      <td>4</td>\n",
       "      <td>1000_4</td>\n",
       "      <td>2018-12-15</td>\n",
       "      <td>5.18</td>\n",
       "      <td>1000</td>\n",
       "    </tr>\n",
       "  </tbody>\n",
       "</table>\n",
       "</div>"
      ],
      "text/plain": [
       "       id   call_date  duration  user_id\n",
       "0  1000_0  2018-07-25      0.00     1000\n",
       "1  1000_1  2018-08-17      0.00     1000\n",
       "2  1000_2  2018-06-11      2.85     1000\n",
       "3  1000_3  2018-09-21     13.80     1000\n",
       "4  1000_4  2018-12-15      5.18     1000"
      ]
     },
     "execution_count": 32,
     "metadata": {},
     "output_type": "execute_result"
    }
   ],
   "source": [
    "# <вывод первых пяти строк calls_df>\n",
    "calls_df.head() "
   ]
  },
  {
   "cell_type": "code",
   "execution_count": 33,
   "metadata": {},
   "outputs": [
    {
     "name": "stdout",
     "output_type": "stream",
     "text": [
      "<class 'pandas.core.frame.DataFrame'>\n",
      "RangeIndex: 202607 entries, 0 to 202606\n",
      "Data columns (total 4 columns):\n",
      "id           202607 non-null object\n",
      "call_date    202607 non-null object\n",
      "duration     202607 non-null float64\n",
      "user_id      202607 non-null int64\n",
      "dtypes: float64(1), int64(1), object(2)\n",
      "memory usage: 6.2+ MB\n"
     ]
    }
   ],
   "source": [
    "# <общая информация о датафрейме calls_df>\n",
    "calls_df.info() "
   ]
  },
  {
   "cell_type": "code",
   "execution_count": 34,
   "metadata": {},
   "outputs": [
    {
     "data": {
      "text/plain": [
       "id           202607\n",
       "call_date       365\n",
       "duration       2871\n",
       "user_id         492\n",
       "dtype: int64"
      ]
     },
     "execution_count": 34,
     "metadata": {},
     "output_type": "execute_result"
    }
   ],
   "source": [
    "# <количество уникальных значений столбцов>\n",
    "calls_df.nunique() "
   ]
  },
  {
   "cell_type": "markdown",
   "metadata": {},
   "source": [
    "**Столбец id**."
   ]
  },
  {
   "cell_type": "markdown",
   "metadata": {},
   "source": [
    "Столбец id содержит *'user_id' + '_' + 'номер операции для данного id'*."
   ]
  },
  {
   "cell_type": "code",
   "execution_count": 35,
   "metadata": {
    "scrolled": true
   },
   "outputs": [
    {
     "name": "stdout",
     "output_type": "stream",
     "text": [
      "492\n"
     ]
    },
    {
     "data": {
      "text/plain": [
       "492"
      ]
     },
     "execution_count": 35,
     "metadata": {},
     "output_type": "execute_result"
    }
   ],
   "source": [
    "# <проверка количества уникальных первых четырех символов столбца 'id'>\n",
    "print(calls_df.id.apply(lambda x: x[:4]).nunique()) \n",
    "# <проверка того, что id в столбце 'id' совпадают со значениями столбца 'user_id'>\n",
    "(calls_df.id.apply(lambda x: int(x[:4])).unique() == calls_df.user_id.unique()).sum()"
   ]
  },
  {
   "cell_type": "code",
   "execution_count": 36,
   "metadata": {},
   "outputs": [
    {
     "name": "stdout",
     "output_type": "stream",
     "text": [
      "1760\n"
     ]
    },
    {
     "data": {
      "text/plain": [
       "min       0\n",
       "max    1759\n",
       "Name: id, dtype: int64"
      ]
     },
     "execution_count": 36,
     "metadata": {},
     "output_type": "execute_result"
    }
   ],
   "source": [
    "# <количество уникальных значений в правой части столбца 'id'>\n",
    "print(calls_df.id.apply(lambda x: x[5:]).nunique()) \n",
    "# <минимальное и максимальное количество звонков (1 и 1760, так как нумерация начинается с нуля)>\n",
    "calls_df.id.apply(lambda x: int(x[5:])).agg(['min', 'max'])"
   ]
  },
  {
   "cell_type": "code",
   "execution_count": 37,
   "metadata": {},
   "outputs": [
    {
     "data": {
      "text/html": [
       "<div>\n",
       "<style scoped>\n",
       "    .dataframe tbody tr th:only-of-type {\n",
       "        vertical-align: middle;\n",
       "    }\n",
       "\n",
       "    .dataframe tbody tr th {\n",
       "        vertical-align: top;\n",
       "    }\n",
       "\n",
       "    .dataframe thead th {\n",
       "        text-align: right;\n",
       "    }\n",
       "</style>\n",
       "<table border=\"1\" class=\"dataframe\">\n",
       "  <thead>\n",
       "    <tr style=\"text-align: right;\">\n",
       "      <th></th>\n",
       "      <th>id</th>\n",
       "      <th>call_date</th>\n",
       "      <th>duration</th>\n",
       "      <th>user_id</th>\n",
       "    </tr>\n",
       "  </thead>\n",
       "  <tbody>\n",
       "    <tr>\n",
       "      <td>150912</td>\n",
       "      <td>1377_1759</td>\n",
       "      <td>2018-10-27</td>\n",
       "      <td>9.44</td>\n",
       "      <td>1377</td>\n",
       "    </tr>\n",
       "  </tbody>\n",
       "</table>\n",
       "</div>"
      ],
      "text/plain": [
       "               id   call_date  duration  user_id\n",
       "150912  1377_1759  2018-10-27      9.44     1377"
      ]
     },
     "execution_count": 37,
     "metadata": {},
     "output_type": "execute_result"
    }
   ],
   "source": [
    "# <звонок с '1759' на конце id>\n",
    "calls_df[calls_df.id.apply(lambda x: x[5:]) == '1759'] "
   ]
  },
  {
   "cell_type": "code",
   "execution_count": 38,
   "metadata": {},
   "outputs": [
    {
     "data": {
      "text/plain": [
       "1760"
      ]
     },
     "execution_count": 38,
     "metadata": {},
     "output_type": "execute_result"
    }
   ],
   "source": [
    "# <количество звонков для строк с 'user_id' == 1377>\n",
    "len(calls_df.query('user_id == 1377')) "
   ]
  },
  {
   "cell_type": "markdown",
   "metadata": {},
   "source": [
    "Минимальное количество звонков - **1**, максимальное - **1760**.<br><br>\n",
    "Некорректных значений не обнаружено."
   ]
  },
  {
   "cell_type": "markdown",
   "metadata": {},
   "source": [
    "**Столбец call_date**."
   ]
  },
  {
   "cell_type": "code",
   "execution_count": 39,
   "metadata": {},
   "outputs": [
    {
     "data": {
      "text/plain": [
       "array(['2018-01-01', '2018-12-31'], dtype=object)"
      ]
     },
     "execution_count": 39,
     "metadata": {},
     "output_type": "execute_result"
    }
   ],
   "source": [
    "# <проверка размаха значений столбца 'call_date'>\n",
    "np.sort(calls_df.call_date.unique())[[0, -1]] "
   ]
  },
  {
   "cell_type": "markdown",
   "metadata": {},
   "source": [
    "Преобразуем столбец к типу *datetime64*."
   ]
  },
  {
   "cell_type": "code",
   "execution_count": 40,
   "metadata": {},
   "outputs": [
    {
     "data": {
      "text/plain": [
       "'datetime64[ns]'"
      ]
     },
     "execution_count": 40,
     "metadata": {},
     "output_type": "execute_result"
    }
   ],
   "source": [
    "# <преобразование в datetime64>\n",
    "calls_df['call_date'] = pd.to_datetime(calls_df['call_date'], format='%Y-%m-%d')\n",
    "# <проверка типа данных столбца 'call_date'>\n",
    "calls_df.call_date.dtype.name "
   ]
  },
  {
   "cell_type": "markdown",
   "metadata": {},
   "source": [
    "**Столбец duration**."
   ]
  },
  {
   "cell_type": "markdown",
   "metadata": {},
   "source": [
    "В данном столбце хранится длительность звонка в минутах."
   ]
  },
  {
   "cell_type": "code",
   "execution_count": 41,
   "metadata": {},
   "outputs": [
    {
     "data": {
      "text/plain": [
       "count    202607.000000\n",
       "mean          6.755887\n",
       "std           5.843365\n",
       "min           0.000000\n",
       "25%           1.300000\n",
       "50%           6.000000\n",
       "75%          10.700000\n",
       "max          38.000000\n",
       "Name: duration, dtype: float64"
      ]
     },
     "execution_count": 41,
     "metadata": {},
     "output_type": "execute_result"
    }
   ],
   "source": [
    "# <общее описание столбца 'duration'>\n",
    "calls_df.duration.describe() "
   ]
  },
  {
   "cell_type": "markdown",
   "metadata": {},
   "source": [
    "Оператор всегда округляет секунды до минут, поэтому все значения больше нуля округлим в бОльшую сторону."
   ]
  },
  {
   "cell_type": "code",
   "execution_count": 42,
   "metadata": {},
   "outputs": [
    {
     "data": {
      "text/plain": [
       "0     0.0\n",
       "1     0.0\n",
       "2     3.0\n",
       "3    14.0\n",
       "4     6.0\n",
       "Name: duration, dtype: float64"
      ]
     },
     "execution_count": 42,
     "metadata": {},
     "output_type": "execute_result"
    }
   ],
   "source": [
    "# <округление длительности к бОльшим значениям>\n",
    "calls_df['duration'] = calls_df['duration'].apply(np.ceil) \n",
    "# <проверка>\n",
    "calls_df['duration'].head() "
   ]
  },
  {
   "cell_type": "markdown",
   "metadata": {},
   "source": [
    "Теперь преобразуем к типу данных *int*."
   ]
  },
  {
   "cell_type": "code",
   "execution_count": 43,
   "metadata": {},
   "outputs": [
    {
     "data": {
      "text/plain": [
       "0     0\n",
       "1     0\n",
       "2     3\n",
       "3    14\n",
       "4     6\n",
       "Name: duration, dtype: int32"
      ]
     },
     "execution_count": 43,
     "metadata": {},
     "output_type": "execute_result"
    }
   ],
   "source": [
    "# <замена типа данных на int>\n",
    "calls_df['duration'] = calls_df['duration'].astype('int') \n",
    "# <проверка>\n",
    "calls_df['duration'].head() "
   ]
  },
  {
   "cell_type": "markdown",
   "metadata": {},
   "source": [
    "**Столбец user_id**."
   ]
  },
  {
   "cell_type": "code",
   "execution_count": 44,
   "metadata": {},
   "outputs": [
    {
     "data": {
      "text/plain": [
       "count    202607.000000\n",
       "mean       1253.940619\n",
       "std         144.722751\n",
       "min        1000.000000\n",
       "25%        1126.000000\n",
       "50%        1260.000000\n",
       "75%        1379.000000\n",
       "max        1499.000000\n",
       "Name: user_id, dtype: float64"
      ]
     },
     "execution_count": 44,
     "metadata": {},
     "output_type": "execute_result"
    }
   ],
   "source": [
    "# <общее описание столбца 'user_id'>\n",
    "calls_df.user_id.describe() "
   ]
  },
  {
   "cell_type": "markdown",
   "metadata": {},
   "source": [
    "Минимальное значение *1000*, максимальное - *1499*."
   ]
  },
  {
   "cell_type": "markdown",
   "metadata": {},
   "source": [
    "#### 2.1.4. Датафрейм messages_df"
   ]
  },
  {
   "cell_type": "code",
   "execution_count": 45,
   "metadata": {},
   "outputs": [
    {
     "data": {
      "text/html": [
       "<div>\n",
       "<style scoped>\n",
       "    .dataframe tbody tr th:only-of-type {\n",
       "        vertical-align: middle;\n",
       "    }\n",
       "\n",
       "    .dataframe tbody tr th {\n",
       "        vertical-align: top;\n",
       "    }\n",
       "\n",
       "    .dataframe thead th {\n",
       "        text-align: right;\n",
       "    }\n",
       "</style>\n",
       "<table border=\"1\" class=\"dataframe\">\n",
       "  <thead>\n",
       "    <tr style=\"text-align: right;\">\n",
       "      <th></th>\n",
       "      <th>id</th>\n",
       "      <th>message_date</th>\n",
       "      <th>user_id</th>\n",
       "    </tr>\n",
       "  </thead>\n",
       "  <tbody>\n",
       "    <tr>\n",
       "      <td>0</td>\n",
       "      <td>1000_0</td>\n",
       "      <td>2018-06-27</td>\n",
       "      <td>1000</td>\n",
       "    </tr>\n",
       "    <tr>\n",
       "      <td>1</td>\n",
       "      <td>1000_1</td>\n",
       "      <td>2018-10-08</td>\n",
       "      <td>1000</td>\n",
       "    </tr>\n",
       "    <tr>\n",
       "      <td>2</td>\n",
       "      <td>1000_2</td>\n",
       "      <td>2018-08-04</td>\n",
       "      <td>1000</td>\n",
       "    </tr>\n",
       "    <tr>\n",
       "      <td>3</td>\n",
       "      <td>1000_3</td>\n",
       "      <td>2018-06-16</td>\n",
       "      <td>1000</td>\n",
       "    </tr>\n",
       "    <tr>\n",
       "      <td>4</td>\n",
       "      <td>1000_4</td>\n",
       "      <td>2018-12-05</td>\n",
       "      <td>1000</td>\n",
       "    </tr>\n",
       "  </tbody>\n",
       "</table>\n",
       "</div>"
      ],
      "text/plain": [
       "       id message_date  user_id\n",
       "0  1000_0   2018-06-27     1000\n",
       "1  1000_1   2018-10-08     1000\n",
       "2  1000_2   2018-08-04     1000\n",
       "3  1000_3   2018-06-16     1000\n",
       "4  1000_4   2018-12-05     1000"
      ]
     },
     "execution_count": 45,
     "metadata": {},
     "output_type": "execute_result"
    }
   ],
   "source": [
    "# <вывод первых пяти строк messages_df>\n",
    "messages_df.head() "
   ]
  },
  {
   "cell_type": "code",
   "execution_count": 46,
   "metadata": {},
   "outputs": [
    {
     "name": "stdout",
     "output_type": "stream",
     "text": [
      "<class 'pandas.core.frame.DataFrame'>\n",
      "RangeIndex: 123036 entries, 0 to 123035\n",
      "Data columns (total 3 columns):\n",
      "id              123036 non-null object\n",
      "message_date    123036 non-null object\n",
      "user_id         123036 non-null int64\n",
      "dtypes: int64(1), object(2)\n",
      "memory usage: 2.8+ MB\n"
     ]
    }
   ],
   "source": [
    "# <общая информация о датафрейме messages_df>\n",
    "messages_df.info() "
   ]
  },
  {
   "cell_type": "code",
   "execution_count": 47,
   "metadata": {},
   "outputs": [
    {
     "data": {
      "text/plain": [
       "id              123036\n",
       "message_date       364\n",
       "user_id            426\n",
       "dtype: int64"
      ]
     },
     "execution_count": 47,
     "metadata": {},
     "output_type": "execute_result"
    }
   ],
   "source": [
    "# <количество уникальных значений столбцов>\n",
    "messages_df.nunique() "
   ]
  },
  {
   "cell_type": "markdown",
   "metadata": {},
   "source": [
    "**Столбец id**."
   ]
  },
  {
   "cell_type": "markdown",
   "metadata": {},
   "source": [
    "Столбец id содержит *'user_id' + '_' + 'номер операции для данного id'*."
   ]
  },
  {
   "cell_type": "code",
   "execution_count": 48,
   "metadata": {
    "scrolled": true
   },
   "outputs": [
    {
     "name": "stdout",
     "output_type": "stream",
     "text": [
      "426\n"
     ]
    },
    {
     "data": {
      "text/plain": [
       "426"
      ]
     },
     "execution_count": 48,
     "metadata": {},
     "output_type": "execute_result"
    }
   ],
   "source": [
    "# <проверка количества уникальных первых четырех символов столбца 'id'>\n",
    "print(messages_df.id.apply(lambda x: x[:4]).nunique()) \n",
    "# <проверка того, что id в столбце 'id' совпадают со значениями столбца 'user_id'>\n",
    "(messages_df.id.apply(lambda x: int(x[:4])).unique() == messages_df.user_id.unique()).sum()"
   ]
  },
  {
   "cell_type": "code",
   "execution_count": 49,
   "metadata": {},
   "outputs": [
    {
     "name": "stdout",
     "output_type": "stream",
     "text": [
      "1463\n"
     ]
    },
    {
     "data": {
      "text/plain": [
       "min       0\n",
       "max    1462\n",
       "Name: id, dtype: int64"
      ]
     },
     "execution_count": 49,
     "metadata": {},
     "output_type": "execute_result"
    }
   ],
   "source": [
    "# <количество уникальных значений в правой части столбца 'id'>\n",
    "print(messages_df.id.apply(lambda x: x[5:]).nunique()) \n",
    "# <минимальное и максимальное количество сообщений (1 и 1463, так как нумерация начинается с нуля)>\n",
    "messages_df.id.apply(lambda x: int(x[5:])).agg(['min', 'max'])"
   ]
  },
  {
   "cell_type": "code",
   "execution_count": 50,
   "metadata": {},
   "outputs": [
    {
     "data": {
      "text/html": [
       "<div>\n",
       "<style scoped>\n",
       "    .dataframe tbody tr th:only-of-type {\n",
       "        vertical-align: middle;\n",
       "    }\n",
       "\n",
       "    .dataframe tbody tr th {\n",
       "        vertical-align: top;\n",
       "    }\n",
       "\n",
       "    .dataframe thead th {\n",
       "        text-align: right;\n",
       "    }\n",
       "</style>\n",
       "<table border=\"1\" class=\"dataframe\">\n",
       "  <thead>\n",
       "    <tr style=\"text-align: right;\">\n",
       "      <th></th>\n",
       "      <th>id</th>\n",
       "      <th>message_date</th>\n",
       "      <th>user_id</th>\n",
       "    </tr>\n",
       "  </thead>\n",
       "  <tbody>\n",
       "    <tr>\n",
       "      <td>64785</td>\n",
       "      <td>1277_1462</td>\n",
       "      <td>2018-12-31</td>\n",
       "      <td>1277</td>\n",
       "    </tr>\n",
       "  </tbody>\n",
       "</table>\n",
       "</div>"
      ],
      "text/plain": [
       "              id message_date  user_id\n",
       "64785  1277_1462   2018-12-31     1277"
      ]
     },
     "execution_count": 50,
     "metadata": {},
     "output_type": "execute_result"
    }
   ],
   "source": [
    "# <сообщение с '1462' на конце id>\n",
    "messages_df[messages_df.id.apply(lambda x: x[5:]) == '1462'] "
   ]
  },
  {
   "cell_type": "code",
   "execution_count": 51,
   "metadata": {},
   "outputs": [
    {
     "data": {
      "text/plain": [
       "1463"
      ]
     },
     "execution_count": 51,
     "metadata": {},
     "output_type": "execute_result"
    }
   ],
   "source": [
    "# <количество сообщений для столбца с 'user_id' == 1277>\n",
    "len(messages_df.query('user_id == 1277')) "
   ]
  },
  {
   "cell_type": "markdown",
   "metadata": {},
   "source": [
    "Минимальное количество сообщений - **1**, максимальное - **1463**.<br><br>\n",
    "Некорректных значений не обнаружено."
   ]
  },
  {
   "cell_type": "markdown",
   "metadata": {},
   "source": [
    "**Столбец message_date**."
   ]
  },
  {
   "cell_type": "code",
   "execution_count": 52,
   "metadata": {},
   "outputs": [
    {
     "data": {
      "text/plain": [
       "array(['2018-01-02', '2018-12-31'], dtype=object)"
      ]
     },
     "execution_count": 52,
     "metadata": {},
     "output_type": "execute_result"
    }
   ],
   "source": [
    "# <проверка размаха значений столбца 'message_date'>\n",
    "np.sort(messages_df.message_date.unique())[[0, -1]] "
   ]
  },
  {
   "cell_type": "markdown",
   "metadata": {},
   "source": [
    "Преобразуем столбец к типу *datetime64*."
   ]
  },
  {
   "cell_type": "code",
   "execution_count": 53,
   "metadata": {},
   "outputs": [
    {
     "data": {
      "text/plain": [
       "'datetime64[ns]'"
      ]
     },
     "execution_count": 53,
     "metadata": {},
     "output_type": "execute_result"
    }
   ],
   "source": [
    "# <преобразование в datetime64>\n",
    "messages_df['message_date'] = pd.to_datetime(messages_df['message_date'], format='%Y-%m-%d')\n",
    "# <проверка типа данных столбца 'message_date'>\n",
    "messages_df.message_date.dtype.name "
   ]
  },
  {
   "cell_type": "markdown",
   "metadata": {},
   "source": [
    "**Столбец user_id**."
   ]
  },
  {
   "cell_type": "code",
   "execution_count": 54,
   "metadata": {},
   "outputs": [
    {
     "data": {
      "text/plain": [
       "count    123036.000000\n",
       "mean       1256.989410\n",
       "std         143.523967\n",
       "min        1000.000000\n",
       "25%        1134.000000\n",
       "50%        1271.000000\n",
       "75%        1381.000000\n",
       "max        1499.000000\n",
       "Name: user_id, dtype: float64"
      ]
     },
     "execution_count": 54,
     "metadata": {},
     "output_type": "execute_result"
    }
   ],
   "source": [
    "# <общее описание столбца 'user_id'>\n",
    "messages_df.user_id.describe() "
   ]
  },
  {
   "cell_type": "markdown",
   "metadata": {},
   "source": [
    "Минимальное значение *1000*, максимальное - *1499*."
   ]
  },
  {
   "cell_type": "markdown",
   "metadata": {},
   "source": [
    "#### 2.1.5. Датафрейм internet_df"
   ]
  },
  {
   "cell_type": "code",
   "execution_count": 55,
   "metadata": {},
   "outputs": [
    {
     "data": {
      "text/html": [
       "<div>\n",
       "<style scoped>\n",
       "    .dataframe tbody tr th:only-of-type {\n",
       "        vertical-align: middle;\n",
       "    }\n",
       "\n",
       "    .dataframe tbody tr th {\n",
       "        vertical-align: top;\n",
       "    }\n",
       "\n",
       "    .dataframe thead th {\n",
       "        text-align: right;\n",
       "    }\n",
       "</style>\n",
       "<table border=\"1\" class=\"dataframe\">\n",
       "  <thead>\n",
       "    <tr style=\"text-align: right;\">\n",
       "      <th></th>\n",
       "      <th>id</th>\n",
       "      <th>mb_used</th>\n",
       "      <th>session_date</th>\n",
       "      <th>user_id</th>\n",
       "    </tr>\n",
       "  </thead>\n",
       "  <tbody>\n",
       "    <tr>\n",
       "      <td>0</td>\n",
       "      <td>1000_0</td>\n",
       "      <td>112.95</td>\n",
       "      <td>2018-11-25</td>\n",
       "      <td>1000</td>\n",
       "    </tr>\n",
       "    <tr>\n",
       "      <td>1</td>\n",
       "      <td>1000_1</td>\n",
       "      <td>1052.81</td>\n",
       "      <td>2018-09-07</td>\n",
       "      <td>1000</td>\n",
       "    </tr>\n",
       "    <tr>\n",
       "      <td>2</td>\n",
       "      <td>1000_2</td>\n",
       "      <td>1197.26</td>\n",
       "      <td>2018-06-25</td>\n",
       "      <td>1000</td>\n",
       "    </tr>\n",
       "    <tr>\n",
       "      <td>3</td>\n",
       "      <td>1000_3</td>\n",
       "      <td>550.27</td>\n",
       "      <td>2018-08-22</td>\n",
       "      <td>1000</td>\n",
       "    </tr>\n",
       "    <tr>\n",
       "      <td>4</td>\n",
       "      <td>1000_4</td>\n",
       "      <td>302.56</td>\n",
       "      <td>2018-09-24</td>\n",
       "      <td>1000</td>\n",
       "    </tr>\n",
       "  </tbody>\n",
       "</table>\n",
       "</div>"
      ],
      "text/plain": [
       "       id  mb_used session_date  user_id\n",
       "0  1000_0   112.95   2018-11-25     1000\n",
       "1  1000_1  1052.81   2018-09-07     1000\n",
       "2  1000_2  1197.26   2018-06-25     1000\n",
       "3  1000_3   550.27   2018-08-22     1000\n",
       "4  1000_4   302.56   2018-09-24     1000"
      ]
     },
     "execution_count": 55,
     "metadata": {},
     "output_type": "execute_result"
    }
   ],
   "source": [
    "# <вывод первых пяти строк internet_df>\n",
    "internet_df.head() "
   ]
  },
  {
   "cell_type": "code",
   "execution_count": 56,
   "metadata": {},
   "outputs": [
    {
     "name": "stdout",
     "output_type": "stream",
     "text": [
      "<class 'pandas.core.frame.DataFrame'>\n",
      "Int64Index: 149396 entries, 0 to 149395\n",
      "Data columns (total 4 columns):\n",
      "id              149396 non-null object\n",
      "mb_used         149396 non-null float64\n",
      "session_date    149396 non-null object\n",
      "user_id         149396 non-null int64\n",
      "dtypes: float64(1), int64(1), object(2)\n",
      "memory usage: 5.7+ MB\n"
     ]
    }
   ],
   "source": [
    "# <общая информация о датафрейме internet_df>\n",
    "internet_df.info() "
   ]
  },
  {
   "cell_type": "code",
   "execution_count": 57,
   "metadata": {},
   "outputs": [
    {
     "data": {
      "text/plain": [
       "id              149396\n",
       "mb_used          70003\n",
       "session_date       365\n",
       "user_id            497\n",
       "dtype: int64"
      ]
     },
     "execution_count": 57,
     "metadata": {},
     "output_type": "execute_result"
    }
   ],
   "source": [
    "# <количество уникальных значений столбцов>\n",
    "internet_df.nunique() "
   ]
  },
  {
   "cell_type": "markdown",
   "metadata": {},
   "source": [
    "**Столбец id**."
   ]
  },
  {
   "cell_type": "markdown",
   "metadata": {},
   "source": [
    "Столбец id содержит *'user_id' + '_' + 'номер операции для данного id'*."
   ]
  },
  {
   "cell_type": "code",
   "execution_count": 58,
   "metadata": {
    "scrolled": true
   },
   "outputs": [
    {
     "name": "stdout",
     "output_type": "stream",
     "text": [
      "497\n"
     ]
    },
    {
     "data": {
      "text/plain": [
       "497"
      ]
     },
     "execution_count": 58,
     "metadata": {},
     "output_type": "execute_result"
    }
   ],
   "source": [
    "# <проверка количества уникальных первых четырех символов столбца 'id'>\n",
    "print(internet_df.id.apply(lambda x: x[:4]).nunique()) \n",
    "# <проверка того, что id в столбце 'id' совпадают со значениями столбца 'user_id'>\n",
    "(internet_df.id.apply(lambda x: int(x[:4])).unique() == internet_df.user_id.unique()).sum()"
   ]
  },
  {
   "cell_type": "code",
   "execution_count": 59,
   "metadata": {},
   "outputs": [
    {
     "name": "stdout",
     "output_type": "stream",
     "text": [
      "834\n"
     ]
    },
    {
     "data": {
      "text/plain": [
       "min      0\n",
       "max    833\n",
       "Name: id, dtype: int64"
      ]
     },
     "execution_count": 59,
     "metadata": {},
     "output_type": "execute_result"
    }
   ],
   "source": [
    "# <количество уникальных значений в правой части столбца 'id'>\n",
    "print(internet_df.id.apply(lambda x: x[5:]).nunique()) \n",
    "# <количество интернет-сессий (1 и 834, так как нумерация начинается с нуля)>\n",
    "internet_df.id.apply(lambda x: int(x[5:])).agg(['min', 'max'])"
   ]
  },
  {
   "cell_type": "code",
   "execution_count": 60,
   "metadata": {},
   "outputs": [
    {
     "data": {
      "text/html": [
       "<div>\n",
       "<style scoped>\n",
       "    .dataframe tbody tr th:only-of-type {\n",
       "        vertical-align: middle;\n",
       "    }\n",
       "\n",
       "    .dataframe tbody tr th {\n",
       "        vertical-align: top;\n",
       "    }\n",
       "\n",
       "    .dataframe thead th {\n",
       "        text-align: right;\n",
       "    }\n",
       "</style>\n",
       "<table border=\"1\" class=\"dataframe\">\n",
       "  <thead>\n",
       "    <tr style=\"text-align: right;\">\n",
       "      <th></th>\n",
       "      <th>id</th>\n",
       "      <th>mb_used</th>\n",
       "      <th>session_date</th>\n",
       "      <th>user_id</th>\n",
       "    </tr>\n",
       "  </thead>\n",
       "  <tbody>\n",
       "    <tr>\n",
       "      <td>148885</td>\n",
       "      <td>1496_833</td>\n",
       "      <td>0.0</td>\n",
       "      <td>2018-11-15</td>\n",
       "      <td>1496</td>\n",
       "    </tr>\n",
       "  </tbody>\n",
       "</table>\n",
       "</div>"
      ],
      "text/plain": [
       "              id  mb_used session_date  user_id\n",
       "148885  1496_833      0.0   2018-11-15     1496"
      ]
     },
     "execution_count": 60,
     "metadata": {},
     "output_type": "execute_result"
    }
   ],
   "source": [
    "# <интернет-сессия с '833' на конце id>\n",
    "internet_df[internet_df.id.apply(lambda x: x[5:]) == '833'] "
   ]
  },
  {
   "cell_type": "markdown",
   "metadata": {},
   "source": [
    "Обращаем внимание, что в данной интернет-сессии трафик не был потрачен. При проверке столбца **mb_used** проверим, сколько таких строк есть."
   ]
  },
  {
   "cell_type": "code",
   "execution_count": 61,
   "metadata": {},
   "outputs": [
    {
     "data": {
      "text/plain": [
       "834"
      ]
     },
     "execution_count": 61,
     "metadata": {},
     "output_type": "execute_result"
    }
   ],
   "source": [
    "# <интернет-сессии для строк с 'user_id' == 1496>\n",
    "len(internet_df.query('user_id == 1496')) "
   ]
  },
  {
   "cell_type": "markdown",
   "metadata": {},
   "source": [
    "Минимальное количество интернет-сессий - **1**, максимальное - **834**.<br><br>\n",
    "Некорректных значений не обнаружено."
   ]
  },
  {
   "cell_type": "markdown",
   "metadata": {},
   "source": [
    "**Столбец mb_used**."
   ]
  },
  {
   "cell_type": "code",
   "execution_count": 62,
   "metadata": {},
   "outputs": [
    {
     "data": {
      "text/plain": [
       "count    149396.000000\n",
       "mean        370.192426\n",
       "std         278.300951\n",
       "min           0.000000\n",
       "25%         138.187500\n",
       "50%         348.015000\n",
       "75%         559.552500\n",
       "max        1724.830000\n",
       "Name: mb_used, dtype: float64"
      ]
     },
     "execution_count": 62,
     "metadata": {},
     "output_type": "execute_result"
    }
   ],
   "source": [
    "# <общее описание столбца 'mb_used'>\n",
    "internet_df.mb_used.describe() "
   ]
  },
  {
   "cell_type": "code",
   "execution_count": 63,
   "metadata": {},
   "outputs": [
    {
     "data": {
      "text/plain": [
       "19598"
      ]
     },
     "execution_count": 63,
     "metadata": {},
     "output_type": "execute_result"
    }
   ],
   "source": [
    "# <проверка количества 'пустых' интернет-сессий>\n",
    "internet_df.query('mb_used == 0')['mb_used'].count()"
   ]
  },
  {
   "cell_type": "markdown",
   "metadata": {},
   "source": [
    "Для веб-трафика отдельные сессии не считаются. Вместо этого общая сумма за месяц округляется в бо́льшую сторону. Если абонент использует 1025 Мегабайт в этом месяце, с него возьмут плату за 2 Гигабайта.<br><br>\n",
    "Преобразуем таблицу в следующем подразделе (*2.2*)."
   ]
  },
  {
   "cell_type": "markdown",
   "metadata": {},
   "source": [
    "**Столбец session_date**."
   ]
  },
  {
   "cell_type": "code",
   "execution_count": 64,
   "metadata": {},
   "outputs": [
    {
     "data": {
      "text/plain": [
       "array(['2018-01-01', '2018-12-31'], dtype=object)"
      ]
     },
     "execution_count": 64,
     "metadata": {},
     "output_type": "execute_result"
    }
   ],
   "source": [
    "# <проверка размаха значений столбца 'session_date'>\n",
    "np.sort(internet_df.session_date.unique())[[0, -1]] "
   ]
  },
  {
   "cell_type": "markdown",
   "metadata": {},
   "source": [
    "Преобразуем столбец к типу *datetime64*."
   ]
  },
  {
   "cell_type": "code",
   "execution_count": 65,
   "metadata": {},
   "outputs": [
    {
     "data": {
      "text/plain": [
       "'datetime64[ns]'"
      ]
     },
     "execution_count": 65,
     "metadata": {},
     "output_type": "execute_result"
    }
   ],
   "source": [
    "# <преобразование в datetime64>\n",
    "internet_df['session_date'] = pd.to_datetime(internet_df['session_date'], format='%Y-%m-%d')\n",
    "# <проверка типа данных столбца 'session_date'>\n",
    "internet_df.session_date.dtype.name"
   ]
  },
  {
   "cell_type": "markdown",
   "metadata": {},
   "source": [
    "**Столбец user_id**."
   ]
  },
  {
   "cell_type": "code",
   "execution_count": 66,
   "metadata": {},
   "outputs": [
    {
     "data": {
      "text/plain": [
       "count    149396.000000\n",
       "mean       1252.099842\n",
       "std         144.050823\n",
       "min        1000.000000\n",
       "25%        1130.000000\n",
       "50%        1251.000000\n",
       "75%        1380.000000\n",
       "max        1499.000000\n",
       "Name: user_id, dtype: float64"
      ]
     },
     "execution_count": 66,
     "metadata": {},
     "output_type": "execute_result"
    }
   ],
   "source": [
    "internet_df.user_id.describe() # <общее описание столбца 'user_id'>"
   ]
  },
  {
   "cell_type": "markdown",
   "metadata": {},
   "source": [
    "Минимальное значение *1000*, максимальное - *1499*."
   ]
  },
  {
   "cell_type": "markdown",
   "metadata": {},
   "source": [
    "### 2.2. Подсчет значений по месяцам"
   ]
  },
  {
   "cell_type": "markdown",
   "metadata": {},
   "source": [
    "Для анализа нам не нужны столбцы **first_name**, **last_name**, **age** и **city**. Однако оставим столбцы **age** и **city**, чтобы  сохранить возможность дополнительного исследования."
   ]
  },
  {
   "cell_type": "code",
   "execution_count": 67,
   "metadata": {},
   "outputs": [
    {
     "data": {
      "text/html": [
       "<div>\n",
       "<style scoped>\n",
       "    .dataframe tbody tr th:only-of-type {\n",
       "        vertical-align: middle;\n",
       "    }\n",
       "\n",
       "    .dataframe tbody tr th {\n",
       "        vertical-align: top;\n",
       "    }\n",
       "\n",
       "    .dataframe thead th {\n",
       "        text-align: right;\n",
       "    }\n",
       "</style>\n",
       "<table border=\"1\" class=\"dataframe\">\n",
       "  <thead>\n",
       "    <tr style=\"text-align: right;\">\n",
       "      <th></th>\n",
       "      <th>user_id</th>\n",
       "      <th>tariff</th>\n",
       "      <th>age</th>\n",
       "      <th>city</th>\n",
       "      <th>reg_date</th>\n",
       "      <th>churn_date</th>\n",
       "    </tr>\n",
       "  </thead>\n",
       "  <tbody>\n",
       "    <tr>\n",
       "      <td>0</td>\n",
       "      <td>1000</td>\n",
       "      <td>ultra</td>\n",
       "      <td>52</td>\n",
       "      <td>Краснодар</td>\n",
       "      <td>2018-05-25</td>\n",
       "      <td>2018-12-31</td>\n",
       "    </tr>\n",
       "    <tr>\n",
       "      <td>1</td>\n",
       "      <td>1001</td>\n",
       "      <td>smart</td>\n",
       "      <td>41</td>\n",
       "      <td>Москва</td>\n",
       "      <td>2018-11-01</td>\n",
       "      <td>2018-12-31</td>\n",
       "    </tr>\n",
       "    <tr>\n",
       "      <td>2</td>\n",
       "      <td>1002</td>\n",
       "      <td>smart</td>\n",
       "      <td>59</td>\n",
       "      <td>Стерлитамак</td>\n",
       "      <td>2018-06-17</td>\n",
       "      <td>2018-12-31</td>\n",
       "    </tr>\n",
       "    <tr>\n",
       "      <td>3</td>\n",
       "      <td>1003</td>\n",
       "      <td>ultra</td>\n",
       "      <td>23</td>\n",
       "      <td>Москва</td>\n",
       "      <td>2018-08-17</td>\n",
       "      <td>2018-12-31</td>\n",
       "    </tr>\n",
       "    <tr>\n",
       "      <td>4</td>\n",
       "      <td>1004</td>\n",
       "      <td>ultra</td>\n",
       "      <td>68</td>\n",
       "      <td>Новокузнецк</td>\n",
       "      <td>2018-05-14</td>\n",
       "      <td>2018-12-31</td>\n",
       "    </tr>\n",
       "  </tbody>\n",
       "</table>\n",
       "</div>"
      ],
      "text/plain": [
       "   user_id tariff  age         city   reg_date churn_date\n",
       "0     1000  ultra   52    Краснодар 2018-05-25 2018-12-31\n",
       "1     1001  smart   41       Москва 2018-11-01 2018-12-31\n",
       "2     1002  smart   59  Стерлитамак 2018-06-17 2018-12-31\n",
       "3     1003  ultra   23       Москва 2018-08-17 2018-12-31\n",
       "4     1004  ultra   68  Новокузнецк 2018-05-14 2018-12-31"
      ]
     },
     "execution_count": 67,
     "metadata": {},
     "output_type": "execute_result"
    }
   ],
   "source": [
    "# <выбор столбцов для таблицы>\n",
    "users_table = users_df[['user_id', 'tariff', 'age', 'city', 'reg_date', 'churn_date']]\n",
    "# <вывод первых пяти строк>\n",
    "users_table.head() "
   ]
  },
  {
   "cell_type": "markdown",
   "metadata": {},
   "source": [
    "Добавим номера месяцев в столбец **months**. Для этого создадим функцию."
   ]
  },
  {
   "cell_type": "code",
   "execution_count": 68,
   "metadata": {},
   "outputs": [],
   "source": [
    "# <функция для добавления месяцев>\n",
    "def months_list(df):\n",
    "    temp = range(df['reg_date'].month, df['churn_date'].month + 1)\n",
    "    return pd.DataFrame([month for month in temp], index=[df['user_id']] * len(temp))"
   ]
  },
  {
   "cell_type": "code",
   "execution_count": 69,
   "metadata": {},
   "outputs": [
    {
     "data": {
      "text/html": [
       "<div>\n",
       "<style scoped>\n",
       "    .dataframe tbody tr th:only-of-type {\n",
       "        vertical-align: middle;\n",
       "    }\n",
       "\n",
       "    .dataframe tbody tr th {\n",
       "        vertical-align: top;\n",
       "    }\n",
       "\n",
       "    .dataframe thead th {\n",
       "        text-align: right;\n",
       "    }\n",
       "</style>\n",
       "<table border=\"1\" class=\"dataframe\">\n",
       "  <thead>\n",
       "    <tr style=\"text-align: right;\">\n",
       "      <th></th>\n",
       "      <th>months</th>\n",
       "    </tr>\n",
       "  </thead>\n",
       "  <tbody>\n",
       "    <tr>\n",
       "      <td>1000</td>\n",
       "      <td>5</td>\n",
       "    </tr>\n",
       "    <tr>\n",
       "      <td>1000</td>\n",
       "      <td>6</td>\n",
       "    </tr>\n",
       "    <tr>\n",
       "      <td>1000</td>\n",
       "      <td>7</td>\n",
       "    </tr>\n",
       "    <tr>\n",
       "      <td>1000</td>\n",
       "      <td>8</td>\n",
       "    </tr>\n",
       "    <tr>\n",
       "      <td>1000</td>\n",
       "      <td>9</td>\n",
       "    </tr>\n",
       "    <tr>\n",
       "      <td>1000</td>\n",
       "      <td>10</td>\n",
       "    </tr>\n",
       "    <tr>\n",
       "      <td>1000</td>\n",
       "      <td>11</td>\n",
       "    </tr>\n",
       "    <tr>\n",
       "      <td>1000</td>\n",
       "      <td>12</td>\n",
       "    </tr>\n",
       "    <tr>\n",
       "      <td>1001</td>\n",
       "      <td>11</td>\n",
       "    </tr>\n",
       "    <tr>\n",
       "      <td>1001</td>\n",
       "      <td>12</td>\n",
       "    </tr>\n",
       "    <tr>\n",
       "      <td>1002</td>\n",
       "      <td>6</td>\n",
       "    </tr>\n",
       "  </tbody>\n",
       "</table>\n",
       "</div>"
      ],
      "text/plain": [
       "      months\n",
       "1000       5\n",
       "1000       6\n",
       "1000       7\n",
       "1000       8\n",
       "1000       9\n",
       "1000      10\n",
       "1000      11\n",
       "1000      12\n",
       "1001      11\n",
       "1001      12\n",
       "1002       6"
      ]
     },
     "execution_count": 69,
     "metadata": {},
     "output_type": "execute_result"
    }
   ],
   "source": [
    "# <столбец со всеми месяцами для каждого 'user_id'>\n",
    "months = pd.DataFrame()\n",
    "for i in users_table.apply(months_list, axis=1):\n",
    "    months = pd.concat([months, i])\n",
    "months.columns = ['months']\n",
    "months.head(11) # <вывод первых 11 строк>"
   ]
  },
  {
   "cell_type": "markdown",
   "metadata": {},
   "source": [
    "**Было принято решение проводить анализ по каждому месяцу использования тарифа, <i>чтобы придать больший вес данным абонентов, пользующихся услугами долгое время</i>, а не создавать таблицу со средними значениями для каждого абонента.**"
   ]
  },
  {
   "cell_type": "code",
   "execution_count": 70,
   "metadata": {},
   "outputs": [
    {
     "data": {
      "text/html": [
       "<div>\n",
       "<style scoped>\n",
       "    .dataframe tbody tr th:only-of-type {\n",
       "        vertical-align: middle;\n",
       "    }\n",
       "\n",
       "    .dataframe tbody tr th {\n",
       "        vertical-align: top;\n",
       "    }\n",
       "\n",
       "    .dataframe thead th {\n",
       "        text-align: right;\n",
       "    }\n",
       "</style>\n",
       "<table border=\"1\" class=\"dataframe\">\n",
       "  <thead>\n",
       "    <tr style=\"text-align: right;\">\n",
       "      <th></th>\n",
       "      <th>user_id</th>\n",
       "      <th>tariff</th>\n",
       "      <th>age</th>\n",
       "      <th>city</th>\n",
       "      <th>reg_date</th>\n",
       "      <th>churn_date</th>\n",
       "      <th>months</th>\n",
       "    </tr>\n",
       "  </thead>\n",
       "  <tbody>\n",
       "    <tr>\n",
       "      <td>0</td>\n",
       "      <td>1000</td>\n",
       "      <td>ultra</td>\n",
       "      <td>52</td>\n",
       "      <td>Краснодар</td>\n",
       "      <td>2018-05-25</td>\n",
       "      <td>2018-12-31</td>\n",
       "      <td>5</td>\n",
       "    </tr>\n",
       "    <tr>\n",
       "      <td>1</td>\n",
       "      <td>1000</td>\n",
       "      <td>ultra</td>\n",
       "      <td>52</td>\n",
       "      <td>Краснодар</td>\n",
       "      <td>2018-05-25</td>\n",
       "      <td>2018-12-31</td>\n",
       "      <td>6</td>\n",
       "    </tr>\n",
       "    <tr>\n",
       "      <td>2</td>\n",
       "      <td>1000</td>\n",
       "      <td>ultra</td>\n",
       "      <td>52</td>\n",
       "      <td>Краснодар</td>\n",
       "      <td>2018-05-25</td>\n",
       "      <td>2018-12-31</td>\n",
       "      <td>7</td>\n",
       "    </tr>\n",
       "    <tr>\n",
       "      <td>3</td>\n",
       "      <td>1000</td>\n",
       "      <td>ultra</td>\n",
       "      <td>52</td>\n",
       "      <td>Краснодар</td>\n",
       "      <td>2018-05-25</td>\n",
       "      <td>2018-12-31</td>\n",
       "      <td>8</td>\n",
       "    </tr>\n",
       "    <tr>\n",
       "      <td>4</td>\n",
       "      <td>1000</td>\n",
       "      <td>ultra</td>\n",
       "      <td>52</td>\n",
       "      <td>Краснодар</td>\n",
       "      <td>2018-05-25</td>\n",
       "      <td>2018-12-31</td>\n",
       "      <td>9</td>\n",
       "    </tr>\n",
       "  </tbody>\n",
       "</table>\n",
       "</div>"
      ],
      "text/plain": [
       "   user_id tariff  age       city   reg_date churn_date  months\n",
       "0     1000  ultra   52  Краснодар 2018-05-25 2018-12-31       5\n",
       "1     1000  ultra   52  Краснодар 2018-05-25 2018-12-31       6\n",
       "2     1000  ultra   52  Краснодар 2018-05-25 2018-12-31       7\n",
       "3     1000  ultra   52  Краснодар 2018-05-25 2018-12-31       8\n",
       "4     1000  ultra   52  Краснодар 2018-05-25 2018-12-31       9"
      ]
     },
     "execution_count": 70,
     "metadata": {},
     "output_type": "execute_result"
    }
   ],
   "source": [
    "# <создание таблицы с каждым 'user_id' и каждым месяцем со списанием абонентской платы>\n",
    "users_table = users_table.merge(months, how='left', left_on='user_id', right_index=True).reset_index(drop=True)\n",
    "# <сводная таблица>\n",
    "users_table.head()"
   ]
  },
  {
   "cell_type": "markdown",
   "metadata": {},
   "source": [
    "Теперь на основе таблицы **users_table** продолжим анализ."
   ]
  },
  {
   "cell_type": "markdown",
   "metadata": {},
   "source": [
    "#### 2.2.1. Количество  звонков и израсходованных минут по месяцам"
   ]
  },
  {
   "cell_type": "markdown",
   "metadata": {},
   "source": [
    "Добавим в датафрейм со звонками (**calls_df**) номера месяцев."
   ]
  },
  {
   "cell_type": "code",
   "execution_count": 71,
   "metadata": {
    "scrolled": true
   },
   "outputs": [
    {
     "data": {
      "text/html": [
       "<div>\n",
       "<style scoped>\n",
       "    .dataframe tbody tr th:only-of-type {\n",
       "        vertical-align: middle;\n",
       "    }\n",
       "\n",
       "    .dataframe tbody tr th {\n",
       "        vertical-align: top;\n",
       "    }\n",
       "\n",
       "    .dataframe thead th {\n",
       "        text-align: right;\n",
       "    }\n",
       "</style>\n",
       "<table border=\"1\" class=\"dataframe\">\n",
       "  <thead>\n",
       "    <tr style=\"text-align: right;\">\n",
       "      <th></th>\n",
       "      <th>id</th>\n",
       "      <th>call_date</th>\n",
       "      <th>duration</th>\n",
       "      <th>user_id</th>\n",
       "      <th>months</th>\n",
       "    </tr>\n",
       "  </thead>\n",
       "  <tbody>\n",
       "    <tr>\n",
       "      <td>0</td>\n",
       "      <td>1000_0</td>\n",
       "      <td>2018-07-25</td>\n",
       "      <td>0</td>\n",
       "      <td>1000</td>\n",
       "      <td>7</td>\n",
       "    </tr>\n",
       "    <tr>\n",
       "      <td>1</td>\n",
       "      <td>1000_1</td>\n",
       "      <td>2018-08-17</td>\n",
       "      <td>0</td>\n",
       "      <td>1000</td>\n",
       "      <td>8</td>\n",
       "    </tr>\n",
       "    <tr>\n",
       "      <td>2</td>\n",
       "      <td>1000_2</td>\n",
       "      <td>2018-06-11</td>\n",
       "      <td>3</td>\n",
       "      <td>1000</td>\n",
       "      <td>6</td>\n",
       "    </tr>\n",
       "    <tr>\n",
       "      <td>3</td>\n",
       "      <td>1000_3</td>\n",
       "      <td>2018-09-21</td>\n",
       "      <td>14</td>\n",
       "      <td>1000</td>\n",
       "      <td>9</td>\n",
       "    </tr>\n",
       "    <tr>\n",
       "      <td>4</td>\n",
       "      <td>1000_4</td>\n",
       "      <td>2018-12-15</td>\n",
       "      <td>6</td>\n",
       "      <td>1000</td>\n",
       "      <td>12</td>\n",
       "    </tr>\n",
       "  </tbody>\n",
       "</table>\n",
       "</div>"
      ],
      "text/plain": [
       "       id  call_date  duration  user_id  months\n",
       "0  1000_0 2018-07-25         0     1000       7\n",
       "1  1000_1 2018-08-17         0     1000       8\n",
       "2  1000_2 2018-06-11         3     1000       6\n",
       "3  1000_3 2018-09-21        14     1000       9\n",
       "4  1000_4 2018-12-15         6     1000      12"
      ]
     },
     "execution_count": 71,
     "metadata": {},
     "output_type": "execute_result"
    }
   ],
   "source": [
    "# <добавление количества месяцев в calls_df>\n",
    "calls_df['months'] = calls_df['call_date'].apply(lambda row: row.month) \n",
    "calls_df.head()"
   ]
  },
  {
   "cell_type": "markdown",
   "metadata": {},
   "source": [
    "Теперь соединим **users_table** и **calls_df** в новый датафрейм **users_calls**."
   ]
  },
  {
   "cell_type": "code",
   "execution_count": 72,
   "metadata": {},
   "outputs": [
    {
     "data": {
      "text/html": [
       "<div>\n",
       "<style scoped>\n",
       "    .dataframe tbody tr th:only-of-type {\n",
       "        vertical-align: middle;\n",
       "    }\n",
       "\n",
       "    .dataframe tbody tr th {\n",
       "        vertical-align: top;\n",
       "    }\n",
       "\n",
       "    .dataframe thead th {\n",
       "        text-align: right;\n",
       "    }\n",
       "</style>\n",
       "<table border=\"1\" class=\"dataframe\">\n",
       "  <thead>\n",
       "    <tr style=\"text-align: right;\">\n",
       "      <th></th>\n",
       "      <th>user_id</th>\n",
       "      <th>tariff</th>\n",
       "      <th>age</th>\n",
       "      <th>city</th>\n",
       "      <th>reg_date</th>\n",
       "      <th>churn_date</th>\n",
       "      <th>months</th>\n",
       "      <th>id</th>\n",
       "      <th>call_date</th>\n",
       "      <th>duration</th>\n",
       "    </tr>\n",
       "  </thead>\n",
       "  <tbody>\n",
       "    <tr>\n",
       "      <td>0</td>\n",
       "      <td>1000</td>\n",
       "      <td>ultra</td>\n",
       "      <td>52</td>\n",
       "      <td>Краснодар</td>\n",
       "      <td>2018-05-25</td>\n",
       "      <td>2018-12-31</td>\n",
       "      <td>5</td>\n",
       "      <td>1000_11</td>\n",
       "      <td>2018-05-28</td>\n",
       "      <td>19.0</td>\n",
       "    </tr>\n",
       "    <tr>\n",
       "      <td>1</td>\n",
       "      <td>1000</td>\n",
       "      <td>ultra</td>\n",
       "      <td>52</td>\n",
       "      <td>Краснодар</td>\n",
       "      <td>2018-05-25</td>\n",
       "      <td>2018-12-31</td>\n",
       "      <td>5</td>\n",
       "      <td>1000_38</td>\n",
       "      <td>2018-05-25</td>\n",
       "      <td>0.0</td>\n",
       "    </tr>\n",
       "    <tr>\n",
       "      <td>2</td>\n",
       "      <td>1000</td>\n",
       "      <td>ultra</td>\n",
       "      <td>52</td>\n",
       "      <td>Краснодар</td>\n",
       "      <td>2018-05-25</td>\n",
       "      <td>2018-12-31</td>\n",
       "      <td>5</td>\n",
       "      <td>1000_56</td>\n",
       "      <td>2018-05-30</td>\n",
       "      <td>9.0</td>\n",
       "    </tr>\n",
       "    <tr>\n",
       "      <td>3</td>\n",
       "      <td>1000</td>\n",
       "      <td>ultra</td>\n",
       "      <td>52</td>\n",
       "      <td>Краснодар</td>\n",
       "      <td>2018-05-25</td>\n",
       "      <td>2018-12-31</td>\n",
       "      <td>5</td>\n",
       "      <td>1000_78</td>\n",
       "      <td>2018-05-26</td>\n",
       "      <td>11.0</td>\n",
       "    </tr>\n",
       "    <tr>\n",
       "      <td>4</td>\n",
       "      <td>1000</td>\n",
       "      <td>ultra</td>\n",
       "      <td>52</td>\n",
       "      <td>Краснодар</td>\n",
       "      <td>2018-05-25</td>\n",
       "      <td>2018-12-31</td>\n",
       "      <td>5</td>\n",
       "      <td>1000_113</td>\n",
       "      <td>2018-05-26</td>\n",
       "      <td>7.0</td>\n",
       "    </tr>\n",
       "  </tbody>\n",
       "</table>\n",
       "</div>"
      ],
      "text/plain": [
       "   user_id tariff  age       city   reg_date churn_date  months        id  \\\n",
       "0     1000  ultra   52  Краснодар 2018-05-25 2018-12-31       5   1000_11   \n",
       "1     1000  ultra   52  Краснодар 2018-05-25 2018-12-31       5   1000_38   \n",
       "2     1000  ultra   52  Краснодар 2018-05-25 2018-12-31       5   1000_56   \n",
       "3     1000  ultra   52  Краснодар 2018-05-25 2018-12-31       5   1000_78   \n",
       "4     1000  ultra   52  Краснодар 2018-05-25 2018-12-31       5  1000_113   \n",
       "\n",
       "   call_date  duration  \n",
       "0 2018-05-28      19.0  \n",
       "1 2018-05-25       0.0  \n",
       "2 2018-05-30       9.0  \n",
       "3 2018-05-26      11.0  \n",
       "4 2018-05-26       7.0  "
      ]
     },
     "execution_count": 72,
     "metadata": {},
     "output_type": "execute_result"
    }
   ],
   "source": [
    "# <объединение общей таблицы и таблицы calls_df>\n",
    "users_calls = users_table.merge(calls_df, how='left', on=['user_id', 'months'])\n",
    "users_calls.head()"
   ]
  },
  {
   "cell_type": "markdown",
   "metadata": {},
   "source": [
    "Теперь посчитаем для каждого **user_id** и **months** количество звонков и израсходованных минут. Если звонков не было, абонент не пользовался этой услугой, но абонентская плата всё равно списывается."
   ]
  },
  {
   "cell_type": "code",
   "execution_count": 73,
   "metadata": {},
   "outputs": [
    {
     "data": {
      "text/html": [
       "<div>\n",
       "<style scoped>\n",
       "    .dataframe tbody tr th:only-of-type {\n",
       "        vertical-align: middle;\n",
       "    }\n",
       "\n",
       "    .dataframe tbody tr th {\n",
       "        vertical-align: top;\n",
       "    }\n",
       "\n",
       "    .dataframe thead th {\n",
       "        text-align: right;\n",
       "    }\n",
       "</style>\n",
       "<table border=\"1\" class=\"dataframe\">\n",
       "  <thead>\n",
       "    <tr style=\"text-align: right;\">\n",
       "      <th></th>\n",
       "      <th></th>\n",
       "      <th></th>\n",
       "      <th>calls</th>\n",
       "      <th>duration</th>\n",
       "    </tr>\n",
       "    <tr>\n",
       "      <th>user_id</th>\n",
       "      <th>tariff</th>\n",
       "      <th>months</th>\n",
       "      <th></th>\n",
       "      <th></th>\n",
       "    </tr>\n",
       "  </thead>\n",
       "  <tbody>\n",
       "    <tr>\n",
       "      <td rowspan=\"8\" valign=\"top\">1000</td>\n",
       "      <td rowspan=\"8\" valign=\"top\">ultra</td>\n",
       "      <td>5</td>\n",
       "      <td>22</td>\n",
       "      <td>159</td>\n",
       "    </tr>\n",
       "    <tr>\n",
       "      <td>6</td>\n",
       "      <td>43</td>\n",
       "      <td>172</td>\n",
       "    </tr>\n",
       "    <tr>\n",
       "      <td>7</td>\n",
       "      <td>47</td>\n",
       "      <td>340</td>\n",
       "    </tr>\n",
       "    <tr>\n",
       "      <td>8</td>\n",
       "      <td>52</td>\n",
       "      <td>408</td>\n",
       "    </tr>\n",
       "    <tr>\n",
       "      <td>9</td>\n",
       "      <td>58</td>\n",
       "      <td>466</td>\n",
       "    </tr>\n",
       "    <tr>\n",
       "      <td>10</td>\n",
       "      <td>57</td>\n",
       "      <td>350</td>\n",
       "    </tr>\n",
       "    <tr>\n",
       "      <td>11</td>\n",
       "      <td>43</td>\n",
       "      <td>338</td>\n",
       "    </tr>\n",
       "    <tr>\n",
       "      <td>12</td>\n",
       "      <td>46</td>\n",
       "      <td>333</td>\n",
       "    </tr>\n",
       "    <tr>\n",
       "      <td rowspan=\"2\" valign=\"top\">1001</td>\n",
       "      <td rowspan=\"2\" valign=\"top\">smart</td>\n",
       "      <td>11</td>\n",
       "      <td>59</td>\n",
       "      <td>430</td>\n",
       "    </tr>\n",
       "    <tr>\n",
       "      <td>12</td>\n",
       "      <td>63</td>\n",
       "      <td>414</td>\n",
       "    </tr>\n",
       "    <tr>\n",
       "      <td>1002</td>\n",
       "      <td>smart</td>\n",
       "      <td>6</td>\n",
       "      <td>15</td>\n",
       "      <td>117</td>\n",
       "    </tr>\n",
       "  </tbody>\n",
       "</table>\n",
       "</div>"
      ],
      "text/plain": [
       "                       calls  duration\n",
       "user_id tariff months                 \n",
       "1000    ultra  5          22       159\n",
       "               6          43       172\n",
       "               7          47       340\n",
       "               8          52       408\n",
       "               9          58       466\n",
       "               10         57       350\n",
       "               11         43       338\n",
       "               12         46       333\n",
       "1001    smart  11         59       430\n",
       "               12         63       414\n",
       "1002    smart  6          15       117"
      ]
     },
     "execution_count": 73,
     "metadata": {},
     "output_type": "execute_result"
    }
   ],
   "source": [
    "# <сводная таблица для каждого абонента и каждого месяца использования тарифа>\n",
    "users_calls_counts = users_calls.groupby(['user_id', 'tariff', 'months'])['duration'].agg(['count', 'sum'])\n",
    "users_calls_counts.columns = ['calls', 'duration']\n",
    "users_calls_counts['duration'] = users_calls_counts['duration'].astype('int')\n",
    "users_calls_counts.head(11)"
   ]
  },
  {
   "cell_type": "markdown",
   "metadata": {},
   "source": [
    "**Альтернативный вариант - общая сводная таблица**\n",
    "\n",
    "Сначала подготовим таблицы по звонкам, сообщениям и интернет-трафику. Чтобы не влиять на дальнейшие вычисления, созддим новые переменные, которые и будем преобразовывать."
   ]
  },
  {
   "cell_type": "code",
   "execution_count": 74,
   "metadata": {},
   "outputs": [
    {
     "data": {
      "text/html": [
       "<div>\n",
       "<style scoped>\n",
       "    .dataframe tbody tr th:only-of-type {\n",
       "        vertical-align: middle;\n",
       "    }\n",
       "\n",
       "    .dataframe tbody tr th {\n",
       "        vertical-align: top;\n",
       "    }\n",
       "\n",
       "    .dataframe thead th {\n",
       "        text-align: right;\n",
       "    }\n",
       "</style>\n",
       "<table border=\"1\" class=\"dataframe\">\n",
       "  <thead>\n",
       "    <tr style=\"text-align: right;\">\n",
       "      <th></th>\n",
       "      <th>id</th>\n",
       "      <th>call_date</th>\n",
       "      <th>duration</th>\n",
       "      <th>user_id</th>\n",
       "      <th>months</th>\n",
       "    </tr>\n",
       "  </thead>\n",
       "  <tbody>\n",
       "    <tr>\n",
       "      <td>0</td>\n",
       "      <td>1000_0</td>\n",
       "      <td>2018-07-25</td>\n",
       "      <td>0</td>\n",
       "      <td>1000</td>\n",
       "      <td>7</td>\n",
       "    </tr>\n",
       "    <tr>\n",
       "      <td>1</td>\n",
       "      <td>1000_1</td>\n",
       "      <td>2018-08-17</td>\n",
       "      <td>0</td>\n",
       "      <td>1000</td>\n",
       "      <td>8</td>\n",
       "    </tr>\n",
       "    <tr>\n",
       "      <td>2</td>\n",
       "      <td>1000_2</td>\n",
       "      <td>2018-06-11</td>\n",
       "      <td>3</td>\n",
       "      <td>1000</td>\n",
       "      <td>6</td>\n",
       "    </tr>\n",
       "    <tr>\n",
       "      <td>3</td>\n",
       "      <td>1000_3</td>\n",
       "      <td>2018-09-21</td>\n",
       "      <td>14</td>\n",
       "      <td>1000</td>\n",
       "      <td>9</td>\n",
       "    </tr>\n",
       "    <tr>\n",
       "      <td>4</td>\n",
       "      <td>1000_4</td>\n",
       "      <td>2018-12-15</td>\n",
       "      <td>6</td>\n",
       "      <td>1000</td>\n",
       "      <td>12</td>\n",
       "    </tr>\n",
       "  </tbody>\n",
       "</table>\n",
       "</div>"
      ],
      "text/plain": [
       "       id  call_date  duration  user_id  months\n",
       "0  1000_0 2018-07-25         0     1000       7\n",
       "1  1000_1 2018-08-17         0     1000       8\n",
       "2  1000_2 2018-06-11         3     1000       6\n",
       "3  1000_3 2018-09-21        14     1000       9\n",
       "4  1000_4 2018-12-15         6     1000      12"
      ]
     },
     "execution_count": 74,
     "metadata": {},
     "output_type": "execute_result"
    }
   ],
   "source": [
    "# <таблица звонков>\n",
    "calls_df1 = calls_df.copy()\n",
    "calls_df1.head()"
   ]
  },
  {
   "cell_type": "code",
   "execution_count": 75,
   "metadata": {},
   "outputs": [
    {
     "data": {
      "text/html": [
       "<div>\n",
       "<style scoped>\n",
       "    .dataframe tbody tr th:only-of-type {\n",
       "        vertical-align: middle;\n",
       "    }\n",
       "\n",
       "    .dataframe tbody tr th {\n",
       "        vertical-align: top;\n",
       "    }\n",
       "\n",
       "    .dataframe thead th {\n",
       "        text-align: right;\n",
       "    }\n",
       "</style>\n",
       "<table border=\"1\" class=\"dataframe\">\n",
       "  <thead>\n",
       "    <tr style=\"text-align: right;\">\n",
       "      <th></th>\n",
       "      <th></th>\n",
       "      <th>duration</th>\n",
       "      <th>calls</th>\n",
       "    </tr>\n",
       "    <tr>\n",
       "      <th>user_id</th>\n",
       "      <th>months</th>\n",
       "      <th></th>\n",
       "      <th></th>\n",
       "    </tr>\n",
       "  </thead>\n",
       "  <tbody>\n",
       "    <tr>\n",
       "      <td rowspan=\"5\" valign=\"top\">1000</td>\n",
       "      <td>5</td>\n",
       "      <td>159</td>\n",
       "      <td>22</td>\n",
       "    </tr>\n",
       "    <tr>\n",
       "      <td>6</td>\n",
       "      <td>172</td>\n",
       "      <td>43</td>\n",
       "    </tr>\n",
       "    <tr>\n",
       "      <td>7</td>\n",
       "      <td>340</td>\n",
       "      <td>47</td>\n",
       "    </tr>\n",
       "    <tr>\n",
       "      <td>8</td>\n",
       "      <td>408</td>\n",
       "      <td>52</td>\n",
       "    </tr>\n",
       "    <tr>\n",
       "      <td>9</td>\n",
       "      <td>466</td>\n",
       "      <td>58</td>\n",
       "    </tr>\n",
       "  </tbody>\n",
       "</table>\n",
       "</div>"
      ],
      "text/plain": [
       "                duration  calls\n",
       "user_id months                 \n",
       "1000    5            159     22\n",
       "        6            172     43\n",
       "        7            340     47\n",
       "        8            408     52\n",
       "        9            466     58"
      ]
     },
     "execution_count": 75,
     "metadata": {},
     "output_type": "execute_result"
    }
   ],
   "source": [
    "calls_df1 = calls_df1.groupby(['user_id', 'months'])['duration'].agg(['sum', 'count'])\n",
    "calls_df1.columns = ['duration', 'calls']\n",
    "calls_df1.head()"
   ]
  },
  {
   "cell_type": "code",
   "execution_count": 76,
   "metadata": {},
   "outputs": [
    {
     "data": {
      "text/html": [
       "<div>\n",
       "<style scoped>\n",
       "    .dataframe tbody tr th:only-of-type {\n",
       "        vertical-align: middle;\n",
       "    }\n",
       "\n",
       "    .dataframe tbody tr th {\n",
       "        vertical-align: top;\n",
       "    }\n",
       "\n",
       "    .dataframe thead th {\n",
       "        text-align: right;\n",
       "    }\n",
       "</style>\n",
       "<table border=\"1\" class=\"dataframe\">\n",
       "  <thead>\n",
       "    <tr style=\"text-align: right;\">\n",
       "      <th></th>\n",
       "      <th>id</th>\n",
       "      <th>message_date</th>\n",
       "      <th>user_id</th>\n",
       "      <th>months</th>\n",
       "    </tr>\n",
       "  </thead>\n",
       "  <tbody>\n",
       "    <tr>\n",
       "      <td>0</td>\n",
       "      <td>1000_0</td>\n",
       "      <td>2018-06-27</td>\n",
       "      <td>1000</td>\n",
       "      <td>6</td>\n",
       "    </tr>\n",
       "    <tr>\n",
       "      <td>1</td>\n",
       "      <td>1000_1</td>\n",
       "      <td>2018-10-08</td>\n",
       "      <td>1000</td>\n",
       "      <td>10</td>\n",
       "    </tr>\n",
       "    <tr>\n",
       "      <td>2</td>\n",
       "      <td>1000_2</td>\n",
       "      <td>2018-08-04</td>\n",
       "      <td>1000</td>\n",
       "      <td>8</td>\n",
       "    </tr>\n",
       "    <tr>\n",
       "      <td>3</td>\n",
       "      <td>1000_3</td>\n",
       "      <td>2018-06-16</td>\n",
       "      <td>1000</td>\n",
       "      <td>6</td>\n",
       "    </tr>\n",
       "    <tr>\n",
       "      <td>4</td>\n",
       "      <td>1000_4</td>\n",
       "      <td>2018-12-05</td>\n",
       "      <td>1000</td>\n",
       "      <td>12</td>\n",
       "    </tr>\n",
       "  </tbody>\n",
       "</table>\n",
       "</div>"
      ],
      "text/plain": [
       "       id message_date  user_id  months\n",
       "0  1000_0   2018-06-27     1000       6\n",
       "1  1000_1   2018-10-08     1000      10\n",
       "2  1000_2   2018-08-04     1000       8\n",
       "3  1000_3   2018-06-16     1000       6\n",
       "4  1000_4   2018-12-05     1000      12"
      ]
     },
     "execution_count": 76,
     "metadata": {},
     "output_type": "execute_result"
    }
   ],
   "source": [
    "# <таблица сообщений>\n",
    "messages_df1 = messages_df.copy()\n",
    "messages_df1['months'] = messages_df['message_date'].apply(lambda row: row.month) \n",
    "messages_df1.head()"
   ]
  },
  {
   "cell_type": "code",
   "execution_count": 77,
   "metadata": {},
   "outputs": [
    {
     "data": {
      "text/html": [
       "<div>\n",
       "<style scoped>\n",
       "    .dataframe tbody tr th:only-of-type {\n",
       "        vertical-align: middle;\n",
       "    }\n",
       "\n",
       "    .dataframe tbody tr th {\n",
       "        vertical-align: top;\n",
       "    }\n",
       "\n",
       "    .dataframe thead th {\n",
       "        text-align: right;\n",
       "    }\n",
       "</style>\n",
       "<table border=\"1\" class=\"dataframe\">\n",
       "  <thead>\n",
       "    <tr style=\"text-align: right;\">\n",
       "      <th></th>\n",
       "      <th></th>\n",
       "      <th>messages</th>\n",
       "    </tr>\n",
       "    <tr>\n",
       "      <th>user_id</th>\n",
       "      <th>months</th>\n",
       "      <th></th>\n",
       "    </tr>\n",
       "  </thead>\n",
       "  <tbody>\n",
       "    <tr>\n",
       "      <td rowspan=\"5\" valign=\"top\">1000</td>\n",
       "      <td>5</td>\n",
       "      <td>22</td>\n",
       "    </tr>\n",
       "    <tr>\n",
       "      <td>6</td>\n",
       "      <td>60</td>\n",
       "    </tr>\n",
       "    <tr>\n",
       "      <td>7</td>\n",
       "      <td>75</td>\n",
       "    </tr>\n",
       "    <tr>\n",
       "      <td>8</td>\n",
       "      <td>81</td>\n",
       "    </tr>\n",
       "    <tr>\n",
       "      <td>9</td>\n",
       "      <td>57</td>\n",
       "    </tr>\n",
       "  </tbody>\n",
       "</table>\n",
       "</div>"
      ],
      "text/plain": [
       "                messages\n",
       "user_id months          \n",
       "1000    5             22\n",
       "        6             60\n",
       "        7             75\n",
       "        8             81\n",
       "        9             57"
      ]
     },
     "execution_count": 77,
     "metadata": {},
     "output_type": "execute_result"
    }
   ],
   "source": [
    "messages_df1 = pd.DataFrame(messages_df1.groupby(['user_id', 'months'])['id'].count())\n",
    "messages_df1.columns = ['messages']\n",
    "messages_df1.head()"
   ]
  },
  {
   "cell_type": "code",
   "execution_count": 78,
   "metadata": {},
   "outputs": [
    {
     "data": {
      "text/html": [
       "<div>\n",
       "<style scoped>\n",
       "    .dataframe tbody tr th:only-of-type {\n",
       "        vertical-align: middle;\n",
       "    }\n",
       "\n",
       "    .dataframe tbody tr th {\n",
       "        vertical-align: top;\n",
       "    }\n",
       "\n",
       "    .dataframe thead th {\n",
       "        text-align: right;\n",
       "    }\n",
       "</style>\n",
       "<table border=\"1\" class=\"dataframe\">\n",
       "  <thead>\n",
       "    <tr style=\"text-align: right;\">\n",
       "      <th></th>\n",
       "      <th>id</th>\n",
       "      <th>mb_used</th>\n",
       "      <th>session_date</th>\n",
       "      <th>user_id</th>\n",
       "      <th>months</th>\n",
       "    </tr>\n",
       "  </thead>\n",
       "  <tbody>\n",
       "    <tr>\n",
       "      <td>0</td>\n",
       "      <td>1000_0</td>\n",
       "      <td>112.95</td>\n",
       "      <td>2018-11-25</td>\n",
       "      <td>1000</td>\n",
       "      <td>11</td>\n",
       "    </tr>\n",
       "    <tr>\n",
       "      <td>1</td>\n",
       "      <td>1000_1</td>\n",
       "      <td>1052.81</td>\n",
       "      <td>2018-09-07</td>\n",
       "      <td>1000</td>\n",
       "      <td>9</td>\n",
       "    </tr>\n",
       "    <tr>\n",
       "      <td>2</td>\n",
       "      <td>1000_2</td>\n",
       "      <td>1197.26</td>\n",
       "      <td>2018-06-25</td>\n",
       "      <td>1000</td>\n",
       "      <td>6</td>\n",
       "    </tr>\n",
       "    <tr>\n",
       "      <td>3</td>\n",
       "      <td>1000_3</td>\n",
       "      <td>550.27</td>\n",
       "      <td>2018-08-22</td>\n",
       "      <td>1000</td>\n",
       "      <td>8</td>\n",
       "    </tr>\n",
       "    <tr>\n",
       "      <td>4</td>\n",
       "      <td>1000_4</td>\n",
       "      <td>302.56</td>\n",
       "      <td>2018-09-24</td>\n",
       "      <td>1000</td>\n",
       "      <td>9</td>\n",
       "    </tr>\n",
       "  </tbody>\n",
       "</table>\n",
       "</div>"
      ],
      "text/plain": [
       "       id  mb_used session_date  user_id  months\n",
       "0  1000_0   112.95   2018-11-25     1000      11\n",
       "1  1000_1  1052.81   2018-09-07     1000       9\n",
       "2  1000_2  1197.26   2018-06-25     1000       6\n",
       "3  1000_3   550.27   2018-08-22     1000       8\n",
       "4  1000_4   302.56   2018-09-24     1000       9"
      ]
     },
     "execution_count": 78,
     "metadata": {},
     "output_type": "execute_result"
    }
   ],
   "source": [
    "# <таблица интернет-трафика>\n",
    "internet_df1 = internet_df.copy()\n",
    "internet_df1['months'] = internet_df1['session_date'].apply(lambda row: row.month) \n",
    "internet_df1.head()"
   ]
  },
  {
   "cell_type": "code",
   "execution_count": 79,
   "metadata": {},
   "outputs": [
    {
     "data": {
      "text/html": [
       "<div>\n",
       "<style scoped>\n",
       "    .dataframe tbody tr th:only-of-type {\n",
       "        vertical-align: middle;\n",
       "    }\n",
       "\n",
       "    .dataframe tbody tr th {\n",
       "        vertical-align: top;\n",
       "    }\n",
       "\n",
       "    .dataframe thead th {\n",
       "        text-align: right;\n",
       "    }\n",
       "</style>\n",
       "<table border=\"1\" class=\"dataframe\">\n",
       "  <thead>\n",
       "    <tr style=\"text-align: right;\">\n",
       "      <th></th>\n",
       "      <th></th>\n",
       "      <th>mb_used</th>\n",
       "      <th>gb</th>\n",
       "    </tr>\n",
       "    <tr>\n",
       "      <th>user_id</th>\n",
       "      <th>months</th>\n",
       "      <th></th>\n",
       "      <th></th>\n",
       "    </tr>\n",
       "  </thead>\n",
       "  <tbody>\n",
       "    <tr>\n",
       "      <td rowspan=\"5\" valign=\"top\">1000</td>\n",
       "      <td>5</td>\n",
       "      <td>2253.49</td>\n",
       "      <td>3</td>\n",
       "    </tr>\n",
       "    <tr>\n",
       "      <td>6</td>\n",
       "      <td>23233.77</td>\n",
       "      <td>23</td>\n",
       "    </tr>\n",
       "    <tr>\n",
       "      <td>7</td>\n",
       "      <td>14003.64</td>\n",
       "      <td>14</td>\n",
       "    </tr>\n",
       "    <tr>\n",
       "      <td>8</td>\n",
       "      <td>14055.93</td>\n",
       "      <td>14</td>\n",
       "    </tr>\n",
       "    <tr>\n",
       "      <td>9</td>\n",
       "      <td>14568.91</td>\n",
       "      <td>15</td>\n",
       "    </tr>\n",
       "  </tbody>\n",
       "</table>\n",
       "</div>"
      ],
      "text/plain": [
       "                 mb_used  gb\n",
       "user_id months              \n",
       "1000    5        2253.49   3\n",
       "        6       23233.77  23\n",
       "        7       14003.64  14\n",
       "        8       14055.93  14\n",
       "        9       14568.91  15"
      ]
     },
     "execution_count": 79,
     "metadata": {},
     "output_type": "execute_result"
    }
   ],
   "source": [
    "# <сумма Мегабайт и перевод в Гигабайты>\n",
    "internet_df1 = pd.DataFrame(internet_df1.groupby(['user_id', 'months'])['mb_used'].sum())\n",
    "internet_df1['gb'] = internet_df1['mb_used'].apply(lambda x: int(np.ceil(x / 1024)))\n",
    "internet_df1.head()"
   ]
  },
  {
   "cell_type": "code",
   "execution_count": 80,
   "metadata": {},
   "outputs": [
    {
     "data": {
      "text/html": [
       "<div>\n",
       "<style scoped>\n",
       "    .dataframe tbody tr th:only-of-type {\n",
       "        vertical-align: middle;\n",
       "    }\n",
       "\n",
       "    .dataframe tbody tr th {\n",
       "        vertical-align: top;\n",
       "    }\n",
       "\n",
       "    .dataframe thead th {\n",
       "        text-align: right;\n",
       "    }\n",
       "</style>\n",
       "<table border=\"1\" class=\"dataframe\">\n",
       "  <thead>\n",
       "    <tr style=\"text-align: right;\">\n",
       "      <th></th>\n",
       "      <th></th>\n",
       "      <th>tariff</th>\n",
       "      <th>age</th>\n",
       "      <th>city</th>\n",
       "      <th>reg_date</th>\n",
       "      <th>churn_date</th>\n",
       "    </tr>\n",
       "    <tr>\n",
       "      <th>user_id</th>\n",
       "      <th>months</th>\n",
       "      <th></th>\n",
       "      <th></th>\n",
       "      <th></th>\n",
       "      <th></th>\n",
       "      <th></th>\n",
       "    </tr>\n",
       "  </thead>\n",
       "  <tbody>\n",
       "    <tr>\n",
       "      <td rowspan=\"5\" valign=\"top\">1000</td>\n",
       "      <td>5</td>\n",
       "      <td>ultra</td>\n",
       "      <td>52</td>\n",
       "      <td>Краснодар</td>\n",
       "      <td>2018-05-25</td>\n",
       "      <td>2018-12-31</td>\n",
       "    </tr>\n",
       "    <tr>\n",
       "      <td>6</td>\n",
       "      <td>ultra</td>\n",
       "      <td>52</td>\n",
       "      <td>Краснодар</td>\n",
       "      <td>2018-05-25</td>\n",
       "      <td>2018-12-31</td>\n",
       "    </tr>\n",
       "    <tr>\n",
       "      <td>7</td>\n",
       "      <td>ultra</td>\n",
       "      <td>52</td>\n",
       "      <td>Краснодар</td>\n",
       "      <td>2018-05-25</td>\n",
       "      <td>2018-12-31</td>\n",
       "    </tr>\n",
       "    <tr>\n",
       "      <td>8</td>\n",
       "      <td>ultra</td>\n",
       "      <td>52</td>\n",
       "      <td>Краснодар</td>\n",
       "      <td>2018-05-25</td>\n",
       "      <td>2018-12-31</td>\n",
       "    </tr>\n",
       "    <tr>\n",
       "      <td>9</td>\n",
       "      <td>ultra</td>\n",
       "      <td>52</td>\n",
       "      <td>Краснодар</td>\n",
       "      <td>2018-05-25</td>\n",
       "      <td>2018-12-31</td>\n",
       "    </tr>\n",
       "  </tbody>\n",
       "</table>\n",
       "</div>"
      ],
      "text/plain": [
       "               tariff  age       city   reg_date churn_date\n",
       "user_id months                                             \n",
       "1000    5       ultra   52  Краснодар 2018-05-25 2018-12-31\n",
       "        6       ultra   52  Краснодар 2018-05-25 2018-12-31\n",
       "        7       ultra   52  Краснодар 2018-05-25 2018-12-31\n",
       "        8       ultra   52  Краснодар 2018-05-25 2018-12-31\n",
       "        9       ultra   52  Краснодар 2018-05-25 2018-12-31"
      ]
     },
     "execution_count": 80,
     "metadata": {},
     "output_type": "execute_result"
    }
   ],
   "source": [
    "# <таблица с пользователями>\n",
    "users_table1 = users_table.copy()\n",
    "users_table1.set_index(['user_id', 'months'], inplace=True)\n",
    "users_table1.head()"
   ]
  },
  {
   "cell_type": "code",
   "execution_count": 81,
   "metadata": {},
   "outputs": [
    {
     "data": {
      "text/html": [
       "<div>\n",
       "<style scoped>\n",
       "    .dataframe tbody tr th:only-of-type {\n",
       "        vertical-align: middle;\n",
       "    }\n",
       "\n",
       "    .dataframe tbody tr th {\n",
       "        vertical-align: top;\n",
       "    }\n",
       "\n",
       "    .dataframe thead th {\n",
       "        text-align: right;\n",
       "    }\n",
       "</style>\n",
       "<table border=\"1\" class=\"dataframe\">\n",
       "  <thead>\n",
       "    <tr style=\"text-align: right;\">\n",
       "      <th></th>\n",
       "      <th></th>\n",
       "      <th>tariff</th>\n",
       "      <th>city</th>\n",
       "      <th>duration</th>\n",
       "      <th>calls</th>\n",
       "      <th>messages</th>\n",
       "      <th>gb</th>\n",
       "    </tr>\n",
       "    <tr>\n",
       "      <th>user_id</th>\n",
       "      <th>months</th>\n",
       "      <th></th>\n",
       "      <th></th>\n",
       "      <th></th>\n",
       "      <th></th>\n",
       "      <th></th>\n",
       "      <th></th>\n",
       "    </tr>\n",
       "  </thead>\n",
       "  <tbody>\n",
       "    <tr>\n",
       "      <td rowspan=\"5\" valign=\"top\">1000</td>\n",
       "      <td>5</td>\n",
       "      <td>ultra</td>\n",
       "      <td>Краснодар</td>\n",
       "      <td>159.0</td>\n",
       "      <td>22.0</td>\n",
       "      <td>22.0</td>\n",
       "      <td>3.0</td>\n",
       "    </tr>\n",
       "    <tr>\n",
       "      <td>6</td>\n",
       "      <td>ultra</td>\n",
       "      <td>Краснодар</td>\n",
       "      <td>172.0</td>\n",
       "      <td>43.0</td>\n",
       "      <td>60.0</td>\n",
       "      <td>23.0</td>\n",
       "    </tr>\n",
       "    <tr>\n",
       "      <td>7</td>\n",
       "      <td>ultra</td>\n",
       "      <td>Краснодар</td>\n",
       "      <td>340.0</td>\n",
       "      <td>47.0</td>\n",
       "      <td>75.0</td>\n",
       "      <td>14.0</td>\n",
       "    </tr>\n",
       "    <tr>\n",
       "      <td>8</td>\n",
       "      <td>ultra</td>\n",
       "      <td>Краснодар</td>\n",
       "      <td>408.0</td>\n",
       "      <td>52.0</td>\n",
       "      <td>81.0</td>\n",
       "      <td>14.0</td>\n",
       "    </tr>\n",
       "    <tr>\n",
       "      <td>9</td>\n",
       "      <td>ultra</td>\n",
       "      <td>Краснодар</td>\n",
       "      <td>466.0</td>\n",
       "      <td>58.0</td>\n",
       "      <td>57.0</td>\n",
       "      <td>15.0</td>\n",
       "    </tr>\n",
       "    <tr>\n",
       "      <td>...</td>\n",
       "      <td>...</td>\n",
       "      <td>...</td>\n",
       "      <td>...</td>\n",
       "      <td>...</td>\n",
       "      <td>...</td>\n",
       "      <td>...</td>\n",
       "      <td>...</td>\n",
       "    </tr>\n",
       "    <tr>\n",
       "      <td>1498</td>\n",
       "      <td>10</td>\n",
       "      <td>smart</td>\n",
       "      <td>Владикавказ</td>\n",
       "      <td>247.0</td>\n",
       "      <td>41.0</td>\n",
       "      <td>42.0</td>\n",
       "      <td>21.0</td>\n",
       "    </tr>\n",
       "    <tr>\n",
       "      <td rowspan=\"4\" valign=\"top\">1499</td>\n",
       "      <td>9</td>\n",
       "      <td>smart</td>\n",
       "      <td>Пермь</td>\n",
       "      <td>70.0</td>\n",
       "      <td>9.0</td>\n",
       "      <td>11.0</td>\n",
       "      <td>2.0</td>\n",
       "    </tr>\n",
       "    <tr>\n",
       "      <td>10</td>\n",
       "      <td>smart</td>\n",
       "      <td>Пермь</td>\n",
       "      <td>449.0</td>\n",
       "      <td>68.0</td>\n",
       "      <td>48.0</td>\n",
       "      <td>18.0</td>\n",
       "    </tr>\n",
       "    <tr>\n",
       "      <td>11</td>\n",
       "      <td>smart</td>\n",
       "      <td>Пермь</td>\n",
       "      <td>612.0</td>\n",
       "      <td>74.0</td>\n",
       "      <td>59.0</td>\n",
       "      <td>18.0</td>\n",
       "    </tr>\n",
       "    <tr>\n",
       "      <td>12</td>\n",
       "      <td>smart</td>\n",
       "      <td>Пермь</td>\n",
       "      <td>492.0</td>\n",
       "      <td>69.0</td>\n",
       "      <td>66.0</td>\n",
       "      <td>13.0</td>\n",
       "    </tr>\n",
       "  </tbody>\n",
       "</table>\n",
       "<p>3216 rows × 6 columns</p>\n",
       "</div>"
      ],
      "text/plain": [
       "               tariff         city  duration  calls  messages    gb\n",
       "user_id months                                                     \n",
       "1000    5       ultra    Краснодар     159.0   22.0      22.0   3.0\n",
       "        6       ultra    Краснодар     172.0   43.0      60.0  23.0\n",
       "        7       ultra    Краснодар     340.0   47.0      75.0  14.0\n",
       "        8       ultra    Краснодар     408.0   52.0      81.0  14.0\n",
       "        9       ultra    Краснодар     466.0   58.0      57.0  15.0\n",
       "...               ...          ...       ...    ...       ...   ...\n",
       "1498    10      smart  Владикавказ     247.0   41.0      42.0  21.0\n",
       "1499    9       smart        Пермь      70.0    9.0      11.0   2.0\n",
       "        10      smart        Пермь     449.0   68.0      48.0  18.0\n",
       "        11      smart        Пермь     612.0   74.0      59.0  18.0\n",
       "        12      smart        Пермь     492.0   69.0      66.0  13.0\n",
       "\n",
       "[3216 rows x 6 columns]"
      ]
     },
     "execution_count": 81,
     "metadata": {},
     "output_type": "execute_result"
    }
   ],
   "source": [
    "users_table1.join([calls_df1, messages_df1, internet_df1])[['tariff', 'city', 'duration', 'calls', 'messages', 'gb']]"
   ]
  },
  {
   "cell_type": "code",
   "execution_count": 82,
   "metadata": {},
   "outputs": [
    {
     "data": {
      "text/plain": [
       "tariff        0\n",
       "city          0\n",
       "duration     42\n",
       "calls        42\n",
       "messages    499\n",
       "gb           13\n",
       "dtype: int64"
      ]
     },
     "execution_count": 82,
     "metadata": {},
     "output_type": "execute_result"
    }
   ],
   "source": [
    "# <сводная таблица, NA - нулевые значения>\n",
    "total_table = users_table1.join([calls_df1, \n",
    "                                 messages_df1, \n",
    "                                 internet_df1])[['tariff', 'city', 'duration', 'calls', 'messages', 'gb']]\n",
    "total_table.isna().sum()"
   ]
  },
  {
   "cell_type": "code",
   "execution_count": 83,
   "metadata": {},
   "outputs": [
    {
     "data": {
      "text/html": [
       "<div>\n",
       "<style scoped>\n",
       "    .dataframe tbody tr th:only-of-type {\n",
       "        vertical-align: middle;\n",
       "    }\n",
       "\n",
       "    .dataframe tbody tr th {\n",
       "        vertical-align: top;\n",
       "    }\n",
       "\n",
       "    .dataframe thead th {\n",
       "        text-align: right;\n",
       "    }\n",
       "</style>\n",
       "<table border=\"1\" class=\"dataframe\">\n",
       "  <thead>\n",
       "    <tr style=\"text-align: right;\">\n",
       "      <th></th>\n",
       "      <th></th>\n",
       "      <th>tariff</th>\n",
       "      <th>city</th>\n",
       "      <th>duration</th>\n",
       "      <th>calls</th>\n",
       "      <th>messages</th>\n",
       "      <th>gb</th>\n",
       "    </tr>\n",
       "    <tr>\n",
       "      <th>user_id</th>\n",
       "      <th>months</th>\n",
       "      <th></th>\n",
       "      <th></th>\n",
       "      <th></th>\n",
       "      <th></th>\n",
       "      <th></th>\n",
       "      <th></th>\n",
       "    </tr>\n",
       "  </thead>\n",
       "  <tbody>\n",
       "    <tr>\n",
       "      <td rowspan=\"5\" valign=\"top\">1000</td>\n",
       "      <td>5</td>\n",
       "      <td>ultra</td>\n",
       "      <td>Краснодар</td>\n",
       "      <td>159</td>\n",
       "      <td>22</td>\n",
       "      <td>22</td>\n",
       "      <td>3</td>\n",
       "    </tr>\n",
       "    <tr>\n",
       "      <td>6</td>\n",
       "      <td>ultra</td>\n",
       "      <td>Краснодар</td>\n",
       "      <td>172</td>\n",
       "      <td>43</td>\n",
       "      <td>60</td>\n",
       "      <td>23</td>\n",
       "    </tr>\n",
       "    <tr>\n",
       "      <td>7</td>\n",
       "      <td>ultra</td>\n",
       "      <td>Краснодар</td>\n",
       "      <td>340</td>\n",
       "      <td>47</td>\n",
       "      <td>75</td>\n",
       "      <td>14</td>\n",
       "    </tr>\n",
       "    <tr>\n",
       "      <td>8</td>\n",
       "      <td>ultra</td>\n",
       "      <td>Краснодар</td>\n",
       "      <td>408</td>\n",
       "      <td>52</td>\n",
       "      <td>81</td>\n",
       "      <td>14</td>\n",
       "    </tr>\n",
       "    <tr>\n",
       "      <td>9</td>\n",
       "      <td>ultra</td>\n",
       "      <td>Краснодар</td>\n",
       "      <td>466</td>\n",
       "      <td>58</td>\n",
       "      <td>57</td>\n",
       "      <td>15</td>\n",
       "    </tr>\n",
       "  </tbody>\n",
       "</table>\n",
       "</div>"
      ],
      "text/plain": [
       "               tariff       city  duration  calls  messages  gb\n",
       "user_id months                                                 \n",
       "1000    5       ultra  Краснодар       159     22        22   3\n",
       "        6       ultra  Краснодар       172     43        60  23\n",
       "        7       ultra  Краснодар       340     47        75  14\n",
       "        8       ultra  Краснодар       408     52        81  14\n",
       "        9       ultra  Краснодар       466     58        57  15"
      ]
     },
     "execution_count": 83,
     "metadata": {},
     "output_type": "execute_result"
    }
   ],
   "source": [
    "# <заполняем пропуски и переводим в int>\n",
    "total_table.fillna(0, inplace=True)\n",
    "total_table.loc[:, 'duration':] = total_table.loc[:, 'duration':].astype('int')\n",
    "total_table.head()"
   ]
  },
  {
   "cell_type": "markdown",
   "metadata": {},
   "source": [
    "Осталось посчитать выручку. Объединим таблицу **total_table** и **tariffs_df** в таблицу **total_table_tariffs**."
   ]
  },
  {
   "cell_type": "code",
   "execution_count": 84,
   "metadata": {},
   "outputs": [
    {
     "data": {
      "text/html": [
       "<div>\n",
       "<style scoped>\n",
       "    .dataframe tbody tr th:only-of-type {\n",
       "        vertical-align: middle;\n",
       "    }\n",
       "\n",
       "    .dataframe tbody tr th {\n",
       "        vertical-align: top;\n",
       "    }\n",
       "\n",
       "    .dataframe thead th {\n",
       "        text-align: right;\n",
       "    }\n",
       "</style>\n",
       "<table border=\"1\" class=\"dataframe\">\n",
       "  <thead>\n",
       "    <tr style=\"text-align: right;\">\n",
       "      <th></th>\n",
       "      <th>messages_included</th>\n",
       "      <th>gb_per_month_included</th>\n",
       "      <th>minutes_included</th>\n",
       "      <th>rub_monthly_fee</th>\n",
       "      <th>rub_per_gb</th>\n",
       "      <th>rub_per_message</th>\n",
       "      <th>rub_per_minute</th>\n",
       "      <th>tariff</th>\n",
       "    </tr>\n",
       "  </thead>\n",
       "  <tbody>\n",
       "    <tr>\n",
       "      <td>0</td>\n",
       "      <td>50</td>\n",
       "      <td>15</td>\n",
       "      <td>500</td>\n",
       "      <td>550</td>\n",
       "      <td>200</td>\n",
       "      <td>3</td>\n",
       "      <td>3</td>\n",
       "      <td>smart</td>\n",
       "    </tr>\n",
       "    <tr>\n",
       "      <td>1</td>\n",
       "      <td>1000</td>\n",
       "      <td>30</td>\n",
       "      <td>3000</td>\n",
       "      <td>1950</td>\n",
       "      <td>150</td>\n",
       "      <td>1</td>\n",
       "      <td>1</td>\n",
       "      <td>ultra</td>\n",
       "    </tr>\n",
       "  </tbody>\n",
       "</table>\n",
       "</div>"
      ],
      "text/plain": [
       "   messages_included  gb_per_month_included  minutes_included  \\\n",
       "0                 50                     15               500   \n",
       "1               1000                     30              3000   \n",
       "\n",
       "   rub_monthly_fee  rub_per_gb  rub_per_message  rub_per_minute tariff  \n",
       "0              550         200                3               3  smart  \n",
       "1             1950         150                1               1  ultra  "
      ]
     },
     "execution_count": 84,
     "metadata": {},
     "output_type": "execute_result"
    }
   ],
   "source": [
    "tariffs_df1 = tariffs_df.copy()\n",
    "tariffs_df1.columns = ['messages_included', 'gb_per_month_included', 'minutes_included',\n",
    "       'rub_monthly_fee', 'rub_per_gb', 'rub_per_message', 'rub_per_minute',\n",
    "       'tariff']\n",
    "tariffs_df1"
   ]
  },
  {
   "cell_type": "code",
   "execution_count": 85,
   "metadata": {},
   "outputs": [
    {
     "data": {
      "text/html": [
       "<div>\n",
       "<style scoped>\n",
       "    .dataframe tbody tr th:only-of-type {\n",
       "        vertical-align: middle;\n",
       "    }\n",
       "\n",
       "    .dataframe tbody tr th {\n",
       "        vertical-align: top;\n",
       "    }\n",
       "\n",
       "    .dataframe thead th {\n",
       "        text-align: right;\n",
       "    }\n",
       "</style>\n",
       "<table border=\"1\" class=\"dataframe\">\n",
       "  <thead>\n",
       "    <tr style=\"text-align: right;\">\n",
       "      <th></th>\n",
       "      <th></th>\n",
       "      <th>tariff</th>\n",
       "      <th>city</th>\n",
       "      <th>duration</th>\n",
       "      <th>calls</th>\n",
       "      <th>messages</th>\n",
       "      <th>gb</th>\n",
       "      <th>messages_included</th>\n",
       "      <th>gb_per_month_included</th>\n",
       "      <th>minutes_included</th>\n",
       "      <th>rub_monthly_fee</th>\n",
       "      <th>rub_per_gb</th>\n",
       "      <th>rub_per_message</th>\n",
       "      <th>rub_per_minute</th>\n",
       "    </tr>\n",
       "    <tr>\n",
       "      <th>user_id</th>\n",
       "      <th>months</th>\n",
       "      <th></th>\n",
       "      <th></th>\n",
       "      <th></th>\n",
       "      <th></th>\n",
       "      <th></th>\n",
       "      <th></th>\n",
       "      <th></th>\n",
       "      <th></th>\n",
       "      <th></th>\n",
       "      <th></th>\n",
       "      <th></th>\n",
       "      <th></th>\n",
       "      <th></th>\n",
       "    </tr>\n",
       "  </thead>\n",
       "  <tbody>\n",
       "    <tr>\n",
       "      <td rowspan=\"5\" valign=\"top\">1000</td>\n",
       "      <td>5</td>\n",
       "      <td>ultra</td>\n",
       "      <td>Краснодар</td>\n",
       "      <td>159</td>\n",
       "      <td>22</td>\n",
       "      <td>22</td>\n",
       "      <td>3</td>\n",
       "      <td>1000</td>\n",
       "      <td>30</td>\n",
       "      <td>3000</td>\n",
       "      <td>1950</td>\n",
       "      <td>150</td>\n",
       "      <td>1</td>\n",
       "      <td>1</td>\n",
       "    </tr>\n",
       "    <tr>\n",
       "      <td>6</td>\n",
       "      <td>ultra</td>\n",
       "      <td>Краснодар</td>\n",
       "      <td>172</td>\n",
       "      <td>43</td>\n",
       "      <td>60</td>\n",
       "      <td>23</td>\n",
       "      <td>1000</td>\n",
       "      <td>30</td>\n",
       "      <td>3000</td>\n",
       "      <td>1950</td>\n",
       "      <td>150</td>\n",
       "      <td>1</td>\n",
       "      <td>1</td>\n",
       "    </tr>\n",
       "    <tr>\n",
       "      <td>7</td>\n",
       "      <td>ultra</td>\n",
       "      <td>Краснодар</td>\n",
       "      <td>340</td>\n",
       "      <td>47</td>\n",
       "      <td>75</td>\n",
       "      <td>14</td>\n",
       "      <td>1000</td>\n",
       "      <td>30</td>\n",
       "      <td>3000</td>\n",
       "      <td>1950</td>\n",
       "      <td>150</td>\n",
       "      <td>1</td>\n",
       "      <td>1</td>\n",
       "    </tr>\n",
       "    <tr>\n",
       "      <td>8</td>\n",
       "      <td>ultra</td>\n",
       "      <td>Краснодар</td>\n",
       "      <td>408</td>\n",
       "      <td>52</td>\n",
       "      <td>81</td>\n",
       "      <td>14</td>\n",
       "      <td>1000</td>\n",
       "      <td>30</td>\n",
       "      <td>3000</td>\n",
       "      <td>1950</td>\n",
       "      <td>150</td>\n",
       "      <td>1</td>\n",
       "      <td>1</td>\n",
       "    </tr>\n",
       "    <tr>\n",
       "      <td>9</td>\n",
       "      <td>ultra</td>\n",
       "      <td>Краснодар</td>\n",
       "      <td>466</td>\n",
       "      <td>58</td>\n",
       "      <td>57</td>\n",
       "      <td>15</td>\n",
       "      <td>1000</td>\n",
       "      <td>30</td>\n",
       "      <td>3000</td>\n",
       "      <td>1950</td>\n",
       "      <td>150</td>\n",
       "      <td>1</td>\n",
       "      <td>1</td>\n",
       "    </tr>\n",
       "  </tbody>\n",
       "</table>\n",
       "</div>"
      ],
      "text/plain": [
       "               tariff       city  duration  calls  messages  gb  \\\n",
       "user_id months                                                    \n",
       "1000    5       ultra  Краснодар       159     22        22   3   \n",
       "        6       ultra  Краснодар       172     43        60  23   \n",
       "        7       ultra  Краснодар       340     47        75  14   \n",
       "        8       ultra  Краснодар       408     52        81  14   \n",
       "        9       ultra  Краснодар       466     58        57  15   \n",
       "\n",
       "                messages_included  gb_per_month_included  minutes_included  \\\n",
       "user_id months                                                               \n",
       "1000    5                    1000                     30              3000   \n",
       "        6                    1000                     30              3000   \n",
       "        7                    1000                     30              3000   \n",
       "        8                    1000                     30              3000   \n",
       "        9                    1000                     30              3000   \n",
       "\n",
       "                rub_monthly_fee  rub_per_gb  rub_per_message  rub_per_minute  \n",
       "user_id months                                                                \n",
       "1000    5                  1950         150                1               1  \n",
       "        6                  1950         150                1               1  \n",
       "        7                  1950         150                1               1  \n",
       "        8                  1950         150                1               1  \n",
       "        9                  1950         150                1               1  "
      ]
     },
     "execution_count": 85,
     "metadata": {},
     "output_type": "execute_result"
    }
   ],
   "source": [
    "# <таблица с тарифами>\n",
    "total_table_tariffs = total_table.merge(tariffs_df1, how='left', on='tariff')\n",
    "total_table_tariffs.set_index(total_table.index, inplace=True)\n",
    "total_table_tariffs.head()"
   ]
  },
  {
   "cell_type": "code",
   "execution_count": 86,
   "metadata": {},
   "outputs": [],
   "source": [
    "# <функция для proceeds>\n",
    "def proceeds(df):\n",
    "    extra_proceeds = 0\n",
    "    extra_mins = df['duration'] - df['minutes_included']\n",
    "    extra_messages = df['messages'] - df['messages_included']\n",
    "    extra_gb = df['gb'] - df['gb_per_month_included']\n",
    "    if extra_mins > 0:\n",
    "        extra_proceeds += extra_mins * df['rub_per_minute']\n",
    "    if extra_messages > 0:\n",
    "        extra_proceeds += extra_messages * df['rub_per_message']\n",
    "    if extra_gb > 0:\n",
    "        extra_proceeds += extra_gb * df['rub_per_gb']\n",
    "    return extra_proceeds + df['rub_monthly_fee']"
   ]
  },
  {
   "cell_type": "code",
   "execution_count": 87,
   "metadata": {},
   "outputs": [
    {
     "data": {
      "text/html": [
       "<div>\n",
       "<style scoped>\n",
       "    .dataframe tbody tr th:only-of-type {\n",
       "        vertical-align: middle;\n",
       "    }\n",
       "\n",
       "    .dataframe tbody tr th {\n",
       "        vertical-align: top;\n",
       "    }\n",
       "\n",
       "    .dataframe thead th {\n",
       "        text-align: right;\n",
       "    }\n",
       "</style>\n",
       "<table border=\"1\" class=\"dataframe\">\n",
       "  <thead>\n",
       "    <tr style=\"text-align: right;\">\n",
       "      <th></th>\n",
       "      <th></th>\n",
       "      <th>tariff</th>\n",
       "      <th>city</th>\n",
       "      <th>duration</th>\n",
       "      <th>calls</th>\n",
       "      <th>messages</th>\n",
       "      <th>gb</th>\n",
       "      <th>proceeds</th>\n",
       "    </tr>\n",
       "    <tr>\n",
       "      <th>user_id</th>\n",
       "      <th>months</th>\n",
       "      <th></th>\n",
       "      <th></th>\n",
       "      <th></th>\n",
       "      <th></th>\n",
       "      <th></th>\n",
       "      <th></th>\n",
       "      <th></th>\n",
       "    </tr>\n",
       "  </thead>\n",
       "  <tbody>\n",
       "    <tr>\n",
       "      <td rowspan=\"8\" valign=\"top\">1000</td>\n",
       "      <td>5</td>\n",
       "      <td>ultra</td>\n",
       "      <td>Краснодар</td>\n",
       "      <td>159</td>\n",
       "      <td>22</td>\n",
       "      <td>22</td>\n",
       "      <td>3</td>\n",
       "      <td>1950</td>\n",
       "    </tr>\n",
       "    <tr>\n",
       "      <td>6</td>\n",
       "      <td>ultra</td>\n",
       "      <td>Краснодар</td>\n",
       "      <td>172</td>\n",
       "      <td>43</td>\n",
       "      <td>60</td>\n",
       "      <td>23</td>\n",
       "      <td>1950</td>\n",
       "    </tr>\n",
       "    <tr>\n",
       "      <td>7</td>\n",
       "      <td>ultra</td>\n",
       "      <td>Краснодар</td>\n",
       "      <td>340</td>\n",
       "      <td>47</td>\n",
       "      <td>75</td>\n",
       "      <td>14</td>\n",
       "      <td>1950</td>\n",
       "    </tr>\n",
       "    <tr>\n",
       "      <td>8</td>\n",
       "      <td>ultra</td>\n",
       "      <td>Краснодар</td>\n",
       "      <td>408</td>\n",
       "      <td>52</td>\n",
       "      <td>81</td>\n",
       "      <td>14</td>\n",
       "      <td>1950</td>\n",
       "    </tr>\n",
       "    <tr>\n",
       "      <td>9</td>\n",
       "      <td>ultra</td>\n",
       "      <td>Краснодар</td>\n",
       "      <td>466</td>\n",
       "      <td>58</td>\n",
       "      <td>57</td>\n",
       "      <td>15</td>\n",
       "      <td>1950</td>\n",
       "    </tr>\n",
       "    <tr>\n",
       "      <td>10</td>\n",
       "      <td>ultra</td>\n",
       "      <td>Краснодар</td>\n",
       "      <td>350</td>\n",
       "      <td>57</td>\n",
       "      <td>73</td>\n",
       "      <td>15</td>\n",
       "      <td>1950</td>\n",
       "    </tr>\n",
       "    <tr>\n",
       "      <td>11</td>\n",
       "      <td>ultra</td>\n",
       "      <td>Краснодар</td>\n",
       "      <td>338</td>\n",
       "      <td>43</td>\n",
       "      <td>58</td>\n",
       "      <td>15</td>\n",
       "      <td>1950</td>\n",
       "    </tr>\n",
       "    <tr>\n",
       "      <td>12</td>\n",
       "      <td>ultra</td>\n",
       "      <td>Краснодар</td>\n",
       "      <td>333</td>\n",
       "      <td>46</td>\n",
       "      <td>70</td>\n",
       "      <td>10</td>\n",
       "      <td>1950</td>\n",
       "    </tr>\n",
       "    <tr>\n",
       "      <td rowspan=\"2\" valign=\"top\">1001</td>\n",
       "      <td>11</td>\n",
       "      <td>smart</td>\n",
       "      <td>Москва</td>\n",
       "      <td>430</td>\n",
       "      <td>59</td>\n",
       "      <td>0</td>\n",
       "      <td>18</td>\n",
       "      <td>1150</td>\n",
       "    </tr>\n",
       "    <tr>\n",
       "      <td>12</td>\n",
       "      <td>smart</td>\n",
       "      <td>Москва</td>\n",
       "      <td>414</td>\n",
       "      <td>63</td>\n",
       "      <td>0</td>\n",
       "      <td>14</td>\n",
       "      <td>550</td>\n",
       "    </tr>\n",
       "    <tr>\n",
       "      <td>1002</td>\n",
       "      <td>6</td>\n",
       "      <td>smart</td>\n",
       "      <td>Стерлитамак</td>\n",
       "      <td>117</td>\n",
       "      <td>15</td>\n",
       "      <td>4</td>\n",
       "      <td>11</td>\n",
       "      <td>550</td>\n",
       "    </tr>\n",
       "  </tbody>\n",
       "</table>\n",
       "</div>"
      ],
      "text/plain": [
       "               tariff         city  duration  calls  messages  gb  proceeds\n",
       "user_id months                                                             \n",
       "1000    5       ultra    Краснодар       159     22        22   3      1950\n",
       "        6       ultra    Краснодар       172     43        60  23      1950\n",
       "        7       ultra    Краснодар       340     47        75  14      1950\n",
       "        8       ultra    Краснодар       408     52        81  14      1950\n",
       "        9       ultra    Краснодар       466     58        57  15      1950\n",
       "        10      ultra    Краснодар       350     57        73  15      1950\n",
       "        11      ultra    Краснодар       338     43        58  15      1950\n",
       "        12      ultra    Краснодар       333     46        70  10      1950\n",
       "1001    11      smart       Москва       430     59         0  18      1150\n",
       "        12      smart       Москва       414     63         0  14       550\n",
       "1002    6       smart  Стерлитамак       117     15         4  11       550"
      ]
     },
     "execution_count": 87,
     "metadata": {},
     "output_type": "execute_result"
    }
   ],
   "source": [
    "# <общая сводная таблица>\n",
    "total_table['proceeds'] = total_table_tariffs.apply(proceeds, axis=1)\n",
    "total_table.head(11)"
   ]
  },
  {
   "cell_type": "markdown",
   "metadata": {},
   "source": [
    "#### 2.2.2. Количество сообщений по месяцам"
   ]
  },
  {
   "cell_type": "markdown",
   "metadata": {},
   "source": [
    "Добавим в датафрейм с сообщениями (**messages_df**) номера месяцев."
   ]
  },
  {
   "cell_type": "code",
   "execution_count": 88,
   "metadata": {
    "scrolled": true
   },
   "outputs": [
    {
     "data": {
      "text/html": [
       "<div>\n",
       "<style scoped>\n",
       "    .dataframe tbody tr th:only-of-type {\n",
       "        vertical-align: middle;\n",
       "    }\n",
       "\n",
       "    .dataframe tbody tr th {\n",
       "        vertical-align: top;\n",
       "    }\n",
       "\n",
       "    .dataframe thead th {\n",
       "        text-align: right;\n",
       "    }\n",
       "</style>\n",
       "<table border=\"1\" class=\"dataframe\">\n",
       "  <thead>\n",
       "    <tr style=\"text-align: right;\">\n",
       "      <th></th>\n",
       "      <th>id</th>\n",
       "      <th>message_date</th>\n",
       "      <th>user_id</th>\n",
       "      <th>months</th>\n",
       "    </tr>\n",
       "  </thead>\n",
       "  <tbody>\n",
       "    <tr>\n",
       "      <td>0</td>\n",
       "      <td>1000_0</td>\n",
       "      <td>2018-06-27</td>\n",
       "      <td>1000</td>\n",
       "      <td>6</td>\n",
       "    </tr>\n",
       "    <tr>\n",
       "      <td>1</td>\n",
       "      <td>1000_1</td>\n",
       "      <td>2018-10-08</td>\n",
       "      <td>1000</td>\n",
       "      <td>10</td>\n",
       "    </tr>\n",
       "    <tr>\n",
       "      <td>2</td>\n",
       "      <td>1000_2</td>\n",
       "      <td>2018-08-04</td>\n",
       "      <td>1000</td>\n",
       "      <td>8</td>\n",
       "    </tr>\n",
       "    <tr>\n",
       "      <td>3</td>\n",
       "      <td>1000_3</td>\n",
       "      <td>2018-06-16</td>\n",
       "      <td>1000</td>\n",
       "      <td>6</td>\n",
       "    </tr>\n",
       "    <tr>\n",
       "      <td>4</td>\n",
       "      <td>1000_4</td>\n",
       "      <td>2018-12-05</td>\n",
       "      <td>1000</td>\n",
       "      <td>12</td>\n",
       "    </tr>\n",
       "  </tbody>\n",
       "</table>\n",
       "</div>"
      ],
      "text/plain": [
       "       id message_date  user_id  months\n",
       "0  1000_0   2018-06-27     1000       6\n",
       "1  1000_1   2018-10-08     1000      10\n",
       "2  1000_2   2018-08-04     1000       8\n",
       "3  1000_3   2018-06-16     1000       6\n",
       "4  1000_4   2018-12-05     1000      12"
      ]
     },
     "execution_count": 88,
     "metadata": {},
     "output_type": "execute_result"
    }
   ],
   "source": [
    "# <добавление количества месяцев в messages_df>\n",
    "messages_df['months'] = messages_df['message_date'].apply(lambda row: row.month) \n",
    "messages_df.head()"
   ]
  },
  {
   "cell_type": "markdown",
   "metadata": {},
   "source": [
    "Теперь соединим **users_table** и **messages_df** в новый датафрейм **users_messages**."
   ]
  },
  {
   "cell_type": "code",
   "execution_count": 89,
   "metadata": {},
   "outputs": [
    {
     "data": {
      "text/html": [
       "<div>\n",
       "<style scoped>\n",
       "    .dataframe tbody tr th:only-of-type {\n",
       "        vertical-align: middle;\n",
       "    }\n",
       "\n",
       "    .dataframe tbody tr th {\n",
       "        vertical-align: top;\n",
       "    }\n",
       "\n",
       "    .dataframe thead th {\n",
       "        text-align: right;\n",
       "    }\n",
       "</style>\n",
       "<table border=\"1\" class=\"dataframe\">\n",
       "  <thead>\n",
       "    <tr style=\"text-align: right;\">\n",
       "      <th></th>\n",
       "      <th>user_id</th>\n",
       "      <th>tariff</th>\n",
       "      <th>age</th>\n",
       "      <th>city</th>\n",
       "      <th>reg_date</th>\n",
       "      <th>churn_date</th>\n",
       "      <th>months</th>\n",
       "      <th>id</th>\n",
       "      <th>message_date</th>\n",
       "    </tr>\n",
       "  </thead>\n",
       "  <tbody>\n",
       "    <tr>\n",
       "      <td>0</td>\n",
       "      <td>1000</td>\n",
       "      <td>ultra</td>\n",
       "      <td>52</td>\n",
       "      <td>Краснодар</td>\n",
       "      <td>2018-05-25</td>\n",
       "      <td>2018-12-31</td>\n",
       "      <td>5</td>\n",
       "      <td>1000_10</td>\n",
       "      <td>2018-05-30</td>\n",
       "    </tr>\n",
       "    <tr>\n",
       "      <td>1</td>\n",
       "      <td>1000</td>\n",
       "      <td>ultra</td>\n",
       "      <td>52</td>\n",
       "      <td>Краснодар</td>\n",
       "      <td>2018-05-25</td>\n",
       "      <td>2018-12-31</td>\n",
       "      <td>5</td>\n",
       "      <td>1000_19</td>\n",
       "      <td>2018-05-29</td>\n",
       "    </tr>\n",
       "    <tr>\n",
       "      <td>2</td>\n",
       "      <td>1000</td>\n",
       "      <td>ultra</td>\n",
       "      <td>52</td>\n",
       "      <td>Краснодар</td>\n",
       "      <td>2018-05-25</td>\n",
       "      <td>2018-12-31</td>\n",
       "      <td>5</td>\n",
       "      <td>1000_20</td>\n",
       "      <td>2018-05-28</td>\n",
       "    </tr>\n",
       "    <tr>\n",
       "      <td>3</td>\n",
       "      <td>1000</td>\n",
       "      <td>ultra</td>\n",
       "      <td>52</td>\n",
       "      <td>Краснодар</td>\n",
       "      <td>2018-05-25</td>\n",
       "      <td>2018-12-31</td>\n",
       "      <td>5</td>\n",
       "      <td>1000_63</td>\n",
       "      <td>2018-05-28</td>\n",
       "    </tr>\n",
       "    <tr>\n",
       "      <td>4</td>\n",
       "      <td>1000</td>\n",
       "      <td>ultra</td>\n",
       "      <td>52</td>\n",
       "      <td>Краснодар</td>\n",
       "      <td>2018-05-25</td>\n",
       "      <td>2018-12-31</td>\n",
       "      <td>5</td>\n",
       "      <td>1000_96</td>\n",
       "      <td>2018-05-30</td>\n",
       "    </tr>\n",
       "  </tbody>\n",
       "</table>\n",
       "</div>"
      ],
      "text/plain": [
       "   user_id tariff  age       city   reg_date churn_date  months       id  \\\n",
       "0     1000  ultra   52  Краснодар 2018-05-25 2018-12-31       5  1000_10   \n",
       "1     1000  ultra   52  Краснодар 2018-05-25 2018-12-31       5  1000_19   \n",
       "2     1000  ultra   52  Краснодар 2018-05-25 2018-12-31       5  1000_20   \n",
       "3     1000  ultra   52  Краснодар 2018-05-25 2018-12-31       5  1000_63   \n",
       "4     1000  ultra   52  Краснодар 2018-05-25 2018-12-31       5  1000_96   \n",
       "\n",
       "  message_date  \n",
       "0   2018-05-30  \n",
       "1   2018-05-29  \n",
       "2   2018-05-28  \n",
       "3   2018-05-28  \n",
       "4   2018-05-30  "
      ]
     },
     "execution_count": 89,
     "metadata": {},
     "output_type": "execute_result"
    }
   ],
   "source": [
    "# <объединение общей таблицы и таблицы messages_df>\n",
    "users_messages = users_table.merge(messages_df, how='left', on=['user_id', 'months'])\n",
    "users_messages.head()"
   ]
  },
  {
   "cell_type": "markdown",
   "metadata": {},
   "source": [
    "Теперь посчитаем для каждого **user_id** и **months** количество сообщений. Если сообщений не было, абонент не пользовался этой услугой, но абонентская плата всё равно списывается."
   ]
  },
  {
   "cell_type": "code",
   "execution_count": 90,
   "metadata": {
    "scrolled": true
   },
   "outputs": [
    {
     "data": {
      "text/html": [
       "<div>\n",
       "<style scoped>\n",
       "    .dataframe tbody tr th:only-of-type {\n",
       "        vertical-align: middle;\n",
       "    }\n",
       "\n",
       "    .dataframe tbody tr th {\n",
       "        vertical-align: top;\n",
       "    }\n",
       "\n",
       "    .dataframe thead th {\n",
       "        text-align: right;\n",
       "    }\n",
       "</style>\n",
       "<table border=\"1\" class=\"dataframe\">\n",
       "  <thead>\n",
       "    <tr style=\"text-align: right;\">\n",
       "      <th></th>\n",
       "      <th></th>\n",
       "      <th></th>\n",
       "      <th>messages</th>\n",
       "    </tr>\n",
       "    <tr>\n",
       "      <th>user_id</th>\n",
       "      <th>tariff</th>\n",
       "      <th>months</th>\n",
       "      <th></th>\n",
       "    </tr>\n",
       "  </thead>\n",
       "  <tbody>\n",
       "    <tr>\n",
       "      <td rowspan=\"8\" valign=\"top\">1000</td>\n",
       "      <td rowspan=\"8\" valign=\"top\">ultra</td>\n",
       "      <td>5</td>\n",
       "      <td>22</td>\n",
       "    </tr>\n",
       "    <tr>\n",
       "      <td>6</td>\n",
       "      <td>60</td>\n",
       "    </tr>\n",
       "    <tr>\n",
       "      <td>7</td>\n",
       "      <td>75</td>\n",
       "    </tr>\n",
       "    <tr>\n",
       "      <td>8</td>\n",
       "      <td>81</td>\n",
       "    </tr>\n",
       "    <tr>\n",
       "      <td>9</td>\n",
       "      <td>57</td>\n",
       "    </tr>\n",
       "    <tr>\n",
       "      <td>10</td>\n",
       "      <td>73</td>\n",
       "    </tr>\n",
       "    <tr>\n",
       "      <td>11</td>\n",
       "      <td>58</td>\n",
       "    </tr>\n",
       "    <tr>\n",
       "      <td>12</td>\n",
       "      <td>70</td>\n",
       "    </tr>\n",
       "    <tr>\n",
       "      <td rowspan=\"2\" valign=\"top\">1001</td>\n",
       "      <td rowspan=\"2\" valign=\"top\">smart</td>\n",
       "      <td>11</td>\n",
       "      <td>0</td>\n",
       "    </tr>\n",
       "    <tr>\n",
       "      <td>12</td>\n",
       "      <td>0</td>\n",
       "    </tr>\n",
       "    <tr>\n",
       "      <td>1002</td>\n",
       "      <td>smart</td>\n",
       "      <td>6</td>\n",
       "      <td>4</td>\n",
       "    </tr>\n",
       "  </tbody>\n",
       "</table>\n",
       "</div>"
      ],
      "text/plain": [
       "                       messages\n",
       "user_id tariff months          \n",
       "1000    ultra  5             22\n",
       "               6             60\n",
       "               7             75\n",
       "               8             81\n",
       "               9             57\n",
       "               10            73\n",
       "               11            58\n",
       "               12            70\n",
       "1001    smart  11             0\n",
       "               12             0\n",
       "1002    smart  6              4"
      ]
     },
     "execution_count": 90,
     "metadata": {},
     "output_type": "execute_result"
    }
   ],
   "source": [
    "# <сводная таблица для каждого абонента и каждого месяца использования тарифа>\n",
    "users_messages_counts = pd.DataFrame(users_messages.groupby(['user_id', 'tariff', 'months'])['id'].count())\n",
    "users_messages_counts.columns = ['messages']\n",
    "users_messages_counts.head(11)"
   ]
  },
  {
   "cell_type": "markdown",
   "metadata": {},
   "source": [
    "#### 2.2.3. Объем интернет-трафика по месяцам"
   ]
  },
  {
   "cell_type": "markdown",
   "metadata": {},
   "source": [
    "Добавим в датафрейм с интернет-трафиком (**internet_df**) номера месяцев."
   ]
  },
  {
   "cell_type": "code",
   "execution_count": 91,
   "metadata": {
    "scrolled": true
   },
   "outputs": [
    {
     "data": {
      "text/html": [
       "<div>\n",
       "<style scoped>\n",
       "    .dataframe tbody tr th:only-of-type {\n",
       "        vertical-align: middle;\n",
       "    }\n",
       "\n",
       "    .dataframe tbody tr th {\n",
       "        vertical-align: top;\n",
       "    }\n",
       "\n",
       "    .dataframe thead th {\n",
       "        text-align: right;\n",
       "    }\n",
       "</style>\n",
       "<table border=\"1\" class=\"dataframe\">\n",
       "  <thead>\n",
       "    <tr style=\"text-align: right;\">\n",
       "      <th></th>\n",
       "      <th>id</th>\n",
       "      <th>mb_used</th>\n",
       "      <th>session_date</th>\n",
       "      <th>user_id</th>\n",
       "      <th>months</th>\n",
       "    </tr>\n",
       "  </thead>\n",
       "  <tbody>\n",
       "    <tr>\n",
       "      <td>0</td>\n",
       "      <td>1000_0</td>\n",
       "      <td>112.95</td>\n",
       "      <td>2018-11-25</td>\n",
       "      <td>1000</td>\n",
       "      <td>11</td>\n",
       "    </tr>\n",
       "    <tr>\n",
       "      <td>1</td>\n",
       "      <td>1000_1</td>\n",
       "      <td>1052.81</td>\n",
       "      <td>2018-09-07</td>\n",
       "      <td>1000</td>\n",
       "      <td>9</td>\n",
       "    </tr>\n",
       "    <tr>\n",
       "      <td>2</td>\n",
       "      <td>1000_2</td>\n",
       "      <td>1197.26</td>\n",
       "      <td>2018-06-25</td>\n",
       "      <td>1000</td>\n",
       "      <td>6</td>\n",
       "    </tr>\n",
       "    <tr>\n",
       "      <td>3</td>\n",
       "      <td>1000_3</td>\n",
       "      <td>550.27</td>\n",
       "      <td>2018-08-22</td>\n",
       "      <td>1000</td>\n",
       "      <td>8</td>\n",
       "    </tr>\n",
       "    <tr>\n",
       "      <td>4</td>\n",
       "      <td>1000_4</td>\n",
       "      <td>302.56</td>\n",
       "      <td>2018-09-24</td>\n",
       "      <td>1000</td>\n",
       "      <td>9</td>\n",
       "    </tr>\n",
       "  </tbody>\n",
       "</table>\n",
       "</div>"
      ],
      "text/plain": [
       "       id  mb_used session_date  user_id  months\n",
       "0  1000_0   112.95   2018-11-25     1000      11\n",
       "1  1000_1  1052.81   2018-09-07     1000       9\n",
       "2  1000_2  1197.26   2018-06-25     1000       6\n",
       "3  1000_3   550.27   2018-08-22     1000       8\n",
       "4  1000_4   302.56   2018-09-24     1000       9"
      ]
     },
     "execution_count": 91,
     "metadata": {},
     "output_type": "execute_result"
    }
   ],
   "source": [
    "# <добавление количества месяцев в internet_df>\n",
    "internet_df['months'] = internet_df['session_date'].apply(lambda row: row.month) \n",
    "internet_df.head()"
   ]
  },
  {
   "cell_type": "markdown",
   "metadata": {},
   "source": [
    "Теперь соединим **users_table** и **internet_df** в новый датафрейм **users_internet**."
   ]
  },
  {
   "cell_type": "code",
   "execution_count": 92,
   "metadata": {},
   "outputs": [
    {
     "data": {
      "text/html": [
       "<div>\n",
       "<style scoped>\n",
       "    .dataframe tbody tr th:only-of-type {\n",
       "        vertical-align: middle;\n",
       "    }\n",
       "\n",
       "    .dataframe tbody tr th {\n",
       "        vertical-align: top;\n",
       "    }\n",
       "\n",
       "    .dataframe thead th {\n",
       "        text-align: right;\n",
       "    }\n",
       "</style>\n",
       "<table border=\"1\" class=\"dataframe\">\n",
       "  <thead>\n",
       "    <tr style=\"text-align: right;\">\n",
       "      <th></th>\n",
       "      <th>user_id</th>\n",
       "      <th>tariff</th>\n",
       "      <th>age</th>\n",
       "      <th>city</th>\n",
       "      <th>reg_date</th>\n",
       "      <th>churn_date</th>\n",
       "      <th>months</th>\n",
       "      <th>id</th>\n",
       "      <th>mb_used</th>\n",
       "      <th>session_date</th>\n",
       "    </tr>\n",
       "  </thead>\n",
       "  <tbody>\n",
       "    <tr>\n",
       "      <td>0</td>\n",
       "      <td>1000</td>\n",
       "      <td>ultra</td>\n",
       "      <td>52</td>\n",
       "      <td>Краснодар</td>\n",
       "      <td>2018-05-25</td>\n",
       "      <td>2018-12-31</td>\n",
       "      <td>5</td>\n",
       "      <td>1000_51</td>\n",
       "      <td>628.41</td>\n",
       "      <td>2018-05-31</td>\n",
       "    </tr>\n",
       "    <tr>\n",
       "      <td>1</td>\n",
       "      <td>1000</td>\n",
       "      <td>ultra</td>\n",
       "      <td>52</td>\n",
       "      <td>Краснодар</td>\n",
       "      <td>2018-05-25</td>\n",
       "      <td>2018-12-31</td>\n",
       "      <td>5</td>\n",
       "      <td>1000_59</td>\n",
       "      <td>363.20</td>\n",
       "      <td>2018-05-28</td>\n",
       "    </tr>\n",
       "    <tr>\n",
       "      <td>2</td>\n",
       "      <td>1000</td>\n",
       "      <td>ultra</td>\n",
       "      <td>52</td>\n",
       "      <td>Краснодар</td>\n",
       "      <td>2018-05-25</td>\n",
       "      <td>2018-12-31</td>\n",
       "      <td>5</td>\n",
       "      <td>1000_96</td>\n",
       "      <td>544.22</td>\n",
       "      <td>2018-05-28</td>\n",
       "    </tr>\n",
       "    <tr>\n",
       "      <td>3</td>\n",
       "      <td>1000</td>\n",
       "      <td>ultra</td>\n",
       "      <td>52</td>\n",
       "      <td>Краснодар</td>\n",
       "      <td>2018-05-25</td>\n",
       "      <td>2018-12-31</td>\n",
       "      <td>5</td>\n",
       "      <td>1000_103</td>\n",
       "      <td>0.00</td>\n",
       "      <td>2018-05-26</td>\n",
       "    </tr>\n",
       "    <tr>\n",
       "      <td>4</td>\n",
       "      <td>1000</td>\n",
       "      <td>ultra</td>\n",
       "      <td>52</td>\n",
       "      <td>Краснодар</td>\n",
       "      <td>2018-05-25</td>\n",
       "      <td>2018-12-31</td>\n",
       "      <td>5</td>\n",
       "      <td>1000_134</td>\n",
       "      <td>717.66</td>\n",
       "      <td>2018-05-31</td>\n",
       "    </tr>\n",
       "  </tbody>\n",
       "</table>\n",
       "</div>"
      ],
      "text/plain": [
       "   user_id tariff  age       city   reg_date churn_date  months        id  \\\n",
       "0     1000  ultra   52  Краснодар 2018-05-25 2018-12-31       5   1000_51   \n",
       "1     1000  ultra   52  Краснодар 2018-05-25 2018-12-31       5   1000_59   \n",
       "2     1000  ultra   52  Краснодар 2018-05-25 2018-12-31       5   1000_96   \n",
       "3     1000  ultra   52  Краснодар 2018-05-25 2018-12-31       5  1000_103   \n",
       "4     1000  ultra   52  Краснодар 2018-05-25 2018-12-31       5  1000_134   \n",
       "\n",
       "   mb_used session_date  \n",
       "0   628.41   2018-05-31  \n",
       "1   363.20   2018-05-28  \n",
       "2   544.22   2018-05-28  \n",
       "3     0.00   2018-05-26  \n",
       "4   717.66   2018-05-31  "
      ]
     },
     "execution_count": 92,
     "metadata": {},
     "output_type": "execute_result"
    }
   ],
   "source": [
    "# <объединение общей таблицы и таблицы internet_df>\n",
    "users_internet = users_table.merge(internet_df, how='left', on=['user_id', 'months'])\n",
    "users_internet.head()"
   ]
  },
  {
   "cell_type": "markdown",
   "metadata": {},
   "source": [
    "Теперь посчитаем для каждого **user_id** и **months** объем трафика. Если объем нулевой, абонент не пользовался этой услугой, но абонентская плата всё равно списывается."
   ]
  },
  {
   "cell_type": "code",
   "execution_count": 93,
   "metadata": {},
   "outputs": [
    {
     "data": {
      "text/html": [
       "<div>\n",
       "<style scoped>\n",
       "    .dataframe tbody tr th:only-of-type {\n",
       "        vertical-align: middle;\n",
       "    }\n",
       "\n",
       "    .dataframe tbody tr th {\n",
       "        vertical-align: top;\n",
       "    }\n",
       "\n",
       "    .dataframe thead th {\n",
       "        text-align: right;\n",
       "    }\n",
       "</style>\n",
       "<table border=\"1\" class=\"dataframe\">\n",
       "  <thead>\n",
       "    <tr style=\"text-align: right;\">\n",
       "      <th></th>\n",
       "      <th></th>\n",
       "      <th></th>\n",
       "      <th>mb</th>\n",
       "    </tr>\n",
       "    <tr>\n",
       "      <th>user_id</th>\n",
       "      <th>tariff</th>\n",
       "      <th>months</th>\n",
       "      <th></th>\n",
       "    </tr>\n",
       "  </thead>\n",
       "  <tbody>\n",
       "    <tr>\n",
       "      <td rowspan=\"8\" valign=\"top\">1000</td>\n",
       "      <td rowspan=\"8\" valign=\"top\">ultra</td>\n",
       "      <td>5</td>\n",
       "      <td>2253.49</td>\n",
       "    </tr>\n",
       "    <tr>\n",
       "      <td>6</td>\n",
       "      <td>23233.77</td>\n",
       "    </tr>\n",
       "    <tr>\n",
       "      <td>7</td>\n",
       "      <td>14003.64</td>\n",
       "    </tr>\n",
       "    <tr>\n",
       "      <td>8</td>\n",
       "      <td>14055.93</td>\n",
       "    </tr>\n",
       "    <tr>\n",
       "      <td>9</td>\n",
       "      <td>14568.91</td>\n",
       "    </tr>\n",
       "    <tr>\n",
       "      <td>10</td>\n",
       "      <td>14702.49</td>\n",
       "    </tr>\n",
       "    <tr>\n",
       "      <td>11</td>\n",
       "      <td>14756.47</td>\n",
       "    </tr>\n",
       "    <tr>\n",
       "      <td>12</td>\n",
       "      <td>9817.61</td>\n",
       "    </tr>\n",
       "    <tr>\n",
       "      <td rowspan=\"2\" valign=\"top\">1001</td>\n",
       "      <td rowspan=\"2\" valign=\"top\">smart</td>\n",
       "      <td>11</td>\n",
       "      <td>18429.34</td>\n",
       "    </tr>\n",
       "    <tr>\n",
       "      <td>12</td>\n",
       "      <td>14036.66</td>\n",
       "    </tr>\n",
       "    <tr>\n",
       "      <td>1002</td>\n",
       "      <td>smart</td>\n",
       "      <td>6</td>\n",
       "      <td>10856.82</td>\n",
       "    </tr>\n",
       "  </tbody>\n",
       "</table>\n",
       "</div>"
      ],
      "text/plain": [
       "                             mb\n",
       "user_id tariff months          \n",
       "1000    ultra  5        2253.49\n",
       "               6       23233.77\n",
       "               7       14003.64\n",
       "               8       14055.93\n",
       "               9       14568.91\n",
       "               10      14702.49\n",
       "               11      14756.47\n",
       "               12       9817.61\n",
       "1001    smart  11      18429.34\n",
       "               12      14036.66\n",
       "1002    smart  6       10856.82"
      ]
     },
     "execution_count": 93,
     "metadata": {},
     "output_type": "execute_result"
    }
   ],
   "source": [
    "# <сводная таблица для каждого абонента и каждого месяца использования тарифа>\n",
    "users_internet_counts = pd.DataFrame(users_internet.groupby(['user_id', 'tariff', 'months'])['mb_used'].sum())\n",
    "users_internet_counts.columns = ['mb']\n",
    "users_internet_counts.head(11)"
   ]
  },
  {
   "cell_type": "markdown",
   "metadata": {},
   "source": [
    "Для веб-трафика отдельные сессии не считаются. Вместо этого общая сумма за месяц округляется в бо́льшую сторону. Если абонент использует 1025 Мегабайт в этом месяце, с него возьмут плату за 2 Гигабайта."
   ]
  },
  {
   "cell_type": "code",
   "execution_count": 94,
   "metadata": {},
   "outputs": [
    {
     "data": {
      "text/html": [
       "<div>\n",
       "<style scoped>\n",
       "    .dataframe tbody tr th:only-of-type {\n",
       "        vertical-align: middle;\n",
       "    }\n",
       "\n",
       "    .dataframe tbody tr th {\n",
       "        vertical-align: top;\n",
       "    }\n",
       "\n",
       "    .dataframe thead th {\n",
       "        text-align: right;\n",
       "    }\n",
       "</style>\n",
       "<table border=\"1\" class=\"dataframe\">\n",
       "  <thead>\n",
       "    <tr style=\"text-align: right;\">\n",
       "      <th></th>\n",
       "      <th></th>\n",
       "      <th></th>\n",
       "      <th>mb</th>\n",
       "      <th>gb</th>\n",
       "    </tr>\n",
       "    <tr>\n",
       "      <th>user_id</th>\n",
       "      <th>tariff</th>\n",
       "      <th>months</th>\n",
       "      <th></th>\n",
       "      <th></th>\n",
       "    </tr>\n",
       "  </thead>\n",
       "  <tbody>\n",
       "    <tr>\n",
       "      <td rowspan=\"8\" valign=\"top\">1000</td>\n",
       "      <td rowspan=\"8\" valign=\"top\">ultra</td>\n",
       "      <td>5</td>\n",
       "      <td>2253.49</td>\n",
       "      <td>3</td>\n",
       "    </tr>\n",
       "    <tr>\n",
       "      <td>6</td>\n",
       "      <td>23233.77</td>\n",
       "      <td>23</td>\n",
       "    </tr>\n",
       "    <tr>\n",
       "      <td>7</td>\n",
       "      <td>14003.64</td>\n",
       "      <td>14</td>\n",
       "    </tr>\n",
       "    <tr>\n",
       "      <td>8</td>\n",
       "      <td>14055.93</td>\n",
       "      <td>14</td>\n",
       "    </tr>\n",
       "    <tr>\n",
       "      <td>9</td>\n",
       "      <td>14568.91</td>\n",
       "      <td>15</td>\n",
       "    </tr>\n",
       "    <tr>\n",
       "      <td>10</td>\n",
       "      <td>14702.49</td>\n",
       "      <td>15</td>\n",
       "    </tr>\n",
       "    <tr>\n",
       "      <td>11</td>\n",
       "      <td>14756.47</td>\n",
       "      <td>15</td>\n",
       "    </tr>\n",
       "    <tr>\n",
       "      <td>12</td>\n",
       "      <td>9817.61</td>\n",
       "      <td>10</td>\n",
       "    </tr>\n",
       "    <tr>\n",
       "      <td rowspan=\"2\" valign=\"top\">1001</td>\n",
       "      <td rowspan=\"2\" valign=\"top\">smart</td>\n",
       "      <td>11</td>\n",
       "      <td>18429.34</td>\n",
       "      <td>18</td>\n",
       "    </tr>\n",
       "    <tr>\n",
       "      <td>12</td>\n",
       "      <td>14036.66</td>\n",
       "      <td>14</td>\n",
       "    </tr>\n",
       "    <tr>\n",
       "      <td>1002</td>\n",
       "      <td>smart</td>\n",
       "      <td>6</td>\n",
       "      <td>10856.82</td>\n",
       "      <td>11</td>\n",
       "    </tr>\n",
       "  </tbody>\n",
       "</table>\n",
       "</div>"
      ],
      "text/plain": [
       "                             mb  gb\n",
       "user_id tariff months              \n",
       "1000    ultra  5        2253.49   3\n",
       "               6       23233.77  23\n",
       "               7       14003.64  14\n",
       "               8       14055.93  14\n",
       "               9       14568.91  15\n",
       "               10      14702.49  15\n",
       "               11      14756.47  15\n",
       "               12       9817.61  10\n",
       "1001    smart  11      18429.34  18\n",
       "               12      14036.66  14\n",
       "1002    smart  6       10856.82  11"
      ]
     },
     "execution_count": 94,
     "metadata": {},
     "output_type": "execute_result"
    }
   ],
   "source": [
    "# <добавление столбца с гигабайтами>\n",
    "users_internet_counts['gb'] = users_internet_counts['mb'].apply(lambda x: int(np.ceil(x / 1024)))\n",
    "users_internet_counts.head(11)"
   ]
  },
  {
   "cell_type": "markdown",
   "metadata": {},
   "source": [
    "#### 2.2.4. Помесячная выручка с каждого пользователя"
   ]
  },
  {
   "cell_type": "markdown",
   "metadata": {},
   "source": [
    "Для начала объединим таблицы по звонкам (**users_calls_counts**), сообщениям (**users_messages_counts**) и интернету (**users_internet_counts**) в единую таблицу **users_proceeds**."
   ]
  },
  {
   "cell_type": "code",
   "execution_count": 95,
   "metadata": {},
   "outputs": [
    {
     "data": {
      "text/html": [
       "<div>\n",
       "<style scoped>\n",
       "    .dataframe tbody tr th:only-of-type {\n",
       "        vertical-align: middle;\n",
       "    }\n",
       "\n",
       "    .dataframe tbody tr th {\n",
       "        vertical-align: top;\n",
       "    }\n",
       "\n",
       "    .dataframe thead th {\n",
       "        text-align: right;\n",
       "    }\n",
       "</style>\n",
       "<table border=\"1\" class=\"dataframe\">\n",
       "  <thead>\n",
       "    <tr style=\"text-align: right;\">\n",
       "      <th></th>\n",
       "      <th></th>\n",
       "      <th></th>\n",
       "      <th>duration</th>\n",
       "      <th>messages</th>\n",
       "      <th>gb</th>\n",
       "    </tr>\n",
       "    <tr>\n",
       "      <th>user_id</th>\n",
       "      <th>tariff</th>\n",
       "      <th>months</th>\n",
       "      <th></th>\n",
       "      <th></th>\n",
       "      <th></th>\n",
       "    </tr>\n",
       "  </thead>\n",
       "  <tbody>\n",
       "    <tr>\n",
       "      <td rowspan=\"8\" valign=\"top\">1000</td>\n",
       "      <td rowspan=\"8\" valign=\"top\">ultra</td>\n",
       "      <td>5</td>\n",
       "      <td>159</td>\n",
       "      <td>22</td>\n",
       "      <td>3</td>\n",
       "    </tr>\n",
       "    <tr>\n",
       "      <td>6</td>\n",
       "      <td>172</td>\n",
       "      <td>60</td>\n",
       "      <td>23</td>\n",
       "    </tr>\n",
       "    <tr>\n",
       "      <td>7</td>\n",
       "      <td>340</td>\n",
       "      <td>75</td>\n",
       "      <td>14</td>\n",
       "    </tr>\n",
       "    <tr>\n",
       "      <td>8</td>\n",
       "      <td>408</td>\n",
       "      <td>81</td>\n",
       "      <td>14</td>\n",
       "    </tr>\n",
       "    <tr>\n",
       "      <td>9</td>\n",
       "      <td>466</td>\n",
       "      <td>57</td>\n",
       "      <td>15</td>\n",
       "    </tr>\n",
       "    <tr>\n",
       "      <td>10</td>\n",
       "      <td>350</td>\n",
       "      <td>73</td>\n",
       "      <td>15</td>\n",
       "    </tr>\n",
       "    <tr>\n",
       "      <td>11</td>\n",
       "      <td>338</td>\n",
       "      <td>58</td>\n",
       "      <td>15</td>\n",
       "    </tr>\n",
       "    <tr>\n",
       "      <td>12</td>\n",
       "      <td>333</td>\n",
       "      <td>70</td>\n",
       "      <td>10</td>\n",
       "    </tr>\n",
       "    <tr>\n",
       "      <td rowspan=\"2\" valign=\"top\">1001</td>\n",
       "      <td rowspan=\"2\" valign=\"top\">smart</td>\n",
       "      <td>11</td>\n",
       "      <td>430</td>\n",
       "      <td>0</td>\n",
       "      <td>18</td>\n",
       "    </tr>\n",
       "    <tr>\n",
       "      <td>12</td>\n",
       "      <td>414</td>\n",
       "      <td>0</td>\n",
       "      <td>14</td>\n",
       "    </tr>\n",
       "    <tr>\n",
       "      <td>1002</td>\n",
       "      <td>smart</td>\n",
       "      <td>6</td>\n",
       "      <td>117</td>\n",
       "      <td>4</td>\n",
       "      <td>11</td>\n",
       "    </tr>\n",
       "  </tbody>\n",
       "</table>\n",
       "</div>"
      ],
      "text/plain": [
       "                       duration  messages  gb\n",
       "user_id tariff months                        \n",
       "1000    ultra  5            159        22   3\n",
       "               6            172        60  23\n",
       "               7            340        75  14\n",
       "               8            408        81  14\n",
       "               9            466        57  15\n",
       "               10           350        73  15\n",
       "               11           338        58  15\n",
       "               12           333        70  10\n",
       "1001    smart  11           430         0  18\n",
       "               12           414         0  14\n",
       "1002    smart  6            117         4  11"
      ]
     },
     "execution_count": 95,
     "metadata": {},
     "output_type": "execute_result"
    }
   ],
   "source": [
    "# <таблица для подсчета выручки>\n",
    "users_proceeds = users_calls_counts.join([users_messages_counts, users_internet_counts])\n",
    "users_proceeds = users_proceeds[['duration', 'messages', 'gb']]\n",
    "users_proceeds.head(11)"
   ]
  },
  {
   "cell_type": "markdown",
   "metadata": {},
   "source": [
    "Выведем таблицу с тарифами."
   ]
  },
  {
   "cell_type": "code",
   "execution_count": 96,
   "metadata": {},
   "outputs": [
    {
     "data": {
      "text/html": [
       "<div>\n",
       "<style scoped>\n",
       "    .dataframe tbody tr th:only-of-type {\n",
       "        vertical-align: middle;\n",
       "    }\n",
       "\n",
       "    .dataframe tbody tr th {\n",
       "        vertical-align: top;\n",
       "    }\n",
       "\n",
       "    .dataframe thead th {\n",
       "        text-align: right;\n",
       "    }\n",
       "</style>\n",
       "<table border=\"1\" class=\"dataframe\">\n",
       "  <thead>\n",
       "    <tr style=\"text-align: right;\">\n",
       "      <th></th>\n",
       "      <th>messages_included</th>\n",
       "      <th>gb_per_month_included</th>\n",
       "      <th>minutes_included</th>\n",
       "      <th>rub_monthly_fee</th>\n",
       "      <th>rub_per_gb</th>\n",
       "      <th>rub_per_message</th>\n",
       "      <th>rub_per_minute</th>\n",
       "      <th>tariff_name</th>\n",
       "    </tr>\n",
       "  </thead>\n",
       "  <tbody>\n",
       "    <tr>\n",
       "      <td>0</td>\n",
       "      <td>50</td>\n",
       "      <td>15</td>\n",
       "      <td>500</td>\n",
       "      <td>550</td>\n",
       "      <td>200</td>\n",
       "      <td>3</td>\n",
       "      <td>3</td>\n",
       "      <td>smart</td>\n",
       "    </tr>\n",
       "    <tr>\n",
       "      <td>1</td>\n",
       "      <td>1000</td>\n",
       "      <td>30</td>\n",
       "      <td>3000</td>\n",
       "      <td>1950</td>\n",
       "      <td>150</td>\n",
       "      <td>1</td>\n",
       "      <td>1</td>\n",
       "      <td>ultra</td>\n",
       "    </tr>\n",
       "  </tbody>\n",
       "</table>\n",
       "</div>"
      ],
      "text/plain": [
       "   messages_included  gb_per_month_included  minutes_included  \\\n",
       "0                 50                     15               500   \n",
       "1               1000                     30              3000   \n",
       "\n",
       "   rub_monthly_fee  rub_per_gb  rub_per_message  rub_per_minute tariff_name  \n",
       "0              550         200                3               3       smart  \n",
       "1             1950         150                1               1       ultra  "
      ]
     },
     "execution_count": 96,
     "metadata": {},
     "output_type": "execute_result"
    }
   ],
   "source": [
    "# <расценки тарифов smart и ultra>\n",
    "tariffs_df"
   ]
  },
  {
   "cell_type": "markdown",
   "metadata": {},
   "source": [
    "Напишем функцию для подсчета выручки с абонентов."
   ]
  },
  {
   "cell_type": "code",
   "execution_count": 97,
   "metadata": {},
   "outputs": [],
   "source": [
    "# <функция для подсчета выручки для тарифов 'smart' и 'ultra'>\n",
    "def proceeds(df, tariff):\n",
    "    extra_proceeds = 0\n",
    "    if 'smart' == df['tariff']:\n",
    "        temp = tariff.query('tariff_name ==\"smart\"')\n",
    "        extra_mins = int(df['duration'] - temp['minutes_included'])\n",
    "        extra_messages = int(df['messages'] - temp['messages_included'])\n",
    "        extra_gb = int(df['gb'] - temp['gb_per_month_included'])\n",
    "        if extra_mins > 0:\n",
    "            extra_proceeds += extra_mins * temp['rub_per_minute']\n",
    "        if extra_messages > 0:\n",
    "            extra_proceeds += extra_messages * temp['rub_per_message']\n",
    "        if extra_gb > 0:\n",
    "            extra_proceeds += extra_gb * temp['rub_per_gb']\n",
    "        return int(extra_proceeds + temp['rub_monthly_fee'])\n",
    "    elif 'ultra' == df['tariff']:\n",
    "        temp = tariff.query('tariff_name ==\"ultra\"')\n",
    "        extra_mins = int(df['duration'] - temp['minutes_included'])\n",
    "        extra_messages = int(df['messages'] - temp['messages_included'])\n",
    "        extra_gb = int(df['gb'] - temp['gb_per_month_included'])\n",
    "        if extra_mins > 0:\n",
    "            extra_proceeds += extra_mins * temp['rub_per_minute']\n",
    "        if extra_messages > 0:\n",
    "            extra_proceeds += extra_messages * temp['rub_per_message']\n",
    "        if extra_gb > 0:\n",
    "            extra_proceeds += extra_gb * temp['rub_per_gb']\n",
    "        return int(extra_proceeds + temp['rub_monthly_fee'])"
   ]
  },
  {
   "cell_type": "code",
   "execution_count": 98,
   "metadata": {},
   "outputs": [
    {
     "data": {
      "text/html": [
       "<div>\n",
       "<style scoped>\n",
       "    .dataframe tbody tr th:only-of-type {\n",
       "        vertical-align: middle;\n",
       "    }\n",
       "\n",
       "    .dataframe tbody tr th {\n",
       "        vertical-align: top;\n",
       "    }\n",
       "\n",
       "    .dataframe thead th {\n",
       "        text-align: right;\n",
       "    }\n",
       "</style>\n",
       "<table border=\"1\" class=\"dataframe\">\n",
       "  <thead>\n",
       "    <tr style=\"text-align: right;\">\n",
       "      <th></th>\n",
       "      <th></th>\n",
       "      <th>tariff</th>\n",
       "      <th>duration</th>\n",
       "      <th>messages</th>\n",
       "      <th>gb</th>\n",
       "    </tr>\n",
       "    <tr>\n",
       "      <th>user_id</th>\n",
       "      <th>months</th>\n",
       "      <th></th>\n",
       "      <th></th>\n",
       "      <th></th>\n",
       "      <th></th>\n",
       "    </tr>\n",
       "  </thead>\n",
       "  <tbody>\n",
       "    <tr>\n",
       "      <td rowspan=\"5\" valign=\"top\">1000</td>\n",
       "      <td>5</td>\n",
       "      <td>ultra</td>\n",
       "      <td>159</td>\n",
       "      <td>22</td>\n",
       "      <td>3</td>\n",
       "    </tr>\n",
       "    <tr>\n",
       "      <td>6</td>\n",
       "      <td>ultra</td>\n",
       "      <td>172</td>\n",
       "      <td>60</td>\n",
       "      <td>23</td>\n",
       "    </tr>\n",
       "    <tr>\n",
       "      <td>7</td>\n",
       "      <td>ultra</td>\n",
       "      <td>340</td>\n",
       "      <td>75</td>\n",
       "      <td>14</td>\n",
       "    </tr>\n",
       "    <tr>\n",
       "      <td>8</td>\n",
       "      <td>ultra</td>\n",
       "      <td>408</td>\n",
       "      <td>81</td>\n",
       "      <td>14</td>\n",
       "    </tr>\n",
       "    <tr>\n",
       "      <td>9</td>\n",
       "      <td>ultra</td>\n",
       "      <td>466</td>\n",
       "      <td>57</td>\n",
       "      <td>15</td>\n",
       "    </tr>\n",
       "  </tbody>\n",
       "</table>\n",
       "</div>"
      ],
      "text/plain": [
       "               tariff  duration  messages  gb\n",
       "user_id months                               \n",
       "1000    5       ultra       159        22   3\n",
       "        6       ultra       172        60  23\n",
       "        7       ultra       340        75  14\n",
       "        8       ultra       408        81  14\n",
       "        9       ultra       466        57  15"
      ]
     },
     "execution_count": 98,
     "metadata": {},
     "output_type": "execute_result"
    }
   ],
   "source": [
    "# <переводим название тарифа из индекса в столбец>\n",
    "users_proceeds = users_proceeds.reset_index(level='tariff')\n",
    "users_proceeds.head()"
   ]
  },
  {
   "cell_type": "code",
   "execution_count": 99,
   "metadata": {},
   "outputs": [
    {
     "data": {
      "text/html": [
       "<div>\n",
       "<style scoped>\n",
       "    .dataframe tbody tr th:only-of-type {\n",
       "        vertical-align: middle;\n",
       "    }\n",
       "\n",
       "    .dataframe tbody tr th {\n",
       "        vertical-align: top;\n",
       "    }\n",
       "\n",
       "    .dataframe thead th {\n",
       "        text-align: right;\n",
       "    }\n",
       "</style>\n",
       "<table border=\"1\" class=\"dataframe\">\n",
       "  <thead>\n",
       "    <tr style=\"text-align: right;\">\n",
       "      <th></th>\n",
       "      <th></th>\n",
       "      <th>tariff</th>\n",
       "      <th>duration</th>\n",
       "      <th>messages</th>\n",
       "      <th>gb</th>\n",
       "      <th>proceeds</th>\n",
       "    </tr>\n",
       "    <tr>\n",
       "      <th>user_id</th>\n",
       "      <th>months</th>\n",
       "      <th></th>\n",
       "      <th></th>\n",
       "      <th></th>\n",
       "      <th></th>\n",
       "      <th></th>\n",
       "    </tr>\n",
       "  </thead>\n",
       "  <tbody>\n",
       "    <tr>\n",
       "      <td rowspan=\"8\" valign=\"top\">1000</td>\n",
       "      <td>5</td>\n",
       "      <td>ultra</td>\n",
       "      <td>159</td>\n",
       "      <td>22</td>\n",
       "      <td>3</td>\n",
       "      <td>1950</td>\n",
       "    </tr>\n",
       "    <tr>\n",
       "      <td>6</td>\n",
       "      <td>ultra</td>\n",
       "      <td>172</td>\n",
       "      <td>60</td>\n",
       "      <td>23</td>\n",
       "      <td>1950</td>\n",
       "    </tr>\n",
       "    <tr>\n",
       "      <td>7</td>\n",
       "      <td>ultra</td>\n",
       "      <td>340</td>\n",
       "      <td>75</td>\n",
       "      <td>14</td>\n",
       "      <td>1950</td>\n",
       "    </tr>\n",
       "    <tr>\n",
       "      <td>8</td>\n",
       "      <td>ultra</td>\n",
       "      <td>408</td>\n",
       "      <td>81</td>\n",
       "      <td>14</td>\n",
       "      <td>1950</td>\n",
       "    </tr>\n",
       "    <tr>\n",
       "      <td>9</td>\n",
       "      <td>ultra</td>\n",
       "      <td>466</td>\n",
       "      <td>57</td>\n",
       "      <td>15</td>\n",
       "      <td>1950</td>\n",
       "    </tr>\n",
       "    <tr>\n",
       "      <td>10</td>\n",
       "      <td>ultra</td>\n",
       "      <td>350</td>\n",
       "      <td>73</td>\n",
       "      <td>15</td>\n",
       "      <td>1950</td>\n",
       "    </tr>\n",
       "    <tr>\n",
       "      <td>11</td>\n",
       "      <td>ultra</td>\n",
       "      <td>338</td>\n",
       "      <td>58</td>\n",
       "      <td>15</td>\n",
       "      <td>1950</td>\n",
       "    </tr>\n",
       "    <tr>\n",
       "      <td>12</td>\n",
       "      <td>ultra</td>\n",
       "      <td>333</td>\n",
       "      <td>70</td>\n",
       "      <td>10</td>\n",
       "      <td>1950</td>\n",
       "    </tr>\n",
       "    <tr>\n",
       "      <td rowspan=\"2\" valign=\"top\">1001</td>\n",
       "      <td>11</td>\n",
       "      <td>smart</td>\n",
       "      <td>430</td>\n",
       "      <td>0</td>\n",
       "      <td>18</td>\n",
       "      <td>1150</td>\n",
       "    </tr>\n",
       "    <tr>\n",
       "      <td>12</td>\n",
       "      <td>smart</td>\n",
       "      <td>414</td>\n",
       "      <td>0</td>\n",
       "      <td>14</td>\n",
       "      <td>550</td>\n",
       "    </tr>\n",
       "    <tr>\n",
       "      <td>1002</td>\n",
       "      <td>6</td>\n",
       "      <td>smart</td>\n",
       "      <td>117</td>\n",
       "      <td>4</td>\n",
       "      <td>11</td>\n",
       "      <td>550</td>\n",
       "    </tr>\n",
       "  </tbody>\n",
       "</table>\n",
       "</div>"
      ],
      "text/plain": [
       "               tariff  duration  messages  gb  proceeds\n",
       "user_id months                                         \n",
       "1000    5       ultra       159        22   3      1950\n",
       "        6       ultra       172        60  23      1950\n",
       "        7       ultra       340        75  14      1950\n",
       "        8       ultra       408        81  14      1950\n",
       "        9       ultra       466        57  15      1950\n",
       "        10      ultra       350        73  15      1950\n",
       "        11      ultra       338        58  15      1950\n",
       "        12      ultra       333        70  10      1950\n",
       "1001    11      smart       430         0  18      1150\n",
       "        12      smart       414         0  14       550\n",
       "1002    6       smart       117         4  11       550"
      ]
     },
     "execution_count": 99,
     "metadata": {},
     "output_type": "execute_result"
    }
   ],
   "source": [
    "# <добавление столбца с выручкой 'proceeds'>\n",
    "users_proceeds['proceeds'] = users_proceeds.apply(lambda x: proceeds(x, tariffs_df), axis=1)\n",
    "users_proceeds.head(11)"
   ]
  },
  {
   "cell_type": "code",
   "execution_count": 100,
   "metadata": {},
   "outputs": [
    {
     "data": {
      "text/html": [
       "<div>\n",
       "<style scoped>\n",
       "    .dataframe tbody tr th:only-of-type {\n",
       "        vertical-align: middle;\n",
       "    }\n",
       "\n",
       "    .dataframe tbody tr th {\n",
       "        vertical-align: top;\n",
       "    }\n",
       "\n",
       "    .dataframe thead th {\n",
       "        text-align: right;\n",
       "    }\n",
       "</style>\n",
       "<table border=\"1\" class=\"dataframe\">\n",
       "  <thead>\n",
       "    <tr style=\"text-align: right;\">\n",
       "      <th></th>\n",
       "      <th></th>\n",
       "      <th>tariff</th>\n",
       "      <th>city</th>\n",
       "      <th>duration</th>\n",
       "      <th>calls</th>\n",
       "      <th>messages</th>\n",
       "      <th>gb</th>\n",
       "      <th>proceeds</th>\n",
       "    </tr>\n",
       "    <tr>\n",
       "      <th>user_id</th>\n",
       "      <th>months</th>\n",
       "      <th></th>\n",
       "      <th></th>\n",
       "      <th></th>\n",
       "      <th></th>\n",
       "      <th></th>\n",
       "      <th></th>\n",
       "      <th></th>\n",
       "    </tr>\n",
       "  </thead>\n",
       "  <tbody>\n",
       "    <tr>\n",
       "      <td rowspan=\"8\" valign=\"top\">1000</td>\n",
       "      <td>5</td>\n",
       "      <td>ultra</td>\n",
       "      <td>Краснодар</td>\n",
       "      <td>159</td>\n",
       "      <td>22</td>\n",
       "      <td>22</td>\n",
       "      <td>3</td>\n",
       "      <td>1950</td>\n",
       "    </tr>\n",
       "    <tr>\n",
       "      <td>6</td>\n",
       "      <td>ultra</td>\n",
       "      <td>Краснодар</td>\n",
       "      <td>172</td>\n",
       "      <td>43</td>\n",
       "      <td>60</td>\n",
       "      <td>23</td>\n",
       "      <td>1950</td>\n",
       "    </tr>\n",
       "    <tr>\n",
       "      <td>7</td>\n",
       "      <td>ultra</td>\n",
       "      <td>Краснодар</td>\n",
       "      <td>340</td>\n",
       "      <td>47</td>\n",
       "      <td>75</td>\n",
       "      <td>14</td>\n",
       "      <td>1950</td>\n",
       "    </tr>\n",
       "    <tr>\n",
       "      <td>8</td>\n",
       "      <td>ultra</td>\n",
       "      <td>Краснодар</td>\n",
       "      <td>408</td>\n",
       "      <td>52</td>\n",
       "      <td>81</td>\n",
       "      <td>14</td>\n",
       "      <td>1950</td>\n",
       "    </tr>\n",
       "    <tr>\n",
       "      <td>9</td>\n",
       "      <td>ultra</td>\n",
       "      <td>Краснодар</td>\n",
       "      <td>466</td>\n",
       "      <td>58</td>\n",
       "      <td>57</td>\n",
       "      <td>15</td>\n",
       "      <td>1950</td>\n",
       "    </tr>\n",
       "    <tr>\n",
       "      <td>10</td>\n",
       "      <td>ultra</td>\n",
       "      <td>Краснодар</td>\n",
       "      <td>350</td>\n",
       "      <td>57</td>\n",
       "      <td>73</td>\n",
       "      <td>15</td>\n",
       "      <td>1950</td>\n",
       "    </tr>\n",
       "    <tr>\n",
       "      <td>11</td>\n",
       "      <td>ultra</td>\n",
       "      <td>Краснодар</td>\n",
       "      <td>338</td>\n",
       "      <td>43</td>\n",
       "      <td>58</td>\n",
       "      <td>15</td>\n",
       "      <td>1950</td>\n",
       "    </tr>\n",
       "    <tr>\n",
       "      <td>12</td>\n",
       "      <td>ultra</td>\n",
       "      <td>Краснодар</td>\n",
       "      <td>333</td>\n",
       "      <td>46</td>\n",
       "      <td>70</td>\n",
       "      <td>10</td>\n",
       "      <td>1950</td>\n",
       "    </tr>\n",
       "    <tr>\n",
       "      <td rowspan=\"2\" valign=\"top\">1001</td>\n",
       "      <td>11</td>\n",
       "      <td>smart</td>\n",
       "      <td>Москва</td>\n",
       "      <td>430</td>\n",
       "      <td>59</td>\n",
       "      <td>0</td>\n",
       "      <td>18</td>\n",
       "      <td>1150</td>\n",
       "    </tr>\n",
       "    <tr>\n",
       "      <td>12</td>\n",
       "      <td>smart</td>\n",
       "      <td>Москва</td>\n",
       "      <td>414</td>\n",
       "      <td>63</td>\n",
       "      <td>0</td>\n",
       "      <td>14</td>\n",
       "      <td>550</td>\n",
       "    </tr>\n",
       "    <tr>\n",
       "      <td>1002</td>\n",
       "      <td>6</td>\n",
       "      <td>smart</td>\n",
       "      <td>Стерлитамак</td>\n",
       "      <td>117</td>\n",
       "      <td>15</td>\n",
       "      <td>4</td>\n",
       "      <td>11</td>\n",
       "      <td>550</td>\n",
       "    </tr>\n",
       "  </tbody>\n",
       "</table>\n",
       "</div>"
      ],
      "text/plain": [
       "               tariff         city  duration  calls  messages  gb  proceeds\n",
       "user_id months                                                             \n",
       "1000    5       ultra    Краснодар       159     22        22   3      1950\n",
       "        6       ultra    Краснодар       172     43        60  23      1950\n",
       "        7       ultra    Краснодар       340     47        75  14      1950\n",
       "        8       ultra    Краснодар       408     52        81  14      1950\n",
       "        9       ultra    Краснодар       466     58        57  15      1950\n",
       "        10      ultra    Краснодар       350     57        73  15      1950\n",
       "        11      ultra    Краснодар       338     43        58  15      1950\n",
       "        12      ultra    Краснодар       333     46        70  10      1950\n",
       "1001    11      smart       Москва       430     59         0  18      1150\n",
       "        12      smart       Москва       414     63         0  14       550\n",
       "1002    6       smart  Стерлитамак       117     15         4  11       550"
      ]
     },
     "execution_count": 100,
     "metadata": {},
     "output_type": "execute_result"
    }
   ],
   "source": [
    "# <результаты расчета вторым методом>\n",
    "total_table.head(11)"
   ]
  },
  {
   "cell_type": "markdown",
   "metadata": {},
   "source": [
    "### 2.3. Вывод"
   ]
  },
  {
   "cell_type": "markdown",
   "metadata": {},
   "source": [
    "- Была проведена подготовка данных к статистическому анализу: некорректных значений не обнаружено, столбцы с датамы преобразованы в тип *datetime64*;\n",
    "- Также была получена сводная таблица **users_proceeds**, которая содержит *название тарифа*, *длительность звонков*, *количество сообщений*, *объем интернет-трафика в Гигабайтах* и *выручку* **по каждому абоненту и месяцу**."
   ]
  },
  {
   "cell_type": "markdown",
   "metadata": {},
   "source": [
    "## 3. Анализ данных"
   ]
  },
  {
   "cell_type": "markdown",
   "metadata": {},
   "source": [
    "В данном разделе необходимо описать поведение клиентов исходя из выборки.<br><br>\n",
    "Опишем особенность выборки:<br><br>\n",
    "Абонентская плата считается по календарным месяцам. В выборке присутствуют абоненты, которые:\n",
    "- *зарегистрировались в конце месяца*;\n",
    "- *прекратили пользование тарифом в начале месяца*."
   ]
  },
  {
   "cell_type": "markdown",
   "metadata": {},
   "source": [
    "Такие клиенты *в одном или двух месяцах пользовались услугами по тарифу значительно менее 30 дней*. Поэтому *в выборке найдутся низкие значения* в связи с неполным сроком использования услуг."
   ]
  },
  {
   "cell_type": "markdown",
   "metadata": {},
   "source": [
    "### 3.1. Минуты разговора"
   ]
  },
  {
   "cell_type": "code",
   "execution_count": 101,
   "metadata": {},
   "outputs": [
    {
     "data": {
      "text/html": [
       "<div>\n",
       "<style scoped>\n",
       "    .dataframe tbody tr th:only-of-type {\n",
       "        vertical-align: middle;\n",
       "    }\n",
       "\n",
       "    .dataframe tbody tr th {\n",
       "        vertical-align: top;\n",
       "    }\n",
       "\n",
       "    .dataframe thead th {\n",
       "        text-align: right;\n",
       "    }\n",
       "</style>\n",
       "<table border=\"1\" class=\"dataframe\">\n",
       "  <thead>\n",
       "    <tr style=\"text-align: right;\">\n",
       "      <th></th>\n",
       "      <th>min</th>\n",
       "      <th>max</th>\n",
       "      <th>median</th>\n",
       "      <th>mean</th>\n",
       "      <th>variance</th>\n",
       "      <th>standard_dev</th>\n",
       "    </tr>\n",
       "    <tr>\n",
       "      <th>tariff</th>\n",
       "      <th></th>\n",
       "      <th></th>\n",
       "      <th></th>\n",
       "      <th></th>\n",
       "      <th></th>\n",
       "      <th></th>\n",
       "    </tr>\n",
       "  </thead>\n",
       "  <tbody>\n",
       "    <tr>\n",
       "      <td>smart</td>\n",
       "      <td>0</td>\n",
       "      <td>1435</td>\n",
       "      <td>421.5</td>\n",
       "      <td>417.747534</td>\n",
       "      <td>36281.393836</td>\n",
       "      <td>190.476754</td>\n",
       "    </tr>\n",
       "    <tr>\n",
       "      <td>ultra</td>\n",
       "      <td>0</td>\n",
       "      <td>1673</td>\n",
       "      <td>518.0</td>\n",
       "      <td>526.089249</td>\n",
       "      <td>101052.493549</td>\n",
       "      <td>317.887549</td>\n",
       "    </tr>\n",
       "  </tbody>\n",
       "</table>\n",
       "</div>"
      ],
      "text/plain": [
       "        min   max  median        mean       variance  standard_dev\n",
       "tariff                                                            \n",
       "smart     0  1435   421.5  417.747534   36281.393836    190.476754\n",
       "ultra     0  1673   518.0  526.089249  101052.493549    317.887549"
      ]
     },
     "execution_count": 101,
     "metadata": {},
     "output_type": "execute_result"
    }
   ],
   "source": [
    "# <мин, макс, медиана, среднее значение, дисперсия и стандартное отклонение количества минут для тарифов>\n",
    "mins_general = users_proceeds.groupby('tariff')['duration'].agg([min, max, 'median', 'mean', np.var, np.std])\n",
    "# <количество степеней свободы, ddof == 1 по умолчанию>\n",
    "mins_general.columns = ['min', 'max', 'median', 'mean', 'variance', 'standard_dev']\n",
    "mins_general"
   ]
  },
  {
   "cell_type": "markdown",
   "metadata": {},
   "source": [
    "*Медиана* для обоих тарифов несильно отличается от *среднего* (*+4 для тарифа smart* и *-8 для тарифа ultra* при средних значениях *417* и *526*). Это говорит о том, что сильной скошенности в данных нет."
   ]
  },
  {
   "cell_type": "markdown",
   "metadata": {},
   "source": [
    "Подсчитаем разницу между значениями статистик для тарифов smart и ultra."
   ]
  },
  {
   "cell_type": "code",
   "execution_count": 102,
   "metadata": {},
   "outputs": [
    {
     "name": "stdout",
     "output_type": "stream",
     "text": [
      "Разница между значениями для тарифов smart и ultra:\n",
      "\n",
      "min                 0.000000\n",
      "max              -238.000000\n",
      "median            -96.500000\n",
      "mean             -108.341716\n",
      "variance       -64771.099713\n",
      "standard_dev     -127.410795\n",
      "dtype: float64\n"
     ]
    }
   ],
   "source": [
    "print('Разница между значениями для тарифов smart и ultra:\\n\\n', mins_general.iloc[0] - mins_general.iloc[1], sep='')"
   ]
  },
  {
   "cell_type": "markdown",
   "metadata": {},
   "source": [
    "Тариф **ultra** имеет наибольшие максимальное значение, медиану и среднее. Этот тариф включает в себя наибольший лимит минут, поэтому такая картина закономерна.<br><br>\n",
    "Тариф **ultra** также имеет наибольшие значения дисперсии и стандартного отклонения. Это говорит о том, что разброс значений для тарифа **ultra** больше, чем для тарифа **smart**."
   ]
  },
  {
   "cell_type": "markdown",
   "metadata": {},
   "source": [
    "Настроим стиль графиков."
   ]
  },
  {
   "cell_type": "code",
   "execution_count": 103,
   "metadata": {},
   "outputs": [],
   "source": [
    "# <стиль ggplot>\n",
    "plt.style.use('ggplot')"
   ]
  },
  {
   "cell_type": "markdown",
   "metadata": {},
   "source": [
    "Построим гистограммы для обоих тарифов. По горизонтали находится количество минут, по вертикали - количество месяцев с такими значениями. Красная черта - лимит минут для каждого тарифа."
   ]
  },
  {
   "cell_type": "code",
   "execution_count": 104,
   "metadata": {},
   "outputs": [
    {
     "data": {
      "image/png": "[encoded data removed]",
      "text/plain": [
       "<Figure size 1080x720 with 2 Axes>"
      ]
     },
     "metadata": {},
     "output_type": "display_data"
    }
   ],
   "source": [
    "# <гистограммы распределения минут для тарифов>\n",
    "fig1, (ax1, ax2) = plt.subplots(2, 1, figsize=(15,10))\n",
    "plt.subplots_adjust(bottom=0.5, top=1.5)\n",
    "ax1.hist(users_proceeds.query('tariff == \"smart\"')['duration'], bins=50, color='tab:green', alpha=0.6)\n",
    "ax1.set_title('Гистограмма распределений минут для тарифа smart')\n",
    "ax1.set_xlabel('Количество минут')\n",
    "ax1.set_xticks(np.arange(0, 1501, 100))\n",
    "ax1.set_ylabel('Количество месяцев')\n",
    "ax1.axvline(500, color='red')\n",
    "ax2.hist(users_proceeds.query('tariff == \"ultra\"')['duration'], bins=50, color='tab:red', alpha=0.6)\n",
    "ax2.set_title('Гистограмма распределения минут для тарифа ultra')\n",
    "ax2.set_xlabel('Количество минут')\n",
    "ax2.set_ylabel('Количество месяцев')\n",
    "ax2.axvline(3000, color='red')\n",
    "ax2.set_xticks([i for i in range(0, 1701, 100)] + [3000])\n",
    "ax2.tick_params(axis='x', labelrotation=45)"
   ]
  },
  {
   "cell_type": "markdown",
   "metadata": {},
   "source": [
    "Дополнительно наложим одну гистограмму на другую, чтобы сравнить их по доле значений. Пересчет доли значений - в параметре **weights**."
   ]
  },
  {
   "cell_type": "code",
   "execution_count": 105,
   "metadata": {},
   "outputs": [
    {
     "name": "stdout",
     "output_type": "stream",
     "text": [
      "tariff\n",
      "smart    1435\n",
      "ultra    1673\n",
      "Name: duration, dtype: int32\n",
      "Количество bins для тарифа ultra 58.292682926829265\n"
     ]
    }
   ],
   "source": [
    "# <подсчет количества bins для совпадения столбцов по оси x>\n",
    "print(users_proceeds.groupby('tariff')['duration'].max())\n",
    "print('Количество bins для тарифа ultra', 50 * 1673 / 1435) # <округлим до 58>"
   ]
  },
  {
   "cell_type": "code",
   "execution_count": 106,
   "metadata": {},
   "outputs": [
    {
     "data": {
      "text/plain": [
       "Text(0, 0.5, 'Доля значений')"
      ]
     },
     "execution_count": 106,
     "metadata": {},
     "output_type": "execute_result"
    },
    {
     "data": {
      "image/png": "[encoded data removed]",
      "text/plain": [
       "<Figure size 1080x720 with 1 Axes>"
      ]
     },
     "metadata": {},
     "output_type": "display_data"
    }
   ],
   "source": [
    "# <cравнение распределений минут для двух тарифов>\n",
    "plt.subplots(1, 1, figsize=(15,10))\n",
    "plt.title('Сравнение распределений минут для двух тарифов')\n",
    "for i, j, k in [['smart', 'tab:green', 50], ['ultra', 'tab:red', 58]]:\n",
    "    temp = users_proceeds.loc[users_proceeds['tariff'] == i, 'duration']\n",
    "    temp.hist(bins=k, alpha=0.4, color=j, weights=np.ones_like(np.arange(len(temp))) / len(temp))\n",
    "plt.legend(['smart', 'ultra'], fontsize=20)\n",
    "plt.xticks(np.arange(0, 1701, 100))\n",
    "plt.xlabel('Количество минут')\n",
    "plt.ylabel('Доля значений')"
   ]
  },
  {
   "cell_type": "code",
   "execution_count": 107,
   "metadata": {},
   "outputs": [
    {
     "name": "stdout",
     "output_type": "stream",
     "text": [
      "tariff\n",
      "smart    2230\n",
      "ultra     986\n",
      "Name: duration, dtype: int64\n"
     ]
    },
    {
     "data": {
      "text/plain": [
       "1244"
      ]
     },
     "execution_count": 107,
     "metadata": {},
     "output_type": "execute_result"
    }
   ],
   "source": [
    "# <подсчет количества строк тарифов smart и ultra>\n",
    "print(users_proceeds.groupby('tariff')['duration'].count())\n",
    "# <разница в количестве значений выборки>\n",
    "users_proceeds.groupby('tariff')['duration'].count()[0] - users_proceeds.groupby('tariff')['duration'].count()[1]"
   ]
  },
  {
   "cell_type": "code",
   "execution_count": 108,
   "metadata": {},
   "outputs": [
    {
     "name": "stdout",
     "output_type": "stream",
     "text": [
      "Превышение лимита для тарифа smart: 754\n",
      "Доля превышения для тарифа smart: 0.3381165919282511\n",
      "Превышение лимита для тарифа ultra: 0\n"
     ]
    }
   ],
   "source": [
    "# <количество месяцев, в которых был превышен лимит по минутам>\n",
    "print('Превышение лимита для тарифа smart:', \n",
    "      users_proceeds.query('tariff == \"smart\"')['duration'].apply(lambda mins: mins > 500).sum())\n",
    "print('Доля превышения для тарифа smart:', \n",
    "     users_proceeds.query('tariff == \"smart\"')['duration'].apply(lambda mins: mins > 500).sum() / \n",
    "     len(users_proceeds.query('tariff == \"smart\"')))\n",
    "print('Превышение лимита для тарифа ultra:', \n",
    "      users_proceeds.query('tariff == \"ultra\"')['duration'].apply(lambda mins: mins > 3000).sum())"
   ]
  },
  {
   "cell_type": "code",
   "execution_count": 109,
   "metadata": {},
   "outputs": [
    {
     "name": "stdout",
     "output_type": "stream",
     "text": [
      "Ноль минут для тарифа smart: 9 \n",
      "Доля: 0.004035874439461884\n",
      "Ноль минут для тарифа ultra: 39 \n",
      "Доля: 0.03955375253549696\n"
     ]
    }
   ],
   "source": [
    "# <количество месяцев с нулем потраченных минут>\n",
    "temp = users_proceeds.query('tariff == \"smart\"')['duration'].apply(lambda mins: mins == 0).sum()\n",
    "print('Ноль минут для тарифа smart:', temp, \n",
    "      '\\nДоля:', temp / users_proceeds.query('tariff == \"smart\"')['duration'].count())\n",
    "temp = users_proceeds.query('tariff == \"ultra\"')['duration'].apply(lambda mins: mins == 0).sum()\n",
    "print('Ноль минут для тарифа ultra:', temp,\n",
    "     '\\nДоля:', temp / users_proceeds.query('tariff == \"ultra\"')['duration'].count())"
   ]
  },
  {
   "cell_type": "markdown",
   "metadata": {},
   "source": [
    "**Гистограмма распределения минут для тарифа smart.**\n",
    "- Похожа на нормальное распределение с максимальной частотой около **420 минут**;\n",
    "- Примерно в **34%** был превышен лимит минут (**500**);\n",
    "- Около **0.4%** значений *нулевые*;\n",
    "- Величина стандартного отклонения - около **190.5 минут**, присутствует существенный разброс значений."
   ]
  },
  {
   "cell_type": "markdown",
   "metadata": {},
   "source": [
    "**Гистограмма распределения минут для тарифа ultra.**\n",
    "- Если не учитывать **39** нулевых значений, гистограмма похожа на нормальное распределение с максимальной частотой около **520 минут**;\n",
    "- Ни разу не был превышен лимит минут (**3000**);\n",
    "- Около **4%** значений *нулевые*;\n",
    "- Величина стандартного отклонения - около **317.9 минут**, что говорит о большом разбросе значений."
   ]
  },
  {
   "cell_type": "markdown",
   "metadata": {},
   "source": [
    "**Сравнение расходов минут для двух тарифов.**\n",
    "- Среднее значение расходов минут для тарифа **ultra** - **526**, что на **108.3 минут** больше значения для тарифа **smart** (**417.7 минут**); \n",
    "- Гистограмма для тарифа **ultra** имеет наибольший разброс значений (дисперсия - **101 052**, стандартное отклонение - **317.9**) в сравнении с гистограммой для тарифа **smart** (дисперсия - **36 281**, стандартное отклонение - **190.5**);\n",
    "- Для тарифа **smart** в **34%** (**754 строки**) был превышен лимит минут, а для тарифа **ultra** лимит не был превышен ни разу;\n",
    "- На гистограмме тарифа **ultra** выделяются **39** нулевых значений (**4%** от общего числа элементов) и существенно влияют на форму распределения, в то время как на гистограмме тарифа **smart** присутствуют **9** нулевых значений (**0.4%**) и практически не влияют на распределение."
   ]
  },
  {
   "cell_type": "code",
   "execution_count": 110,
   "metadata": {},
   "outputs": [
    {
     "data": {
      "text/plain": [
       "tariff      \n",
       "smart   0.50     421.50\n",
       "        0.75     545.00\n",
       "        0.90     658.10\n",
       "        0.95     726.55\n",
       "ultra   0.50     518.00\n",
       "        0.75     751.75\n",
       "        0.90     932.00\n",
       "        0.95    1088.50\n",
       "Name: duration, dtype: float64"
      ]
     },
     "execution_count": 110,
     "metadata": {},
     "output_type": "execute_result"
    }
   ],
   "source": [
    "# <количество минут, необходимое в 50%, 75%, 90% и 95% случаев>\n",
    "users_proceeds.groupby('tariff')['duration'].quantile([0.5, 0.75, 0.9, 0.95])"
   ]
  },
  {
   "cell_type": "markdown",
   "metadata": {},
   "source": [
    "**Ответ на вопрос:** *Сколько минут разговора требуется пользователям каждого тарифа в месяц?*<br><br>\n",
    "**Тариф smart**:<br>\n",
    "Абонентам тарифа **smart** в среднем необходимо **418 минут** в месяц, по медиане - **421.5 минут**. При этом в **34%** строк был превышен лимит в **500 минут**, что говорит о том, что такого количества минут хватает не всем абонентам. Также в таблице есть **4%** нулевых значений - в эти месяцы абоненты не пользовались звонками.<br><br>\n",
    "В **95%** случаев абонентам тарифа **smart** нужно менее **726 минут** в месяц.<br><br>\n",
    "**Тариф ultra**:<br>\n",
    "Абонентам тарифа **ultra** в среднем необходимо **526 минут** в месяц, по медиане - **518 минут**. Лимит звонков не превысил ни один абонент (**3000**). Судя по распределению (высокое стандартное отклонение - **318 минут**), каждый абонент данного тарифа пользовался тем количеством минут, которое было необходимо, не переживая за перерасход минут.<br><br>\n",
    "В **95%** случаев абонентам тарифа **ultra** нужно менее **1088 минут** в месяц.<br><br>"
   ]
  },
  {
   "cell_type": "markdown",
   "metadata": {},
   "source": [
    "### 3.2. Количество сообщений"
   ]
  },
  {
   "cell_type": "code",
   "execution_count": 111,
   "metadata": {},
   "outputs": [
    {
     "data": {
      "text/html": [
       "<div>\n",
       "<style scoped>\n",
       "    .dataframe tbody tr th:only-of-type {\n",
       "        vertical-align: middle;\n",
       "    }\n",
       "\n",
       "    .dataframe tbody tr th {\n",
       "        vertical-align: top;\n",
       "    }\n",
       "\n",
       "    .dataframe thead th {\n",
       "        text-align: right;\n",
       "    }\n",
       "</style>\n",
       "<table border=\"1\" class=\"dataframe\">\n",
       "  <thead>\n",
       "    <tr style=\"text-align: right;\">\n",
       "      <th></th>\n",
       "      <th>min</th>\n",
       "      <th>max</th>\n",
       "      <th>median</th>\n",
       "      <th>mean</th>\n",
       "      <th>variance</th>\n",
       "      <th>standard_dev</th>\n",
       "    </tr>\n",
       "    <tr>\n",
       "      <th>tariff</th>\n",
       "      <th></th>\n",
       "      <th></th>\n",
       "      <th></th>\n",
       "      <th></th>\n",
       "      <th></th>\n",
       "      <th></th>\n",
       "    </tr>\n",
       "  </thead>\n",
       "  <tbody>\n",
       "    <tr>\n",
       "      <td>smart</td>\n",
       "      <td>0</td>\n",
       "      <td>143</td>\n",
       "      <td>28</td>\n",
       "      <td>33.369058</td>\n",
       "      <td>796.955256</td>\n",
       "      <td>28.230396</td>\n",
       "    </tr>\n",
       "    <tr>\n",
       "      <td>ultra</td>\n",
       "      <td>0</td>\n",
       "      <td>224</td>\n",
       "      <td>38</td>\n",
       "      <td>49.313387</td>\n",
       "      <td>2285.417425</td>\n",
       "      <td>47.806040</td>\n",
       "    </tr>\n",
       "  </tbody>\n",
       "</table>\n",
       "</div>"
      ],
      "text/plain": [
       "        min  max  median       mean     variance  standard_dev\n",
       "tariff                                                        \n",
       "smart     0  143      28  33.369058   796.955256     28.230396\n",
       "ultra     0  224      38  49.313387  2285.417425     47.806040"
      ]
     },
     "execution_count": 111,
     "metadata": {},
     "output_type": "execute_result"
    }
   ],
   "source": [
    "# <мин, макс, медиана, среднее значение, дисперсия и стандартное отклонение количества сообщений для тарифов>\n",
    "messages_general = users_proceeds.groupby('tariff')['messages'].agg([min, max, 'median', 'mean', np.var, np.std])\n",
    "# <количество степеней свободы, ddof == 1 по умолчанию>\n",
    "messages_general.columns = ['min', 'max', 'median', 'mean', 'variance', 'standard_dev']\n",
    "messages_general"
   ]
  },
  {
   "cell_type": "markdown",
   "metadata": {},
   "source": [
    "*Медиана* для обоих тарифов отличается от *среднего* (*-5 для тарифа smart* и *-11 для тарифа ultra* при средних значениях *33* и *49*). Это говорит о том, что набор данных *скошен вправо*."
   ]
  },
  {
   "cell_type": "markdown",
   "metadata": {},
   "source": [
    "Подсчитаем разницу между значениями статистик для тарифов smart и ultra."
   ]
  },
  {
   "cell_type": "code",
   "execution_count": 112,
   "metadata": {},
   "outputs": [
    {
     "name": "stdout",
     "output_type": "stream",
     "text": [
      "Разница между значениями для тарифов smart и ultra:\n",
      "\n",
      "min                0.000000\n",
      "max              -81.000000\n",
      "median           -10.000000\n",
      "mean             -15.944329\n",
      "variance       -1488.462169\n",
      "standard_dev     -19.575644\n",
      "dtype: float64\n"
     ]
    }
   ],
   "source": [
    "print('Разница между значениями для тарифов smart и ultra:\\n\\n', \n",
    "      messages_general.iloc[0] - messages_general.iloc[1], sep='')"
   ]
  },
  {
   "cell_type": "markdown",
   "metadata": {},
   "source": [
    "Тариф **ultra** имеет наибольшие максимальное значение, медиану и среднее. Этот тариф включает в себя наибольший лимит сообщений, поэтому такая картина закономерна.<br><br>\n",
    "Тариф **ultra** также имеет наибольшие значения дисперсии и стандартного отклонения. Это говорит о том, что разброс значений для тарифа **ultra** больше, чем для тарифа **smart**."
   ]
  },
  {
   "cell_type": "markdown",
   "metadata": {},
   "source": [
    "Построим гистограммы для обоих тарифов. По горизонтали находится количество сообщений, по вертикали - количество месяцев с такими значениями. Красная черта - лимит минут для каждого тарифа."
   ]
  },
  {
   "cell_type": "code",
   "execution_count": 113,
   "metadata": {},
   "outputs": [
    {
     "data": {
      "text/plain": [
       "<matplotlib.lines.Line2D at 0x19115ba6408>"
      ]
     },
     "execution_count": 113,
     "metadata": {},
     "output_type": "execute_result"
    },
    {
     "data": {
      "image/png": "[encoded data removed]",
      "text/plain": [
       "<Figure size 1080x720 with 2 Axes>"
      ]
     },
     "metadata": {},
     "output_type": "display_data"
    }
   ],
   "source": [
    "# <гистограммы распределения количества сообщений для тарифов>\n",
    "fig1, (ax1, ax2) = plt.subplots(2, 1, figsize=(15,10))\n",
    "plt.subplots_adjust(bottom=0.5, top=1.5)\n",
    "ax1.hist(users_proceeds.query('tariff == \"smart\"')['messages'], bins=50, color='tab:green', alpha=0.6)\n",
    "ax1.set_title('Гистограмма распределений количества сообщений для тарифа smart')\n",
    "ax1.set_xlabel('Количество сообщений')\n",
    "#ax1.set_xticks(np.arange(0, 1501, 100))\n",
    "ax1.set_ylabel('Количество месяцев')\n",
    "ax1.axvline(50, color='red')\n",
    "ax2.hist(users_proceeds.query('tariff == \"ultra\"')['messages'], bins=50, color='tab:red', alpha=0.6)\n",
    "ax2.set_title('Гистограмма распределения количества сообщений для тарифа ultra')\n",
    "ax2.set_xlabel('Количество сообщений')\n",
    "ax2.set_ylabel('Количество месяцев')\n",
    "ax2.axvline(1000, color='red')\n",
    "#ax2.set_xticks([i for i in range(0, 1701, 100)] + [3000])\n",
    "#ax2.tick_params(axis='x', labelrotation=45)"
   ]
  },
  {
   "cell_type": "markdown",
   "metadata": {},
   "source": [
    "Наблюдаем, что многие абоненты тарифа **smart** превышают лимит сообщений, когда как ни один из пользователей тарифа **ultra** не достиг лимита.<br><br>\n",
    "Также видим, что часто абоненты совсем не пользуются сообщениями.<br>\n",
    "Проведем анализ, не учитывая месяцы с нулем сообщений."
   ]
  },
  {
   "cell_type": "code",
   "execution_count": 114,
   "metadata": {},
   "outputs": [
    {
     "name": "stdout",
     "output_type": "stream",
     "text": [
      "Ноль сообщений для тарифа smart: 308 \n",
      "Доля: 0.13811659192825113\n",
      "Ноль сообщений для тарифа ultra: 191 \n",
      "Доля: 0.19371196754563894\n"
     ]
    }
   ],
   "source": [
    "# <количество месяцев с нулем потраченных сообщений>\n",
    "temp = users_proceeds.query('tariff == \"smart\"')['messages'].apply(lambda mes: mes == 0).sum()\n",
    "print('Ноль сообщений для тарифа smart:', temp, \n",
    "      '\\nДоля:', temp / users_proceeds.query('tariff == \"smart\"')['messages'].count())\n",
    "temp = users_proceeds.query('tariff == \"ultra\"')['messages'].apply(lambda mes: mes == 0).sum()\n",
    "print('Ноль сообщений для тарифа ultra:', temp,\n",
    "     '\\nДоля:', temp / users_proceeds.query('tariff == \"ultra\"')['messages'].count())"
   ]
  },
  {
   "cell_type": "code",
   "execution_count": 115,
   "metadata": {},
   "outputs": [
    {
     "data": {
      "image/png": "[encoded data removed]",
      "text/plain": [
       "<Figure size 1080x720 with 2 Axes>"
      ]
     },
     "metadata": {},
     "output_type": "display_data"
    }
   ],
   "source": [
    "# <гистограммы распределений количества сообщений для тарифов  без нулевых значений>\n",
    "fig1, (ax1, ax2) = plt.subplots(2, 1, figsize=(15,10))\n",
    "plt.subplots_adjust(bottom=0.5, top=1.5)\n",
    "ax1.hist(users_proceeds.query('tariff == \"smart\" and messages != 0')['messages'], bins=50, color='tab:green', alpha=0.6)\n",
    "ax1.set_title('Гистограмма распределения количества сообщений для тарифа smart без нулевых значений')\n",
    "ax1.set_xlabel('Количество сообщений')\n",
    "ax1.set_xticks(np.arange(0, 151, 10))\n",
    "ax1.set_ylabel('Количество месяцев')\n",
    "ax1.axvline(50, color='red')\n",
    "ax2.hist(users_proceeds.query('tariff == \"ultra\" and messages != 0')['messages'], bins=50, color='tab:red', alpha=0.6)\n",
    "ax2.set_title('Гистограмма распределения количества сообщений для тарифа ultra без нулевых значений')\n",
    "ax2.set_xlabel('Количество сообщений')\n",
    "ax2.set_ylabel('Количество месяцев')\n",
    "#ax2.axvline(1000, color='red')\n",
    "ax2.set_xticks([i for i in range(0, 241, 20)]);\n",
    "#ax2.tick_params(axis='x', labelrotation=45)"
   ]
  },
  {
   "cell_type": "markdown",
   "metadata": {},
   "source": [
    "Без нулевых значений обе гистограммы напоминают распределение Пуассона."
   ]
  },
  {
   "cell_type": "markdown",
   "metadata": {},
   "source": [
    "Дополнительно наложим одну гистограмму на другую, чтобы сравнить их по доле значений. Пересчет доли значений - в параметре **weights**."
   ]
  },
  {
   "cell_type": "code",
   "execution_count": 116,
   "metadata": {},
   "outputs": [
    {
     "name": "stdout",
     "output_type": "stream",
     "text": [
      "tariff\n",
      "smart    143\n",
      "ultra    224\n",
      "Name: messages, dtype: int64\n",
      "Количество bins для тарифа ultra 78.32167832167832\n"
     ]
    }
   ],
   "source": [
    "# <подсчет количества bins для совпадения столбцов по оси x>\n",
    "print(users_proceeds.groupby('tariff')['messages'].max())\n",
    "print('Количество bins для тарифа ultra', 50 * 224 / 143) # <округлим до 78>"
   ]
  },
  {
   "cell_type": "code",
   "execution_count": 117,
   "metadata": {},
   "outputs": [
    {
     "data": {
      "text/plain": [
       "Text(0, 0.5, 'Доля значений')"
      ]
     },
     "execution_count": 117,
     "metadata": {},
     "output_type": "execute_result"
    },
    {
     "data": {
      "image/png": "[encoded data removed]",
      "text/plain": [
       "<Figure size 1080x720 with 1 Axes>"
      ]
     },
     "metadata": {},
     "output_type": "display_data"
    }
   ],
   "source": [
    "# <сравнение распределений сообщений для двух тарифов с нулевыми значениями>\n",
    "plt.subplots(1, 1, figsize=(15,10))\n",
    "plt.title('Сравнение распределений сообщений для двух тарифов с нулевыми значениями')\n",
    "for i, j, k in [['smart', 'tab:green', 50], ['ultra', 'tab:red', 78]]:\n",
    "    temp = users_proceeds.loc[users_proceeds['tariff'] == i, 'messages']\n",
    "    temp.hist(bins=k, alpha=0.4, color=j, weights=np.ones_like(np.arange(len(temp))) / len(temp))\n",
    "plt.legend(['smart', 'ultra'], fontsize=20)\n",
    "plt.xticks(np.arange(0, 241, 10))\n",
    "plt.xlabel('Количество сообщений')\n",
    "plt.ylabel('Доля значений')"
   ]
  },
  {
   "cell_type": "code",
   "execution_count": 118,
   "metadata": {},
   "outputs": [
    {
     "data": {
      "text/plain": [
       "Text(0, 0.5, 'Доля значений')"
      ]
     },
     "execution_count": 118,
     "metadata": {},
     "output_type": "execute_result"
    },
    {
     "data": {
      "image/png": "[encoded data removed]",
      "text/plain": [
       "<Figure size 1080x720 with 1 Axes>"
      ]
     },
     "metadata": {},
     "output_type": "display_data"
    }
   ],
   "source": [
    "# <сравнение распределений сообщений для двух тарифов без нулевых значений>\n",
    "plt.subplots(1, 1, figsize=(15,10))\n",
    "plt.title('Сравнение распределений сообщений для двух тарифов без нулевых значений')\n",
    "for i, j, k in [['smart', 'tab:green', 50], ['ultra', 'tab:red', 78]]:\n",
    "    temp = users_proceeds.loc[(users_proceeds['tariff'] == i) & (users_proceeds['messages'] != 0), 'messages']\n",
    "    temp.hist(bins=k, alpha=0.4, color=j, weights=np.ones_like(np.arange(len(temp))) / len(temp))\n",
    "plt.legend(['smart', 'ultra'], fontsize=20)\n",
    "plt.xticks(np.arange(0, 241, 10))\n",
    "plt.xlabel('Количество сообщений')\n",
    "plt.ylabel('Доля значений')"
   ]
  },
  {
   "cell_type": "code",
   "execution_count": 119,
   "metadata": {},
   "outputs": [
    {
     "name": "stdout",
     "output_type": "stream",
     "text": [
      "Превышение лимита для тарифа smart: 564\n",
      "Доля превышения для тарифа smart: 0.25291479820627805\n",
      "Превышение лимита для тарифа ultra: 0\n"
     ]
    }
   ],
   "source": [
    "# <количество месяцев, в которых был превышен лимит по сообщениям>\n",
    "print('Превышение лимита для тарифа smart:', \n",
    "      users_proceeds.query('tariff == \"smart\"')['messages'].apply(lambda mes: mes > 50).sum())\n",
    "print('Доля превышения для тарифа smart:', \n",
    "     users_proceeds.query('tariff == \"smart\"')['messages'].apply(lambda mes: mes > 50).sum() / \n",
    "     len(users_proceeds.query('tariff == \"smart\"')))\n",
    "print('Превышение лимита для тарифа ultra:', \n",
    "      users_proceeds.query('tariff == \"ultra\"')['messages'].apply(lambda mes: mes > 1000).sum())"
   ]
  },
  {
   "cell_type": "markdown",
   "metadata": {},
   "source": [
    "**Гистограмма распределения количества сообщений для тарифа smart.**\n",
    "- Похожа на распределение Пуассона с максимальной частотой около значения **15 сообщений** (если не учитывать нули);\n",
    "- Примерно в **25%** был превышен лимит сообщений (**50**);\n",
    "- Около **14%** значений *нулевые* (**308**);\n",
    "- Величина стандартного отклонения - около **28.2 сообщений**, присутствует существенный разброс значений."
   ]
  },
  {
   "cell_type": "markdown",
   "metadata": {},
   "source": [
    "**Гистограмма распределения количества сообщений для тарифа ultra.**\n",
    "- Похожа на распределение Пуассона с максимальной частотой около значения **5 сообщений** (если не учитывать нули);\n",
    "- Ни разу не был превышен лимит сообщений (**1000**);\n",
    "- Около **19%** значений *нулевые* (**191**);\n",
    "- Величина стандартного отклонения - около **47.8 сообщений**, что говорит о большом разбросе значений."
   ]
  },
  {
   "cell_type": "markdown",
   "metadata": {},
   "source": [
    "**Сравнение расходов сообщений для двух тарифов.**\n",
    "- Среднее значение расходов сообщений для тарифа **ultra** - **49**, что на **16 сообщений** больше значения для тарифа **smart** (**33**); \n",
    "- Гистограмма для тарифа **ultra** имеет наибольший разброс значений (дисперсия - **2 285.4**, стандартное отклонение - **47.8**) в сравнении с гистограммой для тарифа **smart** (дисперсия - **797**, стандартное отклонение - **28.2**);\n",
    "- Для тарифа **smart** в **25%** (**564 строки**) был превышен лимит сообщений, а для тарифа **ultra** лимит не был превышен ни разу;\n",
    "- В обоих тарифах присутствует большое количество нулевых значения (месяцы, когда не пользовались сообщениями): **14% (308)** для тарифа **smart** и **19% (191)** для тарифа **ultra**. Нулевые значения существенно влияют на форму распределения обоих тарифов."
   ]
  },
  {
   "cell_type": "code",
   "execution_count": 120,
   "metadata": {},
   "outputs": [
    {
     "data": {
      "text/plain": [
       "tariff      \n",
       "smart   0.50     28.00\n",
       "        0.75     51.00\n",
       "        0.90     73.00\n",
       "        0.95     88.00\n",
       "ultra   0.50     38.00\n",
       "        0.75     78.75\n",
       "        0.90    122.50\n",
       "        0.95    145.00\n",
       "Name: messages, dtype: float64"
      ]
     },
     "execution_count": 120,
     "metadata": {},
     "output_type": "execute_result"
    }
   ],
   "source": [
    "# <количество сообщений, необходимое в 50%, 75%, 90% и 95% случаев>\n",
    "users_proceeds.groupby('tariff')['messages'].quantile([0.5, 0.75, 0.9, 0.95])"
   ]
  },
  {
   "cell_type": "markdown",
   "metadata": {},
   "source": [
    "**Ответ на вопрос:** *Сколько сообщений требуется пользователям каждого тарифа в месяц?*<br><br>\n",
    "**Тариф smart**:<br>\n",
    "Абонентам тарифа **smart** в среднем необходимо **33 сообщения** в месяц, по медиане - **28 сообщений**. При этом в **25%** строк был превышен лимит в **50 сообщений**, что говорит о том, что такого количества сообщений хватает не всем абонентам. Также в таблице есть **14%** нулевых значений - в эти месяцы абоненты не пользовались сообщениями.<br><br>\n",
    "В **95%** случаев абонентам тарифа **smart** нужно менее **88 сообщений** в месяц.<br><br>\n",
    "**Тариф ultra**:<br>\n",
    "Абонентам тарифа **ultra** в среднем необходимо **49 сообщений** в месяц, по медиане - **38 сообщений**. Лимит сообщений не превысил ни один абонент (**1000**). Судя по распределению (высокое стандартное отклонение - **48 сообщений**), каждый абонент данного тарифа пользовался тем объемом услуг, которое было необходимо, не переживая за перерасход сообщений.<br><br>\n",
    "В **95%** случаев абонентам тарифа **ultra** нужно менее **145 сообщений** в месяц."
   ]
  },
  {
   "cell_type": "markdown",
   "metadata": {},
   "source": [
    "### 3.3. Объем интернет-трафика"
   ]
  },
  {
   "cell_type": "code",
   "execution_count": 121,
   "metadata": {},
   "outputs": [
    {
     "data": {
      "text/html": [
       "<div>\n",
       "<style scoped>\n",
       "    .dataframe tbody tr th:only-of-type {\n",
       "        vertical-align: middle;\n",
       "    }\n",
       "\n",
       "    .dataframe tbody tr th {\n",
       "        vertical-align: top;\n",
       "    }\n",
       "\n",
       "    .dataframe thead th {\n",
       "        text-align: right;\n",
       "    }\n",
       "</style>\n",
       "<table border=\"1\" class=\"dataframe\">\n",
       "  <thead>\n",
       "    <tr style=\"text-align: right;\">\n",
       "      <th></th>\n",
       "      <th>min</th>\n",
       "      <th>max</th>\n",
       "      <th>median</th>\n",
       "      <th>mean</th>\n",
       "      <th>variance</th>\n",
       "      <th>standard_dev</th>\n",
       "    </tr>\n",
       "    <tr>\n",
       "      <th>tariff</th>\n",
       "      <th></th>\n",
       "      <th></th>\n",
       "      <th></th>\n",
       "      <th></th>\n",
       "      <th></th>\n",
       "      <th></th>\n",
       "    </tr>\n",
       "  </thead>\n",
       "  <tbody>\n",
       "    <tr>\n",
       "      <td>smart</td>\n",
       "      <td>0</td>\n",
       "      <td>38</td>\n",
       "      <td>17</td>\n",
       "      <td>16.321525</td>\n",
       "      <td>33.133453</td>\n",
       "      <td>5.756167</td>\n",
       "    </tr>\n",
       "    <tr>\n",
       "      <td>ultra</td>\n",
       "      <td>0</td>\n",
       "      <td>49</td>\n",
       "      <td>19</td>\n",
       "      <td>19.474645</td>\n",
       "      <td>97.378544</td>\n",
       "      <td>9.868057</td>\n",
       "    </tr>\n",
       "  </tbody>\n",
       "</table>\n",
       "</div>"
      ],
      "text/plain": [
       "        min  max  median       mean   variance  standard_dev\n",
       "tariff                                                      \n",
       "smart     0   38      17  16.321525  33.133453      5.756167\n",
       "ultra     0   49      19  19.474645  97.378544      9.868057"
      ]
     },
     "execution_count": 121,
     "metadata": {},
     "output_type": "execute_result"
    }
   ],
   "source": [
    "# <мин, макс, медиана, среднее значение, дисперсия и стандартное отклонение объема интернет-трафика для тарифов>\n",
    "internet_general = users_proceeds.groupby('tariff')['gb'].agg([min, max, 'median', 'mean', np.var, np.std])\n",
    "# <количество степеней свободы, ddof == 1 по умолчанию>\n",
    "internet_general.columns = ['min', 'max', 'median', 'mean', 'variance', 'standard_dev']\n",
    "internet_general"
   ]
  },
  {
   "cell_type": "markdown",
   "metadata": {},
   "source": [
    "*Медиана* для обоих тарифов почти не отличается от *среднего*."
   ]
  },
  {
   "cell_type": "markdown",
   "metadata": {},
   "source": [
    "Подсчитаем разницу между значениями статистик для тарифов smart и ultra."
   ]
  },
  {
   "cell_type": "code",
   "execution_count": 122,
   "metadata": {},
   "outputs": [
    {
     "name": "stdout",
     "output_type": "stream",
     "text": [
      "Разница между значениями для тарифов smart и ultra:\n",
      "\n",
      "min              0.000000\n",
      "max            -11.000000\n",
      "median          -2.000000\n",
      "mean            -3.153120\n",
      "variance       -64.245091\n",
      "standard_dev    -4.111890\n",
      "dtype: float64\n"
     ]
    }
   ],
   "source": [
    "print('Разница между значениями для тарифов smart и ultra:\\n\\n', \n",
    "      internet_general.iloc[0] - internet_general.iloc[1], sep='')"
   ]
  },
  {
   "cell_type": "markdown",
   "metadata": {},
   "source": [
    "Тариф **ultra** имеет наибольшие максимальное значение, медиану и среднее. Этот тариф включает в себя наибольший лимит трафика, поэтому такая картина закономерна.<br><br>\n",
    "Тариф **ultra** также имеет наибольшие значения дисперсии и стандартного отклонения. Это говорит о том, что разброс значений для тарифа **ultra** больше, чем для тарифа **smart**."
   ]
  },
  {
   "cell_type": "markdown",
   "metadata": {},
   "source": [
    "Построим гистограммы для обоих тарифов. По горизонтали находится объем трафика, по вертикали - количество месяцев с такими значениями. Красная черта - лимит минут для каждого тарифа."
   ]
  },
  {
   "cell_type": "code",
   "execution_count": 123,
   "metadata": {},
   "outputs": [
    {
     "data": {
      "image/png": "[encoded data removed]",
      "text/plain": [
       "<Figure size 1080x720 with 2 Axes>"
      ]
     },
     "metadata": {},
     "output_type": "display_data"
    }
   ],
   "source": [
    "# <гистограммы распределений объема интернет-трафика для тарифов>\n",
    "fig1, (ax1, ax2) = plt.subplots(2, 1, figsize=(15,10))\n",
    "plt.subplots_adjust(bottom=0.5, top=1.5)\n",
    "ax1.hist(users_proceeds.query('tariff == \"smart\"')['gb'], bins=38, color='tab:green', alpha=0.6)\n",
    "ax1.set_title('Гистограмма распределения объема интернет-трафика для тарифа smart')\n",
    "ax1.set_xlabel('Объем интернет-трафика, Гб')\n",
    "ax1.set_xticks(np.arange(0, 41, 5))\n",
    "ax1.set_ylabel('Количество месяцев')\n",
    "ax1.axvline(15, color='tab:orange')\n",
    "ax2.hist(users_proceeds.query('tariff == \"ultra\"')['gb'], bins=49, color='tab:red', alpha=0.6)\n",
    "ax2.set_title('Гистограмма распределения объема интернет-трафика для тарифа ultra')\n",
    "ax2.set_xlabel('Объем интернет-трафика, Гб')\n",
    "ax2.set_ylabel('Количество месяцев')\n",
    "ax2.axvline(30, color='red')\n",
    "ax2.set_xticks(np.arange(0, 51, 5));"
   ]
  },
  {
   "cell_type": "markdown",
   "metadata": {},
   "source": [
    "Дополнительно наложим одну гистограмму на другую, чтобы сравнить их по доле значений. Так как ширина каждой **bin == 1**, просто добавим параметр **density=True**."
   ]
  },
  {
   "cell_type": "code",
   "execution_count": 124,
   "metadata": {},
   "outputs": [
    {
     "data": {
      "text/plain": [
       "Text(0, 0.5, 'Доля значений')"
      ]
     },
     "execution_count": 124,
     "metadata": {},
     "output_type": "execute_result"
    },
    {
     "data": {
      "image/png": "[encoded data removed]",
      "text/plain": [
       "<Figure size 1080x720 with 1 Axes>"
      ]
     },
     "metadata": {},
     "output_type": "display_data"
    }
   ],
   "source": [
    "# <cравнение распределений интернет-трафика для двух тарифов>\n",
    "plt.subplots(1, 1, figsize=(15,10))\n",
    "plt.title('Сравнение распределений интернет-трафика для двух тарифов')\n",
    "for i, j, k in [['smart', 'tab:green', 38], ['ultra', 'tab:red', 49]]:\n",
    "    users_proceeds.loc[users_proceeds['tariff'] == i, 'gb'].hist(density=True, bins=k, alpha=0.4, color=j)\n",
    "plt.legend(['smart', 'ultra'], fontsize=20)\n",
    "plt.xticks(np.arange(0, 51, 5))\n",
    "plt.xlabel('Объем интернет-трафика, Гб')\n",
    "plt.ylabel('Доля значений')"
   ]
  },
  {
   "cell_type": "markdown",
   "metadata": {},
   "source": [
    "Обе гистограммы похожи на нормальное распределение."
   ]
  },
  {
   "cell_type": "code",
   "execution_count": 125,
   "metadata": {},
   "outputs": [
    {
     "name": "stdout",
     "output_type": "stream",
     "text": [
      "Нулевой трафик для тарифа smart: 3 \n",
      "Доля: 0.0013452914798206279\n",
      "Нулевой трафик для тарифа ultra: 12 \n",
      "Доля: 0.012170385395537525\n"
     ]
    }
   ],
   "source": [
    "# <количество месяцев с нулем потраченных Гигабайт>\n",
    "temp = users_proceeds.query('tariff == \"smart\"')['gb'].apply(lambda gb: gb == 0).sum()\n",
    "print('Нулевой трафик для тарифа smart:', temp, \n",
    "      '\\nДоля:', temp / users_proceeds.query('tariff == \"smart\"')['gb'].count())\n",
    "temp = users_proceeds.query('tariff == \"ultra\"')['gb'].apply(lambda gb: gb == 0).sum()\n",
    "print('Нулевой трафик для тарифа ultra:', temp,\n",
    "     '\\nДоля:', temp / users_proceeds.query('tariff == \"ultra\"')['gb'].count())"
   ]
  },
  {
   "cell_type": "code",
   "execution_count": 126,
   "metadata": {},
   "outputs": [
    {
     "name": "stdout",
     "output_type": "stream",
     "text": [
      "Превышение лимита для тарифа smart: 1304\n",
      "Доля превышения для тарифа smart: 0.5847533632286995\n",
      "Превышение лимита для тарифа ultra: 134\n",
      "Доля превышения для тарифа ultra: 0.1359026369168357\n"
     ]
    }
   ],
   "source": [
    "# <количество месяцев, в которых был превышен лимит по интернет-трафику>\n",
    "print('Превышение лимита для тарифа smart:', \n",
    "      users_proceeds.query('tariff == \"smart\"')['gb'].apply(lambda gb: gb > 15).sum())\n",
    "print('Доля превышения для тарифа smart:', \n",
    "     users_proceeds.query('tariff == \"smart\"')['gb'].apply(lambda gb: gb > 15).sum() / \n",
    "     len(users_proceeds.query('tariff == \"smart\"')))\n",
    "print('Превышение лимита для тарифа ultra:', \n",
    "      users_proceeds.query('tariff == \"ultra\"')['gb'].apply(lambda gb: gb > 30).sum())\n",
    "print('Доля превышения для тарифа ultra:', \n",
    "     users_proceeds.query('tariff == \"ultra\"')['gb'].apply(lambda gb: gb > 30).sum() / \n",
    "     len(users_proceeds.query('tariff == \"ultra\"')))"
   ]
  },
  {
   "cell_type": "markdown",
   "metadata": {},
   "source": [
    "**Гистограмма распределения объема интернет-трафика для тарифа smart.**\n",
    "- Похожа на нормальное распределение с максимальной частотой около значения **17 Гигабайт**;\n",
    "- Примерно в **58%** был превышен лимит интернет-трафика (**15 Гб**);\n",
    "- Около **0.1%** значений *нулевые* (**3**);\n",
    "- Величина стандартного отклонения - около **5.8 Гигабайт**."
   ]
  },
  {
   "cell_type": "markdown",
   "metadata": {},
   "source": [
    "**Гистограмма распределения объема интернет-трафика для тарифа ultra.**\n",
    "- Похожа на нормальное распределение с максимальной частотой около значения **19 Гигабайт**;\n",
    "- Примерно в **13.6%** был превышен лимит интернет-трафика (**30 Гб**). Это единственная услуга, лимита по которой абонентам тарифа **ultra** бывает недостаточно;\n",
    "- Около **1.2%** значений *нулевые* (**12**);\n",
    "- Величина стандартного отклонения - около **10 Гигабайт**, что говорит о большом разбросе значений."
   ]
  },
  {
   "cell_type": "markdown",
   "metadata": {},
   "source": [
    "**Сравнение расходов интернет-трафика для двух тарифов.**\n",
    "- Среднее значение расходов интернет-трафика для тарифа **ultra** - **19.5 Гб**, что на **3.2 Гб** больше значения для тарифа **smart** (**16.3 Гб**); \n",
    "- Гистограмма для тарифа **ultra** имеет наибольший разброс значений (дисперсия - **97.4**, стандартное отклонение - **9.9 Гб**) в сравнении с гистограммой для тарифа **smart** (дисперсия - **33.1**, стандартное отклонение - **5.7 Гб**);\n",
    "- Для тарифа **smart** в **58%** (**1304 строки**) был превышен интернет-трафик, для тарифа **ultra** лимит был превышен в **13.4%** (**134 строки**);\n",
    "- В обоих тарифах присутствует мало нулевых значений (**0.1%** для **smart** и **1.2%** для **ultra**)."
   ]
  },
  {
   "cell_type": "code",
   "execution_count": 127,
   "metadata": {},
   "outputs": [
    {
     "data": {
      "text/plain": [
       "tariff      \n",
       "smart   0.50    17.0\n",
       "        0.75    20.0\n",
       "        0.90    23.0\n",
       "        0.95    25.0\n",
       "ultra   0.50    19.0\n",
       "        0.75    27.0\n",
       "        0.90    33.0\n",
       "        0.95    37.0\n",
       "Name: gb, dtype: float64"
      ]
     },
     "execution_count": 127,
     "metadata": {},
     "output_type": "execute_result"
    }
   ],
   "source": [
    "# <объем интернет-трафика, необходимый в 50%, 75%, 90% и 95% случаев>\n",
    "users_proceeds.groupby('tariff')['gb'].quantile([0.5, 0.75, 0.9, 0.95])"
   ]
  },
  {
   "cell_type": "markdown",
   "metadata": {},
   "source": [
    "**Ответ на вопрос:** *Сколько интернет-трафика требуется пользователям каждого тарифа в месяц?*<br><br>\n",
    "**Тариф smart**:<br>\n",
    "Абонентам тарифа **smart** в среднем необходимо **16.3 Гб** в месяц, по медиане - **17 Гб**. При этом в большей части строк (**58%**) был превышен лимит в **15 Гб**, что говорит о том, что абоненты очень часто докупают интернет-трафик сверх лимита. Нулевых значений очень мало (**0.1%**).<br><br>\n",
    "В **95%** случаев абонентам тарифа **smart** нужно менее **25 Гб** в месяц.<br><br>\n",
    "**Тариф ultra**:<br>\n",
    "Абонентам тарифа **ultra** в среднем необходимо **19.5 Гб** в месяц, по медиане - **19 Гб**. Лимит интернет-трафика (**30 Гб**) превышен в **13.6%** случаев. Услуга предоставления интернета - единственная, по которой абонентам тарифа **ultra** иногда не хватает лимита. Нулевых значений мало (**1.2%**).<br><br>\n",
    "В **95%** случаев абонентам тарифа **ultra** нужно менее **37 Гб** в месяц."
   ]
  },
  {
   "cell_type": "markdown",
   "metadata": {},
   "source": [
    "### 3.4. Вывод"
   ]
  },
  {
   "cell_type": "markdown",
   "metadata": {},
   "source": [
    "- Абонентам тарифа **smart** чаще не хватает лимита, чем абонентам тарифа **ultra**;\n",
    "- Абоненты тарифа **smart** в целом меньше расходуют **минуты**, **сообщения** и **Гигабайты**, чем абоненты тарифа **ultra**, так как за каждый пакет сверх лимита взимается плата. Поэтому гистограммы для тарифа **smart** имеют *короткие хвосты с крутыми подъемом и спуском*, а *значения стандартных отклонений относительно невысокие*;\n",
    "- Абоненты тарифа **ultra** расходуют **минуты**, **сообщения** и **Гигабайты** согласно своим потребностям. **Минут** и **сообщений** внутри лимита всегда хватает, когда как **Гигабайты** иногда расходуются сверх лимита. Гистограммы для тарифа **ultra** имеют *длинные хвосты с пологими подъемом и спуском*, а *значения стандартных отклонений высокие*."
   ]
  },
  {
   "cell_type": "markdown",
   "metadata": {},
   "source": [
    "## 4. Проверка гипотез"
   ]
  },
  {
   "cell_type": "markdown",
   "metadata": {},
   "source": [
    "### 4.1. Средняя выручка пользователей двух тарифов"
   ]
  },
  {
   "cell_type": "markdown",
   "metadata": {},
   "source": [
    "Предварительно исследуем данные по выручке для двух тарифов."
   ]
  },
  {
   "cell_type": "code",
   "execution_count": 128,
   "metadata": {},
   "outputs": [
    {
     "data": {
      "text/html": [
       "<div>\n",
       "<style scoped>\n",
       "    .dataframe tbody tr th:only-of-type {\n",
       "        vertical-align: middle;\n",
       "    }\n",
       "\n",
       "    .dataframe tbody tr th {\n",
       "        vertical-align: top;\n",
       "    }\n",
       "\n",
       "    .dataframe thead th {\n",
       "        text-align: right;\n",
       "    }\n",
       "</style>\n",
       "<table border=\"1\" class=\"dataframe\">\n",
       "  <thead>\n",
       "    <tr style=\"text-align: right;\">\n",
       "      <th></th>\n",
       "      <th></th>\n",
       "      <th>tariff</th>\n",
       "      <th>duration</th>\n",
       "      <th>messages</th>\n",
       "      <th>gb</th>\n",
       "      <th>proceeds</th>\n",
       "    </tr>\n",
       "    <tr>\n",
       "      <th>user_id</th>\n",
       "      <th>months</th>\n",
       "      <th></th>\n",
       "      <th></th>\n",
       "      <th></th>\n",
       "      <th></th>\n",
       "      <th></th>\n",
       "    </tr>\n",
       "  </thead>\n",
       "  <tbody>\n",
       "    <tr>\n",
       "      <td rowspan=\"5\" valign=\"top\">1000</td>\n",
       "      <td>5</td>\n",
       "      <td>ultra</td>\n",
       "      <td>159</td>\n",
       "      <td>22</td>\n",
       "      <td>3</td>\n",
       "      <td>1950</td>\n",
       "    </tr>\n",
       "    <tr>\n",
       "      <td>6</td>\n",
       "      <td>ultra</td>\n",
       "      <td>172</td>\n",
       "      <td>60</td>\n",
       "      <td>23</td>\n",
       "      <td>1950</td>\n",
       "    </tr>\n",
       "    <tr>\n",
       "      <td>7</td>\n",
       "      <td>ultra</td>\n",
       "      <td>340</td>\n",
       "      <td>75</td>\n",
       "      <td>14</td>\n",
       "      <td>1950</td>\n",
       "    </tr>\n",
       "    <tr>\n",
       "      <td>8</td>\n",
       "      <td>ultra</td>\n",
       "      <td>408</td>\n",
       "      <td>81</td>\n",
       "      <td>14</td>\n",
       "      <td>1950</td>\n",
       "    </tr>\n",
       "    <tr>\n",
       "      <td>9</td>\n",
       "      <td>ultra</td>\n",
       "      <td>466</td>\n",
       "      <td>57</td>\n",
       "      <td>15</td>\n",
       "      <td>1950</td>\n",
       "    </tr>\n",
       "  </tbody>\n",
       "</table>\n",
       "</div>"
      ],
      "text/plain": [
       "               tariff  duration  messages  gb  proceeds\n",
       "user_id months                                         \n",
       "1000    5       ultra       159        22   3      1950\n",
       "        6       ultra       172        60  23      1950\n",
       "        7       ultra       340        75  14      1950\n",
       "        8       ultra       408        81  14      1950\n",
       "        9       ultra       466        57  15      1950"
      ]
     },
     "execution_count": 128,
     "metadata": {},
     "output_type": "execute_result"
    }
   ],
   "source": [
    "# <таблица с помесячной выручкой - столбец 'proceeds'>\n",
    "users_proceeds.head()"
   ]
  },
  {
   "cell_type": "markdown",
   "metadata": {},
   "source": [
    "Построим boxplots."
   ]
  },
  {
   "cell_type": "code",
   "execution_count": 129,
   "metadata": {},
   "outputs": [
    {
     "data": {
      "image/png": "[encoded data removed]",
      "text/plain": [
       "<Figure size 1224x720 with 1 Axes>"
      ]
     },
     "metadata": {},
     "output_type": "display_data"
    }
   ],
   "source": [
    "# <boxplots по выручке для двух тарифов>\n",
    "box1 = users_proceeds.query('tariff == \"smart\"').proceeds\n",
    "box2 = users_proceeds.query('tariff == \"ultra\"').proceeds\n",
    "colors = ['tab:green', 'tab:red']\n",
    "fig, ax = plt.subplots(1, 1, figsize=(17,10)) \n",
    "sns.boxplot(x='series', y='values', \n",
    "           data=pd.DataFrame({'series':pd.concat([box1, box2], axis=0),\n",
    "                             'values':np.repeat(['Тариф \"smart\"', 'Тариф \"ultra\"'], [len(box1), len(box2)])}),\n",
    "            ax = ax, palette=colors, width=0.5)\n",
    "ax.set(xlabel='Выручка за месяц, руб.', ylabel='Тарифы', title='\"Ящики с усами\" для выручки двух тарифов',\n",
    "      xticks=np.arange(500, 7001, 250))\n",
    "ax.tick_params(axis='x', rotation=45)"
   ]
  },
  {
   "cell_type": "markdown",
   "metadata": {},
   "source": [
    "Для более наглядного рассмотрения распределения выручки построим гистограммы."
   ]
  },
  {
   "cell_type": "code",
   "execution_count": 130,
   "metadata": {},
   "outputs": [
    {
     "data": {
      "image/png": "[encoded data removed]",
      "text/plain": [
       "<Figure size 1080x720 with 2 Axes>"
      ]
     },
     "metadata": {},
     "output_type": "display_data"
    }
   ],
   "source": [
    "# <гистограмма распределений помесячной выручки для тарифов>\n",
    "fig1, (ax1, ax2) = plt.subplots(2, 1, figsize=(15,10))\n",
    "plt.subplots_adjust(bottom=0.5, top=1.5)\n",
    "ax1.hist(users_proceeds.query('tariff == \"smart\"')['proceeds'], bins=50, color='tab:green', \n",
    "         alpha=0.6, orientation='horizontal')\n",
    "ax1.set_title('Гистограмма распределения помесячной выручки для тарифа smart')\n",
    "ax1.set_xlabel('Количество месяцев')\n",
    "# ax1.set_xticks(np.arange(0, 151, 10))\n",
    "ax1.set_ylabel('Выручка, руб.')\n",
    "#ax1.axvline(50, color='red')\n",
    "ax2.hist(users_proceeds.query('tariff == \"ultra\"')['proceeds'], bins=50, color='tab:red', \n",
    "         alpha=0.6, orientation='horizontal')\n",
    "ax2.set_title('Гистограмма распределения помесячной выручки для тарифа ultra')\n",
    "ax2.set_xlabel('Количество месяцев')\n",
    "ax2.set_ylabel('Выручка, руб.')\n",
    "ax2.set_xticks([i for i in range(0, 851, 50)]);"
   ]
  },
  {
   "cell_type": "markdown",
   "metadata": {},
   "source": [
    "Дополнительно наложим одну гистограмму на другую, чтобы сравнить их по доле значений. Пересчет доли значений - в параметре **weights**."
   ]
  },
  {
   "cell_type": "code",
   "execution_count": 131,
   "metadata": {},
   "outputs": [
    {
     "name": "stdout",
     "output_type": "stream",
     "text": [
      "         min   max\n",
      "tariff            \n",
      "smart    550  6770\n",
      "ultra   1950  4800\n",
      "Количество bins для тарифа smart 109.12280701754386\n"
     ]
    }
   ],
   "source": [
    "# <подсчет количества bins для совпадения столбцов по оси x>\n",
    "print(users_proceeds.groupby('tariff')['proceeds'].agg([min, max]))\n",
    "print('Количество bins для тарифа smart', 50 * (6770 - 550) / (4800 - 1950)) # <округлим до 109>"
   ]
  },
  {
   "cell_type": "code",
   "execution_count": 132,
   "metadata": {},
   "outputs": [
    {
     "data": {
      "text/plain": [
       "Text(0, 0.5, 'Доля значений')"
      ]
     },
     "execution_count": 132,
     "metadata": {},
     "output_type": "execute_result"
    },
    {
     "data": {
      "image/png": "[encoded data removed]",
      "text/plain": [
       "<Figure size 1080x720 with 1 Axes>"
      ]
     },
     "metadata": {},
     "output_type": "display_data"
    }
   ],
   "source": [
    "# <сравнение распределений выручки для двух тарифов>\n",
    "plt.subplots(1, 1, figsize=(15,10))\n",
    "plt.title('Сравнение распределений выручки для двух тарифов')\n",
    "for i, j, k in [['smart', 'tab:green', 109], ['ultra', 'tab:red', 50]]:\n",
    "    temp = users_proceeds.loc[users_proceeds['tariff'] == i, 'proceeds']\n",
    "    temp.hist(bins=k, alpha=0.4, color=j, weights=np.ones_like(np.arange(len(temp))) / len(temp))\n",
    "plt.legend(['smart', 'ultra'], fontsize=20)\n",
    "plt.xticks(np.arange(500, 7001, 500))\n",
    "plt.yticks(np.arange(0, 0.91, 0.05))\n",
    "plt.xlabel('Выручка, руб.')\n",
    "plt.ylabel('Доля значений')"
   ]
  },
  {
   "cell_type": "code",
   "execution_count": 133,
   "metadata": {},
   "outputs": [
    {
     "data": {
      "text/plain": [
       "array([1950, 3900, 2850, 2700, 4800, 3300, 2400, 2550, 2250, 3150, 3750,\n",
       "       3000, 2100, 3450, 3600, 4650, 4200, 4050], dtype=int64)"
      ]
     },
     "execution_count": 133,
     "metadata": {},
     "output_type": "execute_result"
    }
   ],
   "source": [
    "# <количество уникальных значений выручки тарифа 'ultra'>\n",
    "users_proceeds.loc[users_proceeds['tariff'] == 'ultra', 'proceeds'].unique()"
   ]
  },
  {
   "cell_type": "code",
   "execution_count": 134,
   "metadata": {},
   "outputs": [
    {
     "name": "stdout",
     "output_type": "stream",
     "text": [
      "550 рублей для тарифа smart: 568 \n",
      "Доля: 0.2547085201793722\n",
      "1950 рублей для тарифа ultra: 852 \n",
      "Доля: 0.8640973630831643\n"
     ]
    }
   ],
   "source": [
    "# <количество месяцев без превышения лимита>\n",
    "temp = users_proceeds.query('tariff == \"smart\"')['proceeds'].apply(lambda proc: proc == 550).sum()\n",
    "print('550 рублей для тарифа smart:', temp, \n",
    "      '\\nДоля:', temp / users_proceeds.query('tariff == \"smart\"')['proceeds'].count())\n",
    "temp = users_proceeds.query('tariff == \"ultra\"')['proceeds'].apply(lambda proc: proc == 1950).sum()\n",
    "print('1950 рублей для тарифа ultra:', temp,\n",
    "     '\\nДоля:', temp / users_proceeds.query('tariff == \"ultra\"')['proceeds'].count())"
   ]
  },
  {
   "cell_type": "code",
   "execution_count": 135,
   "metadata": {},
   "outputs": [
    {
     "data": {
      "text/plain": [
       "tariff      \n",
       "smart   0.25     550.0\n",
       "        0.50    1021.0\n",
       "        0.75    1750.0\n",
       "ultra   0.25    1950.0\n",
       "        0.50    1950.0\n",
       "        0.75    1950.0\n",
       "Name: proceeds, dtype: float64"
      ]
     },
     "execution_count": 135,
     "metadata": {},
     "output_type": "execute_result"
    }
   ],
   "source": [
    "# <Q1, медиана и Q3 для двух тарифов>\n",
    "users_proceeds.groupby('tariff')['proceeds'].quantile([0.25, 0.5, 0.75])"
   ]
  },
  {
   "cell_type": "code",
   "execution_count": 136,
   "metadata": {},
   "outputs": [
    {
     "data": {
      "text/html": [
       "<div>\n",
       "<style scoped>\n",
       "    .dataframe tbody tr th:only-of-type {\n",
       "        vertical-align: middle;\n",
       "    }\n",
       "\n",
       "    .dataframe tbody tr th {\n",
       "        vertical-align: top;\n",
       "    }\n",
       "\n",
       "    .dataframe thead th {\n",
       "        text-align: right;\n",
       "    }\n",
       "</style>\n",
       "<table border=\"1\" class=\"dataframe\">\n",
       "  <thead>\n",
       "    <tr style=\"text-align: right;\">\n",
       "      <th></th>\n",
       "      <th>min</th>\n",
       "      <th>max</th>\n",
       "      <th>mean</th>\n",
       "      <th>median</th>\n",
       "      <th>var</th>\n",
       "      <th>std</th>\n",
       "    </tr>\n",
       "    <tr>\n",
       "      <th>tariff</th>\n",
       "      <th></th>\n",
       "      <th></th>\n",
       "      <th></th>\n",
       "      <th></th>\n",
       "      <th></th>\n",
       "      <th></th>\n",
       "    </tr>\n",
       "  </thead>\n",
       "  <tbody>\n",
       "    <tr>\n",
       "      <td>smart</td>\n",
       "      <td>550</td>\n",
       "      <td>6770</td>\n",
       "      <td>1289.641704</td>\n",
       "      <td>1021</td>\n",
       "      <td>669730.763895</td>\n",
       "      <td>818.370799</td>\n",
       "    </tr>\n",
       "    <tr>\n",
       "      <td>ultra</td>\n",
       "      <td>1950</td>\n",
       "      <td>4800</td>\n",
       "      <td>2070.030426</td>\n",
       "      <td>1950</td>\n",
       "      <td>141387.714809</td>\n",
       "      <td>376.015578</td>\n",
       "    </tr>\n",
       "  </tbody>\n",
       "</table>\n",
       "</div>"
      ],
      "text/plain": [
       "         min   max         mean  median            var         std\n",
       "tariff                                                            \n",
       "smart    550  6770  1289.641704    1021  669730.763895  818.370799\n",
       "ultra   1950  4800  2070.030426    1950  141387.714809  376.015578"
      ]
     },
     "execution_count": 136,
     "metadata": {},
     "output_type": "execute_result"
    }
   ],
   "source": [
    "# <минимум, максимум, среднее, медиана, дисперсия и стандартное отклонение выручки для двух тарифов>\n",
    "users_proceeds.groupby('tariff')['proceeds'].agg(['min', 'max', 'mean', 'median', np.var, np.std])"
   ]
  },
  {
   "cell_type": "markdown",
   "metadata": {},
   "source": [
    "Для тарифа **smart** видим, что разброс значений велик. Часть абонентов(**25.5%**) не превысила лимит в **550 рублей**, **75%** значений не превышают **1 750 рублей**, а максимальное значение больше значения для тарифа **ultra** и составляет **6 770 рублей**<br><br>\n",
    "Для тарифа **ultra** видим, что около **86.4%** значений равны *абонентской плате* и составляют **1950 рублей**. Максимальное значение составляет **4800 рублей**."
   ]
  },
  {
   "cell_type": "markdown",
   "metadata": {},
   "source": [
    "- Среднее значение тарифа **smart** - **1289.6 рублей**;\n",
    "- Среднее значение тарифа **ultra** - **2070 рублей**."
   ]
  },
  {
   "cell_type": "markdown",
   "metadata": {},
   "source": [
    "Распределения обоих тарифов не похожи на нормальные. Высокое значение слева, резкий спад и постепенное затухание характерно для обеих гистограмм (*особенно для тарифа <b>ultra</b>*)."
   ]
  },
  {
   "cell_type": "markdown",
   "metadata": {},
   "source": [
    "*В итоге:*\n",
    "- **Формулируем нулевую гипотезу о равенстве средних двух генеральных совокупностей**;\n",
    "- **Формулируем одностороннюю альтернативную гипотезу**, так как среднее значение тарифа **ultra** намного больше среднего значения тарифа **smart**;\n",
    "- Значение **требуемого уровня значимости принимаем равным 0.05**."
   ]
  },
  {
   "cell_type": "markdown",
   "metadata": {},
   "source": [
    "**Нулевая гипотеза (H0)**: средняя выручка тарифа **smart** *равна* средней выручке тарифа **ultra**;<br><br>\n",
    "**Альтернативная гипотеза (Н1)**: средняя выручка тарифа **smart** *меньше* средней выручки тарифа **ultra**."
   ]
  },
  {
   "cell_type": "code",
   "execution_count": 137,
   "metadata": {},
   "outputs": [],
   "source": [
    "# <ГС1 и ГС2>\n",
    "gs1 = users_proceeds.query('tariff == \"smart\"')['proceeds']\n",
    "gs2 = users_proceeds.query('tariff == \"ultra\"')['proceeds']"
   ]
  },
  {
   "cell_type": "code",
   "execution_count": 138,
   "metadata": {},
   "outputs": [],
   "source": [
    "# критический уровень статистической значимости\n",
    "alpha = 0.05 "
   ]
  },
  {
   "cell_type": "code",
   "execution_count": 139,
   "metadata": {},
   "outputs": [
    {
     "name": "stdout",
     "output_type": "stream",
     "text": [
      "p-значение: 9.635056972104705e-251\n",
      "Отвергаем нулевую гипотезу\n"
     ]
    }
   ],
   "source": [
    "# <проверка гипотезы о равенстве средних двух независимых совокупностей>\n",
    "# <дисперсии отличаются, поэтому 'equal_var'=False>\n",
    "results = st.ttest_ind(gs1, gs2, equal_var=False)\n",
    "print('p-значение:', results.pvalue / 2)\n",
    "if results.pvalue / 2 < alpha and gs1.mean() < gs2.mean():\n",
    "    print(\"Отвергаем нулевую гипотезу\")\n",
    "else:\n",
    "    print(\"Не получилось отвергнуть нулевую гипотезу\")"
   ]
  },
  {
   "cell_type": "markdown",
   "metadata": {},
   "source": [
    "**P-value** гораздо меньше значения альфа (**0.05**), отклоняем нулевую гипотезу."
   ]
  },
  {
   "cell_type": "markdown",
   "metadata": {},
   "source": [
    "**Средняя выручка пользователей тарифа 'smart' меньше средней выручки пользователей тарифа 'ultra'**."
   ]
  },
  {
   "cell_type": "markdown",
   "metadata": {},
   "source": [
    "### 4.2. Средняя выручка пользователей из Москвы и других регионов"
   ]
  },
  {
   "cell_type": "markdown",
   "metadata": {},
   "source": [
    "Сначала вернем в сводную таблицу названия городов."
   ]
  },
  {
   "cell_type": "code",
   "execution_count": 140,
   "metadata": {},
   "outputs": [
    {
     "data": {
      "text/html": [
       "<div>\n",
       "<style scoped>\n",
       "    .dataframe tbody tr th:only-of-type {\n",
       "        vertical-align: middle;\n",
       "    }\n",
       "\n",
       "    .dataframe tbody tr th {\n",
       "        vertical-align: top;\n",
       "    }\n",
       "\n",
       "    .dataframe thead th {\n",
       "        text-align: right;\n",
       "    }\n",
       "</style>\n",
       "<table border=\"1\" class=\"dataframe\">\n",
       "  <thead>\n",
       "    <tr style=\"text-align: right;\">\n",
       "      <th></th>\n",
       "      <th></th>\n",
       "      <th>tariff</th>\n",
       "      <th>duration</th>\n",
       "      <th>messages</th>\n",
       "      <th>gb</th>\n",
       "      <th>proceeds</th>\n",
       "    </tr>\n",
       "    <tr>\n",
       "      <th>user_id</th>\n",
       "      <th>months</th>\n",
       "      <th></th>\n",
       "      <th></th>\n",
       "      <th></th>\n",
       "      <th></th>\n",
       "      <th></th>\n",
       "    </tr>\n",
       "  </thead>\n",
       "  <tbody>\n",
       "    <tr>\n",
       "      <td rowspan=\"5\" valign=\"top\">1000</td>\n",
       "      <td>5</td>\n",
       "      <td>ultra</td>\n",
       "      <td>159</td>\n",
       "      <td>22</td>\n",
       "      <td>3</td>\n",
       "      <td>1950</td>\n",
       "    </tr>\n",
       "    <tr>\n",
       "      <td>6</td>\n",
       "      <td>ultra</td>\n",
       "      <td>172</td>\n",
       "      <td>60</td>\n",
       "      <td>23</td>\n",
       "      <td>1950</td>\n",
       "    </tr>\n",
       "    <tr>\n",
       "      <td>7</td>\n",
       "      <td>ultra</td>\n",
       "      <td>340</td>\n",
       "      <td>75</td>\n",
       "      <td>14</td>\n",
       "      <td>1950</td>\n",
       "    </tr>\n",
       "    <tr>\n",
       "      <td>8</td>\n",
       "      <td>ultra</td>\n",
       "      <td>408</td>\n",
       "      <td>81</td>\n",
       "      <td>14</td>\n",
       "      <td>1950</td>\n",
       "    </tr>\n",
       "    <tr>\n",
       "      <td>9</td>\n",
       "      <td>ultra</td>\n",
       "      <td>466</td>\n",
       "      <td>57</td>\n",
       "      <td>15</td>\n",
       "      <td>1950</td>\n",
       "    </tr>\n",
       "  </tbody>\n",
       "</table>\n",
       "</div>"
      ],
      "text/plain": [
       "               tariff  duration  messages  gb  proceeds\n",
       "user_id months                                         \n",
       "1000    5       ultra       159        22   3      1950\n",
       "        6       ultra       172        60  23      1950\n",
       "        7       ultra       340        75  14      1950\n",
       "        8       ultra       408        81  14      1950\n",
       "        9       ultra       466        57  15      1950"
      ]
     },
     "execution_count": 140,
     "metadata": {},
     "output_type": "execute_result"
    }
   ],
   "source": [
    "# <таблица с выручкой>\n",
    "users_proceeds.head()"
   ]
  },
  {
   "cell_type": "code",
   "execution_count": 141,
   "metadata": {},
   "outputs": [
    {
     "data": {
      "text/html": [
       "<div>\n",
       "<style scoped>\n",
       "    .dataframe tbody tr th:only-of-type {\n",
       "        vertical-align: middle;\n",
       "    }\n",
       "\n",
       "    .dataframe tbody tr th {\n",
       "        vertical-align: top;\n",
       "    }\n",
       "\n",
       "    .dataframe thead th {\n",
       "        text-align: right;\n",
       "    }\n",
       "</style>\n",
       "<table border=\"1\" class=\"dataframe\">\n",
       "  <thead>\n",
       "    <tr style=\"text-align: right;\">\n",
       "      <th></th>\n",
       "      <th>user_id</th>\n",
       "      <th>age</th>\n",
       "      <th>churn_date</th>\n",
       "      <th>city</th>\n",
       "      <th>first_name</th>\n",
       "      <th>last_name</th>\n",
       "      <th>reg_date</th>\n",
       "      <th>tariff</th>\n",
       "    </tr>\n",
       "  </thead>\n",
       "  <tbody>\n",
       "    <tr>\n",
       "      <td>0</td>\n",
       "      <td>1000</td>\n",
       "      <td>52</td>\n",
       "      <td>2018-12-31</td>\n",
       "      <td>Краснодар</td>\n",
       "      <td>Рафаил</td>\n",
       "      <td>Верещагин</td>\n",
       "      <td>2018-05-25</td>\n",
       "      <td>ultra</td>\n",
       "    </tr>\n",
       "    <tr>\n",
       "      <td>1</td>\n",
       "      <td>1001</td>\n",
       "      <td>41</td>\n",
       "      <td>2018-12-31</td>\n",
       "      <td>Москва</td>\n",
       "      <td>Иван</td>\n",
       "      <td>Ежов</td>\n",
       "      <td>2018-11-01</td>\n",
       "      <td>smart</td>\n",
       "    </tr>\n",
       "    <tr>\n",
       "      <td>2</td>\n",
       "      <td>1002</td>\n",
       "      <td>59</td>\n",
       "      <td>2018-12-31</td>\n",
       "      <td>Стерлитамак</td>\n",
       "      <td>Евгений</td>\n",
       "      <td>Абрамович</td>\n",
       "      <td>2018-06-17</td>\n",
       "      <td>smart</td>\n",
       "    </tr>\n",
       "    <tr>\n",
       "      <td>3</td>\n",
       "      <td>1003</td>\n",
       "      <td>23</td>\n",
       "      <td>2018-12-31</td>\n",
       "      <td>Москва</td>\n",
       "      <td>Белла</td>\n",
       "      <td>Белякова</td>\n",
       "      <td>2018-08-17</td>\n",
       "      <td>ultra</td>\n",
       "    </tr>\n",
       "    <tr>\n",
       "      <td>4</td>\n",
       "      <td>1004</td>\n",
       "      <td>68</td>\n",
       "      <td>2018-12-31</td>\n",
       "      <td>Новокузнецк</td>\n",
       "      <td>Татьяна</td>\n",
       "      <td>Авдеенко</td>\n",
       "      <td>2018-05-14</td>\n",
       "      <td>ultra</td>\n",
       "    </tr>\n",
       "  </tbody>\n",
       "</table>\n",
       "</div>"
      ],
      "text/plain": [
       "   user_id  age churn_date         city first_name  last_name   reg_date  \\\n",
       "0     1000   52 2018-12-31    Краснодар     Рафаил  Верещагин 2018-05-25   \n",
       "1     1001   41 2018-12-31       Москва       Иван       Ежов 2018-11-01   \n",
       "2     1002   59 2018-12-31  Стерлитамак    Евгений  Абрамович 2018-06-17   \n",
       "3     1003   23 2018-12-31       Москва      Белла   Белякова 2018-08-17   \n",
       "4     1004   68 2018-12-31  Новокузнецк    Татьяна   Авдеенко 2018-05-14   \n",
       "\n",
       "  tariff  \n",
       "0  ultra  \n",
       "1  smart  \n",
       "2  smart  \n",
       "3  ultra  \n",
       "4  ultra  "
      ]
     },
     "execution_count": 141,
     "metadata": {},
     "output_type": "execute_result"
    }
   ],
   "source": [
    "# <таблица с пользователями>\n",
    "users_df.head()"
   ]
  },
  {
   "cell_type": "code",
   "execution_count": 142,
   "metadata": {},
   "outputs": [
    {
     "data": {
      "text/html": [
       "<div>\n",
       "<style scoped>\n",
       "    .dataframe tbody tr th:only-of-type {\n",
       "        vertical-align: middle;\n",
       "    }\n",
       "\n",
       "    .dataframe tbody tr th {\n",
       "        vertical-align: top;\n",
       "    }\n",
       "\n",
       "    .dataframe thead th {\n",
       "        text-align: right;\n",
       "    }\n",
       "</style>\n",
       "<table border=\"1\" class=\"dataframe\">\n",
       "  <thead>\n",
       "    <tr style=\"text-align: right;\">\n",
       "      <th></th>\n",
       "      <th>city</th>\n",
       "    </tr>\n",
       "    <tr>\n",
       "      <th>user_id</th>\n",
       "      <th></th>\n",
       "    </tr>\n",
       "  </thead>\n",
       "  <tbody>\n",
       "    <tr>\n",
       "      <td>1000</td>\n",
       "      <td>Краснодар</td>\n",
       "    </tr>\n",
       "    <tr>\n",
       "      <td>1001</td>\n",
       "      <td>Москва</td>\n",
       "    </tr>\n",
       "    <tr>\n",
       "      <td>1002</td>\n",
       "      <td>Стерлитамак</td>\n",
       "    </tr>\n",
       "    <tr>\n",
       "      <td>1003</td>\n",
       "      <td>Москва</td>\n",
       "    </tr>\n",
       "    <tr>\n",
       "      <td>1004</td>\n",
       "      <td>Новокузнецк</td>\n",
       "    </tr>\n",
       "  </tbody>\n",
       "</table>\n",
       "</div>"
      ],
      "text/plain": [
       "                city\n",
       "user_id             \n",
       "1000       Краснодар\n",
       "1001          Москва\n",
       "1002     Стерлитамак\n",
       "1003          Москва\n",
       "1004     Новокузнецк"
      ]
     },
     "execution_count": 142,
     "metadata": {},
     "output_type": "execute_result"
    }
   ],
   "source": [
    "# <таблица для применения join>\n",
    "users_join = users_df[['user_id', 'city']].set_index('user_id')\n",
    "users_join.head()"
   ]
  },
  {
   "cell_type": "code",
   "execution_count": 143,
   "metadata": {},
   "outputs": [
    {
     "data": {
      "text/html": [
       "<div>\n",
       "<style scoped>\n",
       "    .dataframe tbody tr th:only-of-type {\n",
       "        vertical-align: middle;\n",
       "    }\n",
       "\n",
       "    .dataframe tbody tr th {\n",
       "        vertical-align: top;\n",
       "    }\n",
       "\n",
       "    .dataframe thead th {\n",
       "        text-align: right;\n",
       "    }\n",
       "</style>\n",
       "<table border=\"1\" class=\"dataframe\">\n",
       "  <thead>\n",
       "    <tr style=\"text-align: right;\">\n",
       "      <th></th>\n",
       "      <th></th>\n",
       "      <th>city</th>\n",
       "      <th>proceeds</th>\n",
       "    </tr>\n",
       "    <tr>\n",
       "      <th>user_id</th>\n",
       "      <th>months</th>\n",
       "      <th></th>\n",
       "      <th></th>\n",
       "    </tr>\n",
       "  </thead>\n",
       "  <tbody>\n",
       "    <tr>\n",
       "      <td rowspan=\"8\" valign=\"top\">1000</td>\n",
       "      <td>5</td>\n",
       "      <td>Краснодар</td>\n",
       "      <td>1950</td>\n",
       "    </tr>\n",
       "    <tr>\n",
       "      <td>6</td>\n",
       "      <td>Краснодар</td>\n",
       "      <td>1950</td>\n",
       "    </tr>\n",
       "    <tr>\n",
       "      <td>7</td>\n",
       "      <td>Краснодар</td>\n",
       "      <td>1950</td>\n",
       "    </tr>\n",
       "    <tr>\n",
       "      <td>8</td>\n",
       "      <td>Краснодар</td>\n",
       "      <td>1950</td>\n",
       "    </tr>\n",
       "    <tr>\n",
       "      <td>9</td>\n",
       "      <td>Краснодар</td>\n",
       "      <td>1950</td>\n",
       "    </tr>\n",
       "    <tr>\n",
       "      <td>10</td>\n",
       "      <td>Краснодар</td>\n",
       "      <td>1950</td>\n",
       "    </tr>\n",
       "    <tr>\n",
       "      <td>11</td>\n",
       "      <td>Краснодар</td>\n",
       "      <td>1950</td>\n",
       "    </tr>\n",
       "    <tr>\n",
       "      <td>12</td>\n",
       "      <td>Краснодар</td>\n",
       "      <td>1950</td>\n",
       "    </tr>\n",
       "    <tr>\n",
       "      <td rowspan=\"2\" valign=\"top\">1001</td>\n",
       "      <td>11</td>\n",
       "      <td>Москва</td>\n",
       "      <td>1150</td>\n",
       "    </tr>\n",
       "    <tr>\n",
       "      <td>12</td>\n",
       "      <td>Москва</td>\n",
       "      <td>550</td>\n",
       "    </tr>\n",
       "    <tr>\n",
       "      <td>1002</td>\n",
       "      <td>6</td>\n",
       "      <td>Стерлитамак</td>\n",
       "      <td>550</td>\n",
       "    </tr>\n",
       "  </tbody>\n",
       "</table>\n",
       "</div>"
      ],
      "text/plain": [
       "                       city  proceeds\n",
       "user_id months                       \n",
       "1000    5         Краснодар      1950\n",
       "        6         Краснодар      1950\n",
       "        7         Краснодар      1950\n",
       "        8         Краснодар      1950\n",
       "        9         Краснодар      1950\n",
       "        10        Краснодар      1950\n",
       "        11        Краснодар      1950\n",
       "        12        Краснодар      1950\n",
       "1001    11           Москва      1150\n",
       "        12           Москва       550\n",
       "1002    6       Стерлитамак       550"
      ]
     },
     "execution_count": 143,
     "metadata": {},
     "output_type": "execute_result"
    }
   ],
   "source": [
    "# <сводная таблица>\n",
    "cities_proceeds = users_proceeds.join(users_join, on=['user_id'])[['city', 'proceeds']]\n",
    "cities_proceeds.head(11)"
   ]
  },
  {
   "cell_type": "code",
   "execution_count": 144,
   "metadata": {},
   "outputs": [
    {
     "data": {
      "text/plain": [
       "user_id  months\n",
       "1001     11        1150\n",
       "         12         550\n",
       "1003     8         1950\n",
       "         9         1950\n",
       "         10        1950\n",
       "Name: proceeds, dtype: int64"
      ]
     },
     "execution_count": 144,
     "metadata": {},
     "output_type": "execute_result"
    }
   ],
   "source": [
    "# <выручка для Москвы>\n",
    "moscow_proceeds = cities_proceeds.query('city == \"Москва\"')['proceeds']\n",
    "moscow_proceeds.head()"
   ]
  },
  {
   "cell_type": "code",
   "execution_count": 145,
   "metadata": {},
   "outputs": [
    {
     "data": {
      "text/plain": [
       "user_id  months\n",
       "1000     5         1950\n",
       "         6         1950\n",
       "         7         1950\n",
       "         8         1950\n",
       "         9         1950\n",
       "         10        1950\n",
       "         11        1950\n",
       "         12        1950\n",
       "1002     6          550\n",
       "         7         1150\n",
       "Name: proceeds, dtype: int64"
      ]
     },
     "execution_count": 145,
     "metadata": {},
     "output_type": "execute_result"
    }
   ],
   "source": [
    "# <выручка для других городов>\n",
    "other_cities_proceeds = cities_proceeds.query('city != \"Москва\"')['proceeds']\n",
    "other_cities_proceeds.head(10)"
   ]
  },
  {
   "cell_type": "code",
   "execution_count": 146,
   "metadata": {},
   "outputs": [
    {
     "name": "stdout",
     "output_type": "stream",
     "text": [
      "Количество строк для Москвы 611 \n",
      "Количество строк для других городов 2605\n"
     ]
    }
   ],
   "source": [
    "# <количество элементов для Москвы и других городов>\n",
    "print('Количество строк для Москвы', len(moscow_proceeds),\n",
    "      '\\nКоличество строк для других городов', len(other_cities_proceeds))"
   ]
  },
  {
   "cell_type": "markdown",
   "metadata": {},
   "source": [
    "Построим boxplots."
   ]
  },
  {
   "cell_type": "code",
   "execution_count": 147,
   "metadata": {},
   "outputs": [
    {
     "data": {
      "image/png": "[encoded data removed]",
      "text/plain": [
       "<Figure size 1224x720 with 1 Axes>"
      ]
     },
     "metadata": {},
     "output_type": "display_data"
    }
   ],
   "source": [
    "# <boxplots для выручки пользователей из Москвы и других городов>\n",
    "box1 = moscow_proceeds\n",
    "box2 = other_cities_proceeds\n",
    "colors = ['tab:red', 'tab:blue']\n",
    "fig, ax = plt.subplots(1, 1, figsize=(17,10)) \n",
    "sns.boxplot(x='series', y='values', \n",
    "           data=pd.DataFrame({'series':pd.concat([box1, box2], axis=0),\n",
    "                             'values':np.repeat(['Москва', 'Другие города'], [len(box1), len(box2)])}),\n",
    "            ax = ax, palette=colors, width=0.5)\n",
    "ax.set(xlabel='Выручка за месяц, руб.', ylabel='Тарифы', \n",
    "       title='\"Ящики с усами\" для выручки пользователей из Москвы и других городов',\n",
    "      xticks=np.arange(500, 7001, 250))\n",
    "ax.tick_params(axis='x', rotation=45)"
   ]
  },
  {
   "cell_type": "markdown",
   "metadata": {},
   "source": [
    "Наложим гистограммы распределений одну на другую, чтобы сравнить их по доле значений. Пересчет доли значений - в параметре **weights**."
   ]
  },
  {
   "cell_type": "code",
   "execution_count": 148,
   "metadata": {},
   "outputs": [
    {
     "name": "stdout",
     "output_type": "stream",
     "text": [
      "min     550\n",
      "max    5321\n",
      "Name: proceeds, dtype: int64\n",
      "min     550\n",
      "max    6770\n",
      "Name: proceeds, dtype: int64\n",
      "Количество bins для других городов 65.18549570320687\n"
     ]
    }
   ],
   "source": [
    "# <подсчет количества bins для совпадения столбцов по оси x>\n",
    "print(moscow_proceeds.agg([min, max]))\n",
    "print(other_cities_proceeds.agg([min, max]))\n",
    "print('Количество bins для других городов', 50 * (6770 - 550) / (5321 - 550)) # <округлим до 65>"
   ]
  },
  {
   "cell_type": "code",
   "execution_count": 149,
   "metadata": {},
   "outputs": [
    {
     "data": {
      "text/plain": [
       "Text(0, 0.5, 'Доля значений')"
      ]
     },
     "execution_count": 149,
     "metadata": {},
     "output_type": "execute_result"
    },
    {
     "data": {
      "image/png": "[encoded data removed]",
      "text/plain": [
       "<Figure size 1080x720 with 1 Axes>"
      ]
     },
     "metadata": {},
     "output_type": "display_data"
    }
   ],
   "source": [
    "# <Сравнение распределений выручки для пользователей из Москвы и других городов>\n",
    "plt.subplots(1, 1, figsize=(15,10))\n",
    "plt.title('Сравнение распределений выручки для пользователей из Москвы и других городов')\n",
    "for temp, j, k in [[moscow_proceeds, 'tab:red', 50], [other_cities_proceeds, 'tab:blue', 65]]:\n",
    "    temp.hist(bins=k, alpha=0.4, color=j, weights=np.ones_like(np.arange(len(temp))) / len(temp))\n",
    "plt.legend(['Москва', 'Другие города'], fontsize=20)\n",
    "plt.xticks(np.arange(500, 7001, 500))\n",
    "plt.yticks(np.arange(0, 0.36, 0.02))\n",
    "plt.xlabel('Выручка, руб.')\n",
    "plt.ylabel('Доля значений')"
   ]
  },
  {
   "cell_type": "code",
   "execution_count": 150,
   "metadata": {},
   "outputs": [
    {
     "name": "stdout",
     "output_type": "stream",
     "text": [
      "0.25     780.5\n",
      "0.50    1750.0\n",
      "0.75    1950.0\n",
      "Name: proceeds, dtype: float64\n",
      "0.25     750.0\n",
      "0.50    1583.0\n",
      "0.75    1950.0\n",
      "Name: proceeds, dtype: float64\n"
     ]
    }
   ],
   "source": [
    "# <Q1, медиана и Q3 для Москвы и других городов>\n",
    "print(moscow_proceeds.quantile([0.25, 0.5, 0.75]))\n",
    "print(other_cities_proceeds.quantile([0.25, 0.5, 0.75]))"
   ]
  },
  {
   "cell_type": "code",
   "execution_count": 151,
   "metadata": {},
   "outputs": [
    {
     "name": "stdout",
     "output_type": "stream",
     "text": [
      "Москва:\n",
      "min        550.000000\n",
      "max       5321.000000\n",
      "mean      1546.713584\n",
      "median    1750.000000\n",
      "Name: proceeds, dtype: float64\n",
      "\n",
      "Другие города:\n",
      "min        550.000000\n",
      "max       6770.000000\n",
      "mean      1524.725144\n",
      "median    1583.000000\n",
      "Name: proceeds, dtype: float64\n"
     ]
    }
   ],
   "source": [
    "# <минимум, максимум, среднее и медиана выручки для Москвы и других городов>\n",
    "print('Москва:\\n', moscow_proceeds.agg(['min', 'max', 'mean', 'median']), '\\n', sep='')\n",
    "print('Другие города:\\n', other_cities_proceeds.agg(['min', 'max', 'mean', 'median']), sep='')"
   ]
  },
  {
   "cell_type": "code",
   "execution_count": 152,
   "metadata": {},
   "outputs": [
    {
     "name": "stdout",
     "output_type": "stream",
     "text": [
      "Москва:\n",
      "var    565636.467012\n",
      "std       752.088071\n",
      "Name: proceeds, dtype: float64\n",
      "\n",
      "Другие города:\n",
      "var    654069.574963\n",
      "std       808.745680\n",
      "Name: proceeds, dtype: float64\n"
     ]
    }
   ],
   "source": [
    "# <дисперсия и стандартное отклонение выручки для Москвы и других городов>\n",
    "print('Москва:\\n', moscow_proceeds.agg([np.var, np.std]), '\\n', sep='')\n",
    "print('Другие города:\\n', other_cities_proceeds.agg([np.var, np.std]), sep='')"
   ]
  },
  {
   "cell_type": "markdown",
   "metadata": {},
   "source": [
    "Среднее значение для Москва немного выше, но в целом гистограммы похожи."
   ]
  },
  {
   "cell_type": "markdown",
   "metadata": {},
   "source": [
    "*В итоге:*\n",
    "- **Формулируем нулевую гипотезу о равенстве средних двух генеральных совокупностей**;\n",
    "- **Формулируем двустороннюю альтернативную гипотезу**, так как среднее значение для Москвы ненамного больше среднего значения для других городов;\n",
    "- Значение **требуемого уровня значимости принимаем равным 0.05**."
   ]
  },
  {
   "cell_type": "markdown",
   "metadata": {},
   "source": [
    "**Нулевая гипотеза (H0)**: средняя выручка пользователей из Москвы (датафрейм *moscow_proceeds*) *равна* средней выручке пользователей из других городов (датафрейм *other_cities_proceeds*);<br><br>\n",
    "**Альтернативная гипотеза (Н1)**: средняя выручка пользователей из Москвы *не равна* средней выручки пользователей из других городов."
   ]
  },
  {
   "cell_type": "code",
   "execution_count": 153,
   "metadata": {},
   "outputs": [],
   "source": [
    "# критический уровень статистической значимости\n",
    "alpha = 0.05 "
   ]
  },
  {
   "cell_type": "code",
   "execution_count": 154,
   "metadata": {},
   "outputs": [
    {
     "name": "stdout",
     "output_type": "stream",
     "text": [
      "p-значение: 0.5400751614511182\n",
      "Не получилось отвергнуть нулевую гипотезу\n"
     ]
    }
   ],
   "source": [
    "# <проверка гипотезы о равенстве средних двух независимых совокупностей>\n",
    "# <дисперсии несильно отличаются, поэтому 'equal_var'=True>\n",
    "results = st.ttest_ind(moscow_proceeds, other_cities_proceeds)\n",
    "print('p-значение:', results.pvalue)\n",
    "if results.pvalue < alpha:\n",
    "    print(\"Отвергаем нулевую гипотезу\")\n",
    "else:\n",
    "    print(\"Не получилось отвергнуть нулевую гипотезу\")"
   ]
  },
  {
   "cell_type": "markdown",
   "metadata": {},
   "source": [
    "**P-value** равен **0.54**. Это означает, что:\n",
    "1. С вероятностью около **54%** имеющиеся различия можно получить случайно;\n",
    "2. P-value (**0.54**) больше значения альфа (**0.05**), поэтому не получается отклонить нулевую гипотезу.\n",
    "\n",
    "**Средняя выручка пользователей из Москвы равна средней выручке пользователей из других городов**."
   ]
  },
  {
   "cell_type": "markdown",
   "metadata": {},
   "source": [
    "### 4.3. Вывод"
   ]
  },
  {
   "cell_type": "markdown",
   "metadata": {},
   "source": [
    "1. Средняя выручка пользователей тарифов «Ультра» и «Смарт» различаются, выручка пользователей тарифа «Ультра» больше выручки пользователей тарифа «Смарт». Нулевая гипотеза (односторонняя) о равенстве средних двух ГС была отклонена с уровнем значимости $p=9.635056972104705\\cdot10^{-251}$;\n",
    "2. Cредняя выручка пользователей из Москвы не отличается от выручки пользователей из других регионов. Нулевую гипотезу (двустороннюю) о равенстве средних двух ГС не удалось отклонить (уровень значимости $p=0.54$)."
   ]
  },
  {
   "cell_type": "markdown",
   "metadata": {},
   "source": [
    "## 5. Общий вывод"
   ]
  },
  {
   "cell_type": "markdown",
   "metadata": {},
   "source": [
    "- В данном исследовании было принято решение проводить анализ по каждому месяцу использования тарифа, <i>чтобы придать больший вес данным абонентов, пользующихся услугами долгое время и расширить размеры выборки</i>, а не создавать таблицу со средними значениями для каждого абонента;<br><br>\n",
    "- Абоненты тарифа **smart** чаще расходуют трафик свыше лимита, но дисперсия значений ниже, чем для тарифа **ultra**, так как за дополнительный объем **минут**, **сообщений** и **Гигабайт** взимается плата и абоненты обычно стараются не превышать лимит;<br><br>\n",
    "- Абоненты тарифа **ultra** расходуют объемы услуг внутри лимита в зависимости от своих потребностей, не беспокоясь за перерасход, поэтому дисперсия расходов **минут**, **сообщений** и **Гигабайт** для этого тарифа высока;<br><br>\n",
    "- В среднем абоненты тарифа **ultra** приносят больше выручки, чем абоненты тарифа **smart**;<br><br>\n",
    "- Средняя выручка пользователей из Москвы не отличается от выручки пользователей их других регионов."
   ]
  }
 ],
 "metadata": {
  "ExecuteTimeLog": [
   {
    "duration": 1513,
    "start_time": "2021-10-01T10:48:00.710Z"
   },
   {
    "duration": 71,
    "start_time": "2021-10-01T10:48:02.226Z"
   },
   {
    "duration": 14,
    "start_time": "2021-10-01T10:48:02.301Z"
   },
   {
    "duration": 23,
    "start_time": "2021-10-01T10:48:02.318Z"
   },
   {
    "duration": 27,
    "start_time": "2021-10-01T10:48:02.344Z"
   },
   {
    "duration": 11,
    "start_time": "2021-10-01T10:48:02.374Z"
   },
   {
    "duration": 244,
    "start_time": "2021-10-01T10:48:02.388Z"
   },
   {
    "duration": 26,
    "start_time": "2021-10-01T10:48:02.636Z"
   },
   {
    "duration": 174,
    "start_time": "2021-10-01T10:48:02.683Z"
   },
   {
    "duration": 159,
    "start_time": "2021-10-01T10:48:02.860Z"
   },
   {
    "duration": 19,
    "start_time": "2021-10-01T10:48:03.021Z"
   },
   {
    "duration": 100,
    "start_time": "2021-10-01T10:48:03.043Z"
   },
   {
    "duration": 201,
    "start_time": "2021-10-01T10:48:03.145Z"
   },
   {
    "duration": 23,
    "start_time": "2021-10-01T10:48:03.348Z"
   },
   {
    "duration": 113,
    "start_time": "2021-10-01T10:48:03.384Z"
   },
   {
    "duration": 19,
    "start_time": "2021-10-01T10:48:03.501Z"
   },
   {
    "duration": 8,
    "start_time": "2021-10-01T10:48:03.523Z"
   },
   {
    "duration": 14,
    "start_time": "2021-10-01T10:48:03.534Z"
   },
   {
    "duration": 39,
    "start_time": "2021-10-01T10:48:03.551Z"
   },
   {
    "duration": 19,
    "start_time": "2021-10-01T10:48:03.593Z"
   },
   {
    "duration": 10,
    "start_time": "2021-10-01T10:48:03.615Z"
   },
   {
    "duration": 12,
    "start_time": "2021-10-01T10:48:03.627Z"
   },
   {
    "duration": 46,
    "start_time": "2021-10-01T10:48:03.645Z"
   },
   {
    "duration": 25,
    "start_time": "2021-10-01T10:48:03.696Z"
   },
   {
    "duration": 6,
    "start_time": "2021-10-01T10:48:03.724Z"
   },
   {
    "duration": 9,
    "start_time": "2021-10-01T10:48:03.732Z"
   },
   {
    "duration": 8,
    "start_time": "2021-10-01T10:48:03.744Z"
   },
   {
    "duration": 61,
    "start_time": "2021-10-01T10:48:03.754Z"
   },
   {
    "duration": 9,
    "start_time": "2021-10-01T10:48:03.818Z"
   },
   {
    "duration": 12,
    "start_time": "2021-10-01T10:48:03.830Z"
   },
   {
    "duration": 57,
    "start_time": "2021-10-01T10:48:03.844Z"
   },
   {
    "duration": 18,
    "start_time": "2021-10-01T10:48:03.904Z"
   },
   {
    "duration": 29,
    "start_time": "2021-10-01T10:48:03.925Z"
   },
   {
    "duration": 233,
    "start_time": "2021-10-01T10:48:03.958Z"
   },
   {
    "duration": 273,
    "start_time": "2021-10-01T10:48:04.193Z"
   },
   {
    "duration": 284,
    "start_time": "2021-10-01T10:48:04.468Z"
   },
   {
    "duration": 121,
    "start_time": "2021-10-01T10:48:04.754Z"
   },
   {
    "duration": 11,
    "start_time": "2021-10-01T10:48:04.878Z"
   },
   {
    "duration": 24,
    "start_time": "2021-10-01T10:48:04.893Z"
   },
   {
    "duration": 76,
    "start_time": "2021-10-01T10:48:04.920Z"
   },
   {
    "duration": 25,
    "start_time": "2021-10-01T10:48:04.998Z"
   },
   {
    "duration": 8,
    "start_time": "2021-10-01T10:48:05.025Z"
   },
   {
    "duration": 14,
    "start_time": "2021-10-01T10:48:05.035Z"
   },
   {
    "duration": 45,
    "start_time": "2021-10-01T10:48:05.051Z"
   },
   {
    "duration": 17,
    "start_time": "2021-10-01T10:48:05.099Z"
   },
   {
    "duration": 20,
    "start_time": "2021-10-01T10:48:05.119Z"
   },
   {
    "duration": 118,
    "start_time": "2021-10-01T10:48:05.142Z"
   },
   {
    "duration": 175,
    "start_time": "2021-10-01T10:48:05.263Z"
   },
   {
    "duration": 175,
    "start_time": "2021-10-01T10:48:05.441Z"
   },
   {
    "duration": 72,
    "start_time": "2021-10-01T10:48:05.619Z"
   },
   {
    "duration": 11,
    "start_time": "2021-10-01T10:48:05.695Z"
   },
   {
    "duration": 15,
    "start_time": "2021-10-01T10:48:05.709Z"
   },
   {
    "duration": 63,
    "start_time": "2021-10-01T10:48:05.727Z"
   },
   {
    "duration": 17,
    "start_time": "2021-10-01T10:48:05.793Z"
   },
   {
    "duration": 15,
    "start_time": "2021-10-01T10:48:05.813Z"
   },
   {
    "duration": 25,
    "start_time": "2021-10-01T10:48:05.831Z"
   },
   {
    "duration": 170,
    "start_time": "2021-10-01T10:48:05.882Z"
   },
   {
    "duration": 210,
    "start_time": "2021-10-01T10:48:06.055Z"
   },
   {
    "duration": 197,
    "start_time": "2021-10-01T10:48:06.267Z"
   },
   {
    "duration": 94,
    "start_time": "2021-10-01T10:48:06.466Z"
   },
   {
    "duration": 23,
    "start_time": "2021-10-01T10:48:06.562Z"
   },
   {
    "duration": 21,
    "start_time": "2021-10-01T10:48:06.590Z"
   },
   {
    "duration": 15,
    "start_time": "2021-10-01T10:48:06.614Z"
   },
   {
    "duration": 13,
    "start_time": "2021-10-01T10:48:06.631Z"
   },
   {
    "duration": 76,
    "start_time": "2021-10-01T10:48:06.646Z"
   },
   {
    "duration": 13,
    "start_time": "2021-10-01T10:48:06.725Z"
   },
   {
    "duration": 49,
    "start_time": "2021-10-01T10:48:06.741Z"
   },
   {
    "duration": 5,
    "start_time": "2021-10-01T10:48:06.803Z"
   },
   {
    "duration": 574,
    "start_time": "2021-10-01T10:48:06.813Z"
   },
   {
    "duration": 38,
    "start_time": "2021-10-01T10:48:07.389Z"
   },
   {
    "duration": 1140,
    "start_time": "2021-10-01T10:48:07.429Z"
   },
   {
    "duration": 124,
    "start_time": "2021-10-01T10:48:08.572Z"
   },
   {
    "duration": 94,
    "start_time": "2021-10-01T10:48:08.699Z"
   },
   {
    "duration": 673,
    "start_time": "2021-10-01T10:48:08.796Z"
   },
   {
    "duration": 70,
    "start_time": "2021-10-01T10:48:09.472Z"
   },
   {
    "duration": 86,
    "start_time": "2021-10-01T10:48:09.545Z"
   },
   {
    "duration": 843,
    "start_time": "2021-10-01T10:48:09.633Z"
   },
   {
    "duration": 91,
    "start_time": "2021-10-01T10:48:10.478Z"
   },
   {
    "duration": 65,
    "start_time": "2021-10-01T10:48:10.571Z"
   },
   {
    "duration": 4,
    "start_time": "2021-10-01T10:48:10.639Z"
   },
   {
    "duration": 504,
    "start_time": "2021-10-01T10:48:10.645Z"
   },
   {
    "duration": 50,
    "start_time": "2021-10-01T10:48:11.152Z"
   },
   {
    "duration": 14,
    "start_time": "2021-10-01T10:48:11.205Z"
   },
   {
    "duration": 8,
    "start_time": "2021-10-01T10:48:11.221Z"
   },
   {
    "duration": 18,
    "start_time": "2021-10-01T10:48:11.231Z"
   },
   {
    "duration": 673,
    "start_time": "2021-10-01T10:48:11.251Z"
   },
   {
    "duration": 23,
    "start_time": "2021-10-01T10:48:11.926Z"
   },
   {
    "duration": 7,
    "start_time": "2021-10-01T10:48:11.951Z"
   },
   {
    "duration": 4,
    "start_time": "2021-10-01T10:48:11.984Z"
   },
   {
    "duration": 1541,
    "start_time": "2021-10-01T10:48:11.991Z"
   },
   {
    "duration": 8,
    "start_time": "2021-10-01T10:48:13.534Z"
   },
   {
    "duration": 1119,
    "start_time": "2021-10-01T10:48:13.545Z"
   },
   {
    "duration": 23,
    "start_time": "2021-10-01T10:48:14.666Z"
   },
   {
    "duration": 29,
    "start_time": "2021-10-01T10:48:14.692Z"
   },
   {
    "duration": 28,
    "start_time": "2021-10-01T10:48:14.724Z"
   },
   {
    "duration": 60,
    "start_time": "2021-10-01T10:48:14.754Z"
   },
   {
    "duration": 25,
    "start_time": "2021-10-01T10:48:14.817Z"
   },
   {
    "duration": 7,
    "start_time": "2021-10-01T10:48:14.845Z"
   },
   {
    "duration": 1449,
    "start_time": "2021-10-01T10:48:14.854Z"
   },
   {
    "duration": 29,
    "start_time": "2021-10-01T10:48:16.306Z"
   },
   {
    "duration": 1273,
    "start_time": "2021-10-01T10:48:16.338Z"
   },
   {
    "duration": 8,
    "start_time": "2021-10-01T10:48:17.615Z"
   },
   {
    "duration": 1240,
    "start_time": "2021-10-01T10:48:17.626Z"
   },
   {
    "duration": 1136,
    "start_time": "2021-10-01T10:48:18.869Z"
   },
   {
    "duration": 29,
    "start_time": "2021-10-01T10:48:20.008Z"
   },
   {
    "duration": 45,
    "start_time": "2021-10-01T10:48:20.039Z"
   },
   {
    "duration": 30,
    "start_time": "2021-10-01T10:48:20.090Z"
   },
   {
    "duration": 8,
    "start_time": "2021-10-01T10:48:20.123Z"
   },
   {
    "duration": 1379,
    "start_time": "2021-10-01T10:48:20.134Z"
   },
   {
    "duration": 917,
    "start_time": "2021-10-01T10:48:21.516Z"
   },
   {
    "duration": 25,
    "start_time": "2021-10-01T10:48:22.435Z"
   },
   {
    "duration": 60,
    "start_time": "2021-10-01T10:48:22.463Z"
   },
   {
    "duration": 14,
    "start_time": "2021-10-01T10:48:22.525Z"
   },
   {
    "duration": 12,
    "start_time": "2021-10-01T10:48:22.541Z"
   },
   {
    "duration": 148,
    "start_time": "2021-10-01T10:48:22.582Z"
   },
   {
    "duration": 690,
    "start_time": "2021-10-01T10:48:22.733Z"
   },
   {
    "duration": 1161,
    "start_time": "2021-10-01T10:48:23.425Z"
   },
   {
    "duration": 16,
    "start_time": "2021-10-01T10:48:24.588Z"
   },
   {
    "duration": 1386,
    "start_time": "2021-10-01T10:48:24.607Z"
   },
   {
    "duration": 10,
    "start_time": "2021-10-01T10:48:25.995Z"
   },
   {
    "duration": 30,
    "start_time": "2021-10-01T10:48:26.008Z"
   },
   {
    "duration": 48,
    "start_time": "2021-10-01T10:48:26.040Z"
   },
   {
    "duration": 26,
    "start_time": "2021-10-01T10:48:26.095Z"
   },
   {
    "duration": 12,
    "start_time": "2021-10-01T10:48:26.124Z"
   },
   {
    "duration": 5,
    "start_time": "2021-10-01T10:48:26.138Z"
   },
   {
    "duration": 44,
    "start_time": "2021-10-01T10:48:26.146Z"
   },
   {
    "duration": 21,
    "start_time": "2021-10-01T10:48:26.193Z"
   },
   {
    "duration": 17,
    "start_time": "2021-10-01T10:48:26.217Z"
   },
   {
    "duration": 15,
    "start_time": "2021-10-01T10:48:26.237Z"
   },
   {
    "duration": 45,
    "start_time": "2021-10-01T10:48:26.255Z"
   },
   {
    "duration": 19,
    "start_time": "2021-10-01T10:48:26.303Z"
   },
   {
    "duration": 12,
    "start_time": "2021-10-01T10:48:26.324Z"
   },
   {
    "duration": 5,
    "start_time": "2021-10-01T10:48:26.338Z"
   },
   {
    "duration": 721,
    "start_time": "2021-10-01T10:48:26.345Z"
   },
   {
    "duration": 18,
    "start_time": "2021-10-01T10:48:27.069Z"
   },
   {
    "duration": 1087,
    "start_time": "2021-10-01T10:48:27.090Z"
   },
   {
    "duration": 14,
    "start_time": "2021-10-01T10:48:28.189Z"
   },
   {
    "duration": 15,
    "start_time": "2021-10-01T10:48:28.207Z"
   },
   {
    "duration": 11,
    "start_time": "2021-10-01T10:48:28.225Z"
   },
   {
    "duration": 4,
    "start_time": "2021-10-01T10:48:28.238Z"
   },
   {
    "duration": 50,
    "start_time": "2021-10-01T10:48:28.245Z"
   },
   {
    "duration": 131,
    "start_time": "2021-10-01T10:50:26.588Z"
   },
   {
    "duration": 128,
    "start_time": "2021-10-01T10:51:13.071Z"
   },
   {
    "duration": 111,
    "start_time": "2021-10-01T10:52:34.804Z"
   },
   {
    "duration": 134,
    "start_time": "2021-10-01T10:54:50.389Z"
   },
   {
    "duration": 118,
    "start_time": "2021-10-01T10:56:01.693Z"
   },
   {
    "duration": 159,
    "start_time": "2021-10-01T11:06:41.541Z"
   },
   {
    "duration": 737,
    "start_time": "2021-10-01T11:07:33.486Z"
   },
   {
    "duration": 128,
    "start_time": "2021-10-01T11:08:33.769Z"
   },
   {
    "duration": 10,
    "start_time": "2021-10-01T11:12:33.271Z"
   },
   {
    "duration": 127,
    "start_time": "2021-10-01T11:24:27.409Z"
   },
   {
    "duration": 165,
    "start_time": "2021-10-01T11:25:55.195Z"
   },
   {
    "duration": 188,
    "start_time": "2021-10-01T11:26:36.973Z"
   },
   {
    "duration": 126,
    "start_time": "2021-10-01T11:29:04.246Z"
   },
   {
    "duration": 123,
    "start_time": "2021-10-01T11:34:48.076Z"
   },
   {
    "duration": 106,
    "start_time": "2021-10-01T11:34:53.590Z"
   },
   {
    "duration": 128,
    "start_time": "2021-10-01T11:35:57.424Z"
   },
   {
    "duration": 8,
    "start_time": "2021-10-01T11:37:47.292Z"
   },
   {
    "duration": 8,
    "start_time": "2021-10-01T11:37:48.756Z"
   },
   {
    "duration": 1427,
    "start_time": "2021-10-01T11:38:24.666Z"
   },
   {
    "duration": 49,
    "start_time": "2021-10-01T11:38:26.096Z"
   },
   {
    "duration": 9,
    "start_time": "2021-10-01T11:38:26.148Z"
   },
   {
    "duration": 13,
    "start_time": "2021-10-01T11:38:26.160Z"
   },
   {
    "duration": 26,
    "start_time": "2021-10-01T11:38:26.183Z"
   },
   {
    "duration": 12,
    "start_time": "2021-10-01T11:38:26.211Z"
   },
   {
    "duration": 209,
    "start_time": "2021-10-01T11:38:26.225Z"
   },
   {
    "duration": 27,
    "start_time": "2021-10-01T11:38:26.437Z"
   },
   {
    "duration": 142,
    "start_time": "2021-10-01T11:38:26.483Z"
   },
   {
    "duration": 119,
    "start_time": "2021-10-01T11:38:26.628Z"
   },
   {
    "duration": 19,
    "start_time": "2021-10-01T11:38:26.749Z"
   },
   {
    "duration": 54,
    "start_time": "2021-10-01T11:38:26.783Z"
   },
   {
    "duration": 194,
    "start_time": "2021-10-01T11:38:26.840Z"
   },
   {
    "duration": 23,
    "start_time": "2021-10-01T11:38:27.037Z"
   },
   {
    "duration": 65,
    "start_time": "2021-10-01T11:38:27.083Z"
   },
   {
    "duration": 34,
    "start_time": "2021-10-01T11:38:27.151Z"
   },
   {
    "duration": 12,
    "start_time": "2021-10-01T11:38:27.189Z"
   },
   {
    "duration": 19,
    "start_time": "2021-10-01T11:38:27.204Z"
   },
   {
    "duration": 10,
    "start_time": "2021-10-01T11:38:27.225Z"
   },
   {
    "duration": 49,
    "start_time": "2021-10-01T11:38:27.238Z"
   },
   {
    "duration": 10,
    "start_time": "2021-10-01T11:38:27.290Z"
   },
   {
    "duration": 11,
    "start_time": "2021-10-01T11:38:27.303Z"
   },
   {
    "duration": 8,
    "start_time": "2021-10-01T11:38:27.322Z"
   },
   {
    "duration": 17,
    "start_time": "2021-10-01T11:38:27.383Z"
   },
   {
    "duration": 7,
    "start_time": "2021-10-01T11:38:27.402Z"
   },
   {
    "duration": 9,
    "start_time": "2021-10-01T11:38:27.411Z"
   },
   {
    "duration": 10,
    "start_time": "2021-10-01T11:38:27.423Z"
   },
   {
    "duration": 54,
    "start_time": "2021-10-01T11:38:27.435Z"
   },
   {
    "duration": 16,
    "start_time": "2021-10-01T11:38:27.491Z"
   },
   {
    "duration": 15,
    "start_time": "2021-10-01T11:38:27.510Z"
   },
   {
    "duration": 18,
    "start_time": "2021-10-01T11:38:27.527Z"
   },
   {
    "duration": 34,
    "start_time": "2021-10-01T11:38:27.548Z"
   },
   {
    "duration": 27,
    "start_time": "2021-10-01T11:38:27.585Z"
   },
   {
    "duration": 205,
    "start_time": "2021-10-01T11:38:27.615Z"
   },
   {
    "duration": 260,
    "start_time": "2021-10-01T11:38:27.823Z"
   },
   {
    "duration": 237,
    "start_time": "2021-10-01T11:38:28.086Z"
   },
   {
    "duration": 106,
    "start_time": "2021-10-01T11:38:28.326Z"
   },
   {
    "duration": 9,
    "start_time": "2021-10-01T11:38:28.434Z"
   },
   {
    "duration": 18,
    "start_time": "2021-10-01T11:38:28.445Z"
   },
   {
    "duration": 39,
    "start_time": "2021-10-01T11:38:28.483Z"
   },
   {
    "duration": 20,
    "start_time": "2021-10-01T11:38:28.524Z"
   },
   {
    "duration": 37,
    "start_time": "2021-10-01T11:38:28.547Z"
   },
   {
    "duration": 8,
    "start_time": "2021-10-01T11:38:28.586Z"
   },
   {
    "duration": 14,
    "start_time": "2021-10-01T11:38:28.597Z"
   },
   {
    "duration": 10,
    "start_time": "2021-10-01T11:38:28.613Z"
   },
   {
    "duration": 57,
    "start_time": "2021-10-01T11:38:28.625Z"
   },
   {
    "duration": 70,
    "start_time": "2021-10-01T11:38:28.685Z"
   },
   {
    "duration": 163,
    "start_time": "2021-10-01T11:38:28.758Z"
   },
   {
    "duration": 150,
    "start_time": "2021-10-01T11:38:28.924Z"
   },
   {
    "duration": 59,
    "start_time": "2021-10-01T11:38:29.082Z"
   },
   {
    "duration": 8,
    "start_time": "2021-10-01T11:38:29.143Z"
   },
   {
    "duration": 35,
    "start_time": "2021-10-01T11:38:29.153Z"
   },
   {
    "duration": 26,
    "start_time": "2021-10-01T11:38:29.190Z"
   },
   {
    "duration": 12,
    "start_time": "2021-10-01T11:38:29.218Z"
   },
   {
    "duration": 10,
    "start_time": "2021-10-01T11:38:29.232Z"
   },
   {
    "duration": 23,
    "start_time": "2021-10-01T11:38:29.283Z"
   },
   {
    "duration": 147,
    "start_time": "2021-10-01T11:38:29.309Z"
   },
   {
    "duration": 172,
    "start_time": "2021-10-01T11:38:29.459Z"
   },
   {
    "duration": 173,
    "start_time": "2021-10-01T11:38:29.634Z"
   },
   {
    "duration": 79,
    "start_time": "2021-10-01T11:38:29.809Z"
   },
   {
    "duration": 8,
    "start_time": "2021-10-01T11:38:29.890Z"
   },
   {
    "duration": 20,
    "start_time": "2021-10-01T11:38:29.900Z"
   },
   {
    "duration": 10,
    "start_time": "2021-10-01T11:38:29.922Z"
   },
   {
    "duration": 49,
    "start_time": "2021-10-01T11:38:29.934Z"
   },
   {
    "duration": 31,
    "start_time": "2021-10-01T11:38:29.985Z"
   },
   {
    "duration": 12,
    "start_time": "2021-10-01T11:38:30.018Z"
   },
   {
    "duration": 18,
    "start_time": "2021-10-01T11:38:30.032Z"
   },
   {
    "duration": 5,
    "start_time": "2021-10-01T11:38:30.089Z"
   },
   {
    "duration": 548,
    "start_time": "2021-10-01T11:38:30.098Z"
   },
   {
    "duration": 39,
    "start_time": "2021-10-01T11:38:30.648Z"
   },
   {
    "duration": 993,
    "start_time": "2021-10-01T11:38:30.689Z"
   },
   {
    "duration": 112,
    "start_time": "2021-10-01T11:38:31.684Z"
   },
   {
    "duration": 99,
    "start_time": "2021-10-01T11:38:31.799Z"
   },
   {
    "duration": 592,
    "start_time": "2021-10-01T11:38:31.901Z"
   },
   {
    "duration": 58,
    "start_time": "2021-10-01T11:38:32.496Z"
   },
   {
    "duration": 74,
    "start_time": "2021-10-01T11:38:32.557Z"
   },
   {
    "duration": 836,
    "start_time": "2021-10-01T11:38:32.634Z"
   },
   {
    "duration": 88,
    "start_time": "2021-10-01T11:38:33.472Z"
   },
   {
    "duration": 67,
    "start_time": "2021-10-01T11:38:33.562Z"
   },
   {
    "duration": 4,
    "start_time": "2021-10-01T11:38:33.632Z"
   },
   {
    "duration": 380,
    "start_time": "2021-10-01T11:38:33.639Z"
   },
   {
    "duration": 31,
    "start_time": "2021-10-01T11:38:34.022Z"
   },
   {
    "duration": 15,
    "start_time": "2021-10-01T11:38:34.056Z"
   },
   {
    "duration": 10,
    "start_time": "2021-10-01T11:38:34.083Z"
   },
   {
    "duration": 23,
    "start_time": "2021-10-01T11:38:34.096Z"
   },
   {
    "duration": 739,
    "start_time": "2021-10-01T11:38:34.122Z"
   },
   {
    "duration": 34,
    "start_time": "2021-10-01T11:38:34.864Z"
   },
   {
    "duration": 8,
    "start_time": "2021-10-01T11:38:34.901Z"
   },
   {
    "duration": 7,
    "start_time": "2021-10-01T11:38:34.911Z"
   },
   {
    "duration": 2109,
    "start_time": "2021-10-01T11:38:34.921Z"
   },
   {
    "duration": 10,
    "start_time": "2021-10-01T11:38:37.033Z"
   },
   {
    "duration": 1647,
    "start_time": "2021-10-01T11:38:37.045Z"
   },
   {
    "duration": 13,
    "start_time": "2021-10-01T11:38:38.695Z"
   },
   {
    "duration": 27,
    "start_time": "2021-10-01T11:38:38.710Z"
   },
   {
    "duration": 52,
    "start_time": "2021-10-01T11:38:38.739Z"
   },
   {
    "duration": 15,
    "start_time": "2021-10-01T11:38:38.793Z"
   },
   {
    "duration": 21,
    "start_time": "2021-10-01T11:38:38.810Z"
   },
   {
    "duration": 6,
    "start_time": "2021-10-01T11:38:38.833Z"
   },
   {
    "duration": 1272,
    "start_time": "2021-10-01T11:38:38.841Z"
   },
   {
    "duration": 24,
    "start_time": "2021-10-01T11:38:40.115Z"
   },
   {
    "duration": 1172,
    "start_time": "2021-10-01T11:38:40.142Z"
   },
   {
    "duration": 8,
    "start_time": "2021-10-01T11:38:41.316Z"
   },
   {
    "duration": 1023,
    "start_time": "2021-10-01T11:38:41.326Z"
   },
   {
    "duration": 1043,
    "start_time": "2021-10-01T11:38:42.351Z"
   },
   {
    "duration": 26,
    "start_time": "2021-10-01T11:38:43.397Z"
   },
   {
    "duration": 16,
    "start_time": "2021-10-01T11:38:43.425Z"
   },
   {
    "duration": 54,
    "start_time": "2021-10-01T11:38:43.443Z"
   },
   {
    "duration": 7,
    "start_time": "2021-10-01T11:38:43.500Z"
   },
   {
    "duration": 1235,
    "start_time": "2021-10-01T11:38:43.509Z"
   },
   {
    "duration": 827,
    "start_time": "2021-10-01T11:38:44.747Z"
   },
   {
    "duration": 30,
    "start_time": "2021-10-01T11:38:45.576Z"
   },
   {
    "duration": 32,
    "start_time": "2021-10-01T11:38:45.609Z"
   },
   {
    "duration": 42,
    "start_time": "2021-10-01T11:38:45.643Z"
   },
   {
    "duration": 13,
    "start_time": "2021-10-01T11:38:45.688Z"
   },
   {
    "duration": 144,
    "start_time": "2021-10-01T11:38:45.703Z"
   },
   {
    "duration": 641,
    "start_time": "2021-10-01T11:38:45.849Z"
   },
   {
    "duration": 1027,
    "start_time": "2021-10-01T11:38:46.492Z"
   },
   {
    "duration": 13,
    "start_time": "2021-10-01T11:38:47.521Z"
   },
   {
    "duration": 1254,
    "start_time": "2021-10-01T11:38:47.537Z"
   },
   {
    "duration": 8,
    "start_time": "2021-10-01T11:38:48.793Z"
   },
   {
    "duration": 25,
    "start_time": "2021-10-01T11:38:48.804Z"
   },
   {
    "duration": 58,
    "start_time": "2021-10-01T11:38:48.831Z"
   },
   {
    "duration": 22,
    "start_time": "2021-10-01T11:38:48.891Z"
   },
   {
    "duration": 13,
    "start_time": "2021-10-01T11:38:48.916Z"
   },
   {
    "duration": 16,
    "start_time": "2021-10-01T11:38:48.931Z"
   },
   {
    "duration": 36,
    "start_time": "2021-10-01T11:38:48.949Z"
   },
   {
    "duration": 17,
    "start_time": "2021-10-01T11:38:48.988Z"
   },
   {
    "duration": 20,
    "start_time": "2021-10-01T11:38:49.007Z"
   },
   {
    "duration": 19,
    "start_time": "2021-10-01T11:38:49.030Z"
   },
   {
    "duration": 45,
    "start_time": "2021-10-01T11:38:49.052Z"
   },
   {
    "duration": 13,
    "start_time": "2021-10-01T11:38:49.100Z"
   },
   {
    "duration": 22,
    "start_time": "2021-10-01T11:38:49.116Z"
   },
   {
    "duration": 7,
    "start_time": "2021-10-01T11:38:49.140Z"
   },
   {
    "duration": 676,
    "start_time": "2021-10-01T11:38:49.149Z"
   },
   {
    "duration": 10,
    "start_time": "2021-10-01T11:38:49.827Z"
   },
   {
    "duration": 1133,
    "start_time": "2021-10-01T11:38:49.840Z"
   },
   {
    "duration": 16,
    "start_time": "2021-10-01T11:38:50.975Z"
   },
   {
    "duration": 22,
    "start_time": "2021-10-01T11:38:50.994Z"
   },
   {
    "duration": 16,
    "start_time": "2021-10-01T11:38:51.018Z"
   },
   {
    "duration": 8,
    "start_time": "2021-10-01T11:38:51.036Z"
   },
   {
    "duration": 39,
    "start_time": "2021-10-01T11:38:51.046Z"
   },
   {
    "duration": 10,
    "start_time": "2021-10-01T11:38:51.088Z"
   },
   {
    "duration": 10,
    "start_time": "2021-10-01T11:38:51.101Z"
   },
   {
    "duration": 93,
    "start_time": "2021-10-01T21:16:25.467Z"
   },
   {
    "duration": 102,
    "start_time": "2021-10-01T21:17:52.659Z"
   }
  ],
  "kernelspec": {
   "display_name": "Python 3 (ipykernel)",
   "language": "python",
   "name": "python3"
  },
  "language_info": {
   "codemirror_mode": {
    "name": "ipython",
    "version": 3
   },
   "file_extension": ".py",
   "mimetype": "text/x-python",
   "name": "python",
   "nbconvert_exporter": "python",
   "pygments_lexer": "ipython3",
   "version": "3.7.8"
  },
  "toc": {
   "base_numbering": 1,
   "nav_menu": {},
   "number_sections": false,
   "sideBar": true,
   "skip_h1_title": true,
   "title_cell": "Содержание",
   "title_sidebar": "Contents",
   "toc_cell": true,
   "toc_position": {
    "height": "930px",
    "left": "27px",
    "top": "111.441px",
    "width": "426.997px"
   },
   "toc_section_display": true,
   "toc_window_display": true
  }
 },
 "nbformat": 4,
 "nbformat_minor": 2
}

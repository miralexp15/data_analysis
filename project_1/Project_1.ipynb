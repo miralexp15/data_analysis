{
 "cells": [
  {
   "cell_type": "markdown",
   "metadata": {},
   "source": [
    "# Предобработка данных и исследование надёжности заёмщиков\n",
    "<br><br>\n",
    "**Описание проекта**\n",
    "\n",
    "*Цели*: провести предобработку данных и исследовать, как влияет семейное положение и количество детей клиента на погашение кредита в срок.\n",
    "\n",
    "*Входные данные*: статистика по клиентам.\n",
    "<br><br>\n",
    "**План проекта**:\n",
    "- Проведена предобработка данных:\n",
    "    + Обработка пропусков, дубликатов, некорректных значений;\n",
    "    + Проверка соответствия типов данных;\n",
    "    + Лемматизация и категоризация данных.\n",
    "- Даны ответы на поставленные вопросы."
   ]
  },
  {
   "cell_type": "markdown",
   "metadata": {
    "toc": true
   },
   "source": [
    "<h1>Содержание<span class=\"tocSkip\"></span></h1>\n",
    "<div class=\"toc\"><ul class=\"toc-item\"><li><span><a href=\"#1.-Загрузка-данных-и-изучение-общей-информации\" data-toc-modified-id=\"1.-Загрузка-данных-и-изучение-общей-информации-1\">1. Загрузка данных и изучение общей информации</a></span></li><li><span><a href=\"#2.-Предобработка-данных\" data-toc-modified-id=\"2.-Предобработка-данных-2\">2. Предобработка данных</a></span><ul class=\"toc-item\"><li><span><a href=\"#2.1.-Обработка-пропусков\" data-toc-modified-id=\"2.1.-Обработка-пропусков-2.1\">2.1. Обработка пропусков</a></span><ul class=\"toc-item\"><li><span><a href=\"#2.1.1.-Столбцы-days_employed-и-total_income\" data-toc-modified-id=\"2.1.1.-Столбцы-days_employed-и-total_income-2.1.1\">2.1.1. Столбцы days_employed и total_income</a></span></li><li><span><a href=\"#2.1.2.-Столбец-children\" data-toc-modified-id=\"2.1.2.-Столбец-children-2.1.2\">2.1.2. Столбец children</a></span></li><li><span><a href=\"#2.1.3.-Столбец-dob_years\" data-toc-modified-id=\"2.1.3.-Столбец-dob_years-2.1.3\">2.1.3. Столбец dob_years</a></span></li><li><span><a href=\"#2.1.4.-Столбец-education\" data-toc-modified-id=\"2.1.4.-Столбец-education-2.1.4\">2.1.4. Столбец education</a></span></li><li><span><a href=\"#2.1.5.-Столбец-education_id\" data-toc-modified-id=\"2.1.5.-Столбец-education_id-2.1.5\">2.1.5. Столбец education_id</a></span></li><li><span><a href=\"#2.1.6.-Столбец-family_status\" data-toc-modified-id=\"2.1.6.-Столбец-family_status-2.1.6\">2.1.6. Столбец family_status</a></span></li><li><span><a href=\"#2.1.7.-Столбец-family_status_id\" data-toc-modified-id=\"2.1.7.-Столбец-family_status_id-2.1.7\">2.1.7. Столбец family_status_id</a></span></li><li><span><a href=\"#2.1.8.-Столбец-gender\" data-toc-modified-id=\"2.1.8.-Столбец-gender-2.1.8\">2.1.8. Столбец gender</a></span></li><li><span><a href=\"#2.1.9.-Столбец-income_type\" data-toc-modified-id=\"2.1.9.-Столбец-income_type-2.1.9\">2.1.9. Столбец income_type</a></span></li><li><span><a href=\"#2.1.10.-Столбец-debt\" data-toc-modified-id=\"2.1.10.-Столбец-debt-2.1.10\">2.1.10. Столбец debt</a></span></li><li><span><a href=\"#2.1.11.-Столбец-purpose\" data-toc-modified-id=\"2.1.11.-Столбец-purpose-2.1.11\">2.1.11. Столбец purpose</a></span></li><li><span><a href=\"#2.1.12.-Вывод\" data-toc-modified-id=\"2.1.12.-Вывод-2.1.12\">2.1.12. Вывод</a></span></li></ul></li><li><span><a href=\"#2.2.-Замена-типа-данных\" data-toc-modified-id=\"2.2.-Замена-типа-данных-2.2\">2.2. Замена типа данных</a></span></li><li><span><a href=\"#2.3.-Обработка-дубликатов\" data-toc-modified-id=\"2.3.-Обработка-дубликатов-2.3\">2.3. Обработка дубликатов</a></span></li><li><span><a href=\"#2.4.-Лемматизация\" data-toc-modified-id=\"2.4.-Лемматизация-2.4\">2.4. Лемматизация</a></span></li><li><span><a href=\"#2.5.-Категоризация-данных\" data-toc-modified-id=\"2.5.-Категоризация-данных-2.5\">2.5. Категоризация данных</a></span><ul class=\"toc-item\"><li><span><a href=\"#2.5.1.-Столбец-children\" data-toc-modified-id=\"2.5.1.-Столбец-children-2.5.1\">2.5.1. Столбец children</a></span></li><li><span><a href=\"#2.5.2.-Столбцы-family_status-и-family_status_id\" data-toc-modified-id=\"2.5.2.-Столбцы-family_status-и-family_status_id-2.5.2\">2.5.2. Столбцы family_status и family_status_id</a></span></li><li><span><a href=\"#2.5.3.-Столбец-total_income\" data-toc-modified-id=\"2.5.3.-Столбец-total_income-2.5.3\">2.5.3. Столбец total_income</a></span></li><li><span><a href=\"#2.5.4.-Столбцы-purpose-и-lemm_purpose\" data-toc-modified-id=\"2.5.4.-Столбцы-purpose-и-lemm_purpose-2.5.4\">2.5.4. Столбцы purpose и lemm_purpose</a></span></li><li><span><a href=\"#2.5.5.-Вывод\" data-toc-modified-id=\"2.5.5.-Вывод-2.5.5\">2.5.5. Вывод</a></span></li></ul></li><li><span><a href=\"#2.6.-Завершение-предобработки\" data-toc-modified-id=\"2.6.-Завершение-предобработки-2.6\">2.6. Завершение предобработки</a></span></li></ul></li><li><span><a href=\"#3.-Ответы-на-вопросы\" data-toc-modified-id=\"3.-Ответы-на-вопросы-3\">3. Ответы на вопросы</a></span><ul class=\"toc-item\"><li><span><a href=\"#3.1.-Есть-ли-зависимость-между-наличием-детей-и-возвратом-кредита-в-срок?\" data-toc-modified-id=\"3.1.-Есть-ли-зависимость-между-наличием-детей-и-возвратом-кредита-в-срок?-3.1\">3.1. Есть ли зависимость между наличием детей и возвратом кредита в срок?</a></span></li><li><span><a href=\"#3.2.-Есть-ли-зависимость-между-семейным-положением-и-возвратом-кредита-в-срок?\" data-toc-modified-id=\"3.2.-Есть-ли-зависимость-между-семейным-положением-и-возвратом-кредита-в-срок?-3.2\">3.2. Есть ли зависимость между семейным положением и возвратом кредита в срок?</a></span></li><li><span><a href=\"#3.3.-Есть-ли-зависимость-между-уровнем-дохода-и-возвратом-кредита-в-срок?\" data-toc-modified-id=\"3.3.-Есть-ли-зависимость-между-уровнем-дохода-и-возвратом-кредита-в-срок?-3.3\">3.3. Есть ли зависимость между уровнем дохода и возвратом кредита в срок?</a></span></li><li><span><a href=\"#3.4.-Как-разные-цели-кредита-влияют-на-его-возврат-в-срок?\" data-toc-modified-id=\"3.4.-Как-разные-цели-кредита-влияют-на-его-возврат-в-срок?-3.4\">3.4. Как разные цели кредита влияют на его возврат в срок?</a></span></li></ul></li><li><span><a href=\"#4.-Общий-вывод\" data-toc-modified-id=\"4.-Общий-вывод-4\">4. Общий вывод</a></span><ul class=\"toc-item\"><li><span><a href=\"#4.1.-Дополнительное-задание\" data-toc-modified-id=\"4.1.-Дополнительное-задание-4.1\">4.1. Дополнительное задание</a></span></li></ul></li></ul></div>"
   ]
  },
  {
   "cell_type": "markdown",
   "metadata": {},
   "source": [
    "## 1. Загрузка данных и изучение общей информации"
   ]
  },
  {
   "cell_type": "code",
   "execution_count": 1,
   "metadata": {},
   "outputs": [],
   "source": [
    " # <импорт используемых библиотек>\n",
    "import pandas as pd\n",
    "import numpy as np\n",
    "from pymystem3 import Mystem\n",
    "from collections import Counter\n",
    "import matplotlib.pyplot as plt\n",
    "import seaborn as sns"
   ]
  },
  {
   "cell_type": "code",
   "execution_count": 2,
   "metadata": {
    "scrolled": false
   },
   "outputs": [
    {
     "data": {
      "text/html": [
       "<div>\n",
       "<style scoped>\n",
       "    .dataframe tbody tr th:only-of-type {\n",
       "        vertical-align: middle;\n",
       "    }\n",
       "\n",
       "    .dataframe tbody tr th {\n",
       "        vertical-align: top;\n",
       "    }\n",
       "\n",
       "    .dataframe thead th {\n",
       "        text-align: right;\n",
       "    }\n",
       "</style>\n",
       "<table border=\"1\" class=\"dataframe\">\n",
       "  <thead>\n",
       "    <tr style=\"text-align: right;\">\n",
       "      <th></th>\n",
       "      <th>children</th>\n",
       "      <th>days_employed</th>\n",
       "      <th>dob_years</th>\n",
       "      <th>education</th>\n",
       "      <th>education_id</th>\n",
       "      <th>family_status</th>\n",
       "      <th>family_status_id</th>\n",
       "      <th>gender</th>\n",
       "      <th>income_type</th>\n",
       "      <th>debt</th>\n",
       "      <th>total_income</th>\n",
       "      <th>purpose</th>\n",
       "    </tr>\n",
       "  </thead>\n",
       "  <tbody>\n",
       "    <tr>\n",
       "      <td>0</td>\n",
       "      <td>1</td>\n",
       "      <td>-8437.673028</td>\n",
       "      <td>42</td>\n",
       "      <td>высшее</td>\n",
       "      <td>0</td>\n",
       "      <td>женат / замужем</td>\n",
       "      <td>0</td>\n",
       "      <td>F</td>\n",
       "      <td>сотрудник</td>\n",
       "      <td>0</td>\n",
       "      <td>253875.639453</td>\n",
       "      <td>покупка жилья</td>\n",
       "    </tr>\n",
       "    <tr>\n",
       "      <td>1</td>\n",
       "      <td>1</td>\n",
       "      <td>-4024.803754</td>\n",
       "      <td>36</td>\n",
       "      <td>среднее</td>\n",
       "      <td>1</td>\n",
       "      <td>женат / замужем</td>\n",
       "      <td>0</td>\n",
       "      <td>F</td>\n",
       "      <td>сотрудник</td>\n",
       "      <td>0</td>\n",
       "      <td>112080.014102</td>\n",
       "      <td>приобретение автомобиля</td>\n",
       "    </tr>\n",
       "    <tr>\n",
       "      <td>2</td>\n",
       "      <td>0</td>\n",
       "      <td>-5623.422610</td>\n",
       "      <td>33</td>\n",
       "      <td>Среднее</td>\n",
       "      <td>1</td>\n",
       "      <td>женат / замужем</td>\n",
       "      <td>0</td>\n",
       "      <td>M</td>\n",
       "      <td>сотрудник</td>\n",
       "      <td>0</td>\n",
       "      <td>145885.952297</td>\n",
       "      <td>покупка жилья</td>\n",
       "    </tr>\n",
       "    <tr>\n",
       "      <td>3</td>\n",
       "      <td>3</td>\n",
       "      <td>-4124.747207</td>\n",
       "      <td>32</td>\n",
       "      <td>среднее</td>\n",
       "      <td>1</td>\n",
       "      <td>женат / замужем</td>\n",
       "      <td>0</td>\n",
       "      <td>M</td>\n",
       "      <td>сотрудник</td>\n",
       "      <td>0</td>\n",
       "      <td>267628.550329</td>\n",
       "      <td>дополнительное образование</td>\n",
       "    </tr>\n",
       "    <tr>\n",
       "      <td>4</td>\n",
       "      <td>0</td>\n",
       "      <td>340266.072047</td>\n",
       "      <td>53</td>\n",
       "      <td>среднее</td>\n",
       "      <td>1</td>\n",
       "      <td>гражданский брак</td>\n",
       "      <td>1</td>\n",
       "      <td>F</td>\n",
       "      <td>пенсионер</td>\n",
       "      <td>0</td>\n",
       "      <td>158616.077870</td>\n",
       "      <td>сыграть свадьбу</td>\n",
       "    </tr>\n",
       "    <tr>\n",
       "      <td>5</td>\n",
       "      <td>0</td>\n",
       "      <td>-926.185831</td>\n",
       "      <td>27</td>\n",
       "      <td>высшее</td>\n",
       "      <td>0</td>\n",
       "      <td>гражданский брак</td>\n",
       "      <td>1</td>\n",
       "      <td>M</td>\n",
       "      <td>компаньон</td>\n",
       "      <td>0</td>\n",
       "      <td>255763.565419</td>\n",
       "      <td>покупка жилья</td>\n",
       "    </tr>\n",
       "    <tr>\n",
       "      <td>6</td>\n",
       "      <td>0</td>\n",
       "      <td>-2879.202052</td>\n",
       "      <td>43</td>\n",
       "      <td>высшее</td>\n",
       "      <td>0</td>\n",
       "      <td>женат / замужем</td>\n",
       "      <td>0</td>\n",
       "      <td>F</td>\n",
       "      <td>компаньон</td>\n",
       "      <td>0</td>\n",
       "      <td>240525.971920</td>\n",
       "      <td>операции с жильем</td>\n",
       "    </tr>\n",
       "    <tr>\n",
       "      <td>7</td>\n",
       "      <td>0</td>\n",
       "      <td>-152.779569</td>\n",
       "      <td>50</td>\n",
       "      <td>СРЕДНЕЕ</td>\n",
       "      <td>1</td>\n",
       "      <td>женат / замужем</td>\n",
       "      <td>0</td>\n",
       "      <td>M</td>\n",
       "      <td>сотрудник</td>\n",
       "      <td>0</td>\n",
       "      <td>135823.934197</td>\n",
       "      <td>образование</td>\n",
       "    </tr>\n",
       "    <tr>\n",
       "      <td>8</td>\n",
       "      <td>2</td>\n",
       "      <td>-6929.865299</td>\n",
       "      <td>35</td>\n",
       "      <td>ВЫСШЕЕ</td>\n",
       "      <td>0</td>\n",
       "      <td>гражданский брак</td>\n",
       "      <td>1</td>\n",
       "      <td>F</td>\n",
       "      <td>сотрудник</td>\n",
       "      <td>0</td>\n",
       "      <td>95856.832424</td>\n",
       "      <td>на проведение свадьбы</td>\n",
       "    </tr>\n",
       "    <tr>\n",
       "      <td>9</td>\n",
       "      <td>0</td>\n",
       "      <td>-2188.756445</td>\n",
       "      <td>41</td>\n",
       "      <td>среднее</td>\n",
       "      <td>1</td>\n",
       "      <td>женат / замужем</td>\n",
       "      <td>0</td>\n",
       "      <td>M</td>\n",
       "      <td>сотрудник</td>\n",
       "      <td>0</td>\n",
       "      <td>144425.938277</td>\n",
       "      <td>покупка жилья для семьи</td>\n",
       "    </tr>\n",
       "  </tbody>\n",
       "</table>\n",
       "</div>"
      ],
      "text/plain": [
       "   children  days_employed  dob_years education  education_id  \\\n",
       "0         1   -8437.673028         42    высшее             0   \n",
       "1         1   -4024.803754         36   среднее             1   \n",
       "2         0   -5623.422610         33   Среднее             1   \n",
       "3         3   -4124.747207         32   среднее             1   \n",
       "4         0  340266.072047         53   среднее             1   \n",
       "5         0    -926.185831         27    высшее             0   \n",
       "6         0   -2879.202052         43    высшее             0   \n",
       "7         0    -152.779569         50   СРЕДНЕЕ             1   \n",
       "8         2   -6929.865299         35    ВЫСШЕЕ             0   \n",
       "9         0   -2188.756445         41   среднее             1   \n",
       "\n",
       "      family_status  family_status_id gender income_type  debt   total_income  \\\n",
       "0   женат / замужем                 0      F   сотрудник     0  253875.639453   \n",
       "1   женат / замужем                 0      F   сотрудник     0  112080.014102   \n",
       "2   женат / замужем                 0      M   сотрудник     0  145885.952297   \n",
       "3   женат / замужем                 0      M   сотрудник     0  267628.550329   \n",
       "4  гражданский брак                 1      F   пенсионер     0  158616.077870   \n",
       "5  гражданский брак                 1      M   компаньон     0  255763.565419   \n",
       "6   женат / замужем                 0      F   компаньон     0  240525.971920   \n",
       "7   женат / замужем                 0      M   сотрудник     0  135823.934197   \n",
       "8  гражданский брак                 1      F   сотрудник     0   95856.832424   \n",
       "9   женат / замужем                 0      M   сотрудник     0  144425.938277   \n",
       "\n",
       "                      purpose  \n",
       "0               покупка жилья  \n",
       "1     приобретение автомобиля  \n",
       "2               покупка жилья  \n",
       "3  дополнительное образование  \n",
       "4             сыграть свадьбу  \n",
       "5               покупка жилья  \n",
       "6           операции с жильем  \n",
       "7                 образование  \n",
       "8       на проведение свадьбы  \n",
       "9     покупка жилья для семьи  "
      ]
     },
     "execution_count": 2,
     "metadata": {},
     "output_type": "execute_result"
    }
   ],
   "source": [
    "# <конструкция для автоматизации записи файла в DataFrame>\n",
    "try:\n",
    "    df = pd.read_csv('project_data.csv') # <запись файла csv в DataFrame для локальной машины>\n",
    "except:\n",
    "    df = pd.read_csv('/dataset/data.csv') # <запись файла csv в DataFrame в онлайн-версии>\n",
    "\n",
    "df.head(10) # <вывод первых десяти строк таблицы>"
   ]
  },
  {
   "cell_type": "code",
   "execution_count": 3,
   "metadata": {},
   "outputs": [
    {
     "name": "stdout",
     "output_type": "stream",
     "text": [
      "<class 'pandas.core.frame.DataFrame'>\n",
      "RangeIndex: 21525 entries, 0 to 21524\n",
      "Data columns (total 12 columns):\n",
      "children            21525 non-null int64\n",
      "days_employed       19351 non-null float64\n",
      "dob_years           21525 non-null int64\n",
      "education           21525 non-null object\n",
      "education_id        21525 non-null int64\n",
      "family_status       21525 non-null object\n",
      "family_status_id    21525 non-null int64\n",
      "gender              21525 non-null object\n",
      "income_type         21525 non-null object\n",
      "debt                21525 non-null int64\n",
      "total_income        19351 non-null float64\n",
      "purpose             21525 non-null object\n",
      "dtypes: float64(2), int64(5), object(5)\n",
      "memory usage: 2.0+ MB\n"
     ]
    }
   ],
   "source": [
    "# <вывод общей информации о таблице>\n",
    "df.info()"
   ]
  },
  {
   "cell_type": "markdown",
   "metadata": {},
   "source": [
    "**Результаты первичного ознакомления с данными.**\n",
    "\n",
    "В следующих столбцах аномалий не обнаружено:\n",
    "- *children* (количество детей в семье);\n",
    "- *dob_years* (возраст клиента в годах);\n",
    "- *education_id* (идентификатор уровня образования);\n",
    "- family_status (семейное положение);\n",
    "- family_status_id (идентификатор семейного положения);\n",
    "- *gender* (пол клиента); \n",
    "- *income_type* (тип занятости);\n",
    "- *debt* (имел задолженность по возврату кредитов);\n",
    "- *purpose* (цель получения кредита). "
   ]
  },
  {
   "cell_type": "markdown",
   "metadata": {},
   "source": [
    "<center><b>Таблица</b> Обзор столбцов с неполными / некорректными данными (построена с помощью разметки)</center>\n",
    "\n",
    "\n",
    "| Столбцы таблицы                             | Обзор данных                                                        |\n",
    "|:--------------------------------------------|---------------------------------------------------------------------|\n",
    "| **days_employed** (трудовой стаж в днях)    |*отрицательные и очень большие значения;<br> вещественный тип данных (float64);<br> есть пропущенные значения*|\n",
    "| **education** (уровень образования клиента) | *разный регистр элементов столбца*                                  |\n",
    "|**total_income** (ежемесячный доход)         | *вещественный тип данных (float64);<br>есть пропущенные значения*   |\n"
   ]
  },
  {
   "cell_type": "markdown",
   "metadata": {},
   "source": [
    "**Вывод**\n",
    "- При первичном обзоре данных были обнаружены артефакты, которые предстоит обработать;\n",
    "- На этапе предобработки следует более подробно изучить данные, проверить их на наличие дубликатов и некорректных значений."
   ]
  },
  {
   "cell_type": "markdown",
   "metadata": {},
   "source": [
    "## 2. Предобработка данных"
   ]
  },
  {
   "cell_type": "markdown",
   "metadata": {},
   "source": [
    "### 2.1. Обработка пропусков"
   ]
  },
  {
   "cell_type": "markdown",
   "metadata": {},
   "source": [
    "#### 2.1.1. Столбцы days_employed и total_income"
   ]
  },
  {
   "cell_type": "markdown",
   "metadata": {},
   "source": [
    "На первом шаге обнаружили столбцы с пропущенными значениями: **days_employed** и **total_income**."
   ]
  },
  {
   "cell_type": "code",
   "execution_count": 4,
   "metadata": {
    "scrolled": true
   },
   "outputs": [
    {
     "data": {
      "text/plain": [
       "children               0\n",
       "days_employed       2174\n",
       "dob_years              0\n",
       "education              0\n",
       "education_id           0\n",
       "family_status          0\n",
       "family_status_id       0\n",
       "gender                 0\n",
       "income_type            0\n",
       "debt                   0\n",
       "total_income        2174\n",
       "purpose                0\n",
       "dtype: int64"
      ]
     },
     "execution_count": 4,
     "metadata": {},
     "output_type": "execute_result"
    }
   ],
   "source": [
    " # <количество пропущенных значений>\n",
    "df.isna().sum()"
   ]
  },
  {
   "cell_type": "code",
   "execution_count": 5,
   "metadata": {},
   "outputs": [
    {
     "data": {
      "text/html": [
       "<div>\n",
       "<style scoped>\n",
       "    .dataframe tbody tr th:only-of-type {\n",
       "        vertical-align: middle;\n",
       "    }\n",
       "\n",
       "    .dataframe tbody tr th {\n",
       "        vertical-align: top;\n",
       "    }\n",
       "\n",
       "    .dataframe thead th {\n",
       "        text-align: right;\n",
       "    }\n",
       "</style>\n",
       "<table border=\"1\" class=\"dataframe\">\n",
       "  <thead>\n",
       "    <tr style=\"text-align: right;\">\n",
       "      <th></th>\n",
       "      <th>children</th>\n",
       "      <th>days_employed</th>\n",
       "      <th>dob_years</th>\n",
       "      <th>education</th>\n",
       "      <th>education_id</th>\n",
       "      <th>family_status</th>\n",
       "      <th>family_status_id</th>\n",
       "      <th>gender</th>\n",
       "      <th>income_type</th>\n",
       "      <th>debt</th>\n",
       "      <th>total_income</th>\n",
       "      <th>purpose</th>\n",
       "    </tr>\n",
       "  </thead>\n",
       "  <tbody>\n",
       "    <tr>\n",
       "      <td>12</td>\n",
       "      <td>0</td>\n",
       "      <td>NaN</td>\n",
       "      <td>65</td>\n",
       "      <td>среднее</td>\n",
       "      <td>1</td>\n",
       "      <td>гражданский брак</td>\n",
       "      <td>1</td>\n",
       "      <td>M</td>\n",
       "      <td>пенсионер</td>\n",
       "      <td>0</td>\n",
       "      <td>NaN</td>\n",
       "      <td>сыграть свадьбу</td>\n",
       "    </tr>\n",
       "    <tr>\n",
       "      <td>26</td>\n",
       "      <td>0</td>\n",
       "      <td>NaN</td>\n",
       "      <td>41</td>\n",
       "      <td>среднее</td>\n",
       "      <td>1</td>\n",
       "      <td>женат / замужем</td>\n",
       "      <td>0</td>\n",
       "      <td>M</td>\n",
       "      <td>госслужащий</td>\n",
       "      <td>0</td>\n",
       "      <td>NaN</td>\n",
       "      <td>образование</td>\n",
       "    </tr>\n",
       "    <tr>\n",
       "      <td>29</td>\n",
       "      <td>0</td>\n",
       "      <td>NaN</td>\n",
       "      <td>63</td>\n",
       "      <td>среднее</td>\n",
       "      <td>1</td>\n",
       "      <td>Не женат / не замужем</td>\n",
       "      <td>4</td>\n",
       "      <td>F</td>\n",
       "      <td>пенсионер</td>\n",
       "      <td>0</td>\n",
       "      <td>NaN</td>\n",
       "      <td>строительство жилой недвижимости</td>\n",
       "    </tr>\n",
       "    <tr>\n",
       "      <td>41</td>\n",
       "      <td>0</td>\n",
       "      <td>NaN</td>\n",
       "      <td>50</td>\n",
       "      <td>среднее</td>\n",
       "      <td>1</td>\n",
       "      <td>женат / замужем</td>\n",
       "      <td>0</td>\n",
       "      <td>F</td>\n",
       "      <td>госслужащий</td>\n",
       "      <td>0</td>\n",
       "      <td>NaN</td>\n",
       "      <td>сделка с подержанным автомобилем</td>\n",
       "    </tr>\n",
       "    <tr>\n",
       "      <td>55</td>\n",
       "      <td>0</td>\n",
       "      <td>NaN</td>\n",
       "      <td>54</td>\n",
       "      <td>среднее</td>\n",
       "      <td>1</td>\n",
       "      <td>гражданский брак</td>\n",
       "      <td>1</td>\n",
       "      <td>F</td>\n",
       "      <td>пенсионер</td>\n",
       "      <td>1</td>\n",
       "      <td>NaN</td>\n",
       "      <td>сыграть свадьбу</td>\n",
       "    </tr>\n",
       "  </tbody>\n",
       "</table>\n",
       "</div>"
      ],
      "text/plain": [
       "    children  days_employed  dob_years education  education_id  \\\n",
       "12         0            NaN         65   среднее             1   \n",
       "26         0            NaN         41   среднее             1   \n",
       "29         0            NaN         63   среднее             1   \n",
       "41         0            NaN         50   среднее             1   \n",
       "55         0            NaN         54   среднее             1   \n",
       "\n",
       "            family_status  family_status_id gender  income_type  debt  \\\n",
       "12       гражданский брак                 1      M    пенсионер     0   \n",
       "26        женат / замужем                 0      M  госслужащий     0   \n",
       "29  Не женат / не замужем                 4      F    пенсионер     0   \n",
       "41        женат / замужем                 0      F  госслужащий     0   \n",
       "55       гражданский брак                 1      F    пенсионер     1   \n",
       "\n",
       "    total_income                           purpose  \n",
       "12           NaN                   сыграть свадьбу  \n",
       "26           NaN                       образование  \n",
       "29           NaN  строительство жилой недвижимости  \n",
       "41           NaN  сделка с подержанным автомобилем  \n",
       "55           NaN                   сыграть свадьбу  "
      ]
     },
     "execution_count": 5,
     "metadata": {},
     "output_type": "execute_result"
    }
   ],
   "source": [
    "# <вывод первых пяти строк с одновременными пропусками данных в столбцах days_employed и total_income>\n",
    "df[(df['days_employed'].isna()) & (df['total_income'].isna())].head(5)"
   ]
  },
  {
   "cell_type": "code",
   "execution_count": 6,
   "metadata": {},
   "outputs": [
    {
     "data": {
      "text/plain": [
       "2174"
      ]
     },
     "execution_count": 6,
     "metadata": {},
     "output_type": "execute_result"
    }
   ],
   "source": [
    "# <количество строк с пропущенными значениями одновременно в столбцах days_employed и total_income>\n",
    "len(df[(df['days_employed'].isna()) & (df['total_income'].isna())])"
   ]
  },
  {
   "cell_type": "markdown",
   "metadata": {},
   "source": [
    "Значения в столбцах **days_employed** и **total_income** пропущены для одних и тех же клиентов. Общее количество пропусков равно *2174*."
   ]
  },
  {
   "cell_type": "markdown",
   "metadata": {},
   "source": [
    "Исследуем, относятся ли пропуски к абсолютно случайным."
   ]
  },
  {
   "cell_type": "code",
   "execution_count": 7,
   "metadata": {},
   "outputs": [
    {
     "name": "stdout",
     "output_type": "stream",
     "text": [
      "[ 0  1  2 -1  3  4 20  5]\n",
      "[nan]\n",
      "[65 41 63 50 54 21 52 32 35 34 44 47 46 29 27 39 62 55 26 30 31 23 58 60\n",
      " 40 66 33 56 69 59 57 45 53 48 51 37 43 24 28 67 64 25 49 42 61 36 70 38\n",
      " 20  0 68 19 22 71 72 73]\n",
      "['среднее' 'высшее' 'СРЕДНЕЕ' 'неоконченное высшее' 'Среднее'\n",
      " 'Неоконченное высшее' 'Высшее' 'НЕОКОНЧЕННОЕ ВЫСШЕЕ' 'начальное' 'ВЫСШЕЕ'\n",
      " 'Начальное' 'НАЧАЛЬНОЕ']\n",
      "[1 0 2 3]\n",
      "['гражданский брак' 'женат / замужем' 'Не женат / не замужем'\n",
      " 'вдовец / вдова' 'в разводе']\n",
      "[1 0 4 2 3]\n",
      "['M' 'F']\n",
      "['пенсионер' 'госслужащий' 'компаньон' 'сотрудник' 'предприниматель']\n",
      "[0 1]\n",
      "[nan]\n",
      "['сыграть свадьбу' 'образование' 'строительство жилой недвижимости'\n",
      " 'сделка с подержанным автомобилем'\n",
      " 'операции с коммерческой недвижимостью' 'покупка жилья для семьи' 'жилье'\n",
      " 'операции с жильем' 'на проведение свадьбы' 'покупка жилой недвижимости'\n",
      " 'профильное образование' 'высшее образование' 'автомобиль' 'свадьба'\n",
      " 'строительство недвижимости' 'свой автомобиль'\n",
      " 'на покупку подержанного автомобиля'\n",
      " 'строительство собственной недвижимости' 'покупка своего жилья'\n",
      " 'заняться высшим образованием' 'недвижимость'\n",
      " 'операции со своей недвижимостью' 'покупка жилья для сдачи'\n",
      " 'сделка с автомобилем' 'приобретение автомобиля'\n",
      " 'получение высшего образования' 'дополнительное образование'\n",
      " 'на покупку автомобиля' 'покупка недвижимости' 'автомобили'\n",
      " 'покупка коммерческой недвижимости' 'покупка жилья'\n",
      " 'получение образования' 'операции с недвижимостью' 'ремонт жилью'\n",
      " 'на покупку своего автомобиля' 'заняться образованием'\n",
      " 'получение дополнительного образования']\n"
     ]
    }
   ],
   "source": [
    "# <вывод уникальных значений всех столбцов для строк с пропусками в days_employed>\n",
    "for i in df[df['days_employed'].isna()]:\n",
    "    print(df[df['days_employed'].isna()][i].unique()) # <вывод уникальных значений столбцов>"
   ]
  },
  {
   "cell_type": "markdown",
   "metadata": {},
   "source": [
    "Пропуски в столбцах **days_employed** и **total_income** относятся к категории MCAR (Missing Completely At Random), так как нет единого значения по какому-либо из оставшихся столбцов, т.е. взаимосвязи с другими элементами. Вероятно, пропуски связаны с тем, что часть данных была утерена в процессе выгрузки файла. Заменяем пропуски."
   ]
  },
  {
   "cell_type": "code",
   "execution_count": 8,
   "metadata": {},
   "outputs": [
    {
     "data": {
      "text/plain": [
       "count     19351.000000\n",
       "mean      63046.497661\n",
       "std      140827.311974\n",
       "min      -18388.949901\n",
       "25%       -2747.423625\n",
       "50%       -1203.369529\n",
       "75%        -291.095954\n",
       "max      401755.400475\n",
       "Name: days_employed, dtype: float64"
      ]
     },
     "execution_count": 8,
     "metadata": {},
     "output_type": "execute_result"
    }
   ],
   "source": [
    "# <общее описание значений days_employed>\n",
    "df.days_employed.describe()"
   ]
  },
  {
   "cell_type": "markdown",
   "metadata": {},
   "source": [
    "1. **days_employed**. Чтобы заменить пропуски, приведем значения столбца **days_employed** к единообразному виду. В столбце присутствуют высокие и отрицательные значения, что говорит о том, что данные были выгружены из разных систем."
   ]
  },
  {
   "cell_type": "markdown",
   "metadata": {},
   "source": [
    "Сначала проверим положительные значения."
   ]
  },
  {
   "cell_type": "code",
   "execution_count": 9,
   "metadata": {},
   "outputs": [
    {
     "data": {
      "text/plain": [
       "пенсионер      3443\n",
       "безработный       2\n",
       "Name: income_type, dtype: int64"
      ]
     },
     "execution_count": 9,
     "metadata": {},
     "output_type": "execute_result"
    }
   ],
   "source": [
    "# <проверка типов дохода для положительных значений>\n",
    "df[df['days_employed'] > 0]['income_type'].value_counts()"
   ]
  },
  {
   "cell_type": "code",
   "execution_count": 10,
   "metadata": {},
   "outputs": [
    {
     "name": "stdout",
     "output_type": "stream",
     "text": [
      "328728.72060451825\n"
     ]
    },
    {
     "data": {
      "text/plain": [
       "401755.40047533"
      ]
     },
     "execution_count": 10,
     "metadata": {},
     "output_type": "execute_result"
    }
   ],
   "source": [
    "# <минимальный стаж для положительных значений>\n",
    "print(df[df['days_employed'] > 0]['days_employed'].min())\n",
    "# <максимальный стаж для положительных значений>\n",
    "df[df['days_employed'] > 0]['days_employed'].max() "
   ]
  },
  {
   "cell_type": "markdown",
   "metadata": {},
   "source": [
    "Делаем вывод, что данные были выгружены не в днях, а в часах. Для проверки преобразуем максимальное и минимальное значения в годы."
   ]
  },
  {
   "cell_type": "code",
   "execution_count": 11,
   "metadata": {},
   "outputs": [
    {
     "name": "stdout",
     "output_type": "stream",
     "text": [
      "Минимальное значение =  37.526109658050025\n",
      "Максимальное значение =  45.8624886387363\n"
     ]
    }
   ],
   "source": [
    "# <преобразование минимального стажа из часов в годы>\n",
    "print('Минимальное значение = ', 328728.72060451825 / 24 / 365)\n",
    "# <преобразование максимального стажа из часов в годы>\n",
    "print('Максимальное значение = ', 401755.40047533 / 24 / 365)"
   ]
  },
  {
   "cell_type": "markdown",
   "metadata": {},
   "source": [
    "Так как тип дохода у этой группы - *пенсионер* либо *безработный*, большое количество лет стажа не противоречит данным.<br><br>\n",
    "Поделим положительные значения столбца **days_employed** на 24."
   ]
  },
  {
   "cell_type": "code",
   "execution_count": 12,
   "metadata": {},
   "outputs": [
    {
     "data": {
      "text/plain": [
       "0        -8437.673028\n",
       "1        -4024.803754\n",
       "2        -5623.422610\n",
       "3        -4124.747207\n",
       "4        14177.753002\n",
       "             ...     \n",
       "21520    -4529.316663\n",
       "21521    14330.725172\n",
       "21522    -2113.346888\n",
       "21523    -3112.481705\n",
       "21524    -1984.507589\n",
       "Name: days_employed, Length: 21525, dtype: float64"
      ]
     },
     "execution_count": 12,
     "metadata": {},
     "output_type": "execute_result"
    }
   ],
   "source": [
    "df['days_employed'].where(df['days_employed'] <= 0, df['days_employed'] / 24)"
   ]
  },
  {
   "cell_type": "code",
   "execution_count": 13,
   "metadata": {},
   "outputs": [
    {
     "data": {
      "text/plain": [
       "0    -8437.673028\n",
       "1    -4024.803754\n",
       "2    -5623.422610\n",
       "3    -4124.747207\n",
       "4    14177.753002\n",
       "5     -926.185831\n",
       "6    -2879.202052\n",
       "7     -152.779569\n",
       "8    -6929.865299\n",
       "9    -2188.756445\n",
       "Name: days_employed, dtype: float64"
      ]
     },
     "execution_count": 13,
     "metadata": {},
     "output_type": "execute_result"
    }
   ],
   "source": [
    "# <перевод часов в дни с помощью метода where>\n",
    "df['days_employed'] = df['days_employed'].where(df['days_employed'] <= 0, df['days_employed'] / 24)\n",
    "df['days_employed'].head(10) # <вывод первых десяти строк преобразованного столбца>"
   ]
  },
  {
   "cell_type": "code",
   "execution_count": 14,
   "metadata": {},
   "outputs": [
    {
     "data": {
      "text/plain": [
       "15217.221094405466"
      ]
     },
     "execution_count": 14,
     "metadata": {},
     "output_type": "execute_result"
    }
   ],
   "source": [
    "# <проверка новой медианы положительных значений days_employed>\n",
    "df.loc[df['days_employed'] > 0, 'days_employed'].median() "
   ]
  },
  {
   "cell_type": "markdown",
   "metadata": {},
   "source": [
    "Также проверим столбец **dob_years** (возраст заёмщиков) на предмет некорректных данных для положительных значений столбца **days_employed**."
   ]
  },
  {
   "cell_type": "code",
   "execution_count": 15,
   "metadata": {},
   "outputs": [
    {
     "data": {
      "text/plain": [
       "array([ 0, 22, 26, 27, 28, 31, 32, 33, 34, 35, 36, 37, 38, 39, 40, 41, 42,\n",
       "       43, 44, 45, 46, 47, 48, 49, 50, 51, 52, 53, 54, 55, 56, 57, 58, 59,\n",
       "       60, 61, 62, 63, 64, 65, 66, 67, 68, 69, 70, 71, 72, 73, 74],\n",
       "      dtype=int64)"
      ]
     },
     "execution_count": 15,
     "metadata": {},
     "output_type": "execute_result"
    }
   ],
   "source": [
    "# <вывод отсортированного списка уникальных значений столбца 'dob_years' \n",
    "#  для положительных значений столбца 'days_employed'>\n",
    "np.sort(df.loc[df['days_employed'] > 0, 'dob_years'].unique()) "
   ]
  },
  {
   "cell_type": "markdown",
   "metadata": {},
   "source": [
    "Минимальный стаж для этой группы - 37 лет, что больше возраста части заемщиков.<br><br>\n",
    "Возможно, в этих случаях кредит запрашивался младшим родственником, гарантией погашения которого был доход старшего родственника. В нашем исследовании этот столбец не используется, поэтому оставим его без изменений.<br>\n",
    "Нулевой элемент заменим в соответствующем разделе предобработки данных."
   ]
  },
  {
   "cell_type": "markdown",
   "metadata": {},
   "source": [
    "Теперь проверим отрицательные значения."
   ]
  },
  {
   "cell_type": "code",
   "execution_count": 16,
   "metadata": {},
   "outputs": [
    {
     "name": "stdout",
     "output_type": "stream",
     "text": [
      "Минимальное значение =  24 дня\n",
      "Максимальное значение =  50 лет\n"
     ]
    }
   ],
   "source": [
    "# <вывод модуля минимального значения в днях>\n",
    "print('Минимальное значение = ', int(df[df['days_employed'] < 0]['days_employed'].abs().min()), 'дня') \n",
    "# <вывод модуля максимального значения в годах> \n",
    "print('Максимальное значение = ', int(df[df['days_employed'] < 0]['days_employed'].abs().max()) // 365, 'лет') "
   ]
  },
  {
   "cell_type": "markdown",
   "metadata": {},
   "source": [
    "В данном случае отсчет времени предположительно велся от дня выгрузки до начала трудового стажа, т.е. наоборот, поэтому значения оказались отрицательными. Поменяем отрицательные значения на положительные."
   ]
  },
  {
   "cell_type": "code",
   "execution_count": 17,
   "metadata": {},
   "outputs": [
    {
     "data": {
      "text/plain": [
       "0"
      ]
     },
     "execution_count": 17,
     "metadata": {},
     "output_type": "execute_result"
    }
   ],
   "source": [
    "# <замена отрицательных значений на модуль>\n",
    "df.loc[df['days_employed'] < 0, 'days_employed'] = df.loc[df['days_employed'] < 0, 'days_employed'].abs()\n",
    "# <проверка, что не осталось отрицательных значений>\n",
    "len(df.query('days_employed < 0'))"
   ]
  },
  {
   "cell_type": "markdown",
   "metadata": {},
   "source": [
    "Оставшиеся значения заменим на **-1**:\n",
    "- Чтобы сохранить численный тип данных;\n",
    "- Пропущенные данные не восстановить на основе уже имеющихся, выраженной взаимосвязи нет."
   ]
  },
  {
   "cell_type": "code",
   "execution_count": 18,
   "metadata": {},
   "outputs": [],
   "source": [
    "# <замена пропусков на -1>\n",
    "df['days_employed'].fillna(-1, inplace=True)"
   ]
  },
  {
   "cell_type": "markdown",
   "metadata": {},
   "source": [
    "2. **total_income**. Проверим значение медианы для разных типов дохода."
   ]
  },
  {
   "cell_type": "code",
   "execution_count": 19,
   "metadata": {},
   "outputs": [
    {
     "data": {
      "text/plain": [
       "income_type\n",
       "безработный        131339.751676\n",
       "в декрете           53829.130729\n",
       "госслужащий        150447.935283\n",
       "компаньон          172357.950966\n",
       "пенсионер          118514.486412\n",
       "предприниматель    499163.144947\n",
       "сотрудник          142594.396847\n",
       "студент             98201.625314\n",
       "Name: total_income, dtype: float64"
      ]
     },
     "execution_count": 19,
     "metadata": {},
     "output_type": "execute_result"
    }
   ],
   "source": [
    "# <проверка медиан доходов по группам из столбца 'income_type'>\n",
    "income_median = df.groupby('income_type')['total_income'].median() \n",
    "income_median"
   ]
  },
  {
   "cell_type": "markdown",
   "metadata": {},
   "source": [
    "Данные значения характеризуют группы с разными типами дохода. Заполним пропущенные значения медианой дохода для соответствующей группы **income_type**."
   ]
  },
  {
   "cell_type": "code",
   "execution_count": 20,
   "metadata": {},
   "outputs": [],
   "source": [
    "# <замена пропущенных значений столбца 'total_income' на медианное значение по группе в столбце 'income_type'>\n",
    "df['total_income'] = df['total_income'].fillna(df.groupby('income_type')['total_income'].transform('median'))"
   ]
  },
  {
   "cell_type": "code",
   "execution_count": 21,
   "metadata": {
    "scrolled": false
   },
   "outputs": [
    {
     "name": "stdout",
     "output_type": "stream",
     "text": [
      "<class 'pandas.core.frame.DataFrame'>\n",
      "RangeIndex: 21525 entries, 0 to 21524\n",
      "Data columns (total 12 columns):\n",
      "children            21525 non-null int64\n",
      "days_employed       21525 non-null float64\n",
      "dob_years           21525 non-null int64\n",
      "education           21525 non-null object\n",
      "education_id        21525 non-null int64\n",
      "family_status       21525 non-null object\n",
      "family_status_id    21525 non-null int64\n",
      "gender              21525 non-null object\n",
      "income_type         21525 non-null object\n",
      "debt                21525 non-null int64\n",
      "total_income        21525 non-null float64\n",
      "purpose             21525 non-null object\n",
      "dtypes: float64(2), int64(5), object(5)\n",
      "memory usage: 2.0+ MB\n"
     ]
    }
   ],
   "source": [
    "# <общая информация о таблице>\n",
    "df.info()"
   ]
  },
  {
   "cell_type": "markdown",
   "metadata": {},
   "source": [
    "Все пропуски заполнены."
   ]
  },
  {
   "cell_type": "markdown",
   "metadata": {},
   "source": [
    "Далее проверим остальные столбцы на некорректные значения."
   ]
  },
  {
   "cell_type": "markdown",
   "metadata": {},
   "source": [
    "#### 2.1.2. Столбец children"
   ]
  },
  {
   "cell_type": "code",
   "execution_count": 22,
   "metadata": {},
   "outputs": [
    {
     "data": {
      "text/plain": [
       " 0     14149\n",
       " 1      4818\n",
       " 2      2055\n",
       " 3       330\n",
       " 20       76\n",
       "-1        47\n",
       " 4        41\n",
       " 5         9\n",
       "Name: children, dtype: int64"
      ]
     },
     "execution_count": 22,
     "metadata": {},
     "output_type": "execute_result"
    }
   ],
   "source": [
    "# <проверка значений в столбце>\n",
    "df['children'].value_counts() "
   ]
  },
  {
   "cell_type": "markdown",
   "metadata": {},
   "source": [
    "Некорректные значения: **-1** (количество детей не должно быть отрицательным) и **20** (значительно отклонилось от среднего)."
   ]
  },
  {
   "cell_type": "markdown",
   "metadata": {},
   "source": [
    "Неверные значения связаны с ошибкой при выгрузке данных. Проверим, существует ли взаимосвязь между этими значениями и значениями других столбцов."
   ]
  },
  {
   "cell_type": "code",
   "execution_count": 23,
   "metadata": {},
   "outputs": [
    {
     "data": {
      "text/plain": [
       "children             1\n",
       "days_employed       45\n",
       "dob_years           30\n",
       "education            6\n",
       "education_id         3\n",
       "family_status        5\n",
       "family_status_id     5\n",
       "gender               2\n",
       "income_type          4\n",
       "debt                 2\n",
       "total_income        47\n",
       "purpose             30\n",
       "dtype: int64"
      ]
     },
     "execution_count": 23,
     "metadata": {},
     "output_type": "execute_result"
    }
   ],
   "source": [
    "# <количество уникальных значений столбцов таблицы для df['children'] == -1>\n",
    "df[df['children'] == -1].nunique() "
   ]
  },
  {
   "cell_type": "code",
   "execution_count": 24,
   "metadata": {},
   "outputs": [
    {
     "data": {
      "text/plain": [
       "children             1\n",
       "days_employed       68\n",
       "dob_years           41\n",
       "education            6\n",
       "education_id         3\n",
       "family_status        5\n",
       "family_status_id     5\n",
       "gender               2\n",
       "income_type          4\n",
       "debt                 2\n",
       "total_income        71\n",
       "purpose             31\n",
       "dtype: int64"
      ]
     },
     "execution_count": 24,
     "metadata": {},
     "output_type": "execute_result"
    }
   ],
   "source": [
    "# <количество уникальных значений столбцов таблицы для df['children'] == 20>\n",
    "df[df['children'] == 20].nunique()"
   ]
  },
  {
   "cell_type": "markdown",
   "metadata": {},
   "source": [
    "Взаимосвязи не обнаружено, поэтому невозможно восстановить некорректные значения.\n",
    "\n",
    "Один из вопросов проекта звучит так: Есть ли зависимость между наличием детей и возвратом кредита в срок? Таким образом, переменная *'children'* при решении данного вопроса является категориальной (2 принимаемых значения: *df['children'] == 0* и *df['children'] > 0*). Поэтому при расчетах игнорируем значения из этого столбца, равные **-1** и **20**.\n",
    "\n",
    "Для удобства заменим все некорректные значения столбца на **-1**."
   ]
  },
  {
   "cell_type": "code",
   "execution_count": 25,
   "metadata": {},
   "outputs": [
    {
     "data": {
      "text/plain": [
       "-1    123\n",
       "Name: children, dtype: int64"
      ]
     },
     "execution_count": 25,
     "metadata": {},
     "output_type": "execute_result"
    }
   ],
   "source": [
    "# <замена 20 на -1 в столбце 'children'>\n",
    "df.loc[df['children'] == 20, 'children'] = -1\n",
    "# <проверка значений>\n",
    "df[(df['children'] == 20) | (df['children'] == -1)]['children'].value_counts()"
   ]
  },
  {
   "cell_type": "code",
   "execution_count": 26,
   "metadata": {},
   "outputs": [
    {
     "data": {
      "text/plain": [
       " 0    14149\n",
       " 1     4818\n",
       " 2     2055\n",
       " 3      330\n",
       "-1      123\n",
       " 4       41\n",
       " 5        9\n",
       "Name: children, dtype: int64"
      ]
     },
     "execution_count": 26,
     "metadata": {},
     "output_type": "execute_result"
    }
   ],
   "source": [
    "# <проверка значений в столбце>\n",
    "df['children'].value_counts()"
   ]
  },
  {
   "cell_type": "markdown",
   "metadata": {},
   "source": [
    "#### 2.1.3. Столбец dob_years"
   ]
  },
  {
   "cell_type": "code",
   "execution_count": 27,
   "metadata": {},
   "outputs": [
    {
     "data": {
      "text/plain": [
       "array([ 0, 19, 20, 21, 22, 23, 24, 25, 26, 27, 28, 29, 30, 31, 32, 33, 34,\n",
       "       35, 36, 37, 38, 39, 40, 41, 42, 43, 44, 45, 46, 47, 48, 49, 50, 51,\n",
       "       52, 53, 54, 55, 56, 57, 58, 59, 60, 61, 62, 63, 64, 65, 66, 67, 68,\n",
       "       69, 70, 71, 72, 73, 74, 75], dtype=int64)"
      ]
     },
     "execution_count": 27,
     "metadata": {},
     "output_type": "execute_result"
    }
   ],
   "source": [
    "# <проверка значений в столбце dob_years (возраст)>\n",
    "np.sort(df['dob_years'].unique()) "
   ]
  },
  {
   "cell_type": "markdown",
   "metadata": {},
   "source": [
    "Возраст клиента не может быть равен **0**. Проверим, сколько строк имеют значение **0** в столбце 'dob_years'."
   ]
  },
  {
   "cell_type": "code",
   "execution_count": 28,
   "metadata": {},
   "outputs": [
    {
     "data": {
      "text/html": [
       "<div>\n",
       "<style scoped>\n",
       "    .dataframe tbody tr th:only-of-type {\n",
       "        vertical-align: middle;\n",
       "    }\n",
       "\n",
       "    .dataframe tbody tr th {\n",
       "        vertical-align: top;\n",
       "    }\n",
       "\n",
       "    .dataframe thead th {\n",
       "        text-align: right;\n",
       "    }\n",
       "</style>\n",
       "<table border=\"1\" class=\"dataframe\">\n",
       "  <thead>\n",
       "    <tr style=\"text-align: right;\">\n",
       "      <th></th>\n",
       "      <th>children</th>\n",
       "      <th>days_employed</th>\n",
       "      <th>dob_years</th>\n",
       "      <th>education</th>\n",
       "      <th>education_id</th>\n",
       "      <th>family_status</th>\n",
       "      <th>family_status_id</th>\n",
       "      <th>gender</th>\n",
       "      <th>income_type</th>\n",
       "      <th>debt</th>\n",
       "      <th>total_income</th>\n",
       "      <th>purpose</th>\n",
       "    </tr>\n",
       "  </thead>\n",
       "  <tbody>\n",
       "    <tr>\n",
       "      <td>99</td>\n",
       "      <td>0</td>\n",
       "      <td>14439.234121</td>\n",
       "      <td>0</td>\n",
       "      <td>Среднее</td>\n",
       "      <td>1</td>\n",
       "      <td>женат / замужем</td>\n",
       "      <td>0</td>\n",
       "      <td>F</td>\n",
       "      <td>пенсионер</td>\n",
       "      <td>0</td>\n",
       "      <td>71291.522491</td>\n",
       "      <td>автомобиль</td>\n",
       "    </tr>\n",
       "    <tr>\n",
       "      <td>149</td>\n",
       "      <td>0</td>\n",
       "      <td>2664.273168</td>\n",
       "      <td>0</td>\n",
       "      <td>среднее</td>\n",
       "      <td>1</td>\n",
       "      <td>в разводе</td>\n",
       "      <td>3</td>\n",
       "      <td>F</td>\n",
       "      <td>сотрудник</td>\n",
       "      <td>0</td>\n",
       "      <td>70176.435951</td>\n",
       "      <td>операции с жильем</td>\n",
       "    </tr>\n",
       "    <tr>\n",
       "      <td>270</td>\n",
       "      <td>3</td>\n",
       "      <td>1872.663186</td>\n",
       "      <td>0</td>\n",
       "      <td>среднее</td>\n",
       "      <td>1</td>\n",
       "      <td>женат / замужем</td>\n",
       "      <td>0</td>\n",
       "      <td>F</td>\n",
       "      <td>сотрудник</td>\n",
       "      <td>0</td>\n",
       "      <td>102166.458894</td>\n",
       "      <td>ремонт жилью</td>\n",
       "    </tr>\n",
       "    <tr>\n",
       "      <td>578</td>\n",
       "      <td>0</td>\n",
       "      <td>16577.356876</td>\n",
       "      <td>0</td>\n",
       "      <td>среднее</td>\n",
       "      <td>1</td>\n",
       "      <td>женат / замужем</td>\n",
       "      <td>0</td>\n",
       "      <td>F</td>\n",
       "      <td>пенсионер</td>\n",
       "      <td>0</td>\n",
       "      <td>97620.687042</td>\n",
       "      <td>строительство собственной недвижимости</td>\n",
       "    </tr>\n",
       "    <tr>\n",
       "      <td>1040</td>\n",
       "      <td>0</td>\n",
       "      <td>1158.029561</td>\n",
       "      <td>0</td>\n",
       "      <td>высшее</td>\n",
       "      <td>0</td>\n",
       "      <td>в разводе</td>\n",
       "      <td>3</td>\n",
       "      <td>F</td>\n",
       "      <td>компаньон</td>\n",
       "      <td>0</td>\n",
       "      <td>303994.134987</td>\n",
       "      <td>свой автомобиль</td>\n",
       "    </tr>\n",
       "  </tbody>\n",
       "</table>\n",
       "</div>"
      ],
      "text/plain": [
       "      children  days_employed  dob_years education  education_id  \\\n",
       "99           0   14439.234121          0   Среднее             1   \n",
       "149          0    2664.273168          0   среднее             1   \n",
       "270          3    1872.663186          0   среднее             1   \n",
       "578          0   16577.356876          0   среднее             1   \n",
       "1040         0    1158.029561          0    высшее             0   \n",
       "\n",
       "        family_status  family_status_id gender income_type  debt  \\\n",
       "99    женат / замужем                 0      F   пенсионер     0   \n",
       "149         в разводе                 3      F   сотрудник     0   \n",
       "270   женат / замужем                 0      F   сотрудник     0   \n",
       "578   женат / замужем                 0      F   пенсионер     0   \n",
       "1040        в разводе                 3      F   компаньон     0   \n",
       "\n",
       "       total_income                                 purpose  \n",
       "99     71291.522491                              автомобиль  \n",
       "149    70176.435951                       операции с жильем  \n",
       "270   102166.458894                            ремонт жилью  \n",
       "578    97620.687042  строительство собственной недвижимости  \n",
       "1040  303994.134987                         свой автомобиль  "
      ]
     },
     "execution_count": 28,
     "metadata": {},
     "output_type": "execute_result"
    }
   ],
   "source": [
    "# <вывод строк со значением столбца 'dob_years' = 0>\n",
    "df[df['dob_years'] == 0].head() "
   ]
  },
  {
   "cell_type": "code",
   "execution_count": 29,
   "metadata": {},
   "outputs": [
    {
     "data": {
      "text/plain": [
       "101"
      ]
     },
     "execution_count": 29,
     "metadata": {},
     "output_type": "execute_result"
    }
   ],
   "source": [
    "# <проверка количества нулевых значений в столбце 'dob_years'>\n",
    "df.loc[df['dob_years'] == 0, 'dob_years'].count() "
   ]
  },
  {
   "cell_type": "markdown",
   "metadata": {},
   "source": [
    "Посчитаем среднее и медиану значений столбца **dob_years**, исключив нулевые значения."
   ]
  },
  {
   "cell_type": "code",
   "execution_count": 30,
   "metadata": {},
   "outputs": [
    {
     "data": {
      "text/plain": [
       "43.497479462285284"
      ]
     },
     "execution_count": 30,
     "metadata": {},
     "output_type": "execute_result"
    }
   ],
   "source": [
    "# <подсчет среднего столбца 'dob_years' без учета нулевых значений>\n",
    "df.loc[df['dob_years'] != 0, 'dob_years'].mean() "
   ]
  },
  {
   "cell_type": "code",
   "execution_count": 31,
   "metadata": {},
   "outputs": [
    {
     "data": {
      "text/plain": [
       "43.0"
      ]
     },
     "execution_count": 31,
     "metadata": {},
     "output_type": "execute_result"
    }
   ],
   "source": [
    "# <подсчет медианы столбца 'dob_years' без учета нулевых значений>\n",
    "df.loc[df['dob_years'] != 0, 'dob_years'].median()"
   ]
  },
  {
   "cell_type": "markdown",
   "metadata": {},
   "source": [
    "Среднее и медиана близки по значениям. Для заполнения нулевых значений используем медиану, так как она является целым числом."
   ]
  },
  {
   "cell_type": "code",
   "execution_count": 32,
   "metadata": {},
   "outputs": [],
   "source": [
    "# <замена нулевых значений столбца 'dob_years' на медиану>\n",
    "df.loc[df['dob_years'] == 0, 'dob_years'] = 43"
   ]
  },
  {
   "cell_type": "code",
   "execution_count": 33,
   "metadata": {},
   "outputs": [
    {
     "data": {
      "text/plain": [
       "array([19, 20, 21, 22, 23, 24, 25, 26, 27, 28, 29, 30, 31, 32, 33, 34, 35,\n",
       "       36, 37, 38, 39, 40, 41, 42, 43, 44, 45, 46, 47, 48, 49, 50, 51, 52,\n",
       "       53, 54, 55, 56, 57, 58, 59, 60, 61, 62, 63, 64, 65, 66, 67, 68, 69,\n",
       "       70, 71, 72, 73, 74, 75], dtype=int64)"
      ]
     },
     "execution_count": 33,
     "metadata": {},
     "output_type": "execute_result"
    }
   ],
   "source": [
    "# <проверка значений в столбце>\n",
    "np.sort(df['dob_years'].unique()) "
   ]
  },
  {
   "cell_type": "markdown",
   "metadata": {},
   "source": [
    "В столбце **dob_years** нулевых значений не осталось."
   ]
  },
  {
   "cell_type": "markdown",
   "metadata": {},
   "source": [
    "#### 2.1.4. Столбец education"
   ]
  },
  {
   "cell_type": "code",
   "execution_count": 34,
   "metadata": {},
   "outputs": [
    {
     "data": {
      "text/plain": [
       "среднее                13750\n",
       "высшее                  4718\n",
       "СРЕДНЕЕ                  772\n",
       "Среднее                  711\n",
       "неоконченное высшее      668\n",
       "ВЫСШЕЕ                   274\n",
       "Высшее                   268\n",
       "начальное                250\n",
       "Неоконченное высшее       47\n",
       "НЕОКОНЧЕННОЕ ВЫСШЕЕ       29\n",
       "НАЧАЛЬНОЕ                 17\n",
       "Начальное                 15\n",
       "ученая степень             4\n",
       "Ученая степень             1\n",
       "УЧЕНАЯ СТЕПЕНЬ             1\n",
       "Name: education, dtype: int64"
      ]
     },
     "execution_count": 34,
     "metadata": {},
     "output_type": "execute_result"
    }
   ],
   "source": [
    "# <проверка значений в столбце 'education'>\n",
    "df['education'].value_counts() "
   ]
  },
  {
   "cell_type": "markdown",
   "metadata": {},
   "source": [
    "Переведем все строки столбца **education** в нижний регистр."
   ]
  },
  {
   "cell_type": "code",
   "execution_count": 35,
   "metadata": {},
   "outputs": [
    {
     "data": {
      "text/plain": [
       "среднее                15233\n",
       "высшее                  5260\n",
       "неоконченное высшее      744\n",
       "начальное                282\n",
       "ученая степень             6\n",
       "Name: education, dtype: int64"
      ]
     },
     "execution_count": 35,
     "metadata": {},
     "output_type": "execute_result"
    }
   ],
   "source": [
    "# <перевод значений в нижний регистр>\n",
    "df['education'] = df['education'].str.lower()\n",
    "# <проверка значений в столбце>\n",
    "df['education'].value_counts() "
   ]
  },
  {
   "cell_type": "markdown",
   "metadata": {},
   "source": [
    "Пропущенных значений в столбце **education** не обнаружено, все ячейки столбца приведены к нижнему регистру."
   ]
  },
  {
   "cell_type": "markdown",
   "metadata": {},
   "source": [
    "#### 2.1.5. Столбец education_id"
   ]
  },
  {
   "cell_type": "code",
   "execution_count": 36,
   "metadata": {},
   "outputs": [
    {
     "data": {
      "text/plain": [
       "1    15233\n",
       "0     5260\n",
       "2      744\n",
       "3      282\n",
       "4        6\n",
       "Name: education_id, dtype: int64"
      ]
     },
     "execution_count": 36,
     "metadata": {},
     "output_type": "execute_result"
    }
   ],
   "source": [
    "# <проверка значений в столбце education_id>\n",
    "df['education_id'].value_counts()"
   ]
  },
  {
   "cell_type": "markdown",
   "metadata": {},
   "source": [
    "Пропущенных значений в столбце *education_id* не обнаружено."
   ]
  },
  {
   "cell_type": "markdown",
   "metadata": {},
   "source": [
    "#### 2.1.6. Столбец family_status"
   ]
  },
  {
   "cell_type": "code",
   "execution_count": 37,
   "metadata": {},
   "outputs": [
    {
     "data": {
      "text/plain": [
       "женат / замужем          12380\n",
       "гражданский брак          4177\n",
       "Не женат / не замужем     2813\n",
       "в разводе                 1195\n",
       "вдовец / вдова             960\n",
       "Name: family_status, dtype: int64"
      ]
     },
     "execution_count": 37,
     "metadata": {},
     "output_type": "execute_result"
    }
   ],
   "source": [
    "# <проверка значений в столбце>\n",
    "df['family_status'].value_counts() "
   ]
  },
  {
   "cell_type": "code",
   "execution_count": 38,
   "metadata": {},
   "outputs": [],
   "source": [
    "# <перевод значений в нижний регистр (верхний регистр в статусе 'Не женат / не замужем')>\n",
    "df['family_status'] = df['family_status'].str.lower() "
   ]
  },
  {
   "cell_type": "code",
   "execution_count": 39,
   "metadata": {},
   "outputs": [
    {
     "data": {
      "text/plain": [
       "женат / замужем          12380\n",
       "гражданский брак          4177\n",
       "не женат / не замужем     2813\n",
       "в разводе                 1195\n",
       "вдовец / вдова             960\n",
       "Name: family_status, dtype: int64"
      ]
     },
     "execution_count": 39,
     "metadata": {},
     "output_type": "execute_result"
    }
   ],
   "source": [
    "# <проверка значений в столбце>\n",
    "df['family_status'].value_counts()"
   ]
  },
  {
   "cell_type": "markdown",
   "metadata": {},
   "source": [
    "Пропущенных значений в столбце **family_status** не обнаружено, все ячейки столбца приведены в нижний регистр."
   ]
  },
  {
   "cell_type": "markdown",
   "metadata": {},
   "source": [
    "#### 2.1.7. Столбец family_status_id"
   ]
  },
  {
   "cell_type": "code",
   "execution_count": 40,
   "metadata": {},
   "outputs": [
    {
     "data": {
      "text/plain": [
       "0    12380\n",
       "1     4177\n",
       "4     2813\n",
       "3     1195\n",
       "2      960\n",
       "Name: family_status_id, dtype: int64"
      ]
     },
     "execution_count": 40,
     "metadata": {},
     "output_type": "execute_result"
    }
   ],
   "source": [
    "# <проверка значений в столбце>\n",
    "df['family_status_id'].value_counts()"
   ]
  },
  {
   "cell_type": "markdown",
   "metadata": {},
   "source": [
    "Пропущенных значений в столбце *education_id* не обнаружено."
   ]
  },
  {
   "cell_type": "markdown",
   "metadata": {},
   "source": [
    "#### 2.1.8. Столбец gender"
   ]
  },
  {
   "cell_type": "code",
   "execution_count": 41,
   "metadata": {},
   "outputs": [
    {
     "data": {
      "text/plain": [
       "F      14236\n",
       "M       7288\n",
       "XNA        1\n",
       "Name: gender, dtype: int64"
      ]
     },
     "execution_count": 41,
     "metadata": {},
     "output_type": "execute_result"
    }
   ],
   "source": [
    "# <проверка значений в столбце>\n",
    "df['gender'].value_counts() "
   ]
  },
  {
   "cell_type": "markdown",
   "metadata": {},
   "source": [
    "Гендера *XNA* на данный момент не существует. Заменим значение *'XNA'* на *None*, так как восстановить значение элемента по остальным значениям невозможно."
   ]
  },
  {
   "cell_type": "code",
   "execution_count": 42,
   "metadata": {},
   "outputs": [],
   "source": [
    "# <замена 'XNA' на None в столбце 'gender'>\n",
    "df.loc[df['gender'] == 'XNA', 'gender'] = None"
   ]
  },
  {
   "cell_type": "markdown",
   "metadata": {},
   "source": [
    "#### 2.1.9. Столбец income_type"
   ]
  },
  {
   "cell_type": "code",
   "execution_count": 43,
   "metadata": {},
   "outputs": [
    {
     "data": {
      "text/plain": [
       "сотрудник          11119\n",
       "компаньон           5085\n",
       "пенсионер           3856\n",
       "госслужащий         1459\n",
       "предприниматель        2\n",
       "безработный            2\n",
       "студент                1\n",
       "в декрете              1\n",
       "Name: income_type, dtype: int64"
      ]
     },
     "execution_count": 43,
     "metadata": {},
     "output_type": "execute_result"
    }
   ],
   "source": [
    "# <проверка значений в столбце>\n",
    "df['income_type'].value_counts() "
   ]
  },
  {
   "cell_type": "markdown",
   "metadata": {},
   "source": [
    "*Компаньон* - соучастник торгового предприятия."
   ]
  },
  {
   "cell_type": "markdown",
   "metadata": {},
   "source": [
    "Пропущенных значений в столбце **income_type** не обнаружено."
   ]
  },
  {
   "cell_type": "markdown",
   "metadata": {},
   "source": [
    "#### 2.1.10. Столбец debt"
   ]
  },
  {
   "cell_type": "code",
   "execution_count": 44,
   "metadata": {},
   "outputs": [
    {
     "data": {
      "text/plain": [
       "0    19784\n",
       "1     1741\n",
       "Name: debt, dtype: int64"
      ]
     },
     "execution_count": 44,
     "metadata": {},
     "output_type": "execute_result"
    }
   ],
   "source": [
    "# <проверка значений в столбце>\n",
    "df['debt'].value_counts() "
   ]
  },
  {
   "cell_type": "markdown",
   "metadata": {},
   "source": [
    "Пропущенных значений в столбце **debt** не обнаружено."
   ]
  },
  {
   "cell_type": "markdown",
   "metadata": {},
   "source": [
    "#### 2.1.11. Столбец purpose"
   ]
  },
  {
   "cell_type": "code",
   "execution_count": 45,
   "metadata": {},
   "outputs": [
    {
     "data": {
      "text/plain": [
       "свадьба                                   797\n",
       "на проведение свадьбы                     777\n",
       "сыграть свадьбу                           774\n",
       "операции с недвижимостью                  676\n",
       "покупка коммерческой недвижимости         664\n",
       "покупка жилья для сдачи                   653\n",
       "операции с жильем                         653\n",
       "операции с коммерческой недвижимостью     651\n",
       "жилье                                     647\n",
       "покупка жилья                             647\n",
       "покупка жилья для семьи                   641\n",
       "строительство собственной недвижимости    635\n",
       "недвижимость                              634\n",
       "операции со своей недвижимостью           630\n",
       "строительство жилой недвижимости          626\n",
       "покупка недвижимости                      624\n",
       "покупка своего жилья                      620\n",
       "строительство недвижимости                620\n",
       "ремонт жилью                              612\n",
       "покупка жилой недвижимости                607\n",
       "на покупку своего автомобиля              505\n",
       "заняться высшим образованием              496\n",
       "автомобиль                                495\n",
       "сделка с подержанным автомобилем          489\n",
       "свой автомобиль                           480\n",
       "на покупку подержанного автомобиля        479\n",
       "автомобили                                478\n",
       "на покупку автомобиля                     472\n",
       "приобретение автомобиля                   462\n",
       "дополнительное образование                462\n",
       "сделка с автомобилем                      455\n",
       "высшее образование                        453\n",
       "образование                               447\n",
       "получение дополнительного образования     447\n",
       "получение образования                     443\n",
       "профильное образование                    436\n",
       "получение высшего образования             426\n",
       "заняться образованием                     412\n",
       "Name: purpose, dtype: int64"
      ]
     },
     "execution_count": 45,
     "metadata": {},
     "output_type": "execute_result"
    }
   ],
   "source": [
    "# <проверка значений в столбце>\n",
    "df['purpose'].value_counts() "
   ]
  },
  {
   "cell_type": "markdown",
   "metadata": {},
   "source": [
    "Пропущенных значений в столбце **purpose** не обнаружено."
   ]
  },
  {
   "cell_type": "markdown",
   "metadata": {},
   "source": [
    "#### 2.1.12. Вывод"
   ]
  },
  {
   "cell_type": "markdown",
   "metadata": {},
   "source": [
    "- Были обработаны пропущенные значения в столбцах **days_employed** и **total_income**;\n",
    "- В столбцах **children**, **dob_years** и **gender** были обнаружены и заменены некорректные значения;\n",
    "- Значения столбцов **education** и **family_status** были переведены в нижний регистр."
   ]
  },
  {
   "cell_type": "markdown",
   "metadata": {},
   "source": [
    "### 2.2. Замена типа данных"
   ]
  },
  {
   "cell_type": "markdown",
   "metadata": {},
   "source": [
    "Получим общую информацию о таблице."
   ]
  },
  {
   "cell_type": "code",
   "execution_count": 46,
   "metadata": {},
   "outputs": [
    {
     "name": "stdout",
     "output_type": "stream",
     "text": [
      "<class 'pandas.core.frame.DataFrame'>\n",
      "RangeIndex: 21525 entries, 0 to 21524\n",
      "Data columns (total 12 columns):\n",
      "children            21525 non-null int64\n",
      "days_employed       21525 non-null float64\n",
      "dob_years           21525 non-null int64\n",
      "education           21525 non-null object\n",
      "education_id        21525 non-null int64\n",
      "family_status       21525 non-null object\n",
      "family_status_id    21525 non-null int64\n",
      "gender              21524 non-null object\n",
      "income_type         21525 non-null object\n",
      "debt                21525 non-null int64\n",
      "total_income        21525 non-null float64\n",
      "purpose             21525 non-null object\n",
      "dtypes: float64(2), int64(5), object(5)\n",
      "memory usage: 2.0+ MB\n"
     ]
    }
   ],
   "source": [
    "# <запрос общей информации о таблице>\n",
    "df.info() "
   ]
  },
  {
   "cell_type": "code",
   "execution_count": 47,
   "metadata": {},
   "outputs": [
    {
     "data": {
      "text/html": [
       "<div>\n",
       "<style scoped>\n",
       "    .dataframe tbody tr th:only-of-type {\n",
       "        vertical-align: middle;\n",
       "    }\n",
       "\n",
       "    .dataframe tbody tr th {\n",
       "        vertical-align: top;\n",
       "    }\n",
       "\n",
       "    .dataframe thead th {\n",
       "        text-align: right;\n",
       "    }\n",
       "</style>\n",
       "<table border=\"1\" class=\"dataframe\">\n",
       "  <thead>\n",
       "    <tr style=\"text-align: right;\">\n",
       "      <th></th>\n",
       "      <th>children</th>\n",
       "      <th>days_employed</th>\n",
       "      <th>dob_years</th>\n",
       "      <th>education</th>\n",
       "      <th>education_id</th>\n",
       "      <th>family_status</th>\n",
       "      <th>family_status_id</th>\n",
       "      <th>gender</th>\n",
       "      <th>income_type</th>\n",
       "      <th>debt</th>\n",
       "      <th>total_income</th>\n",
       "      <th>purpose</th>\n",
       "    </tr>\n",
       "  </thead>\n",
       "  <tbody>\n",
       "    <tr>\n",
       "      <td>0</td>\n",
       "      <td>1</td>\n",
       "      <td>8437.673028</td>\n",
       "      <td>42</td>\n",
       "      <td>высшее</td>\n",
       "      <td>0</td>\n",
       "      <td>женат / замужем</td>\n",
       "      <td>0</td>\n",
       "      <td>F</td>\n",
       "      <td>сотрудник</td>\n",
       "      <td>0</td>\n",
       "      <td>253875.639453</td>\n",
       "      <td>покупка жилья</td>\n",
       "    </tr>\n",
       "    <tr>\n",
       "      <td>1</td>\n",
       "      <td>1</td>\n",
       "      <td>4024.803754</td>\n",
       "      <td>36</td>\n",
       "      <td>среднее</td>\n",
       "      <td>1</td>\n",
       "      <td>женат / замужем</td>\n",
       "      <td>0</td>\n",
       "      <td>F</td>\n",
       "      <td>сотрудник</td>\n",
       "      <td>0</td>\n",
       "      <td>112080.014102</td>\n",
       "      <td>приобретение автомобиля</td>\n",
       "    </tr>\n",
       "    <tr>\n",
       "      <td>2</td>\n",
       "      <td>0</td>\n",
       "      <td>5623.422610</td>\n",
       "      <td>33</td>\n",
       "      <td>среднее</td>\n",
       "      <td>1</td>\n",
       "      <td>женат / замужем</td>\n",
       "      <td>0</td>\n",
       "      <td>M</td>\n",
       "      <td>сотрудник</td>\n",
       "      <td>0</td>\n",
       "      <td>145885.952297</td>\n",
       "      <td>покупка жилья</td>\n",
       "    </tr>\n",
       "    <tr>\n",
       "      <td>3</td>\n",
       "      <td>3</td>\n",
       "      <td>4124.747207</td>\n",
       "      <td>32</td>\n",
       "      <td>среднее</td>\n",
       "      <td>1</td>\n",
       "      <td>женат / замужем</td>\n",
       "      <td>0</td>\n",
       "      <td>M</td>\n",
       "      <td>сотрудник</td>\n",
       "      <td>0</td>\n",
       "      <td>267628.550329</td>\n",
       "      <td>дополнительное образование</td>\n",
       "    </tr>\n",
       "    <tr>\n",
       "      <td>4</td>\n",
       "      <td>0</td>\n",
       "      <td>14177.753002</td>\n",
       "      <td>53</td>\n",
       "      <td>среднее</td>\n",
       "      <td>1</td>\n",
       "      <td>гражданский брак</td>\n",
       "      <td>1</td>\n",
       "      <td>F</td>\n",
       "      <td>пенсионер</td>\n",
       "      <td>0</td>\n",
       "      <td>158616.077870</td>\n",
       "      <td>сыграть свадьбу</td>\n",
       "    </tr>\n",
       "  </tbody>\n",
       "</table>\n",
       "</div>"
      ],
      "text/plain": [
       "   children  days_employed  dob_years education  education_id  \\\n",
       "0         1    8437.673028         42    высшее             0   \n",
       "1         1    4024.803754         36   среднее             1   \n",
       "2         0    5623.422610         33   среднее             1   \n",
       "3         3    4124.747207         32   среднее             1   \n",
       "4         0   14177.753002         53   среднее             1   \n",
       "\n",
       "      family_status  family_status_id gender income_type  debt   total_income  \\\n",
       "0   женат / замужем                 0      F   сотрудник     0  253875.639453   \n",
       "1   женат / замужем                 0      F   сотрудник     0  112080.014102   \n",
       "2   женат / замужем                 0      M   сотрудник     0  145885.952297   \n",
       "3   женат / замужем                 0      M   сотрудник     0  267628.550329   \n",
       "4  гражданский брак                 1      F   пенсионер     0  158616.077870   \n",
       "\n",
       "                      purpose  \n",
       "0               покупка жилья  \n",
       "1     приобретение автомобиля  \n",
       "2               покупка жилья  \n",
       "3  дополнительное образование  \n",
       "4             сыграть свадьбу  "
      ]
     },
     "execution_count": 47,
     "metadata": {},
     "output_type": "execute_result"
    }
   ],
   "source": [
    "# <вывод первых 5 строк таблицы>\n",
    "df.head()"
   ]
  },
  {
   "cell_type": "markdown",
   "metadata": {},
   "source": [
    "Теперь поменяем тип данных в столбцах **days_employed** и **total_income** с float64 на int64 для удобства расчетов и более наглядного представления данных в таблице.<br><br>\n",
    "Для изменения типа данных в pandas существует два метода: *to_numeric* и *astype*.<br> *to_numeric* преобразует только из str в числовой формат, поэтому используем **astype**."
   ]
  },
  {
   "cell_type": "code",
   "execution_count": 48,
   "metadata": {},
   "outputs": [],
   "source": [
    "# <замена типа данных в столбце 'days_employed' (float64 -> int64)>\n",
    "df['days_employed'] = df['days_employed'].astype('int64')"
   ]
  },
  {
   "cell_type": "code",
   "execution_count": 49,
   "metadata": {},
   "outputs": [
    {
     "data": {
      "text/plain": [
       "0     8437\n",
       "1     4024\n",
       "2     5623\n",
       "3     4124\n",
       "4    14177\n",
       "Name: days_employed, dtype: int64"
      ]
     },
     "execution_count": 49,
     "metadata": {},
     "output_type": "execute_result"
    }
   ],
   "source": [
    "# <проверка значений столбца 'days_employed'>\n",
    "df['days_employed'].head(5) "
   ]
  },
  {
   "cell_type": "code",
   "execution_count": 50,
   "metadata": {},
   "outputs": [],
   "source": [
    "# <замена типа данных в столбце 'total_income' (float64 -> int64)>\n",
    "df['total_income'] = df['total_income'].astype('int64')"
   ]
  },
  {
   "cell_type": "code",
   "execution_count": 51,
   "metadata": {},
   "outputs": [
    {
     "data": {
      "text/plain": [
       "0    253875\n",
       "1    112080\n",
       "2    145885\n",
       "3    267628\n",
       "4    158616\n",
       "5    255763\n",
       "6    240525\n",
       "7    135823\n",
       "8     95856\n",
       "9    144425\n",
       "Name: total_income, dtype: int64"
      ]
     },
     "execution_count": 51,
     "metadata": {},
     "output_type": "execute_result"
    }
   ],
   "source": [
    "# <проверка значений столбца 'total_income'>\n",
    "df['total_income'].head(10) "
   ]
  },
  {
   "cell_type": "markdown",
   "metadata": {},
   "source": [
    "При замене типа данных с вещественного (float64) на целочисленный (int64) с помощью метода **astype** значения округляются до целых в меньшую сторону.<br><br>\n",
    "В остальных столбцах не требуется изменять тип данных."
   ]
  },
  {
   "cell_type": "markdown",
   "metadata": {},
   "source": [
    "**Вывод**"
   ]
  },
  {
   "cell_type": "markdown",
   "metadata": {},
   "source": [
    "В столбцах **days_employed** и **total_income** тип данных был заменен с *float64* на *int64* для удобства расчетов и более наглядного представления данных в таблице."
   ]
  },
  {
   "cell_type": "markdown",
   "metadata": {},
   "source": [
    "### 2.3. Обработка дубликатов"
   ]
  },
  {
   "cell_type": "markdown",
   "metadata": {},
   "source": [
    "Посчитаем количество дубликатов в таблице."
   ]
  },
  {
   "cell_type": "code",
   "execution_count": 52,
   "metadata": {},
   "outputs": [
    {
     "data": {
      "text/plain": [
       "71"
      ]
     },
     "execution_count": 52,
     "metadata": {},
     "output_type": "execute_result"
    }
   ],
   "source": [
    "# <подсчет количества строк - дубликатов>\n",
    "df.duplicated().sum() "
   ]
  },
  {
   "cell_type": "code",
   "execution_count": 53,
   "metadata": {
    "scrolled": true
   },
   "outputs": [
    {
     "data": {
      "text/html": [
       "<div>\n",
       "<style scoped>\n",
       "    .dataframe tbody tr th:only-of-type {\n",
       "        vertical-align: middle;\n",
       "    }\n",
       "\n",
       "    .dataframe tbody tr th {\n",
       "        vertical-align: top;\n",
       "    }\n",
       "\n",
       "    .dataframe thead th {\n",
       "        text-align: right;\n",
       "    }\n",
       "</style>\n",
       "<table border=\"1\" class=\"dataframe\">\n",
       "  <thead>\n",
       "    <tr style=\"text-align: right;\">\n",
       "      <th></th>\n",
       "      <th>children</th>\n",
       "      <th>days_employed</th>\n",
       "      <th>dob_years</th>\n",
       "      <th>education</th>\n",
       "      <th>education_id</th>\n",
       "      <th>family_status</th>\n",
       "      <th>family_status_id</th>\n",
       "      <th>gender</th>\n",
       "      <th>income_type</th>\n",
       "      <th>debt</th>\n",
       "      <th>total_income</th>\n",
       "      <th>purpose</th>\n",
       "    </tr>\n",
       "  </thead>\n",
       "  <tbody>\n",
       "    <tr>\n",
       "      <td>2849</td>\n",
       "      <td>0</td>\n",
       "      <td>-1</td>\n",
       "      <td>41</td>\n",
       "      <td>среднее</td>\n",
       "      <td>1</td>\n",
       "      <td>женат / замужем</td>\n",
       "      <td>0</td>\n",
       "      <td>F</td>\n",
       "      <td>сотрудник</td>\n",
       "      <td>0</td>\n",
       "      <td>142594</td>\n",
       "      <td>покупка жилья для семьи</td>\n",
       "    </tr>\n",
       "    <tr>\n",
       "      <td>3290</td>\n",
       "      <td>0</td>\n",
       "      <td>-1</td>\n",
       "      <td>58</td>\n",
       "      <td>среднее</td>\n",
       "      <td>1</td>\n",
       "      <td>гражданский брак</td>\n",
       "      <td>1</td>\n",
       "      <td>F</td>\n",
       "      <td>пенсионер</td>\n",
       "      <td>0</td>\n",
       "      <td>118514</td>\n",
       "      <td>сыграть свадьбу</td>\n",
       "    </tr>\n",
       "    <tr>\n",
       "      <td>4182</td>\n",
       "      <td>1</td>\n",
       "      <td>-1</td>\n",
       "      <td>34</td>\n",
       "      <td>высшее</td>\n",
       "      <td>0</td>\n",
       "      <td>гражданский брак</td>\n",
       "      <td>1</td>\n",
       "      <td>F</td>\n",
       "      <td>сотрудник</td>\n",
       "      <td>0</td>\n",
       "      <td>142594</td>\n",
       "      <td>свадьба</td>\n",
       "    </tr>\n",
       "    <tr>\n",
       "      <td>4851</td>\n",
       "      <td>0</td>\n",
       "      <td>-1</td>\n",
       "      <td>60</td>\n",
       "      <td>среднее</td>\n",
       "      <td>1</td>\n",
       "      <td>гражданский брак</td>\n",
       "      <td>1</td>\n",
       "      <td>F</td>\n",
       "      <td>пенсионер</td>\n",
       "      <td>0</td>\n",
       "      <td>118514</td>\n",
       "      <td>свадьба</td>\n",
       "    </tr>\n",
       "    <tr>\n",
       "      <td>5557</td>\n",
       "      <td>0</td>\n",
       "      <td>-1</td>\n",
       "      <td>58</td>\n",
       "      <td>среднее</td>\n",
       "      <td>1</td>\n",
       "      <td>гражданский брак</td>\n",
       "      <td>1</td>\n",
       "      <td>F</td>\n",
       "      <td>пенсионер</td>\n",
       "      <td>0</td>\n",
       "      <td>118514</td>\n",
       "      <td>сыграть свадьбу</td>\n",
       "    </tr>\n",
       "  </tbody>\n",
       "</table>\n",
       "</div>"
      ],
      "text/plain": [
       "      children  days_employed  dob_years education  education_id  \\\n",
       "2849         0             -1         41   среднее             1   \n",
       "3290         0             -1         58   среднее             1   \n",
       "4182         1             -1         34    высшее             0   \n",
       "4851         0             -1         60   среднее             1   \n",
       "5557         0             -1         58   среднее             1   \n",
       "\n",
       "         family_status  family_status_id gender income_type  debt  \\\n",
       "2849   женат / замужем                 0      F   сотрудник     0   \n",
       "3290  гражданский брак                 1      F   пенсионер     0   \n",
       "4182  гражданский брак                 1      F   сотрудник     0   \n",
       "4851  гражданский брак                 1      F   пенсионер     0   \n",
       "5557  гражданский брак                 1      F   пенсионер     0   \n",
       "\n",
       "      total_income                  purpose  \n",
       "2849        142594  покупка жилья для семьи  \n",
       "3290        118514          сыграть свадьбу  \n",
       "4182        142594                  свадьба  \n",
       "4851        118514                  свадьба  \n",
       "5557        118514          сыграть свадьбу  "
      ]
     },
     "execution_count": 53,
     "metadata": {},
     "output_type": "execute_result"
    }
   ],
   "source": [
    "# <вывод первых пяти строк - дубликатов>\n",
    "df[df.duplicated()].head()"
   ]
  },
  {
   "cell_type": "code",
   "execution_count": 54,
   "metadata": {},
   "outputs": [
    {
     "data": {
      "text/plain": [
       "income_type\n",
       "безработный        131339\n",
       "в декрете           53829\n",
       "госслужащий        150447\n",
       "компаньон          172357\n",
       "пенсионер          118514\n",
       "предприниматель    499163\n",
       "сотрудник          142594\n",
       "студент             98201\n",
       "Name: total_income, dtype: int32"
      ]
     },
     "execution_count": 54,
     "metadata": {},
     "output_type": "execute_result"
    }
   ],
   "source": [
    "# <вывод присвоенных медианных значений>\n",
    "income_median.astype('int') "
   ]
  },
  {
   "cell_type": "markdown",
   "metadata": {},
   "source": [
    "Обращаем внимание, что строки-дубликаты в столбцах **days_employed** имеют значение **-1**, а в столбце **total_income** имеют медианное значение для соответствующей группы **income_type**. Эти значения присваивались при заполнении пропусков. \n",
    "\n",
    "Проверим, все ли дубликаты имеют эти значения в столбцах **days_employed** и **total_income**."
   ]
  },
  {
   "cell_type": "code",
   "execution_count": 55,
   "metadata": {},
   "outputs": [
    {
     "data": {
      "text/plain": [
       "array([142594, 118514, 172357, 150447], dtype=int64)"
      ]
     },
     "execution_count": 55,
     "metadata": {},
     "output_type": "execute_result"
    }
   ],
   "source": [
    "# <уникальные значения дубликатов в столбце 'total_income'>\n",
    "df[df.duplicated()]['total_income'].unique()"
   ]
  },
  {
   "cell_type": "code",
   "execution_count": 56,
   "metadata": {},
   "outputs": [
    {
     "data": {
      "text/plain": [
       "array([-1], dtype=int64)"
      ]
     },
     "execution_count": 56,
     "metadata": {},
     "output_type": "execute_result"
    }
   ],
   "source": [
    "# <уникальные значения дубликатов в столбце 'total_income'>\n",
    "df[df.duplicated()]['days_employed'].unique() "
   ]
  },
  {
   "cell_type": "markdown",
   "metadata": {},
   "source": [
    "Все дубликаты имеют значение **-1** в столбце **days_employed**. Так как значение **-1** присутствует во всех строках-дубликатах, в дальнейшем для удобства будем использовать индексацию только по столбцу **days_employed**."
   ]
  },
  {
   "cell_type": "markdown",
   "metadata": {},
   "source": [
    "Проверим, какая доля строк со значением **-1** столбцов **days_employed** (т.е. строк с изначально пропущенными значениями) является дубликатом."
   ]
  },
  {
   "cell_type": "code",
   "execution_count": 57,
   "metadata": {},
   "outputs": [
    {
     "data": {
      "text/plain": [
       "(71, 2174)"
      ]
     },
     "execution_count": 57,
     "metadata": {},
     "output_type": "execute_result"
    }
   ],
   "source": [
    "# <количество дубликатов и строк со значением -1 в столбце 'days_employed'>\n",
    "(df.duplicated().sum(), len(df[df['days_employed'] == -1]))"
   ]
  },
  {
   "cell_type": "code",
   "execution_count": 58,
   "metadata": {},
   "outputs": [
    {
     "data": {
      "text/plain": [
       "0.03265869365225391"
      ]
     },
     "execution_count": 58,
     "metadata": {},
     "output_type": "execute_result"
    }
   ],
   "source": [
    "# <доля дубликатов в строках со значением -1 в столбце 'days_employed'>\n",
    "part = df.duplicated().sum() / len(df[df['days_employed'] == -1])\n",
    "part"
   ]
  },
  {
   "cell_type": "markdown",
   "metadata": {},
   "source": [
    "Возможные причины появления дубликатов:\n",
    "- Либо эта часть таблицы характеризует какую-либо группу людей, отличающихся от остальной части таблицы, т.е. данные в этой конкретной выгрузке часто повторяются по причине сходства клиентов из этой части базы данных;\n",
    "- Либо произошла ошибка при выгрузке, в связи с чем появились дубликаты."
   ]
  },
  {
   "cell_type": "markdown",
   "metadata": {},
   "source": [
    "Принимаем версию, что данная выгрузка содержит в себе большое количество подобных друг другу, поэтому комбинации столбцов повторяются. *Дубликаты не удаляем.*"
   ]
  },
  {
   "cell_type": "markdown",
   "metadata": {},
   "source": [
    "**Вывод**"
   ]
  },
  {
   "cell_type": "markdown",
   "metadata": {},
   "source": [
    "По результатам проведенного анализа было решено не удалять дубликаты, так как они появились из-за неполноты данных."
   ]
  },
  {
   "cell_type": "markdown",
   "metadata": {},
   "source": [
    "### 2.4. Лемматизация"
   ]
  },
  {
   "cell_type": "markdown",
   "metadata": {},
   "source": [
    "В начале блокнота импортировали *Mystem* из библиотеки *pymystem3* (для проведения лемматизации) и *Сounter* из *collections* (для подсчета количества лемм)."
   ]
  },
  {
   "cell_type": "markdown",
   "metadata": {},
   "source": [
    "Оценим, какие уникальные элементы находятся в столбце **purpose**."
   ]
  },
  {
   "cell_type": "code",
   "execution_count": 59,
   "metadata": {},
   "outputs": [
    {
     "data": {
      "text/plain": [
       "свадьба                                   797\n",
       "на проведение свадьбы                     777\n",
       "сыграть свадьбу                           774\n",
       "операции с недвижимостью                  676\n",
       "покупка коммерческой недвижимости         664\n",
       "покупка жилья для сдачи                   653\n",
       "операции с жильем                         653\n",
       "операции с коммерческой недвижимостью     651\n",
       "жилье                                     647\n",
       "покупка жилья                             647\n",
       "покупка жилья для семьи                   641\n",
       "строительство собственной недвижимости    635\n",
       "недвижимость                              634\n",
       "операции со своей недвижимостью           630\n",
       "строительство жилой недвижимости          626\n",
       "покупка недвижимости                      624\n",
       "покупка своего жилья                      620\n",
       "строительство недвижимости                620\n",
       "ремонт жилью                              612\n",
       "покупка жилой недвижимости                607\n",
       "на покупку своего автомобиля              505\n",
       "заняться высшим образованием              496\n",
       "автомобиль                                495\n",
       "сделка с подержанным автомобилем          489\n",
       "свой автомобиль                           480\n",
       "на покупку подержанного автомобиля        479\n",
       "автомобили                                478\n",
       "на покупку автомобиля                     472\n",
       "приобретение автомобиля                   462\n",
       "дополнительное образование                462\n",
       "сделка с автомобилем                      455\n",
       "высшее образование                        453\n",
       "образование                               447\n",
       "получение дополнительного образования     447\n",
       "получение образования                     443\n",
       "профильное образование                    436\n",
       "получение высшего образования             426\n",
       "заняться образованием                     412\n",
       "Name: purpose, dtype: int64"
      ]
     },
     "execution_count": 59,
     "metadata": {},
     "output_type": "execute_result"
    }
   ],
   "source": [
    "# <вывод уникальных элементов и их количества>\n",
    "df['purpose'].value_counts() "
   ]
  },
  {
   "cell_type": "markdown",
   "metadata": {},
   "source": [
    "Проверим количество уникальных значений столбца **purpose**."
   ]
  },
  {
   "cell_type": "code",
   "execution_count": 60,
   "metadata": {},
   "outputs": [
    {
     "data": {
      "text/plain": [
       "38"
      ]
     },
     "execution_count": 60,
     "metadata": {},
     "output_type": "execute_result"
    }
   ],
   "source": [
    "# <количество уникальных значений в столбце 'purpose'>\n",
    "len(df['purpose'].unique()) "
   ]
  },
  {
   "cell_type": "markdown",
   "metadata": {},
   "source": [
    "Проведем лемматизацию."
   ]
  },
  {
   "cell_type": "code",
   "execution_count": 61,
   "metadata": {},
   "outputs": [
    {
     "name": "stdout",
     "output_type": "stream",
     "text": [
      "Counter({' ': 96, 'покупка': 10, 'недвижимость': 10, 'автомобиль': 9, 'образование': 9, 'жилье': 7, 'с': 5, 'операция': 4, 'на': 4, 'свой': 4, 'свадьба': 3, 'строительство': 3, 'получение': 3, 'высокий': 3, 'дополнительный': 2, 'для': 2, 'коммерческий': 2, 'жилой': 2, 'подержать': 2, 'заниматься': 2, 'сделка': 2, 'приобретение': 1, 'сыграть': 1, 'проведение': 1, 'семья': 1, 'собственный': 1, 'со': 1, 'профильный': 1, 'сдача': 1, 'ремонт': 1, ' \\n': 1})\n"
     ]
    }
   ],
   "source": [
    "temp_txt = ''\n",
    "for line in df['purpose'].unique():   # <перебор всех возможных значений столбца 'purpose'>\n",
    "    temp_txt += line + ' '            # <объединение всех элементов в одном списке>\n",
    "lemmas = Mystem().lemmatize(temp_txt) # <лемматизация>\n",
    "print(Counter(lemmas))                # <печать количества лемм>"
   ]
  },
  {
   "cell_type": "markdown",
   "metadata": {},
   "source": [
    "Теперь определим ключевые леммы, которыми можно будет заменить значения столбцов. Всего уникальных значений 38. Соответственно, в сумме необходимо получить 38 упоминаний лемм.<br>\n",
    "Исследуем полученный объект *Counter*:\n",
    "- ' ': 96 -> количество пропусков;\n",
    "- 'покупка': 10 -> общая фраза, не является интересной для нас леммой;\n",
    "- *'недвижимость': 10* -> **+10 значений**;\n",
    "- *'автомобиль': 9* -> **+9 значений**;\n",
    "- *'образование': 9* -> **+9 значений**;\n",
    "- *'жилье': 7* -> **+7 значений**;\n",
    "- 'с': 5;\n",
    "- 'операция': 4 -> общая фраза, не является интересной для нас леммой;\n",
    "- 'на': 4;\n",
    "- 'свой': 4;\n",
    "- *'свадьба': 3* -> **+3 значения**."
   ]
  },
  {
   "cell_type": "markdown",
   "metadata": {},
   "source": [
    "Объединяем лемму **'недвижимость'** с леммой **'жилье'**. В итоге получаем следующие леммы:\n",
    "- 17 -> 'недвижимость'\n",
    "- 9 -> 'автомобиль'\n",
    "- 9 -> 'образование'\n",
    "- 3 -> 'свадьба'.<br>\n",
    "Итого 38 упоминаний лемм."
   ]
  },
  {
   "cell_type": "code",
   "execution_count": 62,
   "metadata": {},
   "outputs": [
    {
     "data": {
      "text/plain": [
       "{'покупка жилья': 'недвижимость',\n",
       " 'приобретение автомобиля': 'автомобиль',\n",
       " 'дополнительное образование': 'образование',\n",
       " 'сыграть свадьбу': 'свадьба',\n",
       " 'операции с жильем': 'недвижимость',\n",
       " 'образование': 'образование',\n",
       " 'на проведение свадьбы': 'свадьба',\n",
       " 'покупка жилья для семьи': 'недвижимость',\n",
       " 'покупка недвижимости': 'недвижимость',\n",
       " 'покупка коммерческой недвижимости': 'недвижимость',\n",
       " 'покупка жилой недвижимости': 'недвижимость',\n",
       " 'строительство собственной недвижимости': 'недвижимость',\n",
       " 'недвижимость': 'недвижимость',\n",
       " 'строительство недвижимости': 'недвижимость',\n",
       " 'на покупку подержанного автомобиля': 'автомобиль',\n",
       " 'на покупку своего автомобиля': 'автомобиль',\n",
       " 'операции с коммерческой недвижимостью': 'недвижимость',\n",
       " 'строительство жилой недвижимости': 'недвижимость',\n",
       " 'жилье': 'недвижимость',\n",
       " 'операции со своей недвижимостью': 'недвижимость',\n",
       " 'автомобили': 'автомобиль',\n",
       " 'заняться образованием': 'образование',\n",
       " 'сделка с подержанным автомобилем': 'автомобиль',\n",
       " 'получение образования': 'образование',\n",
       " 'автомобиль': 'автомобиль',\n",
       " 'свадьба': 'свадьба',\n",
       " 'получение дополнительного образования': 'образование',\n",
       " 'покупка своего жилья': 'недвижимость',\n",
       " 'операции с недвижимостью': 'недвижимость',\n",
       " 'получение высшего образования': 'образование',\n",
       " 'свой автомобиль': 'автомобиль',\n",
       " 'сделка с автомобилем': 'автомобиль',\n",
       " 'профильное образование': 'образование',\n",
       " 'высшее образование': 'образование',\n",
       " 'покупка жилья для сдачи': 'недвижимость',\n",
       " 'на покупку автомобиля': 'автомобиль',\n",
       " 'ремонт жилью': 'недвижимость',\n",
       " 'заняться высшим образованием': 'образование'}"
      ]
     },
     "execution_count": 62,
     "metadata": {},
     "output_type": "execute_result"
    }
   ],
   "source": [
    "# <создание переменной для лемматицации>\n",
    "m = Mystem().lemmatize\n",
    "# <создание словаря с соответствием уникальных значений purpose и выбранных лемм>\n",
    "purpose_lemm_dict = {}\n",
    "for i in df['purpose'].unique():\n",
    "    temp = m(i)\n",
    "    if 'недвижимость' in temp or 'жилье' in temp:\n",
    "        purpose_lemm_dict[i] = 'недвижимость'\n",
    "    elif 'автомобиль' in temp:\n",
    "        purpose_lemm_dict[i] = 'автомобиль'\n",
    "    elif 'образование' in temp:\n",
    "        purpose_lemm_dict[i] = 'образование'\n",
    "    elif 'свадьба' in temp:\n",
    "        purpose_lemm_dict[i] = 'свадьба'\n",
    "# <вывод полученных соответствий>\n",
    "purpose_lemm_dict"
   ]
  },
  {
   "cell_type": "markdown",
   "metadata": {},
   "source": [
    "Добавим новый столбец **lemm_purpose**."
   ]
  },
  {
   "cell_type": "code",
   "execution_count": 63,
   "metadata": {},
   "outputs": [
    {
     "data": {
      "text/plain": [
       "недвижимость    10840\n",
       "автомобиль       4315\n",
       "образование      4022\n",
       "свадьба          2348\n",
       "Name: lemm_purpose, dtype: int64"
      ]
     },
     "execution_count": 63,
     "metadata": {},
     "output_type": "execute_result"
    }
   ],
   "source": [
    "# <применение функции для замены целей кредитов>\n",
    "df['lemm_purpose'] = df['purpose'].apply(lambda x: purpose_lemm_dict[x])\n",
    "df['lemm_purpose'].value_counts()"
   ]
  },
  {
   "cell_type": "code",
   "execution_count": 64,
   "metadata": {},
   "outputs": [
    {
     "name": "stdout",
     "output_type": "stream",
     "text": [
      "<class 'pandas.core.frame.DataFrame'>\n",
      "RangeIndex: 21525 entries, 0 to 21524\n",
      "Data columns (total 13 columns):\n",
      "children            21525 non-null int64\n",
      "days_employed       21525 non-null int64\n",
      "dob_years           21525 non-null int64\n",
      "education           21525 non-null object\n",
      "education_id        21525 non-null int64\n",
      "family_status       21525 non-null object\n",
      "family_status_id    21525 non-null int64\n",
      "gender              21524 non-null object\n",
      "income_type         21525 non-null object\n",
      "debt                21525 non-null int64\n",
      "total_income        21525 non-null int64\n",
      "purpose             21525 non-null object\n",
      "lemm_purpose        21525 non-null object\n",
      "dtypes: int64(7), object(6)\n",
      "memory usage: 2.1+ MB\n"
     ]
    }
   ],
   "source": [
    "# <проверка изменений таблицы>\n",
    "df.info()"
   ]
  },
  {
   "cell_type": "markdown",
   "metadata": {},
   "source": [
    "В результате преобразований получили новый столбец **lemm_purpose**, удобный для категоризации данных."
   ]
  },
  {
   "cell_type": "markdown",
   "metadata": {},
   "source": [
    "**Вывод**"
   ]
  },
  {
   "cell_type": "markdown",
   "metadata": {},
   "source": [
    "- Были выделены леммы: недвижимость (+ жилье), автомобиль, образование, свадьба;\n",
    "- В основной таблице был создан дополнительный столбец **lemm_purpose** для лемм из столбца **purpose**."
   ]
  },
  {
   "cell_type": "markdown",
   "metadata": {},
   "source": [
    "### 2.5. Категоризация данных"
   ]
  },
  {
   "cell_type": "code",
   "execution_count": 65,
   "metadata": {},
   "outputs": [
    {
     "data": {
      "text/html": [
       "<div>\n",
       "<style scoped>\n",
       "    .dataframe tbody tr th:only-of-type {\n",
       "        vertical-align: middle;\n",
       "    }\n",
       "\n",
       "    .dataframe tbody tr th {\n",
       "        vertical-align: top;\n",
       "    }\n",
       "\n",
       "    .dataframe thead th {\n",
       "        text-align: right;\n",
       "    }\n",
       "</style>\n",
       "<table border=\"1\" class=\"dataframe\">\n",
       "  <thead>\n",
       "    <tr style=\"text-align: right;\">\n",
       "      <th></th>\n",
       "      <th>children</th>\n",
       "      <th>days_employed</th>\n",
       "      <th>dob_years</th>\n",
       "      <th>education</th>\n",
       "      <th>education_id</th>\n",
       "      <th>family_status</th>\n",
       "      <th>family_status_id</th>\n",
       "      <th>gender</th>\n",
       "      <th>income_type</th>\n",
       "      <th>debt</th>\n",
       "      <th>total_income</th>\n",
       "      <th>purpose</th>\n",
       "      <th>lemm_purpose</th>\n",
       "    </tr>\n",
       "  </thead>\n",
       "  <tbody>\n",
       "    <tr>\n",
       "      <td>0</td>\n",
       "      <td>1</td>\n",
       "      <td>8437</td>\n",
       "      <td>42</td>\n",
       "      <td>высшее</td>\n",
       "      <td>0</td>\n",
       "      <td>женат / замужем</td>\n",
       "      <td>0</td>\n",
       "      <td>F</td>\n",
       "      <td>сотрудник</td>\n",
       "      <td>0</td>\n",
       "      <td>253875</td>\n",
       "      <td>покупка жилья</td>\n",
       "      <td>недвижимость</td>\n",
       "    </tr>\n",
       "    <tr>\n",
       "      <td>1</td>\n",
       "      <td>1</td>\n",
       "      <td>4024</td>\n",
       "      <td>36</td>\n",
       "      <td>среднее</td>\n",
       "      <td>1</td>\n",
       "      <td>женат / замужем</td>\n",
       "      <td>0</td>\n",
       "      <td>F</td>\n",
       "      <td>сотрудник</td>\n",
       "      <td>0</td>\n",
       "      <td>112080</td>\n",
       "      <td>приобретение автомобиля</td>\n",
       "      <td>автомобиль</td>\n",
       "    </tr>\n",
       "    <tr>\n",
       "      <td>2</td>\n",
       "      <td>0</td>\n",
       "      <td>5623</td>\n",
       "      <td>33</td>\n",
       "      <td>среднее</td>\n",
       "      <td>1</td>\n",
       "      <td>женат / замужем</td>\n",
       "      <td>0</td>\n",
       "      <td>M</td>\n",
       "      <td>сотрудник</td>\n",
       "      <td>0</td>\n",
       "      <td>145885</td>\n",
       "      <td>покупка жилья</td>\n",
       "      <td>недвижимость</td>\n",
       "    </tr>\n",
       "    <tr>\n",
       "      <td>3</td>\n",
       "      <td>3</td>\n",
       "      <td>4124</td>\n",
       "      <td>32</td>\n",
       "      <td>среднее</td>\n",
       "      <td>1</td>\n",
       "      <td>женат / замужем</td>\n",
       "      <td>0</td>\n",
       "      <td>M</td>\n",
       "      <td>сотрудник</td>\n",
       "      <td>0</td>\n",
       "      <td>267628</td>\n",
       "      <td>дополнительное образование</td>\n",
       "      <td>образование</td>\n",
       "    </tr>\n",
       "    <tr>\n",
       "      <td>4</td>\n",
       "      <td>0</td>\n",
       "      <td>14177</td>\n",
       "      <td>53</td>\n",
       "      <td>среднее</td>\n",
       "      <td>1</td>\n",
       "      <td>гражданский брак</td>\n",
       "      <td>1</td>\n",
       "      <td>F</td>\n",
       "      <td>пенсионер</td>\n",
       "      <td>0</td>\n",
       "      <td>158616</td>\n",
       "      <td>сыграть свадьбу</td>\n",
       "      <td>свадьба</td>\n",
       "    </tr>\n",
       "  </tbody>\n",
       "</table>\n",
       "</div>"
      ],
      "text/plain": [
       "   children  days_employed  dob_years education  education_id  \\\n",
       "0         1           8437         42    высшее             0   \n",
       "1         1           4024         36   среднее             1   \n",
       "2         0           5623         33   среднее             1   \n",
       "3         3           4124         32   среднее             1   \n",
       "4         0          14177         53   среднее             1   \n",
       "\n",
       "      family_status  family_status_id gender income_type  debt  total_income  \\\n",
       "0   женат / замужем                 0      F   сотрудник     0        253875   \n",
       "1   женат / замужем                 0      F   сотрудник     0        112080   \n",
       "2   женат / замужем                 0      M   сотрудник     0        145885   \n",
       "3   женат / замужем                 0      M   сотрудник     0        267628   \n",
       "4  гражданский брак                 1      F   пенсионер     0        158616   \n",
       "\n",
       "                      purpose  lemm_purpose  \n",
       "0               покупка жилья  недвижимость  \n",
       "1     приобретение автомобиля    автомобиль  \n",
       "2               покупка жилья  недвижимость  \n",
       "3  дополнительное образование   образование  \n",
       "4             сыграть свадьбу       свадьба  "
      ]
     },
     "execution_count": 65,
     "metadata": {},
     "output_type": "execute_result"
    }
   ],
   "source": [
    "# <вывод первых 5 строк обновленной таблицы>\n",
    "df.head() "
   ]
  },
  {
   "cell_type": "markdown",
   "metadata": {},
   "source": [
    "Подготовим данные для ответов на вопросы.\n",
    "<br>Столбцы, необходимые для ответов на вопросы: **debt**, **children**, (**family_status**, **family_status_id**), **total_income**, (**purpose**, **lemm_purpose**).\n",
    "\n",
    "Этапы выполнения:\n",
    "- исследуем, какие данные необходимо категоризировать;\n",
    "- дополняем общую таблицу, если это необходимо;\n",
    "- выделяем отдельные таблицы для ответов на вопросы."
   ]
  },
  {
   "cell_type": "markdown",
   "metadata": {},
   "source": [
    "Категоризируем данные и дополним таблицу:"
   ]
  },
  {
   "cell_type": "markdown",
   "metadata": {},
   "source": [
    "#### 2.5.1. Столбец children\n",
    "\n",
    "Пропущенные значения -> *-1*, нет детей -> **0**, есть дети -> **>= 1**.\n",
    "\n",
    "Так как в рамках исследования нас интересует только наличие или отсутствие детей, поменяем все значения *больше 1* на **1**. Для этого создадим новый столбец **children_id**."
   ]
  },
  {
   "cell_type": "code",
   "execution_count": 66,
   "metadata": {},
   "outputs": [
    {
     "data": {
      "text/html": [
       "<div>\n",
       "<style scoped>\n",
       "    .dataframe tbody tr th:only-of-type {\n",
       "        vertical-align: middle;\n",
       "    }\n",
       "\n",
       "    .dataframe tbody tr th {\n",
       "        vertical-align: top;\n",
       "    }\n",
       "\n",
       "    .dataframe thead th {\n",
       "        text-align: right;\n",
       "    }\n",
       "</style>\n",
       "<table border=\"1\" class=\"dataframe\">\n",
       "  <thead>\n",
       "    <tr style=\"text-align: right;\">\n",
       "      <th></th>\n",
       "      <th>children</th>\n",
       "      <th>children_id</th>\n",
       "    </tr>\n",
       "  </thead>\n",
       "  <tbody>\n",
       "    <tr>\n",
       "      <td>0</td>\n",
       "      <td>1</td>\n",
       "      <td>1</td>\n",
       "    </tr>\n",
       "    <tr>\n",
       "      <td>1</td>\n",
       "      <td>1</td>\n",
       "      <td>1</td>\n",
       "    </tr>\n",
       "    <tr>\n",
       "      <td>2</td>\n",
       "      <td>0</td>\n",
       "      <td>0</td>\n",
       "    </tr>\n",
       "    <tr>\n",
       "      <td>3</td>\n",
       "      <td>3</td>\n",
       "      <td>1</td>\n",
       "    </tr>\n",
       "    <tr>\n",
       "      <td>4</td>\n",
       "      <td>0</td>\n",
       "      <td>0</td>\n",
       "    </tr>\n",
       "  </tbody>\n",
       "</table>\n",
       "</div>"
      ],
      "text/plain": [
       "   children  children_id\n",
       "0         1            1\n",
       "1         1            1\n",
       "2         0            0\n",
       "3         3            1\n",
       "4         0            0"
      ]
     },
     "execution_count": 66,
     "metadata": {},
     "output_type": "execute_result"
    }
   ],
   "source": [
    "# <создание нового столбца и присвоение всем его элементам значения -1 -> значение по умолчанию>\n",
    "df['children_id'] = -1\n",
    "# <добавление 0 в 'children_id' для семей без детей>\n",
    "df.loc[df['children'] == 0, 'children_id'] = 0\n",
    "# <добавление 1 в 'children_id' для семей с детьми>\n",
    "df.loc[df['children'] >= 1, 'children_id'] = 1\n",
    "# <вывод первых пяти строк полученных значений>\n",
    "df[['children', 'children_id']].head() "
   ]
  },
  {
   "cell_type": "markdown",
   "metadata": {},
   "source": [
    "Создадим таблицу для ответа на вопрос (**children_log**):"
   ]
  },
  {
   "cell_type": "code",
   "execution_count": 67,
   "metadata": {},
   "outputs": [
    {
     "data": {
      "text/html": [
       "<div>\n",
       "<style scoped>\n",
       "    .dataframe tbody tr th:only-of-type {\n",
       "        vertical-align: middle;\n",
       "    }\n",
       "\n",
       "    .dataframe tbody tr th {\n",
       "        vertical-align: top;\n",
       "    }\n",
       "\n",
       "    .dataframe thead th {\n",
       "        text-align: right;\n",
       "    }\n",
       "</style>\n",
       "<table border=\"1\" class=\"dataframe\">\n",
       "  <thead>\n",
       "    <tr style=\"text-align: right;\">\n",
       "      <th></th>\n",
       "      <th>children</th>\n",
       "      <th>children_id</th>\n",
       "      <th>debt</th>\n",
       "    </tr>\n",
       "  </thead>\n",
       "  <tbody>\n",
       "    <tr>\n",
       "      <td>0</td>\n",
       "      <td>1</td>\n",
       "      <td>1</td>\n",
       "      <td>0</td>\n",
       "    </tr>\n",
       "    <tr>\n",
       "      <td>1</td>\n",
       "      <td>1</td>\n",
       "      <td>1</td>\n",
       "      <td>0</td>\n",
       "    </tr>\n",
       "    <tr>\n",
       "      <td>2</td>\n",
       "      <td>0</td>\n",
       "      <td>0</td>\n",
       "      <td>0</td>\n",
       "    </tr>\n",
       "    <tr>\n",
       "      <td>3</td>\n",
       "      <td>3</td>\n",
       "      <td>1</td>\n",
       "      <td>0</td>\n",
       "    </tr>\n",
       "    <tr>\n",
       "      <td>4</td>\n",
       "      <td>0</td>\n",
       "      <td>0</td>\n",
       "      <td>0</td>\n",
       "    </tr>\n",
       "  </tbody>\n",
       "</table>\n",
       "</div>"
      ],
      "text/plain": [
       "   children  children_id  debt\n",
       "0         1            1     0\n",
       "1         1            1     0\n",
       "2         0            0     0\n",
       "3         3            1     0\n",
       "4         0            0     0"
      ]
     },
     "execution_count": 67,
     "metadata": {},
     "output_type": "execute_result"
    }
   ],
   "source": [
    "# <выбор столбцов из df в таблицу children_log>\n",
    "children_log = df[['children', 'children_id', 'debt']] \n",
    "# <исключение строк со значением -1>\n",
    "children_log = children_log.loc[children_log['children_id'] != -1]\n",
    "# <обновление индексов>\n",
    "children_log.reset_index(drop=True, inplace=True)\n",
    "# <вывод первых пяти строк children_log>\n",
    "children_log.head()"
   ]
  },
  {
   "cell_type": "markdown",
   "metadata": {},
   "source": [
    "#### 2.5.2. Столбцы family_status и family_status_id\n",
    "\n",
    "Соотношение значений столбцов *family_status* и *family_status_id*: женат / замужем\t-> 0; гражданский брак -> 1; вдовец / вдова\t-> 2; в разводе\t-> 3; не женат / не замужем\t-> 4.\n",
    "\n",
    "Новый столбец создавать не нужно. Создадим таблицу **family_status_log** и словарь - DataFrame **family_status_dict**."
   ]
  },
  {
   "cell_type": "code",
   "execution_count": 68,
   "metadata": {},
   "outputs": [
    {
     "data": {
      "text/html": [
       "<div>\n",
       "<style scoped>\n",
       "    .dataframe tbody tr th:only-of-type {\n",
       "        vertical-align: middle;\n",
       "    }\n",
       "\n",
       "    .dataframe tbody tr th {\n",
       "        vertical-align: top;\n",
       "    }\n",
       "\n",
       "    .dataframe thead th {\n",
       "        text-align: right;\n",
       "    }\n",
       "</style>\n",
       "<table border=\"1\" class=\"dataframe\">\n",
       "  <thead>\n",
       "    <tr style=\"text-align: right;\">\n",
       "      <th></th>\n",
       "      <th>family_status_id</th>\n",
       "      <th>family_status</th>\n",
       "    </tr>\n",
       "  </thead>\n",
       "  <tbody>\n",
       "    <tr>\n",
       "      <td>0</td>\n",
       "      <td>0</td>\n",
       "      <td>женат / замужем</td>\n",
       "    </tr>\n",
       "    <tr>\n",
       "      <td>1</td>\n",
       "      <td>1</td>\n",
       "      <td>гражданский брак</td>\n",
       "    </tr>\n",
       "    <tr>\n",
       "      <td>2</td>\n",
       "      <td>2</td>\n",
       "      <td>вдовец / вдова</td>\n",
       "    </tr>\n",
       "    <tr>\n",
       "      <td>3</td>\n",
       "      <td>3</td>\n",
       "      <td>в разводе</td>\n",
       "    </tr>\n",
       "    <tr>\n",
       "      <td>4</td>\n",
       "      <td>4</td>\n",
       "      <td>не женат / не замужем</td>\n",
       "    </tr>\n",
       "  </tbody>\n",
       "</table>\n",
       "</div>"
      ],
      "text/plain": [
       "   family_status_id          family_status\n",
       "0                 0        женат / замужем\n",
       "1                 1       гражданский брак\n",
       "2                 2         вдовец / вдова\n",
       "3                 3              в разводе\n",
       "4                 4  не женат / не замужем"
      ]
     },
     "execution_count": 68,
     "metadata": {},
     "output_type": "execute_result"
    }
   ],
   "source": [
    "# <создание таблицы с id и долгами>\n",
    "family_status_log = df[['family_status_id', 'debt']]\n",
    "# <создание словаря -> удаление дубликатов -> обновление индексов>\n",
    "family_status_dict = df[['family_status_id', 'family_status']].drop_duplicates().reset_index(drop=True)\n",
    "family_status_dict"
   ]
  },
  {
   "cell_type": "markdown",
   "metadata": {},
   "source": [
    "#### 2.5.3. Столбец total_income\n",
    "\n",
    "Разделим значения на 10 квантилей, используя метод **pd.qcut**."
   ]
  },
  {
   "cell_type": "code",
   "execution_count": 69,
   "metadata": {},
   "outputs": [
    {
     "data": {
      "text/html": [
       "<div>\n",
       "<style scoped>\n",
       "    .dataframe tbody tr th:only-of-type {\n",
       "        vertical-align: middle;\n",
       "    }\n",
       "\n",
       "    .dataframe tbody tr th {\n",
       "        vertical-align: top;\n",
       "    }\n",
       "\n",
       "    .dataframe thead th {\n",
       "        text-align: right;\n",
       "    }\n",
       "</style>\n",
       "<table border=\"1\" class=\"dataframe\">\n",
       "  <thead>\n",
       "    <tr style=\"text-align: right;\">\n",
       "      <th></th>\n",
       "      <th>total_income</th>\n",
       "      <th>debt</th>\n",
       "    </tr>\n",
       "  </thead>\n",
       "  <tbody>\n",
       "    <tr>\n",
       "      <td>0</td>\n",
       "      <td>253875</td>\n",
       "      <td>0</td>\n",
       "    </tr>\n",
       "    <tr>\n",
       "      <td>1</td>\n",
       "      <td>112080</td>\n",
       "      <td>0</td>\n",
       "    </tr>\n",
       "    <tr>\n",
       "      <td>2</td>\n",
       "      <td>145885</td>\n",
       "      <td>0</td>\n",
       "    </tr>\n",
       "    <tr>\n",
       "      <td>3</td>\n",
       "      <td>267628</td>\n",
       "      <td>0</td>\n",
       "    </tr>\n",
       "    <tr>\n",
       "      <td>4</td>\n",
       "      <td>158616</td>\n",
       "      <td>0</td>\n",
       "    </tr>\n",
       "  </tbody>\n",
       "</table>\n",
       "</div>"
      ],
      "text/plain": [
       "   total_income  debt\n",
       "0        253875     0\n",
       "1        112080     0\n",
       "2        145885     0\n",
       "3        267628     0\n",
       "4        158616     0"
      ]
     },
     "execution_count": 69,
     "metadata": {},
     "output_type": "execute_result"
    }
   ],
   "source": [
    "# <создание таблицы со значениями столбцов 'total_income' и 'debt'>\n",
    "temp = df[['total_income', 'debt']]\n",
    "# <вывод первых пяти строк temp>\n",
    "temp.head()"
   ]
  },
  {
   "cell_type": "code",
   "execution_count": 70,
   "metadata": {
    "scrolled": true
   },
   "outputs": [
    {
     "data": {
      "text/plain": [
       "1     2153\n",
       "2     2152\n",
       "3     2153\n",
       "4     2152\n",
       "5     2295\n",
       "6     2010\n",
       "7     2152\n",
       "8     2153\n",
       "9     2152\n",
       "10    2153\n",
       "Name: total_income_id, dtype: int64"
      ]
     },
     "execution_count": 70,
     "metadata": {},
     "output_type": "execute_result"
    }
   ],
   "source": [
    "# <разделение столбца 'total_income' на квантили>\n",
    "with pd.option_context('mode.chained_assignment', None):\n",
    "    temp.loc[:, 'total_income_id'] = pd.qcut(temp['total_income'], 10, labels=np.arange(1, 11))\n",
    "temp.loc[:, 'total_income_id'].value_counts().sort_index()"
   ]
  },
  {
   "cell_type": "markdown",
   "metadata": {},
   "source": [
    "Из-за того, что мы добавляли медианные значения в столбец **total_income** при заполнении пропусков, значения пятого и шестого квантилей пересеклись. Для удобства вычислений объединим квантили под значением **5.6**. Это значение являются серединой распределения доходов."
   ]
  },
  {
   "cell_type": "code",
   "execution_count": 71,
   "metadata": {},
   "outputs": [
    {
     "data": {
      "text/plain": [
       "1      2153\n",
       "2      2152\n",
       "3      2153\n",
       "4      2152\n",
       "5.6    4305\n",
       "7      2152\n",
       "8      2153\n",
       "9      2152\n",
       "10     2153\n",
       "Name: total_income_id, dtype: int64"
      ]
     },
     "execution_count": 71,
     "metadata": {},
     "output_type": "execute_result"
    }
   ],
   "source": [
    "# <разделение столбца 'total_income' на квантили с объединением 5 и 6 квантилей>\n",
    "with pd.option_context('mode.chained_assignment', None):\n",
    "    temp.loc[:, 'total_income_id'] = pd.qcut(temp['total_income'], [0, 0.1, 0.2, 0.3, 0.4, 0.6, 0.7, 0.8, 0.9, 1],\\\n",
    "                                                        labels=['1', '2', '3', '4', '5.6', '7', '8', '9', '10'])\n",
    "# <проверка количества значений в каждом квантиле>\n",
    "temp.loc[:, 'total_income_id'].value_counts().sort_index()"
   ]
  },
  {
   "cell_type": "code",
   "execution_count": 72,
   "metadata": {
    "scrolled": true
   },
   "outputs": [
    {
     "data": {
      "text/html": [
       "<div>\n",
       "<style scoped>\n",
       "    .dataframe tbody tr th:only-of-type {\n",
       "        vertical-align: middle;\n",
       "    }\n",
       "\n",
       "    .dataframe tbody tr th {\n",
       "        vertical-align: top;\n",
       "    }\n",
       "\n",
       "    .dataframe thead th {\n",
       "        text-align: right;\n",
       "    }\n",
       "</style>\n",
       "<table border=\"1\" class=\"dataframe\">\n",
       "  <thead>\n",
       "    <tr style=\"text-align: right;\">\n",
       "      <th></th>\n",
       "      <th>total_income</th>\n",
       "      <th>debt</th>\n",
       "      <th>total_income_id</th>\n",
       "    </tr>\n",
       "  </thead>\n",
       "  <tbody>\n",
       "    <tr>\n",
       "      <td>0</td>\n",
       "      <td>253875</td>\n",
       "      <td>0</td>\n",
       "      <td>9</td>\n",
       "    </tr>\n",
       "    <tr>\n",
       "      <td>1</td>\n",
       "      <td>112080</td>\n",
       "      <td>0</td>\n",
       "      <td>3</td>\n",
       "    </tr>\n",
       "    <tr>\n",
       "      <td>2</td>\n",
       "      <td>145885</td>\n",
       "      <td>0</td>\n",
       "      <td>5.6</td>\n",
       "    </tr>\n",
       "    <tr>\n",
       "      <td>3</td>\n",
       "      <td>267628</td>\n",
       "      <td>0</td>\n",
       "      <td>9</td>\n",
       "    </tr>\n",
       "    <tr>\n",
       "      <td>4</td>\n",
       "      <td>158616</td>\n",
       "      <td>0</td>\n",
       "      <td>5.6</td>\n",
       "    </tr>\n",
       "  </tbody>\n",
       "</table>\n",
       "</div>"
      ],
      "text/plain": [
       "   total_income  debt total_income_id\n",
       "0        253875     0               9\n",
       "1        112080     0               3\n",
       "2        145885     0             5.6\n",
       "3        267628     0               9\n",
       "4        158616     0             5.6"
      ]
     },
     "execution_count": 72,
     "metadata": {},
     "output_type": "execute_result"
    }
   ],
   "source": [
    "# <вывод первых пяти строк>\n",
    "temp.head()"
   ]
  },
  {
   "cell_type": "code",
   "execution_count": 73,
   "metadata": {},
   "outputs": [
    {
     "name": "stdout",
     "output_type": "stream",
     "text": [
      "<class 'pandas.core.frame.DataFrame'>\n",
      "RangeIndex: 21525 entries, 0 to 21524\n",
      "Data columns (total 3 columns):\n",
      "total_income       21525 non-null int64\n",
      "debt               21525 non-null int64\n",
      "total_income_id    21525 non-null category\n",
      "dtypes: category(1), int64(2)\n",
      "memory usage: 357.9 KB\n"
     ]
    }
   ],
   "source": [
    "# <информация о таблице>\n",
    "temp.info() "
   ]
  },
  {
   "cell_type": "markdown",
   "metadata": {},
   "source": [
    "Получили таблицу с **10** квантилями распределения (*2 из них объединили*)."
   ]
  },
  {
   "cell_type": "markdown",
   "metadata": {},
   "source": [
    "Теперь добавим столбец **total_income_id** к основной таблице **df** с помощью метода **merge**. Ключи берем из таблицы *df* (how='left'); слияние производим по индексам (left_index=True, right_index=True)."
   ]
  },
  {
   "cell_type": "code",
   "execution_count": 74,
   "metadata": {},
   "outputs": [
    {
     "data": {
      "text/html": [
       "<div>\n",
       "<style scoped>\n",
       "    .dataframe tbody tr th:only-of-type {\n",
       "        vertical-align: middle;\n",
       "    }\n",
       "\n",
       "    .dataframe tbody tr th {\n",
       "        vertical-align: top;\n",
       "    }\n",
       "\n",
       "    .dataframe thead th {\n",
       "        text-align: right;\n",
       "    }\n",
       "</style>\n",
       "<table border=\"1\" class=\"dataframe\">\n",
       "  <thead>\n",
       "    <tr style=\"text-align: right;\">\n",
       "      <th></th>\n",
       "      <th>children</th>\n",
       "      <th>days_employed</th>\n",
       "      <th>dob_years</th>\n",
       "      <th>education</th>\n",
       "      <th>education_id</th>\n",
       "      <th>family_status</th>\n",
       "      <th>family_status_id</th>\n",
       "      <th>gender</th>\n",
       "      <th>income_type</th>\n",
       "      <th>debt</th>\n",
       "      <th>total_income</th>\n",
       "      <th>purpose</th>\n",
       "      <th>lemm_purpose</th>\n",
       "      <th>children_id</th>\n",
       "      <th>total_income_id</th>\n",
       "    </tr>\n",
       "  </thead>\n",
       "  <tbody>\n",
       "    <tr>\n",
       "      <td>21520</td>\n",
       "      <td>1</td>\n",
       "      <td>4529</td>\n",
       "      <td>43</td>\n",
       "      <td>среднее</td>\n",
       "      <td>1</td>\n",
       "      <td>гражданский брак</td>\n",
       "      <td>1</td>\n",
       "      <td>F</td>\n",
       "      <td>компаньон</td>\n",
       "      <td>0</td>\n",
       "      <td>224791</td>\n",
       "      <td>операции с жильем</td>\n",
       "      <td>недвижимость</td>\n",
       "      <td>1</td>\n",
       "      <td>9</td>\n",
       "    </tr>\n",
       "    <tr>\n",
       "      <td>21521</td>\n",
       "      <td>0</td>\n",
       "      <td>14330</td>\n",
       "      <td>67</td>\n",
       "      <td>среднее</td>\n",
       "      <td>1</td>\n",
       "      <td>женат / замужем</td>\n",
       "      <td>0</td>\n",
       "      <td>F</td>\n",
       "      <td>пенсионер</td>\n",
       "      <td>0</td>\n",
       "      <td>155999</td>\n",
       "      <td>сделка с автомобилем</td>\n",
       "      <td>автомобиль</td>\n",
       "      <td>0</td>\n",
       "      <td>5.6</td>\n",
       "    </tr>\n",
       "    <tr>\n",
       "      <td>21522</td>\n",
       "      <td>1</td>\n",
       "      <td>2113</td>\n",
       "      <td>38</td>\n",
       "      <td>среднее</td>\n",
       "      <td>1</td>\n",
       "      <td>гражданский брак</td>\n",
       "      <td>1</td>\n",
       "      <td>M</td>\n",
       "      <td>сотрудник</td>\n",
       "      <td>1</td>\n",
       "      <td>89672</td>\n",
       "      <td>недвижимость</td>\n",
       "      <td>недвижимость</td>\n",
       "      <td>1</td>\n",
       "      <td>2</td>\n",
       "    </tr>\n",
       "    <tr>\n",
       "      <td>21523</td>\n",
       "      <td>3</td>\n",
       "      <td>3112</td>\n",
       "      <td>38</td>\n",
       "      <td>среднее</td>\n",
       "      <td>1</td>\n",
       "      <td>женат / замужем</td>\n",
       "      <td>0</td>\n",
       "      <td>M</td>\n",
       "      <td>сотрудник</td>\n",
       "      <td>1</td>\n",
       "      <td>244093</td>\n",
       "      <td>на покупку своего автомобиля</td>\n",
       "      <td>автомобиль</td>\n",
       "      <td>1</td>\n",
       "      <td>9</td>\n",
       "    </tr>\n",
       "    <tr>\n",
       "      <td>21524</td>\n",
       "      <td>2</td>\n",
       "      <td>1984</td>\n",
       "      <td>40</td>\n",
       "      <td>среднее</td>\n",
       "      <td>1</td>\n",
       "      <td>женат / замужем</td>\n",
       "      <td>0</td>\n",
       "      <td>F</td>\n",
       "      <td>сотрудник</td>\n",
       "      <td>0</td>\n",
       "      <td>82047</td>\n",
       "      <td>на покупку автомобиля</td>\n",
       "      <td>автомобиль</td>\n",
       "      <td>1</td>\n",
       "      <td>2</td>\n",
       "    </tr>\n",
       "  </tbody>\n",
       "</table>\n",
       "</div>"
      ],
      "text/plain": [
       "       children  days_employed  dob_years education  education_id  \\\n",
       "21520         1           4529         43   среднее             1   \n",
       "21521         0          14330         67   среднее             1   \n",
       "21522         1           2113         38   среднее             1   \n",
       "21523         3           3112         38   среднее             1   \n",
       "21524         2           1984         40   среднее             1   \n",
       "\n",
       "          family_status  family_status_id gender income_type  debt  \\\n",
       "21520  гражданский брак                 1      F   компаньон     0   \n",
       "21521   женат / замужем                 0      F   пенсионер     0   \n",
       "21522  гражданский брак                 1      M   сотрудник     1   \n",
       "21523   женат / замужем                 0      M   сотрудник     1   \n",
       "21524   женат / замужем                 0      F   сотрудник     0   \n",
       "\n",
       "       total_income                       purpose  lemm_purpose  children_id  \\\n",
       "21520        224791             операции с жильем  недвижимость            1   \n",
       "21521        155999          сделка с автомобилем    автомобиль            0   \n",
       "21522         89672                  недвижимость  недвижимость            1   \n",
       "21523        244093  на покупку своего автомобиля    автомобиль            1   \n",
       "21524         82047         на покупку автомобиля    автомобиль            1   \n",
       "\n",
       "      total_income_id  \n",
       "21520               9  \n",
       "21521             5.6  \n",
       "21522               2  \n",
       "21523               9  \n",
       "21524               2  "
      ]
     },
     "execution_count": 74,
     "metadata": {},
     "output_type": "execute_result"
    }
   ],
   "source": [
    "# <создание Series для применения merge>\n",
    "total_income_id = temp['total_income_id'] \n",
    "# <слияние методом merge>\n",
    "df = df.merge(total_income_id, how='left', left_index=True, right_index=True) \n",
    "# <вывод последних пяти строк>\n",
    "df.tail() "
   ]
  },
  {
   "cell_type": "code",
   "execution_count": 75,
   "metadata": {},
   "outputs": [
    {
     "name": "stdout",
     "output_type": "stream",
     "text": [
      "<class 'pandas.core.frame.DataFrame'>\n",
      "RangeIndex: 21525 entries, 0 to 21524\n",
      "Data columns (total 15 columns):\n",
      "children            21525 non-null int64\n",
      "days_employed       21525 non-null int64\n",
      "dob_years           21525 non-null int64\n",
      "education           21525 non-null object\n",
      "education_id        21525 non-null int64\n",
      "family_status       21525 non-null object\n",
      "family_status_id    21525 non-null int64\n",
      "gender              21524 non-null object\n",
      "income_type         21525 non-null object\n",
      "debt                21525 non-null int64\n",
      "total_income        21525 non-null int64\n",
      "purpose             21525 non-null object\n",
      "lemm_purpose        21525 non-null object\n",
      "children_id         21525 non-null int64\n",
      "total_income_id     21525 non-null category\n",
      "dtypes: category(1), int64(8), object(6)\n",
      "memory usage: 2.3+ MB\n"
     ]
    }
   ],
   "source": [
    "# <проверка таблицы>\n",
    "df.info() "
   ]
  },
  {
   "cell_type": "code",
   "execution_count": 76,
   "metadata": {},
   "outputs": [
    {
     "data": {
      "text/plain": [
       "1      2153\n",
       "2      2152\n",
       "3      2153\n",
       "4      2152\n",
       "5.6    4305\n",
       "7      2152\n",
       "8      2153\n",
       "9      2152\n",
       "10     2153\n",
       "Name: total_income_id, dtype: int64"
      ]
     },
     "execution_count": 76,
     "metadata": {},
     "output_type": "execute_result"
    }
   ],
   "source": [
    "# <проверка значений добавленного столбца>\n",
    "df['total_income_id'].value_counts().sort_index()"
   ]
  },
  {
   "cell_type": "markdown",
   "metadata": {},
   "source": [
    "Добавили столбец с квантилями, все значения на месте."
   ]
  },
  {
   "cell_type": "markdown",
   "metadata": {},
   "source": [
    "Теперь присвоим переменной **total_income_log** значения таблицы **temp**, чтобы упорядочить таблицу для ответа на вопрос."
   ]
  },
  {
   "cell_type": "code",
   "execution_count": 77,
   "metadata": {},
   "outputs": [
    {
     "data": {
      "text/html": [
       "<div>\n",
       "<style scoped>\n",
       "    .dataframe tbody tr th:only-of-type {\n",
       "        vertical-align: middle;\n",
       "    }\n",
       "\n",
       "    .dataframe tbody tr th {\n",
       "        vertical-align: top;\n",
       "    }\n",
       "\n",
       "    .dataframe thead th {\n",
       "        text-align: right;\n",
       "    }\n",
       "</style>\n",
       "<table border=\"1\" class=\"dataframe\">\n",
       "  <thead>\n",
       "    <tr style=\"text-align: right;\">\n",
       "      <th></th>\n",
       "      <th>total_income</th>\n",
       "      <th>debt</th>\n",
       "      <th>total_income_id</th>\n",
       "    </tr>\n",
       "  </thead>\n",
       "  <tbody>\n",
       "    <tr>\n",
       "      <td>0</td>\n",
       "      <td>253875</td>\n",
       "      <td>0</td>\n",
       "      <td>9</td>\n",
       "    </tr>\n",
       "    <tr>\n",
       "      <td>1</td>\n",
       "      <td>112080</td>\n",
       "      <td>0</td>\n",
       "      <td>3</td>\n",
       "    </tr>\n",
       "    <tr>\n",
       "      <td>2</td>\n",
       "      <td>145885</td>\n",
       "      <td>0</td>\n",
       "      <td>5.6</td>\n",
       "    </tr>\n",
       "    <tr>\n",
       "      <td>3</td>\n",
       "      <td>267628</td>\n",
       "      <td>0</td>\n",
       "      <td>9</td>\n",
       "    </tr>\n",
       "    <tr>\n",
       "      <td>4</td>\n",
       "      <td>158616</td>\n",
       "      <td>0</td>\n",
       "      <td>5.6</td>\n",
       "    </tr>\n",
       "  </tbody>\n",
       "</table>\n",
       "</div>"
      ],
      "text/plain": [
       "   total_income  debt total_income_id\n",
       "0        253875     0               9\n",
       "1        112080     0               3\n",
       "2        145885     0             5.6\n",
       "3        267628     0               9\n",
       "4        158616     0             5.6"
      ]
     },
     "execution_count": 77,
     "metadata": {},
     "output_type": "execute_result"
    }
   ],
   "source": [
    "# <присваиваем переменной total_income_log значение датафрейма temp>\n",
    "total_income_log = temp\n",
    "# <вывод первых пяти значений total_income_log>\n",
    "total_income_log.head() "
   ]
  },
  {
   "cell_type": "markdown",
   "metadata": {},
   "source": [
    "#### 2.5.4. Столбцы purpose и lemm_purpose\n",
    "\n",
    "Создадим таблицу **purpose_log**, состоящую из столбцов **purpose**, **lemm_purpose** и **debt**. Так как была проведена лемматизация, дополнительная категоризация не требуется."
   ]
  },
  {
   "cell_type": "code",
   "execution_count": 78,
   "metadata": {},
   "outputs": [
    {
     "data": {
      "text/html": [
       "<div>\n",
       "<style scoped>\n",
       "    .dataframe tbody tr th:only-of-type {\n",
       "        vertical-align: middle;\n",
       "    }\n",
       "\n",
       "    .dataframe tbody tr th {\n",
       "        vertical-align: top;\n",
       "    }\n",
       "\n",
       "    .dataframe thead th {\n",
       "        text-align: right;\n",
       "    }\n",
       "</style>\n",
       "<table border=\"1\" class=\"dataframe\">\n",
       "  <thead>\n",
       "    <tr style=\"text-align: right;\">\n",
       "      <th></th>\n",
       "      <th>purpose</th>\n",
       "      <th>lemm_purpose</th>\n",
       "      <th>debt</th>\n",
       "    </tr>\n",
       "  </thead>\n",
       "  <tbody>\n",
       "    <tr>\n",
       "      <td>0</td>\n",
       "      <td>покупка жилья</td>\n",
       "      <td>недвижимость</td>\n",
       "      <td>0</td>\n",
       "    </tr>\n",
       "    <tr>\n",
       "      <td>1</td>\n",
       "      <td>приобретение автомобиля</td>\n",
       "      <td>автомобиль</td>\n",
       "      <td>0</td>\n",
       "    </tr>\n",
       "    <tr>\n",
       "      <td>2</td>\n",
       "      <td>покупка жилья</td>\n",
       "      <td>недвижимость</td>\n",
       "      <td>0</td>\n",
       "    </tr>\n",
       "    <tr>\n",
       "      <td>3</td>\n",
       "      <td>дополнительное образование</td>\n",
       "      <td>образование</td>\n",
       "      <td>0</td>\n",
       "    </tr>\n",
       "    <tr>\n",
       "      <td>4</td>\n",
       "      <td>сыграть свадьбу</td>\n",
       "      <td>свадьба</td>\n",
       "      <td>0</td>\n",
       "    </tr>\n",
       "  </tbody>\n",
       "</table>\n",
       "</div>"
      ],
      "text/plain": [
       "                      purpose  lemm_purpose  debt\n",
       "0               покупка жилья  недвижимость     0\n",
       "1     приобретение автомобиля    автомобиль     0\n",
       "2               покупка жилья  недвижимость     0\n",
       "3  дополнительное образование   образование     0\n",
       "4             сыграть свадьбу       свадьба     0"
      ]
     },
     "execution_count": 78,
     "metadata": {},
     "output_type": "execute_result"
    }
   ],
   "source": [
    "# <создание таблицы purpose_log из столбцов df>\n",
    "purpose_log = df[['purpose', 'lemm_purpose', 'debt']]\n",
    "# <вывод первых пяти строк>\n",
    "purpose_log.head() "
   ]
  },
  {
   "cell_type": "code",
   "execution_count": 79,
   "metadata": {
    "scrolled": true
   },
   "outputs": [
    {
     "name": "stdout",
     "output_type": "stream",
     "text": [
      "<class 'pandas.core.frame.DataFrame'>\n",
      "RangeIndex: 21525 entries, 0 to 21524\n",
      "Data columns (total 3 columns):\n",
      "purpose         21525 non-null object\n",
      "lemm_purpose    21525 non-null object\n",
      "debt            21525 non-null int64\n",
      "dtypes: int64(1), object(2)\n",
      "memory usage: 504.6+ KB\n"
     ]
    }
   ],
   "source": [
    "# <общие сведения о таблице>\n",
    "purpose_log.info() "
   ]
  },
  {
   "cell_type": "markdown",
   "metadata": {},
   "source": [
    "#### 2.5.5. Вывод"
   ]
  },
  {
   "cell_type": "markdown",
   "metadata": {},
   "source": [
    "- Были созданы 3 таблицы для ответов на вопросы: **children_log**, **total_income_log** и **purpose_log**;\n",
    "- Для анализа значений столбца **family_status** была создана таблица **family_status_log** и словарь **family_status_dict**."
   ]
  },
  {
   "cell_type": "markdown",
   "metadata": {},
   "source": [
    "### 2.6. Завершение предобработки"
   ]
  },
  {
   "cell_type": "markdown",
   "metadata": {},
   "source": [
    "Оформим окончательную таблицу."
   ]
  },
  {
   "cell_type": "code",
   "execution_count": 80,
   "metadata": {},
   "outputs": [
    {
     "name": "stdout",
     "output_type": "stream",
     "text": [
      "<class 'pandas.core.frame.DataFrame'>\n",
      "RangeIndex: 21525 entries, 0 to 21524\n",
      "Data columns (total 15 columns):\n",
      "children            21525 non-null int64\n",
      "days_employed       21525 non-null int64\n",
      "dob_years           21525 non-null int64\n",
      "education           21525 non-null object\n",
      "education_id        21525 non-null int64\n",
      "family_status       21525 non-null object\n",
      "family_status_id    21525 non-null int64\n",
      "gender              21524 non-null object\n",
      "income_type         21525 non-null object\n",
      "debt                21525 non-null int64\n",
      "total_income        21525 non-null int64\n",
      "purpose             21525 non-null object\n",
      "lemm_purpose        21525 non-null object\n",
      "children_id         21525 non-null int64\n",
      "total_income_id     21525 non-null category\n",
      "dtypes: category(1), int64(8), object(6)\n",
      "memory usage: 2.3+ MB\n"
     ]
    }
   ],
   "source": [
    "# <вывод общей информации по таблице>\n",
    "df.info()"
   ]
  },
  {
   "cell_type": "code",
   "execution_count": 81,
   "metadata": {},
   "outputs": [
    {
     "data": {
      "text/html": [
       "<div>\n",
       "<style scoped>\n",
       "    .dataframe tbody tr th:only-of-type {\n",
       "        vertical-align: middle;\n",
       "    }\n",
       "\n",
       "    .dataframe tbody tr th {\n",
       "        vertical-align: top;\n",
       "    }\n",
       "\n",
       "    .dataframe thead th {\n",
       "        text-align: right;\n",
       "    }\n",
       "</style>\n",
       "<table border=\"1\" class=\"dataframe\">\n",
       "  <thead>\n",
       "    <tr style=\"text-align: right;\">\n",
       "      <th></th>\n",
       "      <th>children</th>\n",
       "      <th>children_id</th>\n",
       "      <th>days_employed</th>\n",
       "      <th>dob_years</th>\n",
       "      <th>education</th>\n",
       "      <th>education_id</th>\n",
       "      <th>family_status</th>\n",
       "      <th>family_status_id</th>\n",
       "      <th>gender</th>\n",
       "      <th>income_type</th>\n",
       "      <th>debt</th>\n",
       "      <th>total_income</th>\n",
       "      <th>total_income_id</th>\n",
       "      <th>purpose</th>\n",
       "      <th>lemm_purpose</th>\n",
       "    </tr>\n",
       "  </thead>\n",
       "  <tbody>\n",
       "    <tr>\n",
       "      <td>0</td>\n",
       "      <td>1</td>\n",
       "      <td>1</td>\n",
       "      <td>8437</td>\n",
       "      <td>42</td>\n",
       "      <td>высшее</td>\n",
       "      <td>0</td>\n",
       "      <td>женат / замужем</td>\n",
       "      <td>0</td>\n",
       "      <td>F</td>\n",
       "      <td>сотрудник</td>\n",
       "      <td>0</td>\n",
       "      <td>253875</td>\n",
       "      <td>9</td>\n",
       "      <td>покупка жилья</td>\n",
       "      <td>недвижимость</td>\n",
       "    </tr>\n",
       "    <tr>\n",
       "      <td>1</td>\n",
       "      <td>1</td>\n",
       "      <td>1</td>\n",
       "      <td>4024</td>\n",
       "      <td>36</td>\n",
       "      <td>среднее</td>\n",
       "      <td>1</td>\n",
       "      <td>женат / замужем</td>\n",
       "      <td>0</td>\n",
       "      <td>F</td>\n",
       "      <td>сотрудник</td>\n",
       "      <td>0</td>\n",
       "      <td>112080</td>\n",
       "      <td>3</td>\n",
       "      <td>приобретение автомобиля</td>\n",
       "      <td>автомобиль</td>\n",
       "    </tr>\n",
       "    <tr>\n",
       "      <td>2</td>\n",
       "      <td>0</td>\n",
       "      <td>0</td>\n",
       "      <td>5623</td>\n",
       "      <td>33</td>\n",
       "      <td>среднее</td>\n",
       "      <td>1</td>\n",
       "      <td>женат / замужем</td>\n",
       "      <td>0</td>\n",
       "      <td>M</td>\n",
       "      <td>сотрудник</td>\n",
       "      <td>0</td>\n",
       "      <td>145885</td>\n",
       "      <td>5.6</td>\n",
       "      <td>покупка жилья</td>\n",
       "      <td>недвижимость</td>\n",
       "    </tr>\n",
       "    <tr>\n",
       "      <td>3</td>\n",
       "      <td>3</td>\n",
       "      <td>1</td>\n",
       "      <td>4124</td>\n",
       "      <td>32</td>\n",
       "      <td>среднее</td>\n",
       "      <td>1</td>\n",
       "      <td>женат / замужем</td>\n",
       "      <td>0</td>\n",
       "      <td>M</td>\n",
       "      <td>сотрудник</td>\n",
       "      <td>0</td>\n",
       "      <td>267628</td>\n",
       "      <td>9</td>\n",
       "      <td>дополнительное образование</td>\n",
       "      <td>образование</td>\n",
       "    </tr>\n",
       "    <tr>\n",
       "      <td>4</td>\n",
       "      <td>0</td>\n",
       "      <td>0</td>\n",
       "      <td>14177</td>\n",
       "      <td>53</td>\n",
       "      <td>среднее</td>\n",
       "      <td>1</td>\n",
       "      <td>гражданский брак</td>\n",
       "      <td>1</td>\n",
       "      <td>F</td>\n",
       "      <td>пенсионер</td>\n",
       "      <td>0</td>\n",
       "      <td>158616</td>\n",
       "      <td>5.6</td>\n",
       "      <td>сыграть свадьбу</td>\n",
       "      <td>свадьба</td>\n",
       "    </tr>\n",
       "  </tbody>\n",
       "</table>\n",
       "</div>"
      ],
      "text/plain": [
       "   children  children_id  days_employed  dob_years education  education_id  \\\n",
       "0         1            1           8437         42    высшее             0   \n",
       "1         1            1           4024         36   среднее             1   \n",
       "2         0            0           5623         33   среднее             1   \n",
       "3         3            1           4124         32   среднее             1   \n",
       "4         0            0          14177         53   среднее             1   \n",
       "\n",
       "      family_status  family_status_id gender income_type  debt  total_income  \\\n",
       "0   женат / замужем                 0      F   сотрудник     0        253875   \n",
       "1   женат / замужем                 0      F   сотрудник     0        112080   \n",
       "2   женат / замужем                 0      M   сотрудник     0        145885   \n",
       "3   женат / замужем                 0      M   сотрудник     0        267628   \n",
       "4  гражданский брак                 1      F   пенсионер     0        158616   \n",
       "\n",
       "  total_income_id                     purpose  lemm_purpose  \n",
       "0               9               покупка жилья  недвижимость  \n",
       "1               3     приобретение автомобиля    автомобиль  \n",
       "2             5.6               покупка жилья  недвижимость  \n",
       "3               9  дополнительное образование   образование  \n",
       "4             5.6             сыграть свадьбу       свадьба  "
      ]
     },
     "execution_count": 81,
     "metadata": {},
     "output_type": "execute_result"
    }
   ],
   "source": [
    "# <смена порядка столбцов>\n",
    "df = df[['children', 'children_id','days_employed', 'dob_years', 'education', 'education_id', 'family_status', \n",
    "         'family_status_id', 'gender', 'income_type', 'debt', 'total_income', 'total_income_id', 'purpose',\n",
    "         'lemm_purpose']]\n",
    "df.head()"
   ]
  },
  {
   "cell_type": "markdown",
   "metadata": {},
   "source": [
    "Таблица приняла окончательную форму."
   ]
  },
  {
   "cell_type": "markdown",
   "metadata": {},
   "source": [
    "## 3. Ответы на вопросы"
   ]
  },
  {
   "cell_type": "markdown",
   "metadata": {},
   "source": [
    "### 3.1. Есть ли зависимость между наличием детей и возвратом кредита в срок?"
   ]
  },
  {
   "cell_type": "markdown",
   "metadata": {},
   "source": [
    "Для исследования зависимости между наличием детей и возвратом кредита в срок был создан датафрейм **children_log**:"
   ]
  },
  {
   "cell_type": "code",
   "execution_count": 82,
   "metadata": {},
   "outputs": [
    {
     "data": {
      "text/html": [
       "<div>\n",
       "<style scoped>\n",
       "    .dataframe tbody tr th:only-of-type {\n",
       "        vertical-align: middle;\n",
       "    }\n",
       "\n",
       "    .dataframe tbody tr th {\n",
       "        vertical-align: top;\n",
       "    }\n",
       "\n",
       "    .dataframe thead th {\n",
       "        text-align: right;\n",
       "    }\n",
       "</style>\n",
       "<table border=\"1\" class=\"dataframe\">\n",
       "  <thead>\n",
       "    <tr style=\"text-align: right;\">\n",
       "      <th></th>\n",
       "      <th>children</th>\n",
       "      <th>children_id</th>\n",
       "      <th>debt</th>\n",
       "    </tr>\n",
       "  </thead>\n",
       "  <tbody>\n",
       "    <tr>\n",
       "      <td>0</td>\n",
       "      <td>1</td>\n",
       "      <td>1</td>\n",
       "      <td>0</td>\n",
       "    </tr>\n",
       "    <tr>\n",
       "      <td>1</td>\n",
       "      <td>1</td>\n",
       "      <td>1</td>\n",
       "      <td>0</td>\n",
       "    </tr>\n",
       "    <tr>\n",
       "      <td>2</td>\n",
       "      <td>0</td>\n",
       "      <td>0</td>\n",
       "      <td>0</td>\n",
       "    </tr>\n",
       "    <tr>\n",
       "      <td>3</td>\n",
       "      <td>3</td>\n",
       "      <td>1</td>\n",
       "      <td>0</td>\n",
       "    </tr>\n",
       "    <tr>\n",
       "      <td>4</td>\n",
       "      <td>0</td>\n",
       "      <td>0</td>\n",
       "      <td>0</td>\n",
       "    </tr>\n",
       "  </tbody>\n",
       "</table>\n",
       "</div>"
      ],
      "text/plain": [
       "   children  children_id  debt\n",
       "0         1            1     0\n",
       "1         1            1     0\n",
       "2         0            0     0\n",
       "3         3            1     0\n",
       "4         0            0     0"
      ]
     },
     "execution_count": 82,
     "metadata": {},
     "output_type": "execute_result"
    }
   ],
   "source": [
    "# <вывод первых пяти строк таблицы children_log>\n",
    "children_log.head()"
   ]
  },
  {
   "cell_type": "markdown",
   "metadata": {},
   "source": [
    "Создадим сводную таблицу для семей без детей и с детьми."
   ]
  },
  {
   "cell_type": "code",
   "execution_count": 83,
   "metadata": {},
   "outputs": [
    {
     "data": {
      "text/html": [
       "<div>\n",
       "<style scoped>\n",
       "    .dataframe tbody tr th:only-of-type {\n",
       "        vertical-align: middle;\n",
       "    }\n",
       "\n",
       "    .dataframe tbody tr th {\n",
       "        vertical-align: top;\n",
       "    }\n",
       "\n",
       "    .dataframe thead th {\n",
       "        text-align: right;\n",
       "    }\n",
       "</style>\n",
       "<table border=\"1\" class=\"dataframe\">\n",
       "  <thead>\n",
       "    <tr style=\"text-align: right;\">\n",
       "      <th></th>\n",
       "      <th></th>\n",
       "      <th>total</th>\n",
       "    </tr>\n",
       "    <tr>\n",
       "      <th>children_id</th>\n",
       "      <th>debt</th>\n",
       "      <th></th>\n",
       "    </tr>\n",
       "  </thead>\n",
       "  <tbody>\n",
       "    <tr>\n",
       "      <td rowspan=\"2\" valign=\"top\">0</td>\n",
       "      <td>0</td>\n",
       "      <td>13086</td>\n",
       "    </tr>\n",
       "    <tr>\n",
       "      <td>1</td>\n",
       "      <td>1063</td>\n",
       "    </tr>\n",
       "    <tr>\n",
       "      <td rowspan=\"2\" valign=\"top\">1</td>\n",
       "      <td>0</td>\n",
       "      <td>6584</td>\n",
       "    </tr>\n",
       "    <tr>\n",
       "      <td>1</td>\n",
       "      <td>669</td>\n",
       "    </tr>\n",
       "  </tbody>\n",
       "</table>\n",
       "</div>"
      ],
      "text/plain": [
       "                  total\n",
       "children_id debt       \n",
       "0           0     13086\n",
       "            1      1063\n",
       "1           0      6584\n",
       "            1       669"
      ]
     },
     "execution_count": 83,
     "metadata": {},
     "output_type": "execute_result"
    }
   ],
   "source": [
    "# <создание сводной таблицы с подсчетом количества каждой комбинации значений>\n",
    "children_pivot = children_log.pivot_table(index=['children_id', 'debt'], values='debt', aggfunc='count')\n",
    "# <смена названия столбца>\n",
    "children_pivot.set_axis(labels=['total'], axis=1, inplace=True) \n",
    "children_pivot"
   ]
  },
  {
   "cell_type": "markdown",
   "metadata": {},
   "source": [
    "Посчитаем долю непогашенных долгов среди всех значений для семей без детей (**debt_part_no_child**) и с детьми(**debt_part_child**)."
   ]
  },
  {
   "cell_type": "code",
   "execution_count": 84,
   "metadata": {},
   "outputs": [
    {
     "data": {
      "text/plain": [
       "total    0.075129\n",
       "dtype: float64"
      ]
     },
     "execution_count": 84,
     "metadata": {},
     "output_type": "execute_result"
    }
   ],
   "source": [
    "# <доля просрочек для семей без детей>\n",
    "debt_part_no_child = children_pivot.loc[(0, 1)] / children_pivot.loc[0].sum() \n",
    "debt_part_no_child"
   ]
  },
  {
   "cell_type": "code",
   "execution_count": 85,
   "metadata": {},
   "outputs": [
    {
     "data": {
      "text/plain": [
       "total    0.092238\n",
       "dtype: float64"
      ]
     },
     "execution_count": 85,
     "metadata": {},
     "output_type": "execute_result"
    }
   ],
   "source": [
    "# <доля просрочек для семей с детьми>\n",
    "debt_part_child = children_pivot.loc[(1, 1)] / children_pivot.loc[1].sum() \n",
    "debt_part_child"
   ]
  },
  {
   "cell_type": "markdown",
   "metadata": {},
   "source": [
    "Итого: \n",
    "- Доля семей без детей с просроченным кредитом $\\approx$ **7.51 %**;\n",
    "- Доля семей с детьми с просроченным кредитом $\\approx$ **9.22 %**."
   ]
  },
  {
   "cell_type": "markdown",
   "metadata": {},
   "source": [
    "**Вывод**"
   ]
  },
  {
   "cell_type": "markdown",
   "metadata": {},
   "source": [
    "У семей с детьми на **1.71 %** чаще есть проблемы со своевременным погашением кредита. Таким образом, если в семье есть дети, то вероятность просрочки кредита выше, чем для семей без детей."
   ]
  },
  {
   "cell_type": "markdown",
   "metadata": {},
   "source": [
    "### 3.2. Есть ли зависимость между семейным положением и возвратом кредита в срок?"
   ]
  },
  {
   "cell_type": "markdown",
   "metadata": {},
   "source": [
    "Для исследования зависимости между наличием детей и возвратом кредита в срок были созданы два датафрейма: **family_status_log** и словарь **family_status_dict**."
   ]
  },
  {
   "cell_type": "code",
   "execution_count": 86,
   "metadata": {},
   "outputs": [
    {
     "data": {
      "text/html": [
       "<div>\n",
       "<style scoped>\n",
       "    .dataframe tbody tr th:only-of-type {\n",
       "        vertical-align: middle;\n",
       "    }\n",
       "\n",
       "    .dataframe tbody tr th {\n",
       "        vertical-align: top;\n",
       "    }\n",
       "\n",
       "    .dataframe thead th {\n",
       "        text-align: right;\n",
       "    }\n",
       "</style>\n",
       "<table border=\"1\" class=\"dataframe\">\n",
       "  <thead>\n",
       "    <tr style=\"text-align: right;\">\n",
       "      <th></th>\n",
       "      <th>family_status_id</th>\n",
       "      <th>debt</th>\n",
       "    </tr>\n",
       "  </thead>\n",
       "  <tbody>\n",
       "    <tr>\n",
       "      <td>0</td>\n",
       "      <td>0</td>\n",
       "      <td>0</td>\n",
       "    </tr>\n",
       "    <tr>\n",
       "      <td>1</td>\n",
       "      <td>0</td>\n",
       "      <td>0</td>\n",
       "    </tr>\n",
       "    <tr>\n",
       "      <td>2</td>\n",
       "      <td>0</td>\n",
       "      <td>0</td>\n",
       "    </tr>\n",
       "    <tr>\n",
       "      <td>3</td>\n",
       "      <td>0</td>\n",
       "      <td>0</td>\n",
       "    </tr>\n",
       "    <tr>\n",
       "      <td>4</td>\n",
       "      <td>1</td>\n",
       "      <td>0</td>\n",
       "    </tr>\n",
       "  </tbody>\n",
       "</table>\n",
       "</div>"
      ],
      "text/plain": [
       "   family_status_id  debt\n",
       "0                 0     0\n",
       "1                 0     0\n",
       "2                 0     0\n",
       "3                 0     0\n",
       "4                 1     0"
      ]
     },
     "execution_count": 86,
     "metadata": {},
     "output_type": "execute_result"
    }
   ],
   "source": [
    "# <вывод первых пяти строк таблицы family_status_log>\n",
    "family_status_log.head() "
   ]
  },
  {
   "cell_type": "code",
   "execution_count": 87,
   "metadata": {},
   "outputs": [
    {
     "data": {
      "text/html": [
       "<div>\n",
       "<style scoped>\n",
       "    .dataframe tbody tr th:only-of-type {\n",
       "        vertical-align: middle;\n",
       "    }\n",
       "\n",
       "    .dataframe tbody tr th {\n",
       "        vertical-align: top;\n",
       "    }\n",
       "\n",
       "    .dataframe thead th {\n",
       "        text-align: right;\n",
       "    }\n",
       "</style>\n",
       "<table border=\"1\" class=\"dataframe\">\n",
       "  <thead>\n",
       "    <tr style=\"text-align: right;\">\n",
       "      <th></th>\n",
       "      <th>family_status_id</th>\n",
       "      <th>family_status</th>\n",
       "    </tr>\n",
       "  </thead>\n",
       "  <tbody>\n",
       "    <tr>\n",
       "      <td>0</td>\n",
       "      <td>0</td>\n",
       "      <td>женат / замужем</td>\n",
       "    </tr>\n",
       "    <tr>\n",
       "      <td>1</td>\n",
       "      <td>1</td>\n",
       "      <td>гражданский брак</td>\n",
       "    </tr>\n",
       "    <tr>\n",
       "      <td>2</td>\n",
       "      <td>2</td>\n",
       "      <td>вдовец / вдова</td>\n",
       "    </tr>\n",
       "    <tr>\n",
       "      <td>3</td>\n",
       "      <td>3</td>\n",
       "      <td>в разводе</td>\n",
       "    </tr>\n",
       "    <tr>\n",
       "      <td>4</td>\n",
       "      <td>4</td>\n",
       "      <td>не женат / не замужем</td>\n",
       "    </tr>\n",
       "  </tbody>\n",
       "</table>\n",
       "</div>"
      ],
      "text/plain": [
       "   family_status_id          family_status\n",
       "0                 0        женат / замужем\n",
       "1                 1       гражданский брак\n",
       "2                 2         вдовец / вдова\n",
       "3                 3              в разводе\n",
       "4                 4  не женат / не замужем"
      ]
     },
     "execution_count": 87,
     "metadata": {},
     "output_type": "execute_result"
    }
   ],
   "source": [
    "# <вывод словаря family_status_dict>\n",
    "family_status_dict "
   ]
  },
  {
   "cell_type": "markdown",
   "metadata": {},
   "source": [
    "Создадим сводную таблицу **family_status_pivot**."
   ]
  },
  {
   "cell_type": "code",
   "execution_count": 88,
   "metadata": {},
   "outputs": [
    {
     "data": {
      "text/plain": [
       "family_status_id  debt\n",
       "0                 0       11449\n",
       "                  1         931\n",
       "1                 0        3789\n",
       "                  1         388\n",
       "2                 0         897\n",
       "                  1          63\n",
       "3                 0        1110\n",
       "                  1          85\n",
       "4                 0        2539\n",
       "                  1         274\n",
       "Name: debt, dtype: int64"
      ]
     },
     "execution_count": 88,
     "metadata": {},
     "output_type": "execute_result"
    }
   ],
   "source": [
    "# <создание сводной таблицы - объекта Series>\n",
    "family_status_pivot = family_status_log.groupby('family_status_id')['debt'].value_counts()\n",
    "family_status_pivot"
   ]
  },
  {
   "cell_type": "markdown",
   "metadata": {},
   "source": [
    "Посчитаем доли просроченных кредитов для каждой из групп."
   ]
  },
  {
   "cell_type": "code",
   "execution_count": 89,
   "metadata": {},
   "outputs": [
    {
     "name": "stdout",
     "output_type": "stream",
     "text": [
      "Для группы \"женат / замужем\" доля просроченных кредитов 7.52%\n",
      "Для группы \"гражданский брак\" доля просроченных кредитов 9.29%\n",
      "Для группы \"вдовец / вдова\" доля просроченных кредитов 6.56%\n",
      "Для группы \"в разводе\" доля просроченных кредитов 7.11%\n",
      "Для группы \"не женат / не замужем\" доля просроченных кредитов 9.74%\n"
     ]
    }
   ],
   "source": [
    "# <подсчет доли просрочек для каждой из групп и вывод на экран>\n",
    "temp = family_status_log.groupby('family_status_id')['debt'].mean()\n",
    "for i in range(5):\n",
    "    print('Для группы \"{}\" доля просроченных кредитов {:.2%}'\n",
    "      .format(family_status_dict.loc[i, 'family_status'], temp[i]))"
   ]
  },
  {
   "cell_type": "markdown",
   "metadata": {},
   "source": [
    "Составим ранговый список от минимальной доли просроченных кредитов к максимальной:\n",
    "1. *вдовец / вдова* -> **6.56%**\n",
    "2. *в разводе* -> **7.11%**\n",
    "3. *женат / замужем* -> **7.52%**\n",
    "4. *гражданский брак* -> **9.29%**\n",
    "5. *не женат / не замужем* -> **9.74%**"
   ]
  },
  {
   "cell_type": "markdown",
   "metadata": {},
   "source": [
    "**Вывод**"
   ]
  },
  {
   "cell_type": "markdown",
   "metadata": {},
   "source": [
    "- Клиенты из групп *не женат / не замужем* (**9.74%**) и *гражданский брак* (**9.29%**), т.е. не состоящие в законном браке, чаще всего допускают просрочку кредита;\n",
    "- Клиенты из групп *вдовец / вдова* (**6.56%**) и *в разводе* (**7.11%**), т.е. бывшие в браке, но в данный момент не состоящие в нем, реже всего допускают просрочку кредита;\n",
    "- Клиенты из группы *женат / замужем* (**7.52%**) занимают среднее положение между остальными группами."
   ]
  },
  {
   "cell_type": "markdown",
   "metadata": {},
   "source": [
    "### 3.3. Есть ли зависимость между уровнем дохода и возвратом кредита в срок?"
   ]
  },
  {
   "cell_type": "markdown",
   "metadata": {},
   "source": [
    "Для исследования зависимости между уровнем дохода и возвратом кредита в срок был создан датафрейм **total_income_log**:"
   ]
  },
  {
   "cell_type": "code",
   "execution_count": 90,
   "metadata": {},
   "outputs": [
    {
     "data": {
      "text/html": [
       "<div>\n",
       "<style scoped>\n",
       "    .dataframe tbody tr th:only-of-type {\n",
       "        vertical-align: middle;\n",
       "    }\n",
       "\n",
       "    .dataframe tbody tr th {\n",
       "        vertical-align: top;\n",
       "    }\n",
       "\n",
       "    .dataframe thead th {\n",
       "        text-align: right;\n",
       "    }\n",
       "</style>\n",
       "<table border=\"1\" class=\"dataframe\">\n",
       "  <thead>\n",
       "    <tr style=\"text-align: right;\">\n",
       "      <th></th>\n",
       "      <th>total_income</th>\n",
       "      <th>debt</th>\n",
       "      <th>total_income_id</th>\n",
       "    </tr>\n",
       "  </thead>\n",
       "  <tbody>\n",
       "    <tr>\n",
       "      <td>0</td>\n",
       "      <td>253875</td>\n",
       "      <td>0</td>\n",
       "      <td>9</td>\n",
       "    </tr>\n",
       "    <tr>\n",
       "      <td>1</td>\n",
       "      <td>112080</td>\n",
       "      <td>0</td>\n",
       "      <td>3</td>\n",
       "    </tr>\n",
       "    <tr>\n",
       "      <td>2</td>\n",
       "      <td>145885</td>\n",
       "      <td>0</td>\n",
       "      <td>5.6</td>\n",
       "    </tr>\n",
       "    <tr>\n",
       "      <td>3</td>\n",
       "      <td>267628</td>\n",
       "      <td>0</td>\n",
       "      <td>9</td>\n",
       "    </tr>\n",
       "    <tr>\n",
       "      <td>4</td>\n",
       "      <td>158616</td>\n",
       "      <td>0</td>\n",
       "      <td>5.6</td>\n",
       "    </tr>\n",
       "  </tbody>\n",
       "</table>\n",
       "</div>"
      ],
      "text/plain": [
       "   total_income  debt total_income_id\n",
       "0        253875     0               9\n",
       "1        112080     0               3\n",
       "2        145885     0             5.6\n",
       "3        267628     0               9\n",
       "4        158616     0             5.6"
      ]
     },
     "execution_count": 90,
     "metadata": {},
     "output_type": "execute_result"
    }
   ],
   "source": [
    "# <вывод первых пяти строк таблицы total_income_log>\n",
    "total_income_log.head() "
   ]
  },
  {
   "cell_type": "markdown",
   "metadata": {},
   "source": [
    "Создадим сводную таблицу по доходам. 1 - нижний квантиль по доходам, 10 - верхний квантиль по доходам."
   ]
  },
  {
   "cell_type": "code",
   "execution_count": 91,
   "metadata": {},
   "outputs": [
    {
     "data": {
      "text/html": [
       "<div>\n",
       "<style scoped>\n",
       "    .dataframe tbody tr th:only-of-type {\n",
       "        vertical-align: middle;\n",
       "    }\n",
       "\n",
       "    .dataframe tbody tr th {\n",
       "        vertical-align: top;\n",
       "    }\n",
       "\n",
       "    .dataframe thead th {\n",
       "        text-align: right;\n",
       "    }\n",
       "</style>\n",
       "<table border=\"1\" class=\"dataframe\">\n",
       "  <thead>\n",
       "    <tr style=\"text-align: right;\">\n",
       "      <th></th>\n",
       "      <th></th>\n",
       "      <th>total</th>\n",
       "    </tr>\n",
       "    <tr>\n",
       "      <th>total_income_id</th>\n",
       "      <th>debt</th>\n",
       "      <th></th>\n",
       "    </tr>\n",
       "  </thead>\n",
       "  <tbody>\n",
       "    <tr>\n",
       "      <td rowspan=\"2\" valign=\"top\">1</td>\n",
       "      <td>0</td>\n",
       "      <td>1995</td>\n",
       "    </tr>\n",
       "    <tr>\n",
       "      <td>1</td>\n",
       "      <td>158</td>\n",
       "    </tr>\n",
       "    <tr>\n",
       "      <td rowspan=\"2\" valign=\"top\">2</td>\n",
       "      <td>0</td>\n",
       "      <td>1965</td>\n",
       "    </tr>\n",
       "    <tr>\n",
       "      <td>1</td>\n",
       "      <td>187</td>\n",
       "    </tr>\n",
       "    <tr>\n",
       "      <td rowspan=\"2\" valign=\"top\">3</td>\n",
       "      <td>0</td>\n",
       "      <td>1974</td>\n",
       "    </tr>\n",
       "    <tr>\n",
       "      <td>1</td>\n",
       "      <td>179</td>\n",
       "    </tr>\n",
       "    <tr>\n",
       "      <td rowspan=\"2\" valign=\"top\">4</td>\n",
       "      <td>0</td>\n",
       "      <td>1971</td>\n",
       "    </tr>\n",
       "    <tr>\n",
       "      <td>1</td>\n",
       "      <td>181</td>\n",
       "    </tr>\n",
       "    <tr>\n",
       "      <td rowspan=\"2\" valign=\"top\">5.6</td>\n",
       "      <td>0</td>\n",
       "      <td>3931</td>\n",
       "    </tr>\n",
       "    <tr>\n",
       "      <td>1</td>\n",
       "      <td>374</td>\n",
       "    </tr>\n",
       "    <tr>\n",
       "      <td rowspan=\"2\" valign=\"top\">7</td>\n",
       "      <td>0</td>\n",
       "      <td>1973</td>\n",
       "    </tr>\n",
       "    <tr>\n",
       "      <td>1</td>\n",
       "      <td>179</td>\n",
       "    </tr>\n",
       "    <tr>\n",
       "      <td rowspan=\"2\" valign=\"top\">8</td>\n",
       "      <td>0</td>\n",
       "      <td>1972</td>\n",
       "    </tr>\n",
       "    <tr>\n",
       "      <td>1</td>\n",
       "      <td>181</td>\n",
       "    </tr>\n",
       "    <tr>\n",
       "      <td rowspan=\"2\" valign=\"top\">9</td>\n",
       "      <td>0</td>\n",
       "      <td>2001</td>\n",
       "    </tr>\n",
       "    <tr>\n",
       "      <td>1</td>\n",
       "      <td>151</td>\n",
       "    </tr>\n",
       "    <tr>\n",
       "      <td rowspan=\"2\" valign=\"top\">10</td>\n",
       "      <td>0</td>\n",
       "      <td>2002</td>\n",
       "    </tr>\n",
       "    <tr>\n",
       "      <td>1</td>\n",
       "      <td>151</td>\n",
       "    </tr>\n",
       "  </tbody>\n",
       "</table>\n",
       "</div>"
      ],
      "text/plain": [
       "                      total\n",
       "total_income_id debt       \n",
       "1               0      1995\n",
       "                1       158\n",
       "2               0      1965\n",
       "                1       187\n",
       "3               0      1974\n",
       "                1       179\n",
       "4               0      1971\n",
       "                1       181\n",
       "5.6             0      3931\n",
       "                1       374\n",
       "7               0      1973\n",
       "                1       179\n",
       "8               0      1972\n",
       "                1       181\n",
       "9               0      2001\n",
       "                1       151\n",
       "10              0      2002\n",
       "                1       151"
      ]
     },
     "execution_count": 91,
     "metadata": {},
     "output_type": "execute_result"
    }
   ],
   "source": [
    "# <создание сводной таблицы с подсчетом количества каждой комбинации значений>\n",
    "total_income_pivot = total_income_log.pivot_table(index=['total_income_id', 'debt'], values='debt', aggfunc='count')\n",
    "# <смена названия столбца>\n",
    "total_income_pivot.set_axis(labels=['total'], axis=1, inplace=True) \n",
    "total_income_pivot"
   ]
  },
  {
   "cell_type": "markdown",
   "metadata": {},
   "source": [
    "Создадим объект Series со значениями доли просроченных кредитов для разных квантилей."
   ]
  },
  {
   "cell_type": "code",
   "execution_count": 92,
   "metadata": {},
   "outputs": [
    {
     "data": {
      "text/plain": [
       "1.0     total    7.338597\n",
       "dtype: float64\n",
       "2.0     total    8.689591\n",
       "dtype: float64\n",
       "3.0      total    8.31398\n",
       "dtype: float64\n",
       "4.0     total    8.410781\n",
       "dtype: float64\n",
       "5.6     total    8.687573\n",
       "dtype: float64\n",
       "7.0     total    8.317844\n",
       "dtype: float64\n",
       "8.0     total    8.406874\n",
       "dtype: float64\n",
       "9.0     total    7.016729\n",
       "dtype: float64\n",
       "10.0     total    7.01347\n",
       "dtype: float64\n",
       "dtype: object"
      ]
     },
     "execution_count": 92,
     "metadata": {},
     "output_type": "execute_result"
    }
   ],
   "source": [
    "# <создание временных переменных для расчетов>\n",
    "total_income_part = []\n",
    "temp = total_income_pivot \n",
    "# <расчет процента просрочек для каждого квантиля>\n",
    "for i in range(9): \n",
    "    total_income_part.append((temp.iloc[i*2+1] / (temp.iloc[i * 2] + temp.iloc[i * 2 + 1])) * 100)\n",
    "total_income_part = pd.Series(total_income_part, index=[1, 2, 3, 4, 5.6, 7, 8, 9, 10])\n",
    "total_income_part"
   ]
  },
  {
   "cell_type": "code",
   "execution_count": 93,
   "metadata": {
    "scrolled": true
   },
   "outputs": [
    {
     "data": {
      "text/plain": [
       "total_income_id\n",
       "1      0.073386\n",
       "2      0.086896\n",
       "3      0.083140\n",
       "4      0.084108\n",
       "5.6    0.086876\n",
       "7      0.083178\n",
       "8      0.084069\n",
       "9      0.070167\n",
       "10     0.070135\n",
       "Name: debt, dtype: float64"
      ]
     },
     "execution_count": 93,
     "metadata": {},
     "output_type": "execute_result"
    }
   ],
   "source": [
    "# <доля просрочек для квантилей>\n",
    "total_income_log.groupby('total_income_id')['debt'].mean() "
   ]
  },
  {
   "cell_type": "markdown",
   "metadata": {},
   "source": [
    "Значения посчитаны в процентах. Начертим график для наглядности представления."
   ]
  },
  {
   "cell_type": "code",
   "execution_count": 94,
   "metadata": {},
   "outputs": [
    {
     "data": {
      "text/plain": [
       "Text(0, 0.5, 'Доля просрочек')"
      ]
     },
     "execution_count": 94,
     "metadata": {},
     "output_type": "execute_result"
    },
    {
     "data": {
      "image/png": "[encoded data removed]",
      "text/plain": [
       "<Figure size 1080x504 with 1 Axes>"
      ]
     },
     "metadata": {
      "needs_background": "light"
     },
     "output_type": "display_data"
    }
   ],
   "source": [
    "# <построение графика>\n",
    "fig = plt.figure(figsize=(15, 7))\n",
    "ax = fig.add_subplot(1, 1, 1) \n",
    "plt.grid()\n",
    "plt.plot(total_income_part, marker='d') # <добавления данных для построения графика -> объект Series 'total_income_part'>\n",
    "ticks = ax.set_yticks(np.arange(6.5, 9.6, 0.5)) # <указание значений на оси y>\n",
    "labels = ax.set_xticks([1, 2, 3, 4, 5.6, 7, 8, 9, 10]) # <указание значений на оси x>\n",
    "ax.set_title('Доля просроченных кредитов для квантилей от 1 до 10') \n",
    "ax.set_xlabel('Квантили') \n",
    "ax.set_ylabel('Доля просрочек') "
   ]
  },
  {
   "cell_type": "markdown",
   "metadata": {},
   "source": [
    "**Вывод**"
   ]
  },
  {
   "cell_type": "markdown",
   "metadata": {},
   "source": [
    "Зависимость между уровнем дохода и возвратом кредита в срок существует, но она нелинейна.<br>\n",
    "- Для первого квантиля доля просрочки составляет **7.34%**. Возможно, это связано с тем, что для нижнего квантиля по доходам банк предъявляет строгие требования для получения кредита;\n",
    "- Для квантилей со 2 по 8 доля просрочки флуктуирует вокруг значения **8.5%**, достигая максимума на втором квантиле (**8.69%**), а минимума на третьем и седьмом квантиле (**8.31%**);\n",
    "- Далее доля просрочки падает, составляя **7.02%** и **7.01%** для девятого и десятого квантиля соответственно. Это говорит о том, что люди с высоким уровнем дохода более склонны к своевременному погашению займа."
   ]
  },
  {
   "cell_type": "markdown",
   "metadata": {},
   "source": [
    "### 3.4. Как разные цели кредита влияют на его возврат в срок?"
   ]
  },
  {
   "cell_type": "markdown",
   "metadata": {},
   "source": [
    "Для исследования зависимости между уровнем дохода и возвратом кредита в срок был создан датафрейм **purpose_log**:"
   ]
  },
  {
   "cell_type": "code",
   "execution_count": 95,
   "metadata": {},
   "outputs": [
    {
     "data": {
      "text/html": [
       "<div>\n",
       "<style scoped>\n",
       "    .dataframe tbody tr th:only-of-type {\n",
       "        vertical-align: middle;\n",
       "    }\n",
       "\n",
       "    .dataframe tbody tr th {\n",
       "        vertical-align: top;\n",
       "    }\n",
       "\n",
       "    .dataframe thead th {\n",
       "        text-align: right;\n",
       "    }\n",
       "</style>\n",
       "<table border=\"1\" class=\"dataframe\">\n",
       "  <thead>\n",
       "    <tr style=\"text-align: right;\">\n",
       "      <th></th>\n",
       "      <th>purpose</th>\n",
       "      <th>lemm_purpose</th>\n",
       "      <th>debt</th>\n",
       "    </tr>\n",
       "  </thead>\n",
       "  <tbody>\n",
       "    <tr>\n",
       "      <td>0</td>\n",
       "      <td>покупка жилья</td>\n",
       "      <td>недвижимость</td>\n",
       "      <td>0</td>\n",
       "    </tr>\n",
       "    <tr>\n",
       "      <td>1</td>\n",
       "      <td>приобретение автомобиля</td>\n",
       "      <td>автомобиль</td>\n",
       "      <td>0</td>\n",
       "    </tr>\n",
       "    <tr>\n",
       "      <td>2</td>\n",
       "      <td>покупка жилья</td>\n",
       "      <td>недвижимость</td>\n",
       "      <td>0</td>\n",
       "    </tr>\n",
       "    <tr>\n",
       "      <td>3</td>\n",
       "      <td>дополнительное образование</td>\n",
       "      <td>образование</td>\n",
       "      <td>0</td>\n",
       "    </tr>\n",
       "    <tr>\n",
       "      <td>4</td>\n",
       "      <td>сыграть свадьбу</td>\n",
       "      <td>свадьба</td>\n",
       "      <td>0</td>\n",
       "    </tr>\n",
       "  </tbody>\n",
       "</table>\n",
       "</div>"
      ],
      "text/plain": [
       "                      purpose  lemm_purpose  debt\n",
       "0               покупка жилья  недвижимость     0\n",
       "1     приобретение автомобиля    автомобиль     0\n",
       "2               покупка жилья  недвижимость     0\n",
       "3  дополнительное образование   образование     0\n",
       "4             сыграть свадьбу       свадьба     0"
      ]
     },
     "execution_count": 95,
     "metadata": {},
     "output_type": "execute_result"
    }
   ],
   "source": [
    "# <вывод первых пяти строк таблицы purpose_log>\n",
    "purpose_log.head() "
   ]
  },
  {
   "cell_type": "code",
   "execution_count": 96,
   "metadata": {},
   "outputs": [
    {
     "data": {
      "text/plain": [
       "array(['недвижимость', 'автомобиль', 'образование', 'свадьба'],\n",
       "      dtype=object)"
      ]
     },
     "execution_count": 96,
     "metadata": {},
     "output_type": "execute_result"
    }
   ],
   "source": [
    "# <вывод уникальных значений столбца 'lemm_purpose'>\n",
    "purpose_log['lemm_purpose'].unique() "
   ]
  },
  {
   "cell_type": "markdown",
   "metadata": {},
   "source": [
    "Создадим сводную таблицу для различных целей кредита. Для группировки возьмем столбец с леммами **lemm_purpose**."
   ]
  },
  {
   "cell_type": "code",
   "execution_count": 97,
   "metadata": {},
   "outputs": [
    {
     "data": {
      "text/html": [
       "<div>\n",
       "<style scoped>\n",
       "    .dataframe tbody tr th:only-of-type {\n",
       "        vertical-align: middle;\n",
       "    }\n",
       "\n",
       "    .dataframe tbody tr th {\n",
       "        vertical-align: top;\n",
       "    }\n",
       "\n",
       "    .dataframe thead th {\n",
       "        text-align: right;\n",
       "    }\n",
       "</style>\n",
       "<table border=\"1\" class=\"dataframe\">\n",
       "  <thead>\n",
       "    <tr style=\"text-align: right;\">\n",
       "      <th></th>\n",
       "      <th></th>\n",
       "      <th>total</th>\n",
       "    </tr>\n",
       "    <tr>\n",
       "      <th>lemm_purpose</th>\n",
       "      <th>debt</th>\n",
       "      <th></th>\n",
       "    </tr>\n",
       "  </thead>\n",
       "  <tbody>\n",
       "    <tr>\n",
       "      <td rowspan=\"2\" valign=\"top\">автомобиль</td>\n",
       "      <td>0</td>\n",
       "      <td>3912</td>\n",
       "    </tr>\n",
       "    <tr>\n",
       "      <td>1</td>\n",
       "      <td>403</td>\n",
       "    </tr>\n",
       "    <tr>\n",
       "      <td rowspan=\"2\" valign=\"top\">недвижимость</td>\n",
       "      <td>0</td>\n",
       "      <td>10058</td>\n",
       "    </tr>\n",
       "    <tr>\n",
       "      <td>1</td>\n",
       "      <td>782</td>\n",
       "    </tr>\n",
       "    <tr>\n",
       "      <td rowspan=\"2\" valign=\"top\">образование</td>\n",
       "      <td>0</td>\n",
       "      <td>3652</td>\n",
       "    </tr>\n",
       "    <tr>\n",
       "      <td>1</td>\n",
       "      <td>370</td>\n",
       "    </tr>\n",
       "    <tr>\n",
       "      <td rowspan=\"2\" valign=\"top\">свадьба</td>\n",
       "      <td>0</td>\n",
       "      <td>2162</td>\n",
       "    </tr>\n",
       "    <tr>\n",
       "      <td>1</td>\n",
       "      <td>186</td>\n",
       "    </tr>\n",
       "  </tbody>\n",
       "</table>\n",
       "</div>"
      ],
      "text/plain": [
       "                   total\n",
       "lemm_purpose debt       \n",
       "автомобиль   0      3912\n",
       "             1       403\n",
       "недвижимость 0     10058\n",
       "             1       782\n",
       "образование  0      3652\n",
       "             1       370\n",
       "свадьба      0      2162\n",
       "             1       186"
      ]
     },
     "execution_count": 97,
     "metadata": {},
     "output_type": "execute_result"
    }
   ],
   "source": [
    "# <создание сводной таблицы с подсчетом количества каждой комбинации значений>\n",
    "purpose_pivot = purpose_log.pivot_table(index=['lemm_purpose', 'debt'], values='debt', aggfunc='count')\n",
    "# <смена названия столбца>\n",
    "purpose_pivot.set_axis(labels=['total'], axis=1, inplace=True) \n",
    "purpose_pivot"
   ]
  },
  {
   "cell_type": "code",
   "execution_count": 98,
   "metadata": {},
   "outputs": [
    {
     "data": {
      "text/plain": [
       "lemm_purpose\n",
       "автомобиль      9.339513\n",
       "недвижимость    7.214022\n",
       "образование     9.199403\n",
       "свадьба         7.921635\n",
       "Name: debt, dtype: float64"
      ]
     },
     "execution_count": 98,
     "metadata": {},
     "output_type": "execute_result"
    }
   ],
   "source": [
    "# <доли просрочек для разных целей кредита>\n",
    "purpose_log.groupby('lemm_purpose')['debt'].mean()*100 "
   ]
  },
  {
   "cell_type": "markdown",
   "metadata": {},
   "source": [
    "**Вывод**"
   ]
  },
  {
   "cell_type": "markdown",
   "metadata": {},
   "source": [
    "- Клиенты из групп *автомобиль* (**9.34%**) и *образование* (**9.20%**) чаще всего допускают просрочку кредита;\n",
    "- Клиенты из группы *недвижимость* (**7.21%**) лучше всего погашают кредит (доля просроченных кредитов примерно на **2%** ниже, чем у групп *автомобиль* и *образование*);\n",
    "- Клиенты из группы *свадьба* (**7.92%**) занимают среднее положение между остальными группами."
   ]
  },
  {
   "cell_type": "markdown",
   "metadata": {},
   "source": [
    "## 4. Общий вывод"
   ]
  },
  {
   "cell_type": "markdown",
   "metadata": {},
   "source": [
    "- В ходе выполнения проекта был обработан файл с данными - статистика о платежеспособности клиентов.<br><br>\n",
    "В рамках предобработки данных: \n",
    "- Были найдены и обработаны пропущенные и некорректные значения; \n",
    "- Был изменен тип данных в двух столбцах;\n",
    "- Была исследована причина появления дубликатов;\n",
    "- Была проведена лемматизация и категоризация данных.<br><br>\n",
    "После этого были получены ответы на поставленные банком вопросы:<br><br>\n",
    "- Есть ли зависимость между наличием детей и возвратом кредита в срок?<br>\n",
    "Да, если в семье есть дети, то вероятность просрочки кредита выше, чем для семей без детей.<br><br>\n",
    "- Есть ли зависимость между семейным положением и возвратом кредита в срок?<br>\n",
    "Да, клиенты из групп *не женат / не замужем* и *гражданский брак*, т.е. не состоящие в законном браке, чаще всего допускают просрочку кредита;<br>\n",
    "Клиенты из групп *вдовец / вдова* и *в разводе* , т.е. бывшие в браке, но в данный момент не состоящие в нем, реже всего допускают просрочку кредита;<br>\n",
    "Клиенты из группы *женат / замужем* занимают среднее положение между остальными группами.<br><br>\n",
    "- Как разные цели кредита влияют на его возврат в срок?<br>\n",
    "Да, клиенты, которые берут кредит на покупку *автомобиля* или на *образование* чаще всего допускают просрочку кредита;<br>\n",
    "Клиенты, которые берут кредит на операции с *недвижимостью* лучше всего погашают кредит;<br>\n",
    "Клиенты, которые берут кредит на организацию *свадьбы* занимают среднее положение между остальными группами."
   ]
  },
  {
   "cell_type": "markdown",
   "metadata": {},
   "source": [
    "### 4.1. Дополнительное задание"
   ]
  },
  {
   "cell_type": "markdown",
   "metadata": {},
   "source": [
    "Дополнительно определим рисковость каждой группы должников, для этого сравним процент должников в группе со средним процентом должников по всей выборке."
   ]
  },
  {
   "cell_type": "markdown",
   "metadata": {},
   "source": [
    "Подготовка данных для построения графиков."
   ]
  },
  {
   "cell_type": "code",
   "execution_count": 99,
   "metadata": {},
   "outputs": [
    {
     "data": {
      "text/plain": [
       "8.088269454123113"
      ]
     },
     "execution_count": 99,
     "metadata": {},
     "output_type": "execute_result"
    }
   ],
   "source": [
    "# <среднее значение процента задолженности>\n",
    "general_mean = df['debt'].mean() * 100 \n",
    "general_mean"
   ]
  },
  {
   "cell_type": "code",
   "execution_count": 100,
   "metadata": {},
   "outputs": [
    {
     "data": {
      "text/plain": [
       "без детей    7.512898\n",
       "с детьми     9.223769\n",
       "Name: 0, dtype: float64"
      ]
     },
     "execution_count": 100,
     "metadata": {},
     "output_type": "execute_result"
    }
   ],
   "source": [
    "# <процент задолженности для групп столбца 'children'>\n",
    "children_graph = (debt_part_no_child.append(debt_part_child)).reset_index()[0] * 100\n",
    "children_graph.set_axis(['без детей', 'с детьми'], inplace=True) \n",
    "children_graph"
   ]
  },
  {
   "cell_type": "code",
   "execution_count": 101,
   "metadata": {},
   "outputs": [
    {
     "data": {
      "text/plain": [
       "family_status\n",
       "вдовец / вдова           6.562500\n",
       "в разводе                7.112971\n",
       "женат / замужем          7.520194\n",
       "гражданский брак         9.288963\n",
       "не женат / не замужем    9.740491\n",
       "Name: debt, dtype: float64"
      ]
     },
     "execution_count": 101,
     "metadata": {},
     "output_type": "execute_result"
    }
   ],
   "source": [
    "# <процент задолженности для групп столбца 'family_status'>\n",
    "family_status_graph = family_status_log.merge(family_status_dict, on='family_status_id', how='left')\n",
    "family_status_graph = (family_status_graph.groupby('family_status')['debt'].mean() * 100).sort_values()\n",
    "family_status_graph"
   ]
  },
  {
   "cell_type": "code",
   "execution_count": 102,
   "metadata": {},
   "outputs": [
    {
     "data": {
      "text/plain": [
       "total_income_id\n",
       "1      7.338597\n",
       "2      8.689591\n",
       "3      8.313980\n",
       "4      8.410781\n",
       "5.6    8.687573\n",
       "7      8.317844\n",
       "8      8.406874\n",
       "9      7.016729\n",
       "10     7.013470\n",
       "Name: debt, dtype: float64"
      ]
     },
     "execution_count": 102,
     "metadata": {},
     "output_type": "execute_result"
    }
   ],
   "source": [
    "# <процент задолженности для групп столбца 'total_income'>\n",
    "total_income_graph = (total_income_log.groupby('total_income_id')['debt'].mean() * 100)\n",
    "total_income_graph"
   ]
  },
  {
   "cell_type": "code",
   "execution_count": 103,
   "metadata": {},
   "outputs": [
    {
     "data": {
      "text/plain": [
       "lemm_purpose\n",
       "недвижимость    7.214022\n",
       "свадьба         7.921635\n",
       "образование     9.199403\n",
       "автомобиль      9.339513\n",
       "Name: debt, dtype: float64"
      ]
     },
     "execution_count": 103,
     "metadata": {},
     "output_type": "execute_result"
    }
   ],
   "source": [
    "# <процент задолженности для групп столбца 'lemm_purpose'>\n",
    "purpose_graph = (purpose_log.groupby('lemm_purpose')['debt'].mean() * 100).sort_values()\n",
    "purpose_graph"
   ]
  },
  {
   "cell_type": "markdown",
   "metadata": {},
   "source": [
    "Построим столбчатые диаграммы процентов просроченных кредитов для разных групп. Красная полоса - среднее значение."
   ]
  },
  {
   "cell_type": "code",
   "execution_count": 104,
   "metadata": {
    "scrolled": false
   },
   "outputs": [
    {
     "data": {
      "image/png": "[encoded data removed]",
      "text/plain": [
       "<Figure size 1080x1080 with 4 Axes>"
      ]
     },
     "metadata": {
      "needs_background": "light"
     },
     "output_type": "display_data"
    }
   ],
   "source": [
    "# <диаграммы долей просроченных кредитов для разных групп>\n",
    "fig, ((ax1, ax2), (ax3, ax4)) = plt.subplots(2, 2, figsize=(15,15))\n",
    "\n",
    "ax1.axhline(general_mean, color='red', linewidth=2)\n",
    "ax1.bar(children_graph.index, children_graph[:] - 6, bottom=6, color='rosybrown'); ax1.grid()\n",
    "ticks1 = ax1.set_yticks([6, general_mean, 10] + list(children_graph))\n",
    "ax1.set_title('Доля просроченных кредитов для семей с детьми и без')\n",
    "ax1.set_xlabel('Группа') # <название оси x>\n",
    "ax1.set_ylabel('Доля просрочек, %') # <название оси y>\n",
    "\n",
    "\n",
    "ax2.axhline(general_mean, color='red', linewidth=2)\n",
    "ax2.bar(family_status_graph.index, family_status_graph[:] - 6, bottom=6, color='darkslategrey'); ax2.grid()\n",
    "labels2 = ax2.set_xticklabels(family_status_graph.index, rotation = 30)\n",
    "ticks2 = ax2.set_yticks([6, general_mean, 10] + list(family_status_graph))\n",
    "ax2.set_title('Доля просроченных кредитов для разного семейного статуса')\n",
    "ax2.set_xlabel('Группа') # <название оси x>\n",
    "ax2.set_ylabel('Доля просрочек, %') # <название оси y>\n",
    "\n",
    "ax3.axhline(general_mean, color='red', linewidth=2)\n",
    "ax3.bar(total_income_graph.index, total_income_graph[:] - 6, bottom=6, color='cadetblue'); ax3.grid()\n",
    "labels3 = ax3.set_xticks([1, 2, 3, 4, 5.6, 7, 8, 9, 10])\n",
    "ticks3 = ax3.set_yticks(([6, general_mean, total_income_graph['9'], 9] + list(total_income_graph)[0:3]))\n",
    "ax3.set_title('Доля просроченных кредитов для разного дохода')\n",
    "ax3.set_xlabel('Группа') # <название оси x>\n",
    "ax3.set_ylabel('Доля просрочек, %') # <название оси y>\n",
    "\n",
    "ax4.axhline(general_mean, color='red', linewidth=2)\n",
    "ax4.bar(purpose_graph.index, purpose_graph[:] - 6, bottom=6, color='slategrey'); ax4.grid()\n",
    "labels4 = ax4.set_xticklabels(purpose_graph.index, rotation = 30)\n",
    "ticks4 = ax4.set_yticks([6, general_mean, 10] + list(purpose_graph))\n",
    "ax4.set_title('Доля просроченных кредитов для разных целей кредита')\n",
    "ax4.set_xlabel('Группа')\n",
    "ax4.set_ylabel('Доля просрочек, %')\n",
    "\n",
    "plt.subplots_adjust(hspace=0.5)"
   ]
  },
  {
   "cell_type": "markdown",
   "metadata": {},
   "source": [
    "Построим столбчатые диаграммы разницы между средним процентом просрочки и процентом просрочки по группам."
   ]
  },
  {
   "cell_type": "code",
   "execution_count": 105,
   "metadata": {},
   "outputs": [
    {
     "data": {
      "image/png": "[encoded data removed]",
      "text/plain": [
       "<Figure size 1080x1440 with 4 Axes>"
      ]
     },
     "metadata": {
      "needs_background": "light"
     },
     "output_type": "display_data"
    }
   ],
   "source": [
    "# <диаграммы разницы между средним процентом просрочки и процентом просрочки по группам>\n",
    "fig, ((ax1, ax2), (ax3, ax4)) = plt.subplots(2, 2, figsize=(15,20))\n",
    "\n",
    "ax1.axhline(0, color='red', linewidth=2)\n",
    "ax1.bar(children_graph.index, children_graph[:] - general_mean, color='rosybrown'); ax1.grid()\n",
    "ticks1 = ax1.set_yticks([-2, -1.5, -1, -0.5, 0, 0.5, 1, 1.5, 2] + list(children_graph - general_mean))\n",
    "ax1.set_title('Разница со средним для семей с детьми и без')\n",
    "ax1.set_xlabel('Группа') # <название оси x>\n",
    "ax1.set_ylabel('Разница со средним, %') # <название оси y>\n",
    "\n",
    "\n",
    "ax2.axhline(0, color='red', linewidth=2)\n",
    "ax2.bar(family_status_graph.index, family_status_graph[:] - general_mean, color='darkslategrey'); ax2.grid()\n",
    "labels2 = ax2.set_xticklabels(family_status_graph.index, rotation = 30)\n",
    "ticks2 = ax2.set_yticks([-2, 0, 0.5, 1, 1.5, 2] + list(family_status_graph - general_mean))\n",
    "ax2.set_title('Разница со средним для разного семейного статуса')\n",
    "ax2.set_xlabel('Группа') # <название оси x>\n",
    "ax2.set_ylabel('Разница со средним, %') # <название оси y>\n",
    "\n",
    "ax3.axhline(0, color='red', linewidth=2)\n",
    "ax3.bar(total_income_graph.index, total_income_graph[:] - general_mean, color='cadetblue'); ax3.grid()\n",
    "labels3 = ax3.set_xticks([1, 2, 3, 4, 5.6, 7, 8, 9, 10])\n",
    "ticks3 = ax3.set_yticks(([-1.5, -1, -0.5, 0, 0.5, 1, 1.5, total_income_graph['9'] - general_mean] + list(total_income_graph - general_mean)[0:3]))\n",
    "ax3.set_title('Разница со средним для разного дохода')\n",
    "ax3.set_xlabel('Группа') # <название оси x>\n",
    "ax3.set_ylabel('Разница со средним, %') # <название оси y>\n",
    "\n",
    "ax4.axhline(0, color='red', linewidth=2)\n",
    "ax4.bar(purpose_graph.index, purpose_graph[:] - general_mean, color='slategrey'); ax4.grid()\n",
    "labels4 = ax4.set_xticklabels(purpose_graph.index, rotation = 30)\n",
    "ticks4 = ax4.set_yticks([-1.5, -1, -0.5, 0, 0.5, 1, 1.5] + list(purpose_graph - general_mean))\n",
    "ax4.set_title('Разница со средним для разных целей кредита')\n",
    "ax4.set_xlabel('Группа') # <название оси x>\n",
    "ax4.set_ylabel('Разница со средним, %') # <название оси y>\n",
    "\n",
    "plt.subplots_adjust(hspace=0.3)"
   ]
  },
  {
   "cell_type": "markdown",
   "metadata": {},
   "source": [
    "Теперь построим сводную столбчатую диаграмму для всех групп."
   ]
  },
  {
   "cell_type": "code",
   "execution_count": 106,
   "metadata": {},
   "outputs": [
    {
     "data": {
      "text/plain": [
       "вдовец / вдова          -1.525769\n",
       "10                      -1.074800\n",
       "9                       -1.071541\n",
       "в разводе               -0.975299\n",
       "недвижимость            -0.874247\n",
       "1                       -0.749672\n",
       "без детей               -0.575371\n",
       "женат / замужем         -0.568076\n",
       "свадьба                 -0.166634\n",
       "3                        0.225711\n",
       "7                        0.229574\n",
       "8                        0.318605\n",
       "4                        0.322511\n",
       "5.6                      0.599303\n",
       "2                        0.601322\n",
       "образование              1.111134\n",
       "с детьми                 1.135500\n",
       "гражданский брак         1.200694\n",
       "автомобиль               1.251244\n",
       "не женат / не замужем    1.652221\n",
       "dtype: float64"
      ]
     },
     "execution_count": 106,
     "metadata": {},
     "output_type": "execute_result"
    }
   ],
   "source": [
    "# <общий отсортированный по значениям список разницы между значением для группы и средним значением>\n",
    "sorted_risks = (purpose_graph.append([total_income_graph, \n",
    "                                      family_status_graph, \n",
    "                                      children_graph]).sort_values())- general_mean\n",
    "sorted_risks"
   ]
  },
  {
   "cell_type": "code",
   "execution_count": 107,
   "metadata": {},
   "outputs": [
    {
     "data": {
      "image/png": "[encoded data removed]",
      "text/plain": [
       "<Figure size 1080x1080 with 1 Axes>"
      ]
     },
     "metadata": {
      "needs_background": "light"
     },
     "output_type": "display_data"
    }
   ],
   "source": [
    "# <построение диаграммы>\n",
    "fig, axes = plt.subplots(1, 1, figsize=(15,15)); plt.grid()\n",
    "sns.barplot(x=sorted_risks, y=sorted_risks.index, orient='h', palette=\"Blues_d\")\n",
    "plt.title('Отклонения от общего среднего процента возврата кредита для средних разных групп')\n",
    "plt.xlabel('Отклонение от среднего')\n",
    "plt.ylabel('Группа');"
   ]
  },
  {
   "cell_type": "markdown",
   "metadata": {},
   "source": [
    "**Выводы:**<br><br>\n",
    "\n",
    "Наличие детей:<br><br>\n",
    "*Наименьший риск*: **клиенты без детей** -> **-0.57%** от среднего;<br>\n",
    "*Наибольший риск*: **клиенты с детьми** -> **+1.14%** к среднему.<br><br>\n",
    "Семейный статус:<br><br>\n",
    "*Наименьший риск*: **вдовец / вдова** -> **-1.53%** от среднего;<br>\n",
    "*Наибольший риск*: **не женат / не замужем** -> **+1.65%** к среднему.<br><br>\n",
    "Уровень дохода:<br><br>\n",
    "*Наименьший риск*: **10-й квантиль** -> **-1.07%** от среднего;<br>\n",
    "*Наибольший риск*: **2-й квантиль** -> **+0.6%** к среднему.<br><br>\n",
    "Цель кредита:<br><br>\n",
    "*Наименьший риск*: **недвижимость** -> **-0.87%** от среднего;<br>\n",
    "*Наибольший риск*: **автомобиль** -> **+1.25%** к среднему.<br><br>\n",
    "\n",
    "**Общий вывод**:<br><br>\n",
    "Без учета взаимодействия факторов портреты наименее и наиболее надежного заемщика выглядят следующим образом:<br><br>\n",
    "- *Наименьший риск*: **вдовец / вдова без детей в 10-м квантиле по доходам, который(-ая) берет кредит на операцию с недвижимостью**;<br><br>\n",
    "- *Наибольший риск*: **клиент, не состоящий в браке с детьми во 2-м квантиле по доходам, который берет кредит на операцию с автомобилем**."
   ]
  }
 ],
 "metadata": {
  "ExecuteTimeLog": [
   {
    "duration": 113,
    "start_time": "2021-08-30T16:56:31.768Z"
   },
   {
    "duration": 847,
    "start_time": "2021-09-01T10:07:36.739Z"
   },
   {
    "duration": 4,
    "start_time": "2021-09-01T10:07:37.589Z"
   },
   {
    "duration": 328,
    "start_time": "2021-09-01T10:08:25.232Z"
   },
   {
    "duration": 19,
    "start_time": "2021-09-01T10:10:39.659Z"
   },
   {
    "duration": 736,
    "start_time": "2021-09-01T10:26:13.568Z"
   },
   {
    "duration": 479,
    "start_time": "2021-09-01T10:26:55.654Z"
   },
   {
    "duration": 10,
    "start_time": "2021-09-01T10:27:52.351Z"
   },
   {
    "duration": 336,
    "start_time": "2021-09-01T10:30:01.780Z"
   },
   {
    "duration": 423,
    "start_time": "2021-09-01T10:30:05.072Z"
   },
   {
    "duration": 366,
    "start_time": "2021-09-01T10:30:07.597Z"
   },
   {
    "duration": 347,
    "start_time": "2021-09-01T10:31:10.713Z"
   },
   {
    "duration": 13,
    "start_time": "2021-09-01T10:31:32.558Z"
   },
   {
    "duration": 113,
    "start_time": "2021-09-01T10:33:45.449Z"
   },
   {
    "duration": 374,
    "start_time": "2021-09-01T10:33:53.116Z"
   },
   {
    "duration": 358,
    "start_time": "2021-09-01T10:34:17.057Z"
   },
   {
    "duration": 114,
    "start_time": "2021-09-01T10:34:29.137Z"
   },
   {
    "duration": 358,
    "start_time": "2021-09-01T10:34:38.606Z"
   },
   {
    "duration": 9,
    "start_time": "2021-09-01T10:35:59.491Z"
   },
   {
    "duration": 9,
    "start_time": "2021-09-01T10:36:55.923Z"
   },
   {
    "duration": 9,
    "start_time": "2021-09-01T10:37:59.228Z"
   },
   {
    "duration": 9,
    "start_time": "2021-09-01T10:38:08.746Z"
   },
   {
    "duration": 10,
    "start_time": "2021-09-01T10:38:14.610Z"
   },
   {
    "duration": 9,
    "start_time": "2021-09-01T10:38:45.948Z"
   },
   {
    "duration": 10,
    "start_time": "2021-09-01T10:39:04.492Z"
   },
   {
    "duration": 620,
    "start_time": "2021-09-01T13:11:34.765Z"
   },
   {
    "duration": 3,
    "start_time": "2021-09-01T13:11:35.386Z"
   },
   {
    "duration": 253,
    "start_time": "2021-09-01T13:11:36.138Z"
   },
   {
    "duration": 12,
    "start_time": "2021-09-01T13:11:37.009Z"
   },
   {
    "duration": 400,
    "start_time": "2021-09-01T13:11:40.416Z"
   },
   {
    "duration": 374,
    "start_time": "2021-09-01T13:12:09.139Z"
   },
   {
    "duration": 95,
    "start_time": "2021-09-01T13:14:40.054Z"
   },
   {
    "duration": 99,
    "start_time": "2021-09-01T13:14:49.486Z"
   },
   {
    "duration": 342,
    "start_time": "2021-09-01T13:16:00.633Z"
   },
   {
    "duration": 21,
    "start_time": "2021-09-01T13:16:51.829Z"
   },
   {
    "duration": 438,
    "start_time": "2021-09-01T13:17:09.504Z"
   },
   {
    "duration": 2,
    "start_time": "2021-09-01T13:17:58.068Z"
   },
   {
    "duration": 4696,
    "start_time": "2021-09-01T13:18:05.861Z"
   },
   {
    "duration": 4903,
    "start_time": "2021-09-01T13:21:59.063Z"
   },
   {
    "duration": 4441,
    "start_time": "2021-09-01T13:23:34.500Z"
   },
   {
    "duration": 145,
    "start_time": "2021-09-01T13:24:37.413Z"
   },
   {
    "duration": 8661,
    "start_time": "2021-09-01T13:24:48.632Z"
   },
   {
    "duration": 15,
    "start_time": "2021-09-01T13:25:47.184Z"
   },
   {
    "duration": 18,
    "start_time": "2021-09-01T13:26:24.311Z"
   },
   {
    "duration": 3,
    "start_time": "2021-09-01T13:26:41.088Z"
   },
   {
    "duration": 309,
    "start_time": "2021-09-01T13:26:51.563Z"
   },
   {
    "duration": 8159,
    "start_time": "2021-09-01T13:26:53.641Z"
   },
   {
    "duration": 10,
    "start_time": "2021-09-01T13:27:42.829Z"
   },
   {
    "duration": 4,
    "start_time": "2021-09-01T13:27:48.275Z"
   },
   {
    "duration": 6,
    "start_time": "2021-09-01T13:27:51.277Z"
   },
   {
    "duration": 111,
    "start_time": "2021-09-01T13:30:42.956Z"
   },
   {
    "duration": 101,
    "start_time": "2021-09-01T13:30:58.200Z"
   },
   {
    "duration": 292,
    "start_time": "2021-09-01T13:31:05.766Z"
   },
   {
    "duration": 314,
    "start_time": "2021-09-01T13:31:11.732Z"
   },
   {
    "duration": 309,
    "start_time": "2021-09-01T13:31:26.381Z"
   },
   {
    "duration": 9,
    "start_time": "2021-09-01T13:31:40.643Z"
   },
   {
    "duration": 3,
    "start_time": "2021-09-01T13:31:49.798Z"
   },
   {
    "duration": 7,
    "start_time": "2021-09-01T13:31:50.916Z"
   },
   {
    "duration": 8,
    "start_time": "2021-09-01T13:32:11.741Z"
   },
   {
    "duration": 315,
    "start_time": "2021-09-01T13:33:56.182Z"
   },
   {
    "duration": 9,
    "start_time": "2021-09-01T13:34:48.070Z"
   },
   {
    "duration": 3,
    "start_time": "2021-09-01T13:34:54.445Z"
   },
   {
    "duration": 7,
    "start_time": "2021-09-01T13:34:55.613Z"
   },
   {
    "duration": 11,
    "start_time": "2021-09-01T13:35:33.645Z"
   },
   {
    "duration": 3,
    "start_time": "2021-09-01T13:35:37.141Z"
   },
   {
    "duration": 7,
    "start_time": "2021-09-01T13:35:37.550Z"
   },
   {
    "duration": 106,
    "start_time": "2021-09-01T13:42:28.139Z"
   },
   {
    "duration": 9,
    "start_time": "2021-09-01T13:42:33.650Z"
   },
   {
    "duration": 9,
    "start_time": "2021-09-01T13:44:32.148Z"
   },
   {
    "duration": 6,
    "start_time": "2021-09-01T13:44:39.001Z"
   },
   {
    "duration": 6,
    "start_time": "2021-09-01T13:44:52.498Z"
   },
   {
    "duration": 6,
    "start_time": "2021-09-01T13:45:04.316Z"
   },
   {
    "duration": 6,
    "start_time": "2021-09-01T13:45:08.462Z"
   },
   {
    "duration": 7,
    "start_time": "2021-09-01T13:45:19.728Z"
   },
   {
    "duration": 626,
    "start_time": "2021-09-01T13:45:32.985Z"
   },
   {
    "duration": 2,
    "start_time": "2021-09-01T13:45:33.613Z"
   },
   {
    "duration": 281,
    "start_time": "2021-09-01T13:45:33.618Z"
   },
   {
    "duration": 12,
    "start_time": "2021-09-01T13:45:33.902Z"
   },
   {
    "duration": 8,
    "start_time": "2021-09-01T13:45:33.916Z"
   },
   {
    "duration": 393,
    "start_time": "2021-09-01T13:45:33.926Z"
   },
   {
    "duration": 20,
    "start_time": "2021-09-01T13:45:36.720Z"
   },
   {
    "duration": 6,
    "start_time": "2021-09-01T13:47:51.764Z"
   },
   {
    "duration": 6,
    "start_time": "2021-09-01T13:48:17.762Z"
   },
   {
    "duration": 5,
    "start_time": "2021-09-01T13:48:29.381Z"
   },
   {
    "duration": 343,
    "start_time": "2021-09-01T13:50:50.242Z"
   },
   {
    "duration": 309,
    "start_time": "2021-09-01T13:51:01.607Z"
   },
   {
    "duration": 6,
    "start_time": "2021-09-01T13:51:11.100Z"
   },
   {
    "duration": 10,
    "start_time": "2021-09-01T13:51:26.175Z"
   },
   {
    "duration": 3,
    "start_time": "2021-09-01T13:51:26.733Z"
   },
   {
    "duration": 5,
    "start_time": "2021-09-01T13:51:27.514Z"
   },
   {
    "duration": 8,
    "start_time": "2021-09-01T13:51:28.855Z"
   },
   {
    "duration": 6,
    "start_time": "2021-09-01T13:52:57.498Z"
   },
   {
    "duration": 6,
    "start_time": "2021-09-01T13:54:03.269Z"
   },
   {
    "duration": 6,
    "start_time": "2021-09-01T13:54:27.369Z"
   },
   {
    "duration": 7,
    "start_time": "2021-09-01T13:54:48.098Z"
   },
   {
    "duration": 6,
    "start_time": "2021-09-01T13:55:49.780Z"
   },
   {
    "duration": 6,
    "start_time": "2021-09-01T13:56:05.618Z"
   },
   {
    "duration": 6,
    "start_time": "2021-09-01T13:57:52.627Z"
   },
   {
    "duration": 6,
    "start_time": "2021-09-01T13:58:07.729Z"
   },
   {
    "duration": 7,
    "start_time": "2021-09-01T13:58:26.193Z"
   },
   {
    "duration": 6,
    "start_time": "2021-09-01T13:58:59.817Z"
   },
   {
    "duration": 6,
    "start_time": "2021-09-01T13:59:16.395Z"
   },
   {
    "duration": 6,
    "start_time": "2021-09-01T14:01:25.953Z"
   },
   {
    "duration": 6,
    "start_time": "2021-09-01T14:03:17.573Z"
   },
   {
    "duration": 6,
    "start_time": "2021-09-01T14:03:30.713Z"
   },
   {
    "duration": 7,
    "start_time": "2021-09-01T14:03:40.794Z"
   },
   {
    "duration": 6,
    "start_time": "2021-09-01T14:03:59.390Z"
   },
   {
    "duration": 6,
    "start_time": "2021-09-01T14:04:07.641Z"
   },
   {
    "duration": 104,
    "start_time": "2021-09-01T14:04:26.043Z"
   },
   {
    "duration": 8,
    "start_time": "2021-09-01T14:04:37.150Z"
   },
   {
    "duration": 6,
    "start_time": "2021-09-01T14:04:59.991Z"
   },
   {
    "duration": 593,
    "start_time": "2021-09-01T14:06:21.225Z"
   },
   {
    "duration": 3,
    "start_time": "2021-09-01T14:06:21.819Z"
   },
   {
    "duration": 254,
    "start_time": "2021-09-01T14:06:21.824Z"
   },
   {
    "duration": 11,
    "start_time": "2021-09-01T14:06:22.080Z"
   },
   {
    "duration": 7,
    "start_time": "2021-09-01T14:06:22.092Z"
   },
   {
    "duration": 385,
    "start_time": "2021-09-01T14:06:22.101Z"
   },
   {
    "duration": 21,
    "start_time": "2021-09-01T14:06:22.488Z"
   },
   {
    "duration": 7,
    "start_time": "2021-09-01T14:06:22.510Z"
   },
   {
    "duration": 12,
    "start_time": "2021-09-01T14:06:22.520Z"
   },
   {
    "duration": 16,
    "start_time": "2021-09-01T14:06:22.535Z"
   },
   {
    "duration": 37,
    "start_time": "2021-09-01T14:06:22.553Z"
   },
   {
    "duration": 24,
    "start_time": "2021-09-01T14:06:22.592Z"
   },
   {
    "duration": 9,
    "start_time": "2021-09-01T14:06:22.618Z"
   },
   {
    "duration": 10,
    "start_time": "2021-09-01T14:06:22.629Z"
   },
   {
    "duration": 45,
    "start_time": "2021-09-01T14:06:22.641Z"
   },
   {
    "duration": 9,
    "start_time": "2021-09-01T14:06:25.232Z"
   },
   {
    "duration": 538,
    "start_time": "2021-09-01T14:07:41.843Z"
   },
   {
    "duration": 2,
    "start_time": "2021-09-01T14:07:42.383Z"
   },
   {
    "duration": 254,
    "start_time": "2021-09-01T14:07:42.387Z"
   },
   {
    "duration": 11,
    "start_time": "2021-09-01T14:07:42.643Z"
   },
   {
    "duration": 7,
    "start_time": "2021-09-01T14:07:42.655Z"
   },
   {
    "duration": 387,
    "start_time": "2021-09-01T14:07:42.664Z"
   },
   {
    "duration": 19,
    "start_time": "2021-09-01T14:07:43.053Z"
   },
   {
    "duration": 5,
    "start_time": "2021-09-01T14:07:43.074Z"
   },
   {
    "duration": 12,
    "start_time": "2021-09-01T14:07:43.081Z"
   },
   {
    "duration": 15,
    "start_time": "2021-09-01T14:07:43.095Z"
   },
   {
    "duration": 5,
    "start_time": "2021-09-01T14:07:43.112Z"
   },
   {
    "duration": 25,
    "start_time": "2021-09-01T14:07:43.119Z"
   },
   {
    "duration": 8,
    "start_time": "2021-09-01T14:07:43.146Z"
   },
   {
    "duration": 36,
    "start_time": "2021-09-01T14:07:43.155Z"
   },
   {
    "duration": 3,
    "start_time": "2021-09-01T14:07:43.193Z"
   },
   {
    "duration": 9,
    "start_time": "2021-09-01T14:07:44.915Z"
   },
   {
    "duration": 8,
    "start_time": "2021-09-01T14:08:48.840Z"
   },
   {
    "duration": 2,
    "start_time": "2021-09-01T14:30:16.955Z"
   },
   {
    "duration": 4,
    "start_time": "2021-09-01T14:30:16.960Z"
   },
   {
    "duration": 252,
    "start_time": "2021-09-01T14:30:16.966Z"
   },
   {
    "duration": 10,
    "start_time": "2021-09-01T14:30:17.219Z"
   },
   {
    "duration": 7,
    "start_time": "2021-09-01T14:30:17.231Z"
   },
   {
    "duration": 6,
    "start_time": "2021-09-01T14:30:17.239Z"
   },
   {
    "duration": 9,
    "start_time": "2021-09-01T14:30:17.247Z"
   },
   {
    "duration": 28,
    "start_time": "2021-09-01T14:30:17.259Z"
   },
   {
    "duration": 10,
    "start_time": "2021-09-01T14:30:17.289Z"
   },
   {
    "duration": 14,
    "start_time": "2021-09-01T14:30:17.300Z"
   },
   {
    "duration": 6,
    "start_time": "2021-09-01T14:30:17.315Z"
   },
   {
    "duration": 20,
    "start_time": "2021-09-01T14:30:17.322Z"
   },
   {
    "duration": 42,
    "start_time": "2021-09-01T14:30:17.344Z"
   },
   {
    "duration": 9,
    "start_time": "2021-09-01T14:30:17.387Z"
   },
   {
    "duration": 4,
    "start_time": "2021-09-01T14:30:17.398Z"
   },
   {
    "duration": 9,
    "start_time": "2021-09-01T14:30:17.403Z"
   },
   {
    "duration": 5,
    "start_time": "2021-09-01T14:30:17.414Z"
   },
   {
    "duration": 6,
    "start_time": "2021-09-01T14:30:17.421Z"
   },
   {
    "duration": 5,
    "start_time": "2021-09-01T14:30:17.428Z"
   },
   {
    "duration": 49,
    "start_time": "2021-09-01T14:30:17.436Z"
   },
   {
    "duration": 9,
    "start_time": "2021-09-01T14:30:17.487Z"
   },
   {
    "duration": 4,
    "start_time": "2021-09-01T14:30:17.497Z"
   },
   {
    "duration": 8,
    "start_time": "2021-09-01T14:30:17.502Z"
   },
   {
    "duration": 9,
    "start_time": "2021-09-01T14:30:17.511Z"
   },
   {
    "duration": 9,
    "start_time": "2021-09-01T14:30:17.521Z"
   },
   {
    "duration": 9,
    "start_time": "2021-09-01T14:30:17.532Z"
   },
   {
    "duration": 5,
    "start_time": "2021-09-01T14:30:17.542Z"
   },
   {
    "duration": 22,
    "start_time": "2021-09-01T14:30:17.584Z"
   },
   {
    "duration": 9,
    "start_time": "2021-09-01T14:31:15.409Z"
   },
   {
    "duration": 9,
    "start_time": "2021-09-01T14:31:31.817Z"
   },
   {
    "duration": 624,
    "start_time": "2021-09-01T14:33:20.175Z"
   },
   {
    "duration": 3,
    "start_time": "2021-09-01T14:33:20.801Z"
   },
   {
    "duration": 283,
    "start_time": "2021-09-01T14:33:20.806Z"
   },
   {
    "duration": 11,
    "start_time": "2021-09-01T14:33:21.091Z"
   },
   {
    "duration": 8,
    "start_time": "2021-09-01T14:33:21.103Z"
   },
   {
    "duration": 397,
    "start_time": "2021-09-01T14:33:21.113Z"
   },
   {
    "duration": 22,
    "start_time": "2021-09-01T14:33:21.512Z"
   },
   {
    "duration": 6,
    "start_time": "2021-09-01T14:33:21.537Z"
   },
   {
    "duration": 39,
    "start_time": "2021-09-01T14:33:21.545Z"
   },
   {
    "duration": 16,
    "start_time": "2021-09-01T14:33:21.586Z"
   },
   {
    "duration": 6,
    "start_time": "2021-09-01T14:33:21.604Z"
   },
   {
    "duration": 30,
    "start_time": "2021-09-01T14:33:21.612Z"
   },
   {
    "duration": 42,
    "start_time": "2021-09-01T14:33:21.644Z"
   },
   {
    "duration": 11,
    "start_time": "2021-09-01T14:33:21.688Z"
   },
   {
    "duration": 5,
    "start_time": "2021-09-01T14:33:21.701Z"
   },
   {
    "duration": 13,
    "start_time": "2021-09-01T14:33:21.707Z"
   },
   {
    "duration": 8,
    "start_time": "2021-09-01T14:33:21.722Z"
   },
   {
    "duration": 10,
    "start_time": "2021-09-01T14:33:21.731Z"
   },
   {
    "duration": 5,
    "start_time": "2021-09-01T14:33:21.743Z"
   },
   {
    "duration": 13,
    "start_time": "2021-09-01T14:33:21.785Z"
   },
   {
    "duration": 9,
    "start_time": "2021-09-01T14:33:21.800Z"
   },
   {
    "duration": 4,
    "start_time": "2021-09-01T14:33:21.811Z"
   },
   {
    "duration": 5,
    "start_time": "2021-09-01T14:33:21.819Z"
   },
   {
    "duration": 10,
    "start_time": "2021-09-01T14:33:21.827Z"
   },
   {
    "duration": 47,
    "start_time": "2021-09-01T14:33:21.839Z"
   },
   {
    "duration": 11,
    "start_time": "2021-09-01T14:33:21.888Z"
   },
   {
    "duration": 9,
    "start_time": "2021-09-01T14:33:21.901Z"
   },
   {
    "duration": 13,
    "start_time": "2021-09-01T14:33:21.912Z"
   },
   {
    "duration": 10,
    "start_time": "2021-09-01T14:33:21.927Z"
   },
   {
    "duration": 12,
    "start_time": "2021-09-01T14:33:21.938Z"
   },
   {
    "duration": 7,
    "start_time": "2021-09-01T14:33:21.985Z"
   },
   {
    "duration": 9,
    "start_time": "2021-09-01T14:33:21.994Z"
   },
   {
    "duration": 18,
    "start_time": "2021-09-01T14:33:22.005Z"
   },
   {
    "duration": 6,
    "start_time": "2021-09-01T14:33:22.025Z"
   },
   {
    "duration": 7,
    "start_time": "2021-09-01T14:33:22.033Z"
   },
   {
    "duration": 45,
    "start_time": "2021-09-01T14:33:22.041Z"
   },
   {
    "duration": 6,
    "start_time": "2021-09-01T14:33:22.088Z"
   },
   {
    "duration": 6,
    "start_time": "2021-09-01T14:33:22.096Z"
   },
   {
    "duration": 10,
    "start_time": "2021-09-01T14:33:22.104Z"
   },
   {
    "duration": 18,
    "start_time": "2021-09-01T14:33:22.116Z"
   },
   {
    "duration": 7,
    "start_time": "2021-09-01T14:33:22.136Z"
   },
   {
    "duration": 6,
    "start_time": "2021-09-01T14:33:22.145Z"
   },
   {
    "duration": 47,
    "start_time": "2021-09-01T14:33:22.153Z"
   },
   {
    "duration": 11,
    "start_time": "2021-09-01T14:33:22.202Z"
   },
   {
    "duration": 7,
    "start_time": "2021-09-01T14:33:22.215Z"
   },
   {
    "duration": 11,
    "start_time": "2021-09-01T14:33:22.224Z"
   },
   {
    "duration": 8,
    "start_time": "2021-09-01T14:35:07.590Z"
   },
   {
    "duration": 8,
    "start_time": "2021-09-01T14:35:18.800Z"
   },
   {
    "duration": 3,
    "start_time": "2021-09-01T14:41:41.540Z"
   },
   {
    "duration": 4,
    "start_time": "2021-09-01T14:41:46.099Z"
   },
   {
    "duration": 616,
    "start_time": "2021-09-01T14:52:17.464Z"
   },
   {
    "duration": 3,
    "start_time": "2021-09-01T14:52:18.082Z"
   },
   {
    "duration": 278,
    "start_time": "2021-09-01T14:52:18.087Z"
   },
   {
    "duration": 10,
    "start_time": "2021-09-01T14:52:18.367Z"
   },
   {
    "duration": 7,
    "start_time": "2021-09-01T14:52:18.379Z"
   },
   {
    "duration": 368,
    "start_time": "2021-09-01T14:52:18.388Z"
   },
   {
    "duration": 19,
    "start_time": "2021-09-01T14:52:18.757Z"
   },
   {
    "duration": 4,
    "start_time": "2021-09-01T14:52:18.779Z"
   },
   {
    "duration": 13,
    "start_time": "2021-09-01T14:52:18.785Z"
   },
   {
    "duration": 14,
    "start_time": "2021-09-01T14:52:18.800Z"
   },
   {
    "duration": 7,
    "start_time": "2021-09-01T14:52:18.815Z"
   },
   {
    "duration": 23,
    "start_time": "2021-09-01T14:52:18.823Z"
   },
   {
    "duration": 38,
    "start_time": "2021-09-01T14:52:18.847Z"
   },
   {
    "duration": 8,
    "start_time": "2021-09-01T14:52:18.887Z"
   },
   {
    "duration": 4,
    "start_time": "2021-09-01T14:52:18.896Z"
   },
   {
    "duration": 11,
    "start_time": "2021-09-01T14:52:18.901Z"
   },
   {
    "duration": 5,
    "start_time": "2021-09-01T14:52:18.914Z"
   },
   {
    "duration": 5,
    "start_time": "2021-09-01T14:52:18.921Z"
   },
   {
    "duration": 6,
    "start_time": "2021-09-01T14:52:18.927Z"
   },
   {
    "duration": 11,
    "start_time": "2021-09-01T14:52:18.934Z"
   },
   {
    "duration": 8,
    "start_time": "2021-09-01T14:52:18.985Z"
   },
   {
    "duration": 3,
    "start_time": "2021-09-01T14:52:18.995Z"
   },
   {
    "duration": 5,
    "start_time": "2021-09-01T14:52:19.002Z"
   },
   {
    "duration": 8,
    "start_time": "2021-09-01T14:52:19.009Z"
   },
   {
    "duration": 10,
    "start_time": "2021-09-01T14:52:19.019Z"
   },
   {
    "duration": 10,
    "start_time": "2021-09-01T14:52:19.031Z"
   },
   {
    "duration": 43,
    "start_time": "2021-09-01T14:52:19.043Z"
   },
   {
    "duration": 9,
    "start_time": "2021-09-01T14:52:19.088Z"
   },
   {
    "duration": 9,
    "start_time": "2021-09-01T14:52:19.099Z"
   },
   {
    "duration": 9,
    "start_time": "2021-09-01T14:52:19.110Z"
   },
   {
    "duration": 6,
    "start_time": "2021-09-01T14:52:19.121Z"
   },
   {
    "duration": 5,
    "start_time": "2021-09-01T14:52:19.129Z"
   },
   {
    "duration": 59,
    "start_time": "2021-09-01T14:52:19.135Z"
   },
   {
    "duration": 6,
    "start_time": "2021-09-01T14:52:19.196Z"
   },
   {
    "duration": 6,
    "start_time": "2021-09-01T14:52:19.204Z"
   },
   {
    "duration": 8,
    "start_time": "2021-09-01T14:52:19.212Z"
   },
   {
    "duration": 7,
    "start_time": "2021-09-01T14:52:19.222Z"
   },
   {
    "duration": 9,
    "start_time": "2021-09-01T14:52:19.231Z"
   },
   {
    "duration": 21,
    "start_time": "2021-09-01T14:52:19.242Z"
   },
   {
    "duration": 41,
    "start_time": "2021-09-01T14:52:19.265Z"
   },
   {
    "duration": 15,
    "start_time": "2021-09-01T14:52:19.308Z"
   },
   {
    "duration": 17,
    "start_time": "2021-09-01T14:52:19.325Z"
   },
   {
    "duration": 18,
    "start_time": "2021-09-01T14:52:19.343Z"
   },
   {
    "duration": 17,
    "start_time": "2021-09-01T14:52:19.363Z"
   },
   {
    "duration": 13,
    "start_time": "2021-09-01T14:52:19.382Z"
   },
   {
    "duration": 21,
    "start_time": "2021-09-01T14:52:19.396Z"
   },
   {
    "duration": 20,
    "start_time": "2021-09-01T14:52:19.418Z"
   },
   {
    "duration": 20,
    "start_time": "2021-09-01T14:52:19.440Z"
   },
   {
    "duration": 12,
    "start_time": "2021-09-01T14:52:19.461Z"
   },
   {
    "duration": 14,
    "start_time": "2021-09-01T14:52:19.475Z"
   },
   {
    "duration": 12,
    "start_time": "2021-09-01T14:52:19.491Z"
   },
   {
    "duration": 12,
    "start_time": "2021-09-01T14:52:19.504Z"
   },
   {
    "duration": 12,
    "start_time": "2021-09-01T14:52:19.518Z"
   },
   {
    "duration": 10,
    "start_time": "2021-09-01T14:52:19.532Z"
   },
   {
    "duration": 5,
    "start_time": "2021-09-01T14:52:19.544Z"
   },
   {
    "duration": 6,
    "start_time": "2021-09-01T14:52:19.550Z"
   },
   {
    "duration": 6,
    "start_time": "2021-09-01T14:52:19.557Z"
   },
   {
    "duration": 21,
    "start_time": "2021-09-01T14:52:19.585Z"
   },
   {
    "duration": 24,
    "start_time": "2021-09-01T14:52:19.608Z"
   },
   {
    "duration": 5,
    "start_time": "2021-09-01T14:52:19.633Z"
   },
   {
    "duration": 20,
    "start_time": "2021-09-01T14:52:19.639Z"
   },
   {
    "duration": 17,
    "start_time": "2021-09-01T14:52:19.685Z"
   },
   {
    "duration": 6,
    "start_time": "2021-09-01T14:52:19.704Z"
   },
   {
    "duration": 18,
    "start_time": "2021-09-01T14:52:19.712Z"
   },
   {
    "duration": 3,
    "start_time": "2021-09-01T14:52:19.731Z"
   },
   {
    "duration": 15,
    "start_time": "2021-09-01T14:52:19.736Z"
   },
   {
    "duration": 35,
    "start_time": "2021-09-01T14:52:19.753Z"
   },
   {
    "duration": 10,
    "start_time": "2021-09-01T14:52:19.793Z"
   },
   {
    "duration": 4215,
    "start_time": "2021-09-01T14:52:19.804Z"
   },
   {
    "duration": 4,
    "start_time": "2021-09-01T14:52:24.020Z"
   },
   {
    "duration": 14,
    "start_time": "2021-09-01T14:52:24.026Z"
   },
   {
    "duration": 17,
    "start_time": "2021-09-01T14:52:24.042Z"
   },
   {
    "duration": 20,
    "start_time": "2021-09-01T14:52:24.061Z"
   },
   {
    "duration": 22,
    "start_time": "2021-09-01T14:52:24.083Z"
   },
   {
    "duration": 507,
    "start_time": "2021-09-01T14:55:59.433Z"
   },
   {
    "duration": 10,
    "start_time": "2021-09-01T14:56:05.308Z"
   },
   {
    "duration": 6,
    "start_time": "2021-09-01T14:56:40.053Z"
   },
   {
    "duration": 299,
    "start_time": "2021-09-01T14:59:24.565Z"
   },
   {
    "duration": 298,
    "start_time": "2021-09-01T15:00:44.046Z"
   },
   {
    "duration": 658,
    "start_time": "2021-09-01T15:00:58.519Z"
   },
   {
    "duration": 679,
    "start_time": "2021-09-01T15:01:21.539Z"
   },
   {
    "duration": 292,
    "start_time": "2021-09-01T15:03:39.953Z"
   },
   {
    "duration": 294,
    "start_time": "2021-09-01T15:13:39.443Z"
   },
   {
    "duration": 566,
    "start_time": "2021-09-01T15:14:10.003Z"
   },
   {
    "duration": 6,
    "start_time": "2021-09-01T15:14:20.065Z"
   },
   {
    "duration": 307,
    "start_time": "2021-09-01T15:14:57.637Z"
   },
   {
    "duration": 293,
    "start_time": "2021-09-01T15:18:12.962Z"
   },
   {
    "duration": 366,
    "start_time": "2021-09-01T15:18:23.047Z"
   },
   {
    "duration": 293,
    "start_time": "2021-09-01T15:18:53.930Z"
   },
   {
    "duration": 103,
    "start_time": "2021-09-01T15:19:37.225Z"
   },
   {
    "duration": 10,
    "start_time": "2021-09-01T15:19:50.138Z"
   },
   {
    "duration": 19,
    "start_time": "2021-09-01T15:20:05.234Z"
   },
   {
    "duration": 5,
    "start_time": "2021-09-01T15:20:20.468Z"
   },
   {
    "duration": 101,
    "start_time": "2021-09-01T15:21:35.284Z"
   },
   {
    "duration": 5,
    "start_time": "2021-09-01T15:21:41.650Z"
   },
   {
    "duration": 487,
    "start_time": "2021-09-01T15:26:07.977Z"
   },
   {
    "duration": 603,
    "start_time": "2021-09-01T15:26:29.869Z"
   },
   {
    "duration": 507,
    "start_time": "2021-09-01T15:27:41.698Z"
   },
   {
    "duration": 539,
    "start_time": "2021-09-01T15:27:58.119Z"
   },
   {
    "duration": 58,
    "start_time": "2021-09-01T15:30:38.533Z"
   },
   {
    "duration": 916,
    "start_time": "2021-09-02T09:27:37.333Z"
   },
   {
    "duration": 3,
    "start_time": "2021-09-02T09:27:38.252Z"
   },
   {
    "duration": 601,
    "start_time": "2021-09-02T09:27:38.257Z"
   },
   {
    "duration": 14,
    "start_time": "2021-09-02T09:27:38.861Z"
   },
   {
    "duration": 13,
    "start_time": "2021-09-02T09:27:38.878Z"
   },
   {
    "duration": 1318,
    "start_time": "2021-09-02T09:27:38.893Z"
   },
   {
    "duration": 23,
    "start_time": "2021-09-02T09:27:40.213Z"
   },
   {
    "duration": 21,
    "start_time": "2021-09-02T09:27:40.240Z"
   },
   {
    "duration": 17,
    "start_time": "2021-09-02T09:27:40.265Z"
   },
   {
    "duration": 25,
    "start_time": "2021-09-02T09:27:40.285Z"
   },
   {
    "duration": 9,
    "start_time": "2021-09-02T09:27:40.356Z"
   },
   {
    "duration": 41,
    "start_time": "2021-09-02T09:27:40.368Z"
   },
   {
    "duration": 45,
    "start_time": "2021-09-02T09:27:40.412Z"
   },
   {
    "duration": 14,
    "start_time": "2021-09-02T09:27:40.460Z"
   },
   {
    "duration": 4,
    "start_time": "2021-09-02T09:27:40.477Z"
   },
   {
    "duration": 21,
    "start_time": "2021-09-02T09:27:40.483Z"
   },
   {
    "duration": 9,
    "start_time": "2021-09-02T09:27:40.506Z"
   },
   {
    "duration": 42,
    "start_time": "2021-09-02T09:27:40.518Z"
   },
   {
    "duration": 8,
    "start_time": "2021-09-02T09:27:40.562Z"
   },
   {
    "duration": 15,
    "start_time": "2021-09-02T09:27:40.572Z"
   },
   {
    "duration": 12,
    "start_time": "2021-09-02T09:27:40.590Z"
   },
   {
    "duration": 5,
    "start_time": "2021-09-02T09:27:40.604Z"
   },
   {
    "duration": 8,
    "start_time": "2021-09-02T09:27:40.660Z"
   },
   {
    "duration": 15,
    "start_time": "2021-09-02T09:27:40.671Z"
   },
   {
    "duration": 14,
    "start_time": "2021-09-02T09:27:40.689Z"
   },
   {
    "duration": 58,
    "start_time": "2021-09-02T09:27:40.706Z"
   },
   {
    "duration": 10,
    "start_time": "2021-09-02T09:27:40.767Z"
   },
   {
    "duration": 28,
    "start_time": "2021-09-02T09:27:40.779Z"
   },
   {
    "duration": 14,
    "start_time": "2021-09-02T09:27:40.810Z"
   },
   {
    "duration": 36,
    "start_time": "2021-09-02T09:27:40.827Z"
   },
   {
    "duration": 19,
    "start_time": "2021-09-02T09:27:40.866Z"
   },
   {
    "duration": 23,
    "start_time": "2021-09-02T09:27:40.888Z"
   },
   {
    "duration": 30,
    "start_time": "2021-09-02T09:27:40.914Z"
   },
   {
    "duration": 16,
    "start_time": "2021-09-02T09:27:40.946Z"
   },
   {
    "duration": 21,
    "start_time": "2021-09-02T09:27:40.965Z"
   },
   {
    "duration": 27,
    "start_time": "2021-09-02T09:27:40.989Z"
   },
   {
    "duration": 18,
    "start_time": "2021-09-02T09:27:41.018Z"
   },
   {
    "duration": 20,
    "start_time": "2021-09-02T09:27:41.038Z"
   },
   {
    "duration": 17,
    "start_time": "2021-09-02T09:27:41.060Z"
   },
   {
    "duration": 32,
    "start_time": "2021-09-02T09:27:41.080Z"
   },
   {
    "duration": 9,
    "start_time": "2021-09-02T09:27:41.115Z"
   },
   {
    "duration": 32,
    "start_time": "2021-09-02T09:27:41.126Z"
   },
   {
    "duration": 23,
    "start_time": "2021-09-02T09:27:41.161Z"
   },
   {
    "duration": 25,
    "start_time": "2021-09-02T09:27:41.187Z"
   },
   {
    "duration": 14,
    "start_time": "2021-09-02T09:27:41.215Z"
   },
   {
    "duration": 19,
    "start_time": "2021-09-02T09:27:41.232Z"
   },
   {
    "duration": 28,
    "start_time": "2021-09-02T09:27:41.253Z"
   },
   {
    "duration": 36,
    "start_time": "2021-09-02T09:27:41.284Z"
   },
   {
    "duration": 21,
    "start_time": "2021-09-02T09:27:41.322Z"
   },
   {
    "duration": 12,
    "start_time": "2021-09-02T09:27:41.345Z"
   },
   {
    "duration": 14,
    "start_time": "2021-09-02T09:27:41.359Z"
   },
   {
    "duration": 23,
    "start_time": "2021-09-02T09:27:41.375Z"
   },
   {
    "duration": 19,
    "start_time": "2021-09-02T09:27:41.401Z"
   },
   {
    "duration": 34,
    "start_time": "2021-09-02T09:27:41.422Z"
   },
   {
    "duration": 6,
    "start_time": "2021-09-02T09:27:41.458Z"
   },
   {
    "duration": 6,
    "start_time": "2021-09-02T09:27:41.467Z"
   },
   {
    "duration": 9,
    "start_time": "2021-09-02T09:27:41.476Z"
   },
   {
    "duration": 31,
    "start_time": "2021-09-02T09:27:41.487Z"
   },
   {
    "duration": 68,
    "start_time": "2021-09-02T09:27:41.520Z"
   },
   {
    "duration": 7,
    "start_time": "2021-09-02T09:27:41.591Z"
   },
   {
    "duration": 56,
    "start_time": "2021-09-02T09:27:41.600Z"
   },
   {
    "duration": 24,
    "start_time": "2021-09-02T09:27:41.658Z"
   },
   {
    "duration": 8,
    "start_time": "2021-09-02T09:27:41.684Z"
   },
   {
    "duration": 30,
    "start_time": "2021-09-02T09:27:41.695Z"
   },
   {
    "duration": 3,
    "start_time": "2021-09-02T09:27:41.755Z"
   },
   {
    "duration": 23,
    "start_time": "2021-09-02T09:27:41.761Z"
   },
   {
    "duration": 4,
    "start_time": "2021-09-02T09:27:41.787Z"
   },
   {
    "duration": 15,
    "start_time": "2021-09-02T09:27:41.799Z"
   },
   {
    "duration": 6494,
    "start_time": "2021-09-02T09:27:41.817Z"
   },
   {
    "duration": 6,
    "start_time": "2021-09-02T09:27:48.313Z"
   },
   {
    "duration": 24,
    "start_time": "2021-09-02T09:27:48.321Z"
   },
   {
    "duration": 5,
    "start_time": "2021-09-02T09:27:48.348Z"
   },
   {
    "duration": 14,
    "start_time": "2021-09-02T09:27:48.355Z"
   },
   {
    "duration": 15,
    "start_time": "2021-09-02T09:27:48.372Z"
   },
   {
    "duration": 1111,
    "start_time": "2021-09-02T09:27:48.389Z"
   },
   {
    "duration": 1088,
    "start_time": "2021-09-02T09:27:49.503Z"
   },
   {
    "duration": 31,
    "start_time": "2021-09-02T09:28:01.774Z"
   },
   {
    "duration": 126,
    "start_time": "2021-09-02T09:29:24.289Z"
   },
   {
    "duration": 7,
    "start_time": "2021-09-02T09:41:53.031Z"
   },
   {
    "duration": 933,
    "start_time": "2021-09-02T09:43:27.224Z"
   },
   {
    "duration": 939,
    "start_time": "2021-09-02T09:43:34.746Z"
   },
   {
    "duration": 1232,
    "start_time": "2021-09-02T09:44:11.202Z"
   },
   {
    "duration": 6,
    "start_time": "2021-09-02T09:44:35.326Z"
   },
   {
    "duration": 11,
    "start_time": "2021-09-02T09:45:03.935Z"
   },
   {
    "duration": 6,
    "start_time": "2021-09-02T09:45:20.164Z"
   },
   {
    "duration": 6,
    "start_time": "2021-09-02T09:45:36.350Z"
   },
   {
    "duration": 1034,
    "start_time": "2021-09-02T09:46:38.363Z"
   },
   {
    "duration": 6,
    "start_time": "2021-09-02T09:46:59.069Z"
   },
   {
    "duration": 6,
    "start_time": "2021-09-02T09:47:26.385Z"
   },
   {
    "duration": 2220,
    "start_time": "2021-09-02T09:48:59.655Z"
   },
   {
    "duration": 2239,
    "start_time": "2021-09-02T09:49:35.278Z"
   },
   {
    "duration": 7,
    "start_time": "2021-09-02T09:49:52.920Z"
   },
   {
    "duration": 7,
    "start_time": "2021-09-02T09:49:59.661Z"
   },
   {
    "duration": 780,
    "start_time": "2021-09-02T09:51:08.113Z"
   },
   {
    "duration": 5,
    "start_time": "2021-09-02T09:52:01.518Z"
   },
   {
    "duration": 61,
    "start_time": "2021-09-02T09:52:54.041Z"
   },
   {
    "duration": 1424,
    "start_time": "2021-09-02T09:52:54.747Z"
   },
   {
    "duration": 67,
    "start_time": "2021-09-02T09:53:00.107Z"
   },
   {
    "duration": 6,
    "start_time": "2021-09-02T09:53:33.847Z"
   },
   {
    "duration": 6,
    "start_time": "2021-09-02T09:53:38.737Z"
   },
   {
    "duration": 47,
    "start_time": "2021-09-02T09:55:20.535Z"
   },
   {
    "duration": 44,
    "start_time": "2021-09-02T09:56:05.465Z"
   },
   {
    "duration": 1374,
    "start_time": "2021-09-02T09:59:54.586Z"
   },
   {
    "duration": 5,
    "start_time": "2021-09-02T10:00:03.700Z"
   },
   {
    "duration": 5,
    "start_time": "2021-09-02T10:00:23.551Z"
   },
   {
    "duration": 42,
    "start_time": "2021-09-02T10:00:47.577Z"
   },
   {
    "duration": 3,
    "start_time": "2021-09-02T10:00:48.351Z"
   },
   {
    "duration": 8,
    "start_time": "2021-09-02T10:00:56.076Z"
   },
   {
    "duration": 50,
    "start_time": "2021-09-02T10:02:00.611Z"
   },
   {
    "duration": 7,
    "start_time": "2021-09-02T10:02:42.190Z"
   },
   {
    "duration": 5,
    "start_time": "2021-09-02T10:06:10.403Z"
   },
   {
    "duration": 5,
    "start_time": "2021-09-02T10:06:32.842Z"
   },
   {
    "duration": 4,
    "start_time": "2021-09-02T10:07:38.412Z"
   },
   {
    "duration": 5,
    "start_time": "2021-09-02T10:13:36.922Z"
   },
   {
    "duration": 5,
    "start_time": "2021-09-02T10:14:13.790Z"
   },
   {
    "duration": 43,
    "start_time": "2021-09-02T10:14:46.863Z"
   },
   {
    "duration": 6,
    "start_time": "2021-09-02T10:14:48.385Z"
   },
   {
    "duration": 7,
    "start_time": "2021-09-02T10:14:49.770Z"
   },
   {
    "duration": 43,
    "start_time": "2021-09-02T10:15:28.738Z"
   },
   {
    "duration": 6,
    "start_time": "2021-09-02T10:15:29.494Z"
   },
   {
    "duration": 7,
    "start_time": "2021-09-02T10:15:29.997Z"
   },
   {
    "duration": 8,
    "start_time": "2021-09-02T10:15:39.414Z"
   },
   {
    "duration": 6,
    "start_time": "2021-09-02T10:24:23.353Z"
   },
   {
    "duration": 6,
    "start_time": "2021-09-02T10:24:36.534Z"
   },
   {
    "duration": 7,
    "start_time": "2021-09-02T10:24:51.319Z"
   },
   {
    "duration": 1042,
    "start_time": "2021-09-02T10:26:08.667Z"
   },
   {
    "duration": 844,
    "start_time": "2021-09-02T10:28:14.801Z"
   },
   {
    "duration": 6,
    "start_time": "2021-09-02T10:28:18.941Z"
   },
   {
    "duration": 867,
    "start_time": "2021-09-02T10:28:19.650Z"
   },
   {
    "duration": 8,
    "start_time": "2021-09-02T10:29:54.902Z"
   },
   {
    "duration": 21052,
    "start_time": "2021-09-02T10:31:21.746Z"
   },
   {
    "duration": 24278,
    "start_time": "2021-09-02T10:32:41.727Z"
   },
   {
    "duration": -1030,
    "start_time": "2021-09-02T10:33:07.038Z"
   },
   {
    "duration": 17,
    "start_time": "2021-09-02T10:33:26.828Z"
   },
   {
    "duration": 3067,
    "start_time": "2021-09-02T10:39:58.886Z"
   },
   {
    "duration": 6,
    "start_time": "2021-09-02T10:40:26.819Z"
   },
   {
    "duration": 42,
    "start_time": "2021-09-02T10:40:34.266Z"
   },
   {
    "duration": 18,
    "start_time": "2021-09-02T10:40:41.329Z"
   },
   {
    "duration": 2989,
    "start_time": "2021-09-02T10:42:04.157Z"
   },
   {
    "duration": 894,
    "start_time": "2021-09-02T10:42:52.940Z"
   },
   {
    "duration": 765,
    "start_time": "2021-09-02T10:42:59.031Z"
   },
   {
    "duration": 2733,
    "start_time": "2021-09-02T10:44:10.179Z"
   },
   {
    "duration": 2161,
    "start_time": "2021-09-02T10:46:44.517Z"
   },
   {
    "duration": 6,
    "start_time": "2021-09-02T10:47:11.925Z"
   },
   {
    "duration": 2483,
    "start_time": "2021-09-02T10:47:13.142Z"
   },
   {
    "duration": 2305,
    "start_time": "2021-09-02T10:52:30.397Z"
   },
   {
    "duration": -1045,
    "start_time": "2021-09-02T10:52:33.750Z"
   },
   {
    "duration": 5,
    "start_time": "2021-09-02T10:52:34.662Z"
   },
   {
    "duration": 2413,
    "start_time": "2021-09-02T10:52:35.913Z"
   },
   {
    "duration": 7,
    "start_time": "2021-09-02T10:53:36.077Z"
   },
   {
    "duration": 1019,
    "start_time": "2021-09-02T10:53:44.019Z"
   },
   {
    "duration": 27373,
    "start_time": "2021-09-02T10:53:53.059Z"
   },
   {
    "duration": 39,
    "start_time": "2021-09-02T10:54:59.095Z"
   },
   {
    "duration": 10,
    "start_time": "2021-09-02T10:56:02.093Z"
   },
   {
    "duration": 6,
    "start_time": "2021-09-02T10:56:21.518Z"
   },
   {
    "duration": 663,
    "start_time": "2021-09-02T10:56:28.171Z"
   },
   {
    "duration": 6,
    "start_time": "2021-09-02T10:56:36.876Z"
   },
   {
    "duration": 12,
    "start_time": "2021-09-02T10:56:41.511Z"
   },
   {
    "duration": 10,
    "start_time": "2021-09-02T10:57:55.550Z"
   },
   {
    "duration": 27592,
    "start_time": "2021-09-02T10:57:57.665Z"
   },
   {
    "duration": 5,
    "start_time": "2021-09-02T11:00:30.544Z"
   },
   {
    "duration": 13698,
    "start_time": "2021-09-02T11:00:34.758Z"
   },
   {
    "duration": 18,
    "start_time": "2021-09-02T11:01:28.721Z"
   },
   {
    "duration": 344026,
    "start_time": "2021-09-02T11:01:53.637Z"
   },
   {
    "duration": 5,
    "start_time": "2021-09-02T11:09:42.385Z"
   },
   {
    "duration": 11909,
    "start_time": "2021-09-02T11:09:43.439Z"
   },
   {
    "duration": 5,
    "start_time": "2021-09-02T11:13:38.971Z"
   },
   {
    "duration": 2385,
    "start_time": "2021-09-02T11:13:39.535Z"
   },
   {
    "duration": 4,
    "start_time": "2021-09-02T11:13:51.742Z"
   },
   {
    "duration": 78,
    "start_time": "2021-09-02T11:13:52.259Z"
   },
   {
    "duration": 6,
    "start_time": "2021-09-02T11:19:20.145Z"
   },
   {
    "duration": 2760,
    "start_time": "2021-09-02T11:19:21.106Z"
   },
   {
    "duration": 5,
    "start_time": "2021-09-02T11:19:31.517Z"
   },
   {
    "duration": 46249,
    "start_time": "2021-09-02T11:19:32.193Z"
   },
   {
    "duration": 5,
    "start_time": "2021-09-02T11:20:39.493Z"
   },
   {
    "duration": 54638,
    "start_time": "2021-09-02T11:20:40.274Z"
   },
   {
    "duration": -1005,
    "start_time": "2021-09-02T11:22:32.281Z"
   },
   {
    "duration": -1012,
    "start_time": "2021-09-02T11:22:32.290Z"
   },
   {
    "duration": 5,
    "start_time": "2021-09-02T11:22:33.394Z"
   },
   {
    "duration": 5,
    "start_time": "2021-09-02T11:23:40.731Z"
   },
   {
    "duration": 4,
    "start_time": "2021-09-02T11:23:50.589Z"
   },
   {
    "duration": 835,
    "start_time": "2021-09-02T11:24:23.516Z"
   },
   {
    "duration": 3,
    "start_time": "2021-09-02T11:24:24.354Z"
   },
   {
    "duration": 667,
    "start_time": "2021-09-02T11:24:24.360Z"
   },
   {
    "duration": 15,
    "start_time": "2021-09-02T11:24:25.029Z"
   },
   {
    "duration": 14,
    "start_time": "2021-09-02T11:24:25.056Z"
   },
   {
    "duration": 1324,
    "start_time": "2021-09-02T11:24:25.073Z"
   },
   {
    "duration": 23,
    "start_time": "2021-09-02T11:24:26.401Z"
   },
   {
    "duration": 28,
    "start_time": "2021-09-02T11:24:26.428Z"
   },
   {
    "duration": 14,
    "start_time": "2021-09-02T11:24:26.459Z"
   },
   {
    "duration": 24,
    "start_time": "2021-09-02T11:24:26.475Z"
   },
   {
    "duration": 10,
    "start_time": "2021-09-02T11:24:26.502Z"
   },
   {
    "duration": 73,
    "start_time": "2021-09-02T11:24:26.514Z"
   },
   {
    "duration": 10,
    "start_time": "2021-09-02T11:24:26.590Z"
   },
   {
    "duration": 16,
    "start_time": "2021-09-02T11:24:26.602Z"
   },
   {
    "duration": 35,
    "start_time": "2021-09-02T11:24:26.621Z"
   },
   {
    "duration": 17,
    "start_time": "2021-09-02T11:24:26.659Z"
   },
   {
    "duration": 9,
    "start_time": "2021-09-02T11:24:26.679Z"
   },
   {
    "duration": 7,
    "start_time": "2021-09-02T11:24:26.691Z"
   },
   {
    "duration": 9,
    "start_time": "2021-09-02T11:24:26.701Z"
   },
   {
    "duration": 53,
    "start_time": "2021-09-02T11:24:26.712Z"
   },
   {
    "duration": 13,
    "start_time": "2021-09-02T11:24:26.767Z"
   },
   {
    "duration": 7,
    "start_time": "2021-09-02T11:24:26.782Z"
   },
   {
    "duration": 22,
    "start_time": "2021-09-02T11:24:26.791Z"
   },
   {
    "duration": 16,
    "start_time": "2021-09-02T11:24:26.815Z"
   },
   {
    "duration": 13,
    "start_time": "2021-09-02T11:24:26.861Z"
   },
   {
    "duration": 15,
    "start_time": "2021-09-02T11:24:26.878Z"
   },
   {
    "duration": 7,
    "start_time": "2021-09-02T11:24:26.895Z"
   },
   {
    "duration": 51,
    "start_time": "2021-09-02T11:24:26.905Z"
   },
   {
    "duration": 14,
    "start_time": "2021-09-02T11:24:26.958Z"
   },
   {
    "duration": 17,
    "start_time": "2021-09-02T11:24:26.975Z"
   },
   {
    "duration": 8,
    "start_time": "2021-09-02T11:24:26.994Z"
   },
   {
    "duration": 11,
    "start_time": "2021-09-02T11:24:27.004Z"
   },
   {
    "duration": 56,
    "start_time": "2021-09-02T11:24:27.017Z"
   },
   {
    "duration": 10,
    "start_time": "2021-09-02T11:24:27.076Z"
   },
   {
    "duration": 23,
    "start_time": "2021-09-02T11:24:27.089Z"
   },
   {
    "duration": 15,
    "start_time": "2021-09-02T11:24:27.115Z"
   },
   {
    "duration": 11,
    "start_time": "2021-09-02T11:24:27.157Z"
   },
   {
    "duration": 9,
    "start_time": "2021-09-02T11:24:27.171Z"
   },
   {
    "duration": 16,
    "start_time": "2021-09-02T11:24:27.184Z"
   },
   {
    "duration": 57,
    "start_time": "2021-09-02T11:24:27.203Z"
   },
   {
    "duration": 10,
    "start_time": "2021-09-02T11:24:27.263Z"
   },
   {
    "duration": 22,
    "start_time": "2021-09-02T11:24:27.276Z"
   },
   {
    "duration": 20,
    "start_time": "2021-09-02T11:24:27.301Z"
   },
   {
    "duration": 32,
    "start_time": "2021-09-02T11:24:27.323Z"
   },
   {
    "duration": 8,
    "start_time": "2021-09-02T11:24:27.358Z"
   },
   {
    "duration": 17,
    "start_time": "2021-09-02T11:24:27.368Z"
   },
   {
    "duration": 12,
    "start_time": "2021-09-02T11:24:27.388Z"
   },
   {
    "duration": 16,
    "start_time": "2021-09-02T11:24:27.402Z"
   },
   {
    "duration": 39,
    "start_time": "2021-09-02T11:24:27.421Z"
   },
   {
    "duration": 14,
    "start_time": "2021-09-02T11:24:27.464Z"
   },
   {
    "duration": 12,
    "start_time": "2021-09-02T11:24:27.481Z"
   },
   {
    "duration": 17,
    "start_time": "2021-09-02T11:24:27.496Z"
   },
   {
    "duration": 55,
    "start_time": "2021-09-02T11:24:27.515Z"
   },
   {
    "duration": 11,
    "start_time": "2021-09-02T11:24:27.572Z"
   },
   {
    "duration": 11,
    "start_time": "2021-09-02T11:24:27.585Z"
   },
   {
    "duration": 12,
    "start_time": "2021-09-02T11:24:27.598Z"
   },
   {
    "duration": 9,
    "start_time": "2021-09-02T11:24:27.613Z"
   },
   {
    "duration": 54,
    "start_time": "2021-09-02T11:24:27.625Z"
   },
   {
    "duration": 37,
    "start_time": "2021-09-02T11:24:27.682Z"
   },
   {
    "duration": 6,
    "start_time": "2021-09-02T11:24:27.721Z"
   },
   {
    "duration": 28,
    "start_time": "2021-09-02T11:24:27.756Z"
   },
   {
    "duration": 25,
    "start_time": "2021-09-02T11:24:27.787Z"
   },
   {
    "duration": 41,
    "start_time": "2021-09-02T11:24:27.815Z"
   },
   {
    "duration": 25,
    "start_time": "2021-09-02T11:24:27.859Z"
   },
   {
    "duration": 4,
    "start_time": "2021-09-02T11:24:27.886Z"
   },
   {
    "duration": 25,
    "start_time": "2021-09-02T11:24:27.892Z"
   },
   {
    "duration": 39,
    "start_time": "2021-09-02T11:24:27.919Z"
   },
   {
    "duration": 18,
    "start_time": "2021-09-02T11:24:27.960Z"
   },
   {
    "duration": 6438,
    "start_time": "2021-09-02T11:24:27.980Z"
   },
   {
    "duration": 5,
    "start_time": "2021-09-02T11:24:34.421Z"
   },
   {
    "duration": 25,
    "start_time": "2021-09-02T11:24:34.428Z"
   },
   {
    "duration": 13,
    "start_time": "2021-09-02T11:24:34.456Z"
   },
   {
    "duration": 28,
    "start_time": "2021-09-02T11:24:34.472Z"
   },
   {
    "duration": 24,
    "start_time": "2021-09-02T11:24:34.503Z"
   },
   {
    "duration": 948,
    "start_time": "2021-09-02T11:24:34.530Z"
   },
   {
    "duration": 936,
    "start_time": "2021-09-02T11:24:35.481Z"
   },
   {
    "duration": 29,
    "start_time": "2021-09-02T11:24:36.420Z"
   },
   {
    "duration": 125,
    "start_time": "2021-09-02T11:24:36.452Z"
   },
   {
    "duration": 43,
    "start_time": "2021-09-02T11:24:36.584Z"
   },
   {
    "duration": 33,
    "start_time": "2021-09-02T11:24:36.629Z"
   },
   {
    "duration": 22,
    "start_time": "2021-09-02T11:24:36.664Z"
   },
   {
    "duration": 4,
    "start_time": "2021-09-02T11:24:40.653Z"
   },
   {
    "duration": 1145,
    "start_time": "2021-09-02T11:25:39.123Z"
   },
   {
    "duration": 3,
    "start_time": "2021-09-02T11:25:40.271Z"
   },
   {
    "duration": 630,
    "start_time": "2021-09-02T11:25:40.277Z"
   },
   {
    "duration": 22,
    "start_time": "2021-09-02T11:25:40.910Z"
   },
   {
    "duration": 27,
    "start_time": "2021-09-02T11:25:40.935Z"
   },
   {
    "duration": 950,
    "start_time": "2021-09-02T11:25:40.965Z"
   },
   {
    "duration": 24,
    "start_time": "2021-09-02T11:25:41.917Z"
   },
   {
    "duration": 7,
    "start_time": "2021-09-02T11:25:41.958Z"
   },
   {
    "duration": 21,
    "start_time": "2021-09-02T11:25:41.968Z"
   },
   {
    "duration": 25,
    "start_time": "2021-09-02T11:25:41.991Z"
   },
   {
    "duration": 40,
    "start_time": "2021-09-02T11:25:42.019Z"
   },
   {
    "duration": 42,
    "start_time": "2021-09-02T11:25:42.062Z"
   },
   {
    "duration": 11,
    "start_time": "2021-09-02T11:25:42.106Z"
   },
   {
    "duration": 40,
    "start_time": "2021-09-02T11:25:42.120Z"
   },
   {
    "duration": 6,
    "start_time": "2021-09-02T11:25:42.163Z"
   },
   {
    "duration": 18,
    "start_time": "2021-09-02T11:25:42.172Z"
   },
   {
    "duration": 11,
    "start_time": "2021-09-02T11:25:42.193Z"
   },
   {
    "duration": 52,
    "start_time": "2021-09-02T11:25:42.207Z"
   },
   {
    "duration": 24,
    "start_time": "2021-09-02T11:25:42.261Z"
   },
   {
    "duration": 22,
    "start_time": "2021-09-02T11:25:42.287Z"
   },
   {
    "duration": 13,
    "start_time": "2021-09-02T11:25:42.311Z"
   },
   {
    "duration": 23,
    "start_time": "2021-09-02T11:25:42.327Z"
   },
   {
    "duration": 8,
    "start_time": "2021-09-02T11:25:42.358Z"
   },
   {
    "duration": 19,
    "start_time": "2021-09-02T11:25:42.370Z"
   },
   {
    "duration": 13,
    "start_time": "2021-09-02T11:25:42.392Z"
   },
   {
    "duration": 14,
    "start_time": "2021-09-02T11:25:42.408Z"
   },
   {
    "duration": 9,
    "start_time": "2021-09-02T11:25:42.456Z"
   },
   {
    "duration": 17,
    "start_time": "2021-09-02T11:25:42.467Z"
   },
   {
    "duration": 14,
    "start_time": "2021-09-02T11:25:42.486Z"
   },
   {
    "duration": 20,
    "start_time": "2021-09-02T11:25:42.502Z"
   },
   {
    "duration": 35,
    "start_time": "2021-09-02T11:25:42.525Z"
   },
   {
    "duration": 7,
    "start_time": "2021-09-02T11:25:42.563Z"
   },
   {
    "duration": 19,
    "start_time": "2021-09-02T11:25:42.573Z"
   },
   {
    "duration": 6,
    "start_time": "2021-09-02T11:25:42.595Z"
   },
   {
    "duration": 13,
    "start_time": "2021-09-02T11:25:42.603Z"
   },
   {
    "duration": 10,
    "start_time": "2021-09-02T11:25:42.657Z"
   },
   {
    "duration": 12,
    "start_time": "2021-09-02T11:25:42.669Z"
   },
   {
    "duration": 16,
    "start_time": "2021-09-02T11:25:42.683Z"
   },
   {
    "duration": 13,
    "start_time": "2021-09-02T11:25:42.703Z"
   },
   {
    "duration": 52,
    "start_time": "2021-09-02T11:25:42.718Z"
   },
   {
    "duration": 7,
    "start_time": "2021-09-02T11:25:42.772Z"
   },
   {
    "duration": 10,
    "start_time": "2021-09-02T11:25:42.782Z"
   },
   {
    "duration": 21,
    "start_time": "2021-09-02T11:25:42.795Z"
   },
   {
    "duration": 43,
    "start_time": "2021-09-02T11:25:42.818Z"
   },
   {
    "duration": 13,
    "start_time": "2021-09-02T11:25:42.864Z"
   },
   {
    "duration": 13,
    "start_time": "2021-09-02T11:25:42.879Z"
   },
   {
    "duration": 11,
    "start_time": "2021-09-02T11:25:42.895Z"
   },
   {
    "duration": 22,
    "start_time": "2021-09-02T11:25:42.908Z"
   },
   {
    "duration": 30,
    "start_time": "2021-09-02T11:25:42.932Z"
   },
   {
    "duration": 14,
    "start_time": "2021-09-02T11:25:42.964Z"
   },
   {
    "duration": 10,
    "start_time": "2021-09-02T11:25:42.980Z"
   },
   {
    "duration": 18,
    "start_time": "2021-09-02T11:25:42.992Z"
   },
   {
    "duration": 45,
    "start_time": "2021-09-02T11:25:43.012Z"
   },
   {
    "duration": 5,
    "start_time": "2021-09-02T11:25:43.059Z"
   },
   {
    "duration": 11,
    "start_time": "2021-09-02T11:25:43.067Z"
   },
   {
    "duration": 8,
    "start_time": "2021-09-02T11:25:43.080Z"
   },
   {
    "duration": 10,
    "start_time": "2021-09-02T11:25:43.090Z"
   },
   {
    "duration": 62,
    "start_time": "2021-09-02T11:25:43.103Z"
   },
   {
    "duration": 38,
    "start_time": "2021-09-02T11:25:43.167Z"
   },
   {
    "duration": 7,
    "start_time": "2021-09-02T11:25:43.207Z"
   },
   {
    "duration": 59,
    "start_time": "2021-09-02T11:25:43.216Z"
   },
   {
    "duration": 24,
    "start_time": "2021-09-02T11:25:43.277Z"
   },
   {
    "duration": 8,
    "start_time": "2021-09-02T11:25:43.303Z"
   },
   {
    "duration": 54,
    "start_time": "2021-09-02T11:25:43.314Z"
   },
   {
    "duration": 4,
    "start_time": "2021-09-02T11:25:43.370Z"
   },
   {
    "duration": 31,
    "start_time": "2021-09-02T11:25:43.376Z"
   },
   {
    "duration": 5,
    "start_time": "2021-09-02T11:25:43.409Z"
   },
   {
    "duration": 43,
    "start_time": "2021-09-02T11:25:43.422Z"
   },
   {
    "duration": 6647,
    "start_time": "2021-09-02T11:25:43.468Z"
   },
   {
    "duration": 6,
    "start_time": "2021-09-02T11:25:50.117Z"
   },
   {
    "duration": 28,
    "start_time": "2021-09-02T11:25:50.125Z"
   },
   {
    "duration": 4,
    "start_time": "2021-09-02T11:25:50.156Z"
   },
   {
    "duration": 15,
    "start_time": "2021-09-02T11:25:50.162Z"
   },
   {
    "duration": 14,
    "start_time": "2021-09-02T11:25:50.179Z"
   },
   {
    "duration": 1186,
    "start_time": "2021-09-02T11:25:50.196Z"
   },
   {
    "duration": 1080,
    "start_time": "2021-09-02T11:25:51.385Z"
   },
   {
    "duration": 19,
    "start_time": "2021-09-02T11:25:52.468Z"
   },
   {
    "duration": 146,
    "start_time": "2021-09-02T11:25:52.490Z"
   },
   {
    "duration": 49,
    "start_time": "2021-09-02T11:25:52.638Z"
   },
   {
    "duration": 12,
    "start_time": "2021-09-02T11:25:52.689Z"
   },
   {
    "duration": 18,
    "start_time": "2021-09-02T11:25:52.704Z"
   },
   {
    "duration": 20,
    "start_time": "2021-09-02T11:25:52.724Z"
   },
   {
    "duration": 94,
    "start_time": "2021-09-02T11:25:52.746Z"
   },
   {
    "duration": 4,
    "start_time": "2021-09-02T11:28:54.113Z"
   },
   {
    "duration": 24893,
    "start_time": "2021-09-02T11:28:54.666Z"
   },
   {
    "duration": 4,
    "start_time": "2021-09-02T11:29:28.939Z"
   },
   {
    "duration": 26999,
    "start_time": "2021-09-02T11:29:29.182Z"
   },
   {
    "duration": 4,
    "start_time": "2021-09-02T11:33:15.141Z"
   },
   {
    "duration": 85,
    "start_time": "2021-09-02T11:33:15.881Z"
   },
   {
    "duration": 4,
    "start_time": "2021-09-02T11:39:06.193Z"
   },
   {
    "duration": 79,
    "start_time": "2021-09-02T11:39:06.586Z"
   },
   {
    "duration": 4,
    "start_time": "2021-09-02T11:39:34.037Z"
   },
   {
    "duration": 75,
    "start_time": "2021-09-02T11:39:34.434Z"
   },
   {
    "duration": 1114,
    "start_time": "2021-09-02T11:41:07.459Z"
   },
   {
    "duration": 788,
    "start_time": "2021-09-02T11:41:26.900Z"
   },
   {
    "duration": 41,
    "start_time": "2021-09-02T11:41:37.957Z"
   },
   {
    "duration": 5,
    "start_time": "2021-09-02T11:42:40.891Z"
   },
   {
    "duration": 31978,
    "start_time": "2021-09-02T11:42:42.035Z"
   },
   {
    "duration": 8,
    "start_time": "2021-09-02T11:50:35.747Z"
   },
   {
    "duration": 22940,
    "start_time": "2021-09-02T11:50:37.999Z"
   },
   {
    "duration": 4,
    "start_time": "2021-09-02T11:52:43.943Z"
   },
   {
    "duration": 6,
    "start_time": "2021-09-02T11:53:01.341Z"
   },
   {
    "duration": 1476,
    "start_time": "2021-09-02T11:53:37.082Z"
   },
   {
    "duration": 992,
    "start_time": "2021-09-02T11:53:49.775Z"
   },
   {
    "duration": -1000,
    "start_time": "2021-09-02T11:53:51.769Z"
   },
   {
    "duration": 3,
    "start_time": "2021-09-02T11:53:54.188Z"
   },
   {
    "duration": 893,
    "start_time": "2021-09-02T11:53:54.727Z"
   },
   {
    "duration": 7,
    "start_time": "2021-09-02T11:58:17.663Z"
   },
   {
    "duration": 29071,
    "start_time": "2021-09-02T11:58:18.818Z"
   },
   {
    "duration": 7,
    "start_time": "2021-09-02T11:59:42.659Z"
   },
   {
    "duration": 28849,
    "start_time": "2021-09-02T11:59:45.144Z"
   },
   {
    "duration": 7,
    "start_time": "2021-09-02T12:02:24.678Z"
   },
   {
    "duration": 113,
    "start_time": "2021-09-02T12:02:25.353Z"
   },
   {
    "duration": 221,
    "start_time": "2021-09-02T12:02:34.481Z"
   },
   {
    "duration": 17,
    "start_time": "2021-09-02T12:02:46.450Z"
   },
   {
    "duration": 14037,
    "start_time": "2021-09-02T12:03:15.270Z"
   },
   {
    "duration": 5736,
    "start_time": "2021-09-02T12:03:43.581Z"
   },
   {
    "duration": 4708,
    "start_time": "2021-09-02T12:05:50.261Z"
   },
   {
    "duration": 4730,
    "start_time": "2021-09-02T12:06:06.736Z"
   },
   {
    "duration": 4626,
    "start_time": "2021-09-02T12:06:31.102Z"
   },
   {
    "duration": 35704,
    "start_time": "2021-09-02T12:06:35.731Z"
   },
   {
    "duration": 18,
    "start_time": "2021-09-02T12:25:31.590Z"
   },
   {
    "duration": 20,
    "start_time": "2021-09-02T12:25:44.936Z"
   },
   {
    "duration": 23,
    "start_time": "2021-09-02T12:25:51.044Z"
   },
   {
    "duration": 23,
    "start_time": "2021-09-02T12:25:51.069Z"
   },
   {
    "duration": 18,
    "start_time": "2021-09-02T12:25:52.702Z"
   },
   {
    "duration": 10,
    "start_time": "2021-09-02T12:25:53.623Z"
   },
   {
    "duration": 3,
    "start_time": "2021-09-02T12:25:54.188Z"
   },
   {
    "duration": 45,
    "start_time": "2021-09-02T12:25:54.894Z"
   },
   {
    "duration": 709,
    "start_time": "2021-09-02T12:30:47.559Z"
   },
   {
    "duration": 796,
    "start_time": "2021-09-02T12:31:09.960Z"
   },
   {
    "duration": 681,
    "start_time": "2021-09-02T12:31:15.455Z"
   },
   {
    "duration": 21,
    "start_time": "2021-09-02T12:31:24.073Z"
   },
   {
    "duration": 20,
    "start_time": "2021-09-02T12:31:51.668Z"
   },
   {
    "duration": 14,
    "start_time": "2021-09-02T12:32:55.649Z"
   },
   {
    "duration": 15,
    "start_time": "2021-09-02T12:33:17.947Z"
   },
   {
    "duration": 1104,
    "start_time": "2021-09-02T12:37:09.662Z"
   },
   {
    "duration": 4,
    "start_time": "2021-09-02T12:37:10.769Z"
   },
   {
    "duration": 1017,
    "start_time": "2021-09-02T12:37:10.777Z"
   },
   {
    "duration": 15,
    "start_time": "2021-09-02T12:37:11.797Z"
   },
   {
    "duration": 24,
    "start_time": "2021-09-02T12:37:11.814Z"
   },
   {
    "duration": 1028,
    "start_time": "2021-09-02T12:37:11.841Z"
   },
   {
    "duration": 37,
    "start_time": "2021-09-02T12:37:12.871Z"
   },
   {
    "duration": 8,
    "start_time": "2021-09-02T12:37:12.913Z"
   },
   {
    "duration": 34,
    "start_time": "2021-09-02T12:37:12.923Z"
   },
   {
    "duration": 33,
    "start_time": "2021-09-02T12:37:12.959Z"
   },
   {
    "duration": 10,
    "start_time": "2021-09-02T12:37:12.995Z"
   },
   {
    "duration": 71,
    "start_time": "2021-09-02T12:37:13.008Z"
   },
   {
    "duration": 14,
    "start_time": "2021-09-02T12:37:13.082Z"
   },
   {
    "duration": 19,
    "start_time": "2021-09-02T12:37:13.099Z"
   },
   {
    "duration": 36,
    "start_time": "2021-09-02T12:37:13.121Z"
   },
   {
    "duration": 34,
    "start_time": "2021-09-02T12:37:13.159Z"
   },
   {
    "duration": 28,
    "start_time": "2021-09-02T12:37:13.195Z"
   },
   {
    "duration": 24,
    "start_time": "2021-09-02T12:37:13.226Z"
   },
   {
    "duration": 24,
    "start_time": "2021-09-02T12:37:13.253Z"
   },
   {
    "duration": 29,
    "start_time": "2021-09-02T12:37:13.279Z"
   },
   {
    "duration": 27,
    "start_time": "2021-09-02T12:37:13.310Z"
   },
   {
    "duration": 18,
    "start_time": "2021-09-02T12:37:13.339Z"
   },
   {
    "duration": 24,
    "start_time": "2021-09-02T12:37:13.363Z"
   },
   {
    "duration": 24,
    "start_time": "2021-09-02T12:37:13.392Z"
   },
   {
    "duration": 29,
    "start_time": "2021-09-02T12:37:13.418Z"
   },
   {
    "duration": 40,
    "start_time": "2021-09-02T12:37:13.449Z"
   },
   {
    "duration": 19,
    "start_time": "2021-09-02T12:37:13.491Z"
   },
   {
    "duration": 33,
    "start_time": "2021-09-02T12:37:13.513Z"
   },
   {
    "duration": 23,
    "start_time": "2021-09-02T12:37:13.548Z"
   },
   {
    "duration": 24,
    "start_time": "2021-09-02T12:37:13.574Z"
   },
   {
    "duration": 18,
    "start_time": "2021-09-02T12:37:13.601Z"
   },
   {
    "duration": 25,
    "start_time": "2021-09-02T12:37:13.621Z"
   },
   {
    "duration": 37,
    "start_time": "2021-09-02T12:37:13.648Z"
   },
   {
    "duration": 23,
    "start_time": "2021-09-02T12:37:13.688Z"
   },
   {
    "duration": 23,
    "start_time": "2021-09-02T12:37:13.714Z"
   },
   {
    "duration": 32,
    "start_time": "2021-09-02T12:37:13.741Z"
   },
   {
    "duration": 24,
    "start_time": "2021-09-02T12:37:13.776Z"
   },
   {
    "duration": 28,
    "start_time": "2021-09-02T12:37:13.803Z"
   },
   {
    "duration": 26,
    "start_time": "2021-09-02T12:37:13.834Z"
   },
   {
    "duration": 43,
    "start_time": "2021-09-02T12:37:13.863Z"
   },
   {
    "duration": 27,
    "start_time": "2021-09-02T12:37:13.909Z"
   },
   {
    "duration": 34,
    "start_time": "2021-09-02T12:37:13.938Z"
   },
   {
    "duration": 37,
    "start_time": "2021-09-02T12:37:13.975Z"
   },
   {
    "duration": 23,
    "start_time": "2021-09-02T12:37:14.014Z"
   },
   {
    "duration": 25,
    "start_time": "2021-09-02T12:37:14.039Z"
   },
   {
    "duration": 25,
    "start_time": "2021-09-02T12:37:14.067Z"
   },
   {
    "duration": 42,
    "start_time": "2021-09-02T12:37:14.094Z"
   },
   {
    "duration": 22,
    "start_time": "2021-09-02T12:37:14.140Z"
   },
   {
    "duration": 30,
    "start_time": "2021-09-02T12:37:14.164Z"
   },
   {
    "duration": 26,
    "start_time": "2021-09-02T12:37:14.196Z"
   },
   {
    "duration": 25,
    "start_time": "2021-09-02T12:37:14.225Z"
   },
   {
    "duration": 30,
    "start_time": "2021-09-02T12:37:14.252Z"
   },
   {
    "duration": 28,
    "start_time": "2021-09-02T12:37:14.285Z"
   },
   {
    "duration": 21,
    "start_time": "2021-09-02T12:37:14.317Z"
   },
   {
    "duration": 19,
    "start_time": "2021-09-02T12:37:14.341Z"
   },
   {
    "duration": 32,
    "start_time": "2021-09-02T12:37:14.364Z"
   },
   {
    "duration": 36,
    "start_time": "2021-09-02T12:37:14.399Z"
   },
   {
    "duration": 73,
    "start_time": "2021-09-02T12:37:14.439Z"
   },
   {
    "duration": 39,
    "start_time": "2021-09-02T12:37:14.515Z"
   },
   {
    "duration": 8,
    "start_time": "2021-09-02T12:37:14.558Z"
   },
   {
    "duration": 52,
    "start_time": "2021-09-02T12:37:14.568Z"
   },
   {
    "duration": 39,
    "start_time": "2021-09-02T12:37:14.623Z"
   },
   {
    "duration": 10,
    "start_time": "2021-09-02T12:37:14.665Z"
   },
   {
    "duration": 68,
    "start_time": "2021-09-02T12:37:14.679Z"
   },
   {
    "duration": 4,
    "start_time": "2021-09-02T12:37:14.750Z"
   },
   {
    "duration": 49,
    "start_time": "2021-09-02T12:37:14.757Z"
   },
   {
    "duration": 5,
    "start_time": "2021-09-02T12:37:14.809Z"
   },
   {
    "duration": 16,
    "start_time": "2021-09-02T12:37:14.824Z"
   },
   {
    "duration": 7086,
    "start_time": "2021-09-02T12:37:14.857Z"
   },
   {
    "duration": 16,
    "start_time": "2021-09-02T12:37:21.946Z"
   },
   {
    "duration": 105,
    "start_time": "2021-09-02T12:37:21.964Z"
   },
   {
    "duration": 15,
    "start_time": "2021-09-02T12:37:22.072Z"
   },
   {
    "duration": 46,
    "start_time": "2021-09-02T12:37:22.090Z"
   },
   {
    "duration": 23,
    "start_time": "2021-09-02T12:37:22.140Z"
   },
   {
    "duration": 967,
    "start_time": "2021-09-02T12:37:22.166Z"
   },
   {
    "duration": 964,
    "start_time": "2021-09-02T12:37:23.136Z"
   },
   {
    "duration": 24,
    "start_time": "2021-09-02T12:37:24.102Z"
   },
   {
    "duration": 159,
    "start_time": "2021-09-02T12:37:24.129Z"
   },
   {
    "duration": 46,
    "start_time": "2021-09-02T12:37:24.292Z"
   },
   {
    "duration": 6,
    "start_time": "2021-09-02T12:37:24.357Z"
   },
   {
    "duration": 21,
    "start_time": "2021-09-02T12:37:24.366Z"
   },
   {
    "duration": 9,
    "start_time": "2021-09-02T12:37:24.389Z"
   },
   {
    "duration": 1226,
    "start_time": "2021-09-02T12:37:24.400Z"
   },
   {
    "duration": 8,
    "start_time": "2021-09-02T12:37:25.629Z"
   },
   {
    "duration": 6100,
    "start_time": "2021-09-02T12:37:25.639Z"
   },
   {
    "duration": 21,
    "start_time": "2021-09-02T12:37:31.741Z"
   },
   {
    "duration": 34,
    "start_time": "2021-09-02T12:37:31.765Z"
   },
   {
    "duration": 52,
    "start_time": "2021-09-02T12:37:31.801Z"
   },
   {
    "duration": 30,
    "start_time": "2021-09-02T12:37:31.855Z"
   },
   {
    "duration": 61,
    "start_time": "2021-09-02T12:37:31.887Z"
   },
   {
    "duration": 26,
    "start_time": "2021-09-02T12:37:31.951Z"
   },
   {
    "duration": 3825,
    "start_time": "2021-09-02T12:37:31.979Z"
   },
   {
    "duration": 53,
    "start_time": "2021-09-02T12:38:12.845Z"
   },
   {
    "duration": 14,
    "start_time": "2021-09-02T12:38:17.008Z"
   },
   {
    "duration": 14,
    "start_time": "2021-09-02T12:38:25.637Z"
   },
   {
    "duration": 1065,
    "start_time": "2021-09-02T12:39:10.115Z"
   },
   {
    "duration": 4,
    "start_time": "2021-09-02T12:39:11.183Z"
   },
   {
    "duration": 644,
    "start_time": "2021-09-02T12:39:11.189Z"
   },
   {
    "duration": 24,
    "start_time": "2021-09-02T12:39:11.836Z"
   },
   {
    "duration": 14,
    "start_time": "2021-09-02T12:39:11.862Z"
   },
   {
    "duration": 978,
    "start_time": "2021-09-02T12:39:11.878Z"
   },
   {
    "duration": 26,
    "start_time": "2021-09-02T12:39:12.858Z"
   },
   {
    "duration": 11,
    "start_time": "2021-09-02T12:39:12.890Z"
   },
   {
    "duration": 28,
    "start_time": "2021-09-02T12:39:12.905Z"
   },
   {
    "duration": 26,
    "start_time": "2021-09-02T12:39:12.957Z"
   },
   {
    "duration": 9,
    "start_time": "2021-09-02T12:39:12.986Z"
   },
   {
    "duration": 70,
    "start_time": "2021-09-02T12:39:12.997Z"
   },
   {
    "duration": 10,
    "start_time": "2021-09-02T12:39:13.070Z"
   },
   {
    "duration": 36,
    "start_time": "2021-09-02T12:39:13.083Z"
   },
   {
    "duration": 14,
    "start_time": "2021-09-02T12:39:13.121Z"
   },
   {
    "duration": 32,
    "start_time": "2021-09-02T12:39:13.137Z"
   },
   {
    "duration": 13,
    "start_time": "2021-09-02T12:39:13.172Z"
   },
   {
    "duration": 22,
    "start_time": "2021-09-02T12:39:13.188Z"
   },
   {
    "duration": 17,
    "start_time": "2021-09-02T12:39:13.213Z"
   },
   {
    "duration": 39,
    "start_time": "2021-09-02T12:39:13.233Z"
   },
   {
    "duration": 14,
    "start_time": "2021-09-02T12:39:13.275Z"
   },
   {
    "duration": 19,
    "start_time": "2021-09-02T12:39:13.292Z"
   },
   {
    "duration": 22,
    "start_time": "2021-09-02T12:39:13.318Z"
   },
   {
    "duration": 19,
    "start_time": "2021-09-02T12:39:13.346Z"
   },
   {
    "duration": 24,
    "start_time": "2021-09-02T12:39:13.368Z"
   },
   {
    "duration": 24,
    "start_time": "2021-09-02T12:39:13.395Z"
   },
   {
    "duration": 16,
    "start_time": "2021-09-02T12:39:13.422Z"
   },
   {
    "duration": 29,
    "start_time": "2021-09-02T12:39:13.440Z"
   },
   {
    "duration": 20,
    "start_time": "2021-09-02T12:39:13.472Z"
   },
   {
    "duration": 20,
    "start_time": "2021-09-02T12:39:13.495Z"
   },
   {
    "duration": 21,
    "start_time": "2021-09-02T12:39:13.518Z"
   },
   {
    "duration": 15,
    "start_time": "2021-09-02T12:39:13.557Z"
   },
   {
    "duration": 40,
    "start_time": "2021-09-02T12:39:13.574Z"
   },
   {
    "duration": 24,
    "start_time": "2021-09-02T12:39:13.617Z"
   },
   {
    "duration": 27,
    "start_time": "2021-09-02T12:39:13.643Z"
   },
   {
    "duration": 26,
    "start_time": "2021-09-02T12:39:13.673Z"
   },
   {
    "duration": 26,
    "start_time": "2021-09-02T12:39:13.701Z"
   },
   {
    "duration": 22,
    "start_time": "2021-09-02T12:39:13.729Z"
   },
   {
    "duration": 26,
    "start_time": "2021-09-02T12:39:13.753Z"
   },
   {
    "duration": 36,
    "start_time": "2021-09-02T12:39:13.782Z"
   },
   {
    "duration": 10,
    "start_time": "2021-09-02T12:39:13.820Z"
   },
   {
    "duration": 25,
    "start_time": "2021-09-02T12:39:13.833Z"
   },
   {
    "duration": 35,
    "start_time": "2021-09-02T12:39:13.860Z"
   },
   {
    "duration": 13,
    "start_time": "2021-09-02T12:39:13.897Z"
   },
   {
    "duration": 14,
    "start_time": "2021-09-02T12:39:13.913Z"
   },
   {
    "duration": 17,
    "start_time": "2021-09-02T12:39:13.930Z"
   },
   {
    "duration": 15,
    "start_time": "2021-09-02T12:39:13.956Z"
   },
   {
    "duration": 24,
    "start_time": "2021-09-02T12:39:13.973Z"
   },
   {
    "duration": 18,
    "start_time": "2021-09-02T12:39:13.999Z"
   },
   {
    "duration": 29,
    "start_time": "2021-09-02T12:39:14.020Z"
   },
   {
    "duration": 20,
    "start_time": "2021-09-02T12:39:14.053Z"
   },
   {
    "duration": 27,
    "start_time": "2021-09-02T12:39:14.077Z"
   },
   {
    "duration": 18,
    "start_time": "2021-09-02T12:39:14.107Z"
   },
   {
    "duration": 20,
    "start_time": "2021-09-02T12:39:14.127Z"
   },
   {
    "duration": 20,
    "start_time": "2021-09-02T12:39:14.149Z"
   },
   {
    "duration": 17,
    "start_time": "2021-09-02T12:39:14.171Z"
   },
   {
    "duration": 16,
    "start_time": "2021-09-02T12:39:14.190Z"
   },
   {
    "duration": 41,
    "start_time": "2021-09-02T12:39:14.209Z"
   },
   {
    "duration": 36,
    "start_time": "2021-09-02T12:39:14.252Z"
   },
   {
    "duration": 6,
    "start_time": "2021-09-02T12:39:14.291Z"
   },
   {
    "duration": 67,
    "start_time": "2021-09-02T12:39:14.299Z"
   },
   {
    "duration": 24,
    "start_time": "2021-09-02T12:39:14.368Z"
   },
   {
    "duration": 13,
    "start_time": "2021-09-02T12:39:14.395Z"
   },
   {
    "duration": 57,
    "start_time": "2021-09-02T12:39:14.410Z"
   },
   {
    "duration": 3,
    "start_time": "2021-09-02T12:39:14.469Z"
   },
   {
    "duration": 35,
    "start_time": "2021-09-02T12:39:14.475Z"
   },
   {
    "duration": 8,
    "start_time": "2021-09-02T12:39:14.512Z"
   },
   {
    "duration": 45,
    "start_time": "2021-09-02T12:39:14.528Z"
   },
   {
    "duration": 6549,
    "start_time": "2021-09-02T12:39:14.576Z"
   },
   {
    "duration": 6,
    "start_time": "2021-09-02T12:39:21.127Z"
   },
   {
    "duration": 21,
    "start_time": "2021-09-02T12:39:21.135Z"
   },
   {
    "duration": 3,
    "start_time": "2021-09-02T12:39:21.159Z"
   },
   {
    "duration": 19,
    "start_time": "2021-09-02T12:39:21.164Z"
   },
   {
    "duration": 32,
    "start_time": "2021-09-02T12:39:21.186Z"
   },
   {
    "duration": 936,
    "start_time": "2021-09-02T12:39:21.221Z"
   },
   {
    "duration": 954,
    "start_time": "2021-09-02T12:39:22.160Z"
   },
   {
    "duration": 20,
    "start_time": "2021-09-02T12:39:23.116Z"
   },
   {
    "duration": 142,
    "start_time": "2021-09-02T12:39:23.138Z"
   },
   {
    "duration": 45,
    "start_time": "2021-09-02T12:39:23.282Z"
   },
   {
    "duration": 28,
    "start_time": "2021-09-02T12:39:23.329Z"
   },
   {
    "duration": 28,
    "start_time": "2021-09-02T12:39:23.359Z"
   },
   {
    "duration": 12,
    "start_time": "2021-09-02T12:39:23.389Z"
   },
   {
    "duration": 1110,
    "start_time": "2021-09-02T12:39:23.403Z"
   },
   {
    "duration": 6,
    "start_time": "2021-09-02T12:39:24.516Z"
   },
   {
    "duration": 5149,
    "start_time": "2021-09-02T12:39:24.525Z"
   },
   {
    "duration": 24,
    "start_time": "2021-09-02T12:39:29.677Z"
   },
   {
    "duration": 30,
    "start_time": "2021-09-02T12:39:29.704Z"
   },
   {
    "duration": 20,
    "start_time": "2021-09-02T12:39:29.756Z"
   },
   {
    "duration": 16,
    "start_time": "2021-09-02T12:39:29.779Z"
   },
   {
    "duration": 21,
    "start_time": "2021-09-02T12:39:29.798Z"
   },
   {
    "duration": 37,
    "start_time": "2021-09-02T12:39:29.821Z"
   },
   {
    "duration": 45,
    "start_time": "2021-09-02T12:39:29.860Z"
   },
   {
    "duration": 12,
    "start_time": "2021-09-02T12:39:29.907Z"
   },
   {
    "duration": 44,
    "start_time": "2021-09-02T12:39:29.922Z"
   },
   {
    "duration": 10,
    "start_time": "2021-09-02T12:40:02.734Z"
   },
   {
    "duration": 10,
    "start_time": "2021-09-02T12:40:04.323Z"
   },
   {
    "duration": 30,
    "start_time": "2021-09-02T12:40:06.411Z"
   },
   {
    "duration": 22,
    "start_time": "2021-09-02T12:40:07.374Z"
   },
   {
    "duration": 11,
    "start_time": "2021-09-02T12:40:08.495Z"
   },
   {
    "duration": 10,
    "start_time": "2021-09-02T12:40:10.587Z"
   },
   {
    "duration": 13,
    "start_time": "2021-09-02T12:40:12.486Z"
   },
   {
    "duration": 11,
    "start_time": "2021-09-02T12:40:12.963Z"
   },
   {
    "duration": 15,
    "start_time": "2021-09-02T12:40:16.111Z"
   },
   {
    "duration": 26,
    "start_time": "2021-09-02T12:40:16.658Z"
   },
   {
    "duration": 9,
    "start_time": "2021-09-02T12:40:30.534Z"
   },
   {
    "duration": 22,
    "start_time": "2021-09-02T12:40:32.747Z"
   },
   {
    "duration": 14,
    "start_time": "2021-09-02T12:40:35.393Z"
   },
   {
    "duration": 10,
    "start_time": "2021-09-02T12:40:36.020Z"
   },
   {
    "duration": 9,
    "start_time": "2021-09-02T12:40:40.284Z"
   },
   {
    "duration": 12,
    "start_time": "2021-09-02T12:40:40.676Z"
   },
   {
    "duration": 15,
    "start_time": "2021-09-02T12:40:41.631Z"
   },
   {
    "duration": 15,
    "start_time": "2021-09-02T12:40:43.295Z"
   },
   {
    "duration": 1476,
    "start_time": "2021-09-02T12:42:33.743Z"
   },
   {
    "duration": 9,
    "start_time": "2021-09-02T12:42:55.568Z"
   },
   {
    "duration": 14,
    "start_time": "2021-09-02T12:43:16.331Z"
   },
   {
    "duration": 8,
    "start_time": "2021-09-02T12:43:27.507Z"
   },
   {
    "duration": 8,
    "start_time": "2021-09-02T12:43:36.456Z"
   },
   {
    "duration": 717,
    "start_time": "2021-09-02T12:43:53.554Z"
   },
   {
    "duration": 710,
    "start_time": "2021-09-02T12:44:11.828Z"
   },
   {
    "duration": 11,
    "start_time": "2021-09-02T12:44:30.357Z"
   },
   {
    "duration": 10,
    "start_time": "2021-09-02T12:45:42.867Z"
   },
   {
    "duration": 10,
    "start_time": "2021-09-02T12:45:53.613Z"
   },
   {
    "duration": 12,
    "start_time": "2021-09-02T12:47:51.991Z"
   },
   {
    "duration": 12,
    "start_time": "2021-09-02T12:48:02.491Z"
   },
   {
    "duration": 12,
    "start_time": "2021-09-02T12:51:58.301Z"
   },
   {
    "duration": 6,
    "start_time": "2021-09-02T12:52:09.192Z"
   },
   {
    "duration": 9,
    "start_time": "2021-09-02T12:52:16.260Z"
   },
   {
    "duration": 13,
    "start_time": "2021-09-02T12:54:12.188Z"
   },
   {
    "duration": 9,
    "start_time": "2021-09-02T12:58:19.630Z"
   },
   {
    "duration": 10,
    "start_time": "2021-09-02T12:58:32.550Z"
   },
   {
    "duration": 6,
    "start_time": "2021-09-02T12:59:53.313Z"
   },
   {
    "duration": 530,
    "start_time": "2021-09-02T13:00:07.265Z"
   },
   {
    "duration": 5,
    "start_time": "2021-09-02T13:00:11.359Z"
   },
   {
    "duration": 9,
    "start_time": "2021-09-02T13:01:24.027Z"
   },
   {
    "duration": 12,
    "start_time": "2021-09-02T13:02:39.009Z"
   },
   {
    "duration": 8,
    "start_time": "2021-09-02T13:02:51.787Z"
   },
   {
    "duration": 12,
    "start_time": "2021-09-02T13:03:00.977Z"
   },
   {
    "duration": 9,
    "start_time": "2021-09-02T13:03:10.969Z"
   },
   {
    "duration": 12,
    "start_time": "2021-09-02T13:03:35.517Z"
   },
   {
    "duration": 738,
    "start_time": "2021-09-02T13:06:03.401Z"
   },
   {
    "duration": 20,
    "start_time": "2021-09-02T13:06:46.645Z"
   },
   {
    "duration": 10,
    "start_time": "2021-09-02T13:07:26.945Z"
   },
   {
    "duration": 1064,
    "start_time": "2021-09-02T13:07:50.427Z"
   },
   {
    "duration": 600,
    "start_time": "2021-09-02T13:11:12.494Z"
   },
   {
    "duration": 409,
    "start_time": "2021-09-02T13:11:16.134Z"
   },
   {
    "duration": 9,
    "start_time": "2021-09-02T13:11:20.446Z"
   },
   {
    "duration": 15,
    "start_time": "2021-09-02T13:12:02.100Z"
   },
   {
    "duration": 949,
    "start_time": "2021-09-02T13:12:17.954Z"
   },
   {
    "duration": 1369,
    "start_time": "2021-09-02T13:12:37.548Z"
   },
   {
    "duration": 21,
    "start_time": "2021-09-02T13:12:59.187Z"
   },
   {
    "duration": 1025,
    "start_time": "2021-09-02T13:13:28.153Z"
   },
   {
    "duration": 21,
    "start_time": "2021-09-02T13:13:42.342Z"
   },
   {
    "duration": 6,
    "start_time": "2021-09-02T13:14:20.525Z"
   },
   {
    "duration": 11,
    "start_time": "2021-09-02T13:43:26.287Z"
   },
   {
    "duration": 10,
    "start_time": "2021-09-02T13:43:39.833Z"
   },
   {
    "duration": 6,
    "start_time": "2021-09-02T13:44:03.628Z"
   },
   {
    "duration": 3042,
    "start_time": "2021-09-02T13:44:32.069Z"
   },
   {
    "duration": 10,
    "start_time": "2021-09-02T13:44:43.124Z"
   },
   {
    "duration": 9,
    "start_time": "2021-09-02T13:45:27.961Z"
   },
   {
    "duration": 9,
    "start_time": "2021-09-02T13:45:41.009Z"
   },
   {
    "duration": 6,
    "start_time": "2021-09-02T13:46:24.012Z"
   },
   {
    "duration": 6,
    "start_time": "2021-09-02T13:46:49.605Z"
   },
   {
    "duration": 7,
    "start_time": "2021-09-02T13:47:24.620Z"
   },
   {
    "duration": 9,
    "start_time": "2021-09-02T13:47:28.554Z"
   },
   {
    "duration": 19,
    "start_time": "2021-09-02T13:47:30.124Z"
   },
   {
    "duration": 10,
    "start_time": "2021-09-02T13:47:30.831Z"
   },
   {
    "duration": 8,
    "start_time": "2021-09-02T13:47:31.583Z"
   },
   {
    "duration": 10,
    "start_time": "2021-09-02T13:47:37.034Z"
   },
   {
    "duration": 3,
    "start_time": "2021-09-02T13:48:44.622Z"
   },
   {
    "duration": 1155,
    "start_time": "2021-09-02T13:48:45.669Z"
   },
   {
    "duration": 769,
    "start_time": "2021-09-02T13:48:55.961Z"
   },
   {
    "duration": 23,
    "start_time": "2021-09-02T13:49:00.194Z"
   },
   {
    "duration": 40,
    "start_time": "2021-09-02T13:49:02.106Z"
   },
   {
    "duration": 8,
    "start_time": "2021-09-02T13:49:04.105Z"
   },
   {
    "duration": 964,
    "start_time": "2021-09-02T13:49:16.684Z"
   },
   {
    "duration": 5,
    "start_time": "2021-09-02T13:49:17.652Z"
   },
   {
    "duration": 717,
    "start_time": "2021-09-02T13:49:17.661Z"
   },
   {
    "duration": 16,
    "start_time": "2021-09-02T13:49:18.382Z"
   },
   {
    "duration": 21,
    "start_time": "2021-09-02T13:49:18.400Z"
   },
   {
    "duration": 1456,
    "start_time": "2021-09-02T13:49:18.424Z"
   },
   {
    "duration": 23,
    "start_time": "2021-09-02T13:49:19.882Z"
   },
   {
    "duration": 11,
    "start_time": "2021-09-02T13:49:19.909Z"
   },
   {
    "duration": 50,
    "start_time": "2021-09-02T13:49:19.924Z"
   },
   {
    "duration": 39,
    "start_time": "2021-09-02T13:49:19.978Z"
   },
   {
    "duration": 14,
    "start_time": "2021-09-02T13:49:20.020Z"
   },
   {
    "duration": 47,
    "start_time": "2021-09-02T13:49:20.037Z"
   },
   {
    "duration": 11,
    "start_time": "2021-09-02T13:49:20.086Z"
   },
   {
    "duration": 14,
    "start_time": "2021-09-02T13:49:20.100Z"
   },
   {
    "duration": 40,
    "start_time": "2021-09-02T13:49:20.117Z"
   },
   {
    "duration": 39,
    "start_time": "2021-09-02T13:49:20.160Z"
   },
   {
    "duration": 14,
    "start_time": "2021-09-02T13:49:20.203Z"
   },
   {
    "duration": 33,
    "start_time": "2021-09-02T13:49:20.220Z"
   },
   {
    "duration": 15,
    "start_time": "2021-09-02T13:49:20.256Z"
   },
   {
    "duration": 42,
    "start_time": "2021-09-02T13:49:20.274Z"
   },
   {
    "duration": 36,
    "start_time": "2021-09-02T13:49:20.318Z"
   },
   {
    "duration": 29,
    "start_time": "2021-09-02T13:49:20.356Z"
   },
   {
    "duration": 57,
    "start_time": "2021-09-02T13:49:20.387Z"
   },
   {
    "duration": 44,
    "start_time": "2021-09-02T13:49:20.446Z"
   },
   {
    "duration": 64,
    "start_time": "2021-09-02T13:49:20.492Z"
   },
   {
    "duration": 86,
    "start_time": "2021-09-02T13:49:20.558Z"
   },
   {
    "duration": 40,
    "start_time": "2021-09-02T13:49:20.651Z"
   },
   {
    "duration": 40,
    "start_time": "2021-09-02T13:49:20.695Z"
   },
   {
    "duration": 22,
    "start_time": "2021-09-02T13:49:20.739Z"
   },
   {
    "duration": 23,
    "start_time": "2021-09-02T13:49:20.764Z"
   },
   {
    "duration": 12,
    "start_time": "2021-09-02T13:49:20.789Z"
   },
   {
    "duration": 19,
    "start_time": "2021-09-02T13:49:20.803Z"
   },
   {
    "duration": 36,
    "start_time": "2021-09-02T13:49:20.825Z"
   },
   {
    "duration": 14,
    "start_time": "2021-09-02T13:49:20.863Z"
   },
   {
    "duration": 19,
    "start_time": "2021-09-02T13:49:20.880Z"
   },
   {
    "duration": 20,
    "start_time": "2021-09-02T13:49:20.902Z"
   },
   {
    "duration": 29,
    "start_time": "2021-09-02T13:49:20.924Z"
   },
   {
    "duration": 33,
    "start_time": "2021-09-02T13:49:20.955Z"
   },
   {
    "duration": 21,
    "start_time": "2021-09-02T13:49:20.991Z"
   },
   {
    "duration": 64,
    "start_time": "2021-09-02T13:49:21.016Z"
   },
   {
    "duration": 15,
    "start_time": "2021-09-02T13:49:21.084Z"
   },
   {
    "duration": 21,
    "start_time": "2021-09-02T13:49:21.102Z"
   },
   {
    "duration": 48,
    "start_time": "2021-09-02T13:49:21.126Z"
   },
   {
    "duration": 19,
    "start_time": "2021-09-02T13:49:21.177Z"
   },
   {
    "duration": 25,
    "start_time": "2021-09-02T13:49:21.199Z"
   },
   {
    "duration": 30,
    "start_time": "2021-09-02T13:49:21.227Z"
   },
   {
    "duration": 28,
    "start_time": "2021-09-02T13:49:21.260Z"
   },
   {
    "duration": 41,
    "start_time": "2021-09-02T13:49:21.292Z"
   },
   {
    "duration": 17,
    "start_time": "2021-09-02T13:49:21.336Z"
   },
   {
    "duration": 19,
    "start_time": "2021-09-02T13:49:21.356Z"
   },
   {
    "duration": 12,
    "start_time": "2021-09-02T13:49:21.378Z"
   },
   {
    "duration": 31,
    "start_time": "2021-09-02T13:49:21.393Z"
   },
   {
    "duration": 17,
    "start_time": "2021-09-02T13:49:21.427Z"
   },
   {
    "duration": 23,
    "start_time": "2021-09-02T13:49:21.446Z"
   },
   {
    "duration": 17,
    "start_time": "2021-09-02T13:49:21.472Z"
   },
   {
    "duration": 26,
    "start_time": "2021-09-02T13:49:21.492Z"
   },
   {
    "duration": 29,
    "start_time": "2021-09-02T13:49:21.520Z"
   },
   {
    "duration": 55,
    "start_time": "2021-09-02T13:49:21.552Z"
   },
   {
    "duration": 39,
    "start_time": "2021-09-02T13:49:21.609Z"
   },
   {
    "duration": 8,
    "start_time": "2021-09-02T13:49:21.651Z"
   },
   {
    "duration": 42,
    "start_time": "2021-09-02T13:49:21.661Z"
   },
   {
    "duration": 24,
    "start_time": "2021-09-02T13:49:21.705Z"
   },
   {
    "duration": 25,
    "start_time": "2021-09-02T13:49:21.731Z"
   },
   {
    "duration": 24,
    "start_time": "2021-09-02T13:49:21.758Z"
   },
   {
    "duration": 9,
    "start_time": "2021-09-02T13:49:21.785Z"
   },
   {
    "duration": 56,
    "start_time": "2021-09-02T13:49:21.796Z"
   },
   {
    "duration": 28,
    "start_time": "2021-09-02T13:49:21.854Z"
   },
   {
    "duration": 33,
    "start_time": "2021-09-02T13:49:21.884Z"
   },
   {
    "duration": 6753,
    "start_time": "2021-09-02T13:49:21.919Z"
   },
   {
    "duration": 6,
    "start_time": "2021-09-02T13:49:28.674Z"
   },
   {
    "duration": 15,
    "start_time": "2021-09-02T13:49:28.682Z"
   },
   {
    "duration": 3,
    "start_time": "2021-09-02T13:49:28.700Z"
   },
   {
    "duration": 16,
    "start_time": "2021-09-02T13:49:28.705Z"
   },
   {
    "duration": 38,
    "start_time": "2021-09-02T13:49:28.723Z"
   },
   {
    "duration": 947,
    "start_time": "2021-09-02T13:49:28.764Z"
   },
   {
    "duration": 972,
    "start_time": "2021-09-02T13:49:29.713Z"
   },
   {
    "duration": 20,
    "start_time": "2021-09-02T13:49:30.687Z"
   },
   {
    "duration": 205,
    "start_time": "2021-09-02T13:49:30.710Z"
   },
   {
    "duration": 51,
    "start_time": "2021-09-02T13:49:30.918Z"
   },
   {
    "duration": 68,
    "start_time": "2021-09-02T13:49:30.972Z"
   },
   {
    "duration": 72,
    "start_time": "2021-09-02T13:49:31.050Z"
   },
   {
    "duration": 34,
    "start_time": "2021-09-02T13:49:31.126Z"
   },
   {
    "duration": 1600,
    "start_time": "2021-09-02T13:49:31.162Z"
   },
   {
    "duration": 7,
    "start_time": "2021-09-02T13:49:32.765Z"
   },
   {
    "duration": 5033,
    "start_time": "2021-09-02T13:49:32.775Z"
   },
   {
    "duration": 16,
    "start_time": "2021-09-02T13:49:37.810Z"
   },
   {
    "duration": 95,
    "start_time": "2021-09-02T13:49:37.828Z"
   },
   {
    "duration": 26,
    "start_time": "2021-09-02T13:49:37.926Z"
   },
   {
    "duration": 15,
    "start_time": "2021-09-02T13:49:37.955Z"
   },
   {
    "duration": 17,
    "start_time": "2021-09-02T13:49:37.973Z"
   },
   {
    "duration": 10,
    "start_time": "2021-09-02T13:49:37.993Z"
   },
   {
    "duration": 77,
    "start_time": "2021-09-02T13:49:38.006Z"
   },
   {
    "duration": 13,
    "start_time": "2021-09-02T13:49:38.086Z"
   },
   {
    "duration": 17,
    "start_time": "2021-09-02T13:49:38.102Z"
   },
   {
    "duration": 40,
    "start_time": "2021-09-02T13:49:38.122Z"
   },
   {
    "duration": 16,
    "start_time": "2021-09-02T13:49:38.165Z"
   },
   {
    "duration": 51,
    "start_time": "2021-09-02T13:49:38.185Z"
   },
   {
    "duration": 34,
    "start_time": "2021-09-02T13:49:38.257Z"
   },
   {
    "duration": 11,
    "start_time": "2021-09-02T13:49:38.295Z"
   },
   {
    "duration": 46,
    "start_time": "2021-09-02T13:49:38.310Z"
   },
   {
    "duration": 13,
    "start_time": "2021-09-02T13:49:38.359Z"
   },
   {
    "duration": 18,
    "start_time": "2021-09-02T13:49:38.375Z"
   },
   {
    "duration": 16,
    "start_time": "2021-09-02T13:49:38.395Z"
   },
   {
    "duration": 58,
    "start_time": "2021-09-02T13:49:38.413Z"
   },
   {
    "duration": 19,
    "start_time": "2021-09-02T13:49:38.473Z"
   },
   {
    "duration": 36,
    "start_time": "2021-09-02T13:49:38.495Z"
   },
   {
    "duration": 26,
    "start_time": "2021-09-02T13:49:38.534Z"
   },
   {
    "duration": 18,
    "start_time": "2021-09-02T13:49:38.562Z"
   },
   {
    "duration": 16,
    "start_time": "2021-09-02T13:49:38.583Z"
   },
   {
    "duration": 12,
    "start_time": "2021-09-02T13:49:38.602Z"
   },
   {
    "duration": 20,
    "start_time": "2021-09-02T13:49:38.616Z"
   },
   {
    "duration": 11,
    "start_time": "2021-09-02T13:49:38.656Z"
   },
   {
    "duration": 16,
    "start_time": "2021-09-02T13:49:38.669Z"
   },
   {
    "duration": 12,
    "start_time": "2021-09-02T13:49:38.688Z"
   },
   {
    "duration": 59,
    "start_time": "2021-09-02T13:49:38.703Z"
   },
   {
    "duration": 27,
    "start_time": "2021-09-02T13:49:38.765Z"
   },
   {
    "duration": 16,
    "start_time": "2021-09-02T13:49:38.794Z"
   },
   {
    "duration": 5,
    "start_time": "2021-09-02T13:49:38.812Z"
   },
   {
    "duration": 419,
    "start_time": "2021-09-02T13:49:38.820Z"
   },
   {
    "duration": 20,
    "start_time": "2021-09-02T13:49:39.243Z"
   },
   {
    "duration": 26,
    "start_time": "2021-09-02T13:49:39.266Z"
   },
   {
    "duration": 41,
    "start_time": "2021-09-02T13:49:39.295Z"
   },
   {
    "duration": 11,
    "start_time": "2021-09-02T13:49:39.339Z"
   },
   {
    "duration": 20,
    "start_time": "2021-09-02T13:49:39.356Z"
   },
   {
    "duration": 26,
    "start_time": "2021-09-02T13:49:39.379Z"
   },
   {
    "duration": 23,
    "start_time": "2021-09-02T13:49:39.408Z"
   },
   {
    "duration": 37,
    "start_time": "2021-09-02T13:49:39.433Z"
   },
   {
    "duration": 19,
    "start_time": "2021-09-02T13:49:39.473Z"
   },
   {
    "duration": 11,
    "start_time": "2021-09-02T13:49:39.494Z"
   },
   {
    "duration": 284,
    "start_time": "2021-09-02T13:50:55.956Z"
   },
   {
    "duration": 290,
    "start_time": "2021-09-02T13:50:59.951Z"
   },
   {
    "duration": 7,
    "start_time": "2021-09-02T13:55:32.590Z"
   },
   {
    "duration": 6,
    "start_time": "2021-09-02T13:55:44.907Z"
   },
   {
    "duration": 249,
    "start_time": "2021-09-02T13:55:46.291Z"
   },
   {
    "duration": 265,
    "start_time": "2021-09-02T13:55:58.146Z"
   },
   {
    "duration": 233,
    "start_time": "2021-09-02T13:57:43.440Z"
   },
   {
    "duration": 210,
    "start_time": "2021-09-02T13:59:15.490Z"
   },
   {
    "duration": 6,
    "start_time": "2021-09-02T13:59:32.056Z"
   },
   {
    "duration": 324,
    "start_time": "2021-09-02T13:59:32.652Z"
   },
   {
    "duration": 335,
    "start_time": "2021-09-02T13:59:53.640Z"
   },
   {
    "duration": 235,
    "start_time": "2021-09-02T14:00:16.323Z"
   },
   {
    "duration": 816,
    "start_time": "2021-09-02T14:00:52.778Z"
   },
   {
    "duration": 7,
    "start_time": "2021-09-02T14:01:41.116Z"
   },
   {
    "duration": 845,
    "start_time": "2021-09-02T14:01:42.890Z"
   },
   {
    "duration": 264,
    "start_time": "2021-09-02T14:02:01.122Z"
   },
   {
    "duration": 1088,
    "start_time": "2021-09-02T14:02:06.348Z"
   },
   {
    "duration": 933,
    "start_time": "2021-09-02T14:02:14.567Z"
   },
   {
    "duration": 1264,
    "start_time": "2021-09-02T14:02:56.395Z"
   },
   {
    "duration": 1840,
    "start_time": "2021-09-02T14:04:06.859Z"
   },
   {
    "duration": 999,
    "start_time": "2021-09-02T14:04:18.233Z"
   },
   {
    "duration": 2686,
    "start_time": "2021-09-02T14:04:28.834Z"
   },
   {
    "duration": 262,
    "start_time": "2021-09-02T14:06:39.688Z"
   },
   {
    "duration": 1263,
    "start_time": "2021-09-02T14:06:51.659Z"
   },
   {
    "duration": 2158,
    "start_time": "2021-09-02T14:07:59.170Z"
   },
   {
    "duration": 900,
    "start_time": "2021-09-02T14:08:19.597Z"
   },
   {
    "duration": 2210,
    "start_time": "2021-09-02T14:08:29.662Z"
   },
   {
    "duration": 1322,
    "start_time": "2021-09-02T14:08:39.305Z"
   },
   {
    "duration": 1214,
    "start_time": "2021-09-02T14:08:53.686Z"
   },
   {
    "duration": 1221,
    "start_time": "2021-09-02T14:09:02.359Z"
   },
   {
    "duration": 1228,
    "start_time": "2021-09-02T14:09:44.021Z"
   },
   {
    "duration": 1262,
    "start_time": "2021-09-02T14:11:15.125Z"
   },
   {
    "duration": 1660,
    "start_time": "2021-09-02T14:12:12.674Z"
   },
   {
    "duration": 1234,
    "start_time": "2021-09-02T14:12:25.968Z"
   },
   {
    "duration": 1824,
    "start_time": "2021-09-02T14:13:18.435Z"
   },
   {
    "duration": 1074,
    "start_time": "2021-09-02T14:13:28.912Z"
   },
   {
    "duration": 1107,
    "start_time": "2021-09-02T14:14:09.498Z"
   },
   {
    "duration": 1131,
    "start_time": "2021-09-02T14:14:20.910Z"
   },
   {
    "duration": 1087,
    "start_time": "2021-09-02T14:15:08.375Z"
   },
   {
    "duration": 10,
    "start_time": "2021-09-02T14:15:44.895Z"
   },
   {
    "duration": 10,
    "start_time": "2021-09-02T14:15:53.332Z"
   },
   {
    "duration": 12,
    "start_time": "2021-09-02T14:15:58.188Z"
   },
   {
    "duration": 6,
    "start_time": "2021-09-02T14:16:05.963Z"
   },
   {
    "duration": 1411,
    "start_time": "2021-09-02T14:16:09.448Z"
   },
   {
    "duration": 1349,
    "start_time": "2021-09-02T14:16:26.002Z"
   },
   {
    "duration": 1164,
    "start_time": "2021-09-02T14:17:56.816Z"
   },
   {
    "duration": 2011,
    "start_time": "2021-09-02T14:18:46.778Z"
   },
   {
    "duration": 2533,
    "start_time": "2021-09-02T14:19:00.261Z"
   },
   {
    "duration": 1251,
    "start_time": "2021-09-02T14:19:51.575Z"
   },
   {
    "duration": 2109,
    "start_time": "2021-09-02T14:22:22.391Z"
   },
   {
    "duration": 2771,
    "start_time": "2021-09-02T14:22:28.819Z"
   },
   {
    "duration": 1346,
    "start_time": "2021-09-02T14:22:56.348Z"
   },
   {
    "duration": 1527,
    "start_time": "2021-09-02T14:23:45.913Z"
   },
   {
    "duration": 1335,
    "start_time": "2021-09-02T14:25:14.756Z"
   },
   {
    "duration": 1467,
    "start_time": "2021-09-02T14:26:45.107Z"
   },
   {
    "duration": 1601,
    "start_time": "2021-09-02T14:27:01.714Z"
   },
   {
    "duration": 1998,
    "start_time": "2021-09-02T14:29:23.556Z"
   },
   {
    "duration": 2418,
    "start_time": "2021-09-02T14:30:53.433Z"
   },
   {
    "duration": 1969,
    "start_time": "2021-09-02T14:31:09.383Z"
   },
   {
    "duration": 5,
    "start_time": "2021-09-02T14:32:58.463Z"
   },
   {
    "duration": 1376,
    "start_time": "2021-09-02T14:33:07.029Z"
   },
   {
    "duration": 387,
    "start_time": "2021-09-02T14:39:50.779Z"
   },
   {
    "duration": 2600,
    "start_time": "2021-09-02T14:44:18.914Z"
   },
   {
    "duration": 1643,
    "start_time": "2021-09-02T14:44:27.258Z"
   },
   {
    "duration": 1349,
    "start_time": "2021-09-02T14:47:58.453Z"
   },
   {
    "duration": 8,
    "start_time": "2021-09-02T14:48:40.662Z"
   },
   {
    "duration": 9,
    "start_time": "2021-09-02T14:49:00.327Z"
   },
   {
    "duration": 9,
    "start_time": "2021-09-02T14:51:35.410Z"
   },
   {
    "duration": 862,
    "start_time": "2021-09-02T14:52:25.685Z"
   },
   {
    "duration": 2034,
    "start_time": "2021-09-02T14:53:05.016Z"
   },
   {
    "duration": 1551,
    "start_time": "2021-09-02T14:53:24.259Z"
   },
   {
    "duration": 2108,
    "start_time": "2021-09-02T14:54:25.115Z"
   },
   {
    "duration": 3086,
    "start_time": "2021-09-02T14:54:46.389Z"
   },
   {
    "duration": 2092,
    "start_time": "2021-09-02T14:54:59.442Z"
   },
   {
    "duration": 674,
    "start_time": "2021-09-02T14:56:06.776Z"
   },
   {
    "duration": 786,
    "start_time": "2021-09-02T14:56:13.507Z"
   },
   {
    "duration": 923,
    "start_time": "2021-09-02T14:56:26.197Z"
   },
   {
    "duration": 1051,
    "start_time": "2021-09-02T14:56:42.770Z"
   },
   {
    "duration": 578,
    "start_time": "2021-09-02T14:57:57.915Z"
   },
   {
    "duration": 2123,
    "start_time": "2021-09-02T14:58:01.229Z"
   },
   {
    "duration": 1246,
    "start_time": "2021-09-02T14:59:52.142Z"
   },
   {
    "duration": 1339,
    "start_time": "2021-09-02T15:00:15.093Z"
   },
   {
    "duration": 2236,
    "start_time": "2021-09-02T15:04:01.898Z"
   },
   {
    "duration": 1780,
    "start_time": "2021-09-02T15:04:47.895Z"
   },
   {
    "duration": 1254,
    "start_time": "2021-09-02T15:05:26.675Z"
   },
   {
    "duration": 1534,
    "start_time": "2021-09-02T15:05:41.291Z"
   },
   {
    "duration": 1268,
    "start_time": "2021-09-02T15:06:51.724Z"
   },
   {
    "duration": 1263,
    "start_time": "2021-09-02T15:07:05.192Z"
   },
   {
    "duration": 1337,
    "start_time": "2021-09-02T15:07:18.821Z"
   },
   {
    "duration": 1255,
    "start_time": "2021-09-02T15:07:37.297Z"
   },
   {
    "duration": 12,
    "start_time": "2021-09-02T15:13:40.324Z"
   },
   {
    "duration": 10,
    "start_time": "2021-09-02T15:13:46.040Z"
   },
   {
    "duration": 1264,
    "start_time": "2021-09-02T15:17:45.351Z"
   },
   {
    "duration": 1129,
    "start_time": "2021-09-02T15:18:47.475Z"
   },
   {
    "duration": 1317,
    "start_time": "2021-09-02T15:19:43.261Z"
   },
   {
    "duration": 1418,
    "start_time": "2021-09-02T15:19:58.816Z"
   },
   {
    "duration": 1371,
    "start_time": "2021-09-02T15:20:55.623Z"
   },
   {
    "duration": 1288,
    "start_time": "2021-09-02T15:21:11.593Z"
   },
   {
    "duration": 1339,
    "start_time": "2021-09-02T15:21:39.247Z"
   },
   {
    "duration": 1712,
    "start_time": "2021-09-02T15:22:01.704Z"
   },
   {
    "duration": 1293,
    "start_time": "2021-09-02T15:22:55.419Z"
   },
   {
    "duration": 1372,
    "start_time": "2021-09-02T15:23:18.713Z"
   },
   {
    "duration": 2060,
    "start_time": "2021-09-02T15:24:41.551Z"
   },
   {
    "duration": 2164,
    "start_time": "2021-09-02T15:25:06.283Z"
   },
   {
    "duration": 1309,
    "start_time": "2021-09-02T15:25:43.758Z"
   },
   {
    "duration": 2576,
    "start_time": "2021-09-02T15:27:09.304Z"
   },
   {
    "duration": 1752,
    "start_time": "2021-09-02T15:27:43.364Z"
   },
   {
    "duration": 1355,
    "start_time": "2021-09-02T15:27:57.023Z"
   },
   {
    "duration": 1277,
    "start_time": "2021-09-02T15:28:35.982Z"
   },
   {
    "duration": 1266,
    "start_time": "2021-09-02T15:29:30.313Z"
   },
   {
    "duration": 1304,
    "start_time": "2021-09-02T15:30:39.512Z"
   },
   {
    "duration": 1307,
    "start_time": "2021-09-02T15:31:34.978Z"
   },
   {
    "duration": 9,
    "start_time": "2021-09-02T15:32:13.043Z"
   },
   {
    "duration": 2938,
    "start_time": "2021-09-02T15:32:57.462Z"
   },
   {
    "duration": 2170,
    "start_time": "2021-09-02T15:33:20.594Z"
   },
   {
    "duration": 2084,
    "start_time": "2021-09-02T15:33:57.280Z"
   },
   {
    "duration": 7,
    "start_time": "2021-09-02T15:34:36.897Z"
   },
   {
    "duration": 4,
    "start_time": "2021-09-02T15:34:51.801Z"
   },
   {
    "duration": 4,
    "start_time": "2021-09-02T15:35:00.823Z"
   },
   {
    "duration": 5,
    "start_time": "2021-09-02T15:35:09.716Z"
   },
   {
    "duration": 4,
    "start_time": "2021-09-02T15:35:43.711Z"
   },
   {
    "duration": 5,
    "start_time": "2021-09-02T15:35:53.463Z"
   },
   {
    "duration": 4,
    "start_time": "2021-09-02T15:36:02.115Z"
   },
   {
    "duration": 3,
    "start_time": "2021-09-02T15:36:07.658Z"
   },
   {
    "duration": 6,
    "start_time": "2021-09-02T15:36:11.280Z"
   },
   {
    "duration": 4,
    "start_time": "2021-09-02T15:36:23.546Z"
   },
   {
    "duration": 360,
    "start_time": "2021-09-02T15:36:45.937Z"
   },
   {
    "duration": 1363,
    "start_time": "2021-09-02T15:36:57.833Z"
   },
   {
    "duration": 1418,
    "start_time": "2021-09-02T15:37:34.582Z"
   },
   {
    "duration": 1430,
    "start_time": "2021-09-02T15:38:22.016Z"
   },
   {
    "duration": 20,
    "start_time": "2021-09-02T15:40:03.993Z"
   },
   {
    "duration": 11,
    "start_time": "2021-09-02T15:40:06.078Z"
   },
   {
    "duration": 14,
    "start_time": "2021-09-02T15:40:08.531Z"
   },
   {
    "duration": 1315,
    "start_time": "2021-09-02T15:40:15.953Z"
   },
   {
    "duration": 1559,
    "start_time": "2021-09-02T15:41:14.701Z"
   },
   {
    "duration": 1418,
    "start_time": "2021-09-02T15:41:57.061Z"
   },
   {
    "duration": 10,
    "start_time": "2021-09-02T15:43:50.563Z"
   },
   {
    "duration": 1746,
    "start_time": "2021-09-02T15:46:26.612Z"
   },
   {
    "duration": 2250,
    "start_time": "2021-09-02T15:46:44.990Z"
   },
   {
    "duration": 2292,
    "start_time": "2021-09-02T15:47:13.016Z"
   },
   {
    "duration": 1923,
    "start_time": "2021-09-02T15:47:23.017Z"
   },
   {
    "duration": 2243,
    "start_time": "2021-09-02T15:47:50.078Z"
   },
   {
    "duration": 3188,
    "start_time": "2021-09-02T15:48:04.672Z"
   },
   {
    "duration": 2064,
    "start_time": "2021-09-02T15:48:54.695Z"
   },
   {
    "duration": 2345,
    "start_time": "2021-09-02T15:49:10.154Z"
   },
   {
    "duration": 1289,
    "start_time": "2021-09-02T15:49:50.253Z"
   },
   {
    "duration": 379,
    "start_time": "2021-09-02T15:51:33.954Z"
   },
   {
    "duration": 201,
    "start_time": "2021-09-02T15:51:49.969Z"
   },
   {
    "duration": 20943,
    "start_time": "2021-09-02T15:52:08.903Z"
   },
   {
    "duration": 1396,
    "start_time": "2021-09-02T15:52:37.250Z"
   },
   {
    "duration": 1577,
    "start_time": "2021-09-02T15:52:50.620Z"
   },
   {
    "duration": 1557,
    "start_time": "2021-09-02T15:53:31.730Z"
   },
   {
    "duration": 1305,
    "start_time": "2021-09-02T15:55:58.804Z"
   },
   {
    "duration": 10,
    "start_time": "2021-09-02T15:58:49.698Z"
   },
   {
    "duration": 2503,
    "start_time": "2021-09-02T16:00:05.710Z"
   },
   {
    "duration": 1173,
    "start_time": "2021-09-02T16:00:31.811Z"
   },
   {
    "duration": 1967,
    "start_time": "2021-09-02T16:02:25.505Z"
   },
   {
    "duration": 1555,
    "start_time": "2021-09-02T16:03:03.394Z"
   },
   {
    "duration": 1220,
    "start_time": "2021-09-02T16:03:52.375Z"
   },
   {
    "duration": 1305,
    "start_time": "2021-09-02T16:05:30.999Z"
   },
   {
    "duration": 1161,
    "start_time": "2021-09-02T16:07:06.449Z"
   },
   {
    "duration": 1245,
    "start_time": "2021-09-02T16:07:20.564Z"
   },
   {
    "duration": 1109,
    "start_time": "2021-09-02T16:14:13.133Z"
   },
   {
    "duration": 1175,
    "start_time": "2021-09-02T16:14:43.297Z"
   },
   {
    "duration": 1132,
    "start_time": "2021-09-02T16:15:09.564Z"
   },
   {
    "duration": 1124,
    "start_time": "2021-09-02T16:16:09.007Z"
   },
   {
    "duration": 1467,
    "start_time": "2021-09-02T16:16:34.162Z"
   },
   {
    "duration": 1109,
    "start_time": "2021-09-02T16:16:58.456Z"
   },
   {
    "duration": 1381,
    "start_time": "2021-09-02T16:17:12.515Z"
   },
   {
    "duration": 1141,
    "start_time": "2021-09-02T16:17:26.353Z"
   },
   {
    "duration": 1397,
    "start_time": "2021-09-02T16:17:50.302Z"
   },
   {
    "duration": 1118,
    "start_time": "2021-09-02T16:17:51.702Z"
   },
   {
    "duration": 544,
    "start_time": "2021-09-02T16:18:51.538Z"
   },
   {
    "duration": 1513,
    "start_time": "2021-09-02T16:20:20.276Z"
   },
   {
    "duration": 223,
    "start_time": "2021-09-02T16:21:42.103Z"
   },
   {
    "duration": 3096,
    "start_time": "2021-09-02T16:22:10.481Z"
   },
   {
    "duration": 418,
    "start_time": "2021-09-02T16:23:23.328Z"
   },
   {
    "duration": 776,
    "start_time": "2021-09-02T16:23:49.990Z"
   },
   {
    "duration": 856,
    "start_time": "2021-09-02T16:25:09.784Z"
   },
   {
    "duration": 1132,
    "start_time": "2021-09-02T16:26:16.944Z"
   },
   {
    "duration": 771,
    "start_time": "2021-09-02T16:28:14.156Z"
   },
   {
    "duration": 2015,
    "start_time": "2021-09-02T16:28:32.369Z"
   },
   {
    "duration": 1104,
    "start_time": "2021-09-02T16:28:38.822Z"
   },
   {
    "duration": 312,
    "start_time": "2021-09-02T16:30:00.796Z"
   },
   {
    "duration": 1882,
    "start_time": "2021-09-02T16:30:10.262Z"
   },
   {
    "duration": 1371,
    "start_time": "2021-09-02T16:31:52.210Z"
   },
   {
    "duration": 1245,
    "start_time": "2021-09-02T16:32:26.348Z"
   },
   {
    "duration": 1786,
    "start_time": "2021-09-02T16:32:51.682Z"
   },
   {
    "duration": 1269,
    "start_time": "2021-09-02T16:33:03.199Z"
   },
   {
    "duration": 1292,
    "start_time": "2021-09-02T16:33:30.492Z"
   },
   {
    "duration": 1254,
    "start_time": "2021-09-02T16:33:54.317Z"
   },
   {
    "duration": 1251,
    "start_time": "2021-09-02T16:34:08.122Z"
   },
   {
    "duration": 1239,
    "start_time": "2021-09-02T16:34:24.876Z"
   },
   {
    "duration": 1680,
    "start_time": "2021-09-02T16:34:41.381Z"
   },
   {
    "duration": 1245,
    "start_time": "2021-09-02T16:34:51.353Z"
   },
   {
    "duration": 1284,
    "start_time": "2021-09-02T16:35:20.105Z"
   },
   {
    "duration": 1283,
    "start_time": "2021-09-02T16:35:31.424Z"
   },
   {
    "duration": 1352,
    "start_time": "2021-09-02T16:35:57.549Z"
   },
   {
    "duration": 1170,
    "start_time": "2021-09-02T16:37:14.326Z"
   },
   {
    "duration": 1281,
    "start_time": "2021-09-02T16:37:34.609Z"
   },
   {
    "duration": 1319,
    "start_time": "2021-09-02T16:37:44.829Z"
   },
   {
    "duration": 1365,
    "start_time": "2021-09-02T16:37:51.108Z"
   },
   {
    "duration": 1304,
    "start_time": "2021-09-02T16:38:08.520Z"
   },
   {
    "duration": 1334,
    "start_time": "2021-09-02T16:38:28.928Z"
   },
   {
    "duration": 1403,
    "start_time": "2021-09-02T16:38:36.618Z"
   },
   {
    "duration": 1357,
    "start_time": "2021-09-02T16:38:49.850Z"
   },
   {
    "duration": 1786,
    "start_time": "2021-09-02T16:39:41.125Z"
   },
   {
    "duration": 1355,
    "start_time": "2021-09-02T16:40:11.356Z"
   },
   {
    "duration": 1470,
    "start_time": "2021-09-02T16:40:23.052Z"
   },
   {
    "duration": 1283,
    "start_time": "2021-09-02T16:41:01.107Z"
   },
   {
    "duration": 1651,
    "start_time": "2021-09-02T16:41:34.060Z"
   },
   {
    "duration": 793,
    "start_time": "2021-09-02T16:42:32.073Z"
   },
   {
    "duration": 1374,
    "start_time": "2021-09-02T16:44:55.409Z"
   },
   {
    "duration": 957,
    "start_time": "2021-09-02T16:48:02.202Z"
   },
   {
    "duration": 912,
    "start_time": "2021-09-02T16:48:33.629Z"
   },
   {
    "duration": 810,
    "start_time": "2021-09-02T16:48:40.763Z"
   },
   {
    "duration": 11,
    "start_time": "2021-09-02T18:09:59.614Z"
   },
   {
    "duration": 1391,
    "start_time": "2021-09-02T18:12:36.304Z"
   },
   {
    "duration": 762,
    "start_time": "2021-09-02T18:18:45.417Z"
   },
   {
    "duration": 3,
    "start_time": "2021-09-02T18:18:46.185Z"
   },
   {
    "duration": 512,
    "start_time": "2021-09-02T18:18:46.191Z"
   },
   {
    "duration": 453,
    "start_time": "2021-09-02T18:18:46.705Z"
   },
   {
    "duration": 13,
    "start_time": "2021-09-02T18:18:47.161Z"
   },
   {
    "duration": 27,
    "start_time": "2021-09-02T18:18:47.176Z"
   },
   {
    "duration": 10,
    "start_time": "2021-09-02T18:18:47.210Z"
   },
   {
    "duration": 35,
    "start_time": "2021-09-02T18:18:47.257Z"
   },
   {
    "duration": 11,
    "start_time": "2021-09-02T18:18:47.294Z"
   },
   {
    "duration": 50,
    "start_time": "2021-09-02T18:18:47.308Z"
   },
   {
    "duration": 5,
    "start_time": "2021-09-02T18:18:47.361Z"
   },
   {
    "duration": 21,
    "start_time": "2021-09-02T18:18:47.368Z"
   },
   {
    "duration": 14,
    "start_time": "2021-09-02T18:18:47.392Z"
   },
   {
    "duration": 22,
    "start_time": "2021-09-02T18:18:47.409Z"
   },
   {
    "duration": 28,
    "start_time": "2021-09-02T18:18:47.434Z"
   },
   {
    "duration": 28,
    "start_time": "2021-09-02T18:18:47.465Z"
   },
   {
    "duration": 20,
    "start_time": "2021-09-02T18:18:47.496Z"
   },
   {
    "duration": 13,
    "start_time": "2021-09-02T18:18:47.518Z"
   },
   {
    "duration": 24,
    "start_time": "2021-09-02T18:18:47.533Z"
   },
   {
    "duration": 23,
    "start_time": "2021-09-02T18:18:47.559Z"
   },
   {
    "duration": 22,
    "start_time": "2021-09-02T18:18:47.585Z"
   },
   {
    "duration": 18,
    "start_time": "2021-09-02T18:18:47.609Z"
   },
   {
    "duration": 27,
    "start_time": "2021-09-02T18:18:47.630Z"
   },
   {
    "duration": 16,
    "start_time": "2021-09-02T18:18:47.660Z"
   },
   {
    "duration": 16,
    "start_time": "2021-09-02T18:18:47.686Z"
   },
   {
    "duration": 49,
    "start_time": "2021-09-02T18:18:47.708Z"
   },
   {
    "duration": 12,
    "start_time": "2021-09-02T18:18:47.760Z"
   },
   {
    "duration": 11,
    "start_time": "2021-09-02T18:18:47.775Z"
   },
   {
    "duration": 32,
    "start_time": "2021-09-02T18:18:47.789Z"
   },
   {
    "duration": 36,
    "start_time": "2021-09-02T18:18:47.824Z"
   },
   {
    "duration": 8,
    "start_time": "2021-09-02T18:18:47.863Z"
   },
   {
    "duration": 11,
    "start_time": "2021-09-02T18:18:47.874Z"
   },
   {
    "duration": 8,
    "start_time": "2021-09-02T18:18:47.889Z"
   },
   {
    "duration": 57,
    "start_time": "2021-09-02T18:18:47.900Z"
   },
   {
    "duration": 9,
    "start_time": "2021-09-02T18:18:47.961Z"
   },
   {
    "duration": 31,
    "start_time": "2021-09-02T18:18:47.972Z"
   },
   {
    "duration": 8,
    "start_time": "2021-09-02T18:18:48.005Z"
   },
   {
    "duration": 42,
    "start_time": "2021-09-02T18:18:48.015Z"
   },
   {
    "duration": 28,
    "start_time": "2021-09-02T18:18:48.060Z"
   },
   {
    "duration": 11,
    "start_time": "2021-09-02T18:18:48.091Z"
   },
   {
    "duration": 15,
    "start_time": "2021-09-02T18:18:48.104Z"
   },
   {
    "duration": 33,
    "start_time": "2021-09-02T18:18:48.122Z"
   },
   {
    "duration": 9,
    "start_time": "2021-09-02T18:18:48.158Z"
   },
   {
    "duration": 27,
    "start_time": "2021-09-02T18:18:48.169Z"
   },
   {
    "duration": 22,
    "start_time": "2021-09-02T18:18:48.198Z"
   },
   {
    "duration": 26,
    "start_time": "2021-09-02T18:18:48.223Z"
   },
   {
    "duration": 21,
    "start_time": "2021-09-02T18:18:48.252Z"
   },
   {
    "duration": 25,
    "start_time": "2021-09-02T18:18:48.275Z"
   },
   {
    "duration": 19,
    "start_time": "2021-09-02T18:18:48.302Z"
   },
   {
    "duration": 19,
    "start_time": "2021-09-02T18:18:48.323Z"
   },
   {
    "duration": 20,
    "start_time": "2021-09-02T18:18:48.344Z"
   },
   {
    "duration": 11,
    "start_time": "2021-09-02T18:18:48.367Z"
   },
   {
    "duration": 30,
    "start_time": "2021-09-02T18:18:48.380Z"
   },
   {
    "duration": 54,
    "start_time": "2021-09-02T18:18:48.412Z"
   },
   {
    "duration": 34,
    "start_time": "2021-09-02T18:18:48.468Z"
   },
   {
    "duration": 7,
    "start_time": "2021-09-02T18:18:48.505Z"
   },
   {
    "duration": 56,
    "start_time": "2021-09-02T18:18:48.514Z"
   },
   {
    "duration": 23,
    "start_time": "2021-09-02T18:18:48.572Z"
   },
   {
    "duration": 8,
    "start_time": "2021-09-02T18:18:48.598Z"
   },
   {
    "duration": 59,
    "start_time": "2021-09-02T18:18:48.608Z"
   },
   {
    "duration": 3,
    "start_time": "2021-09-02T18:18:48.669Z"
   },
   {
    "duration": 28,
    "start_time": "2021-09-02T18:18:48.675Z"
   },
   {
    "duration": 7,
    "start_time": "2021-09-02T18:18:48.706Z"
   },
   {
    "duration": 43,
    "start_time": "2021-09-02T18:18:48.716Z"
   },
   {
    "duration": 6696,
    "start_time": "2021-09-02T18:18:48.761Z"
   },
   {
    "duration": 6,
    "start_time": "2021-09-02T18:18:55.459Z"
   },
   {
    "duration": 20,
    "start_time": "2021-09-02T18:18:55.468Z"
   },
   {
    "duration": 22,
    "start_time": "2021-09-02T18:18:55.491Z"
   },
   {
    "duration": 25,
    "start_time": "2021-09-02T18:18:55.516Z"
   },
   {
    "duration": 84,
    "start_time": "2021-09-02T18:18:55.543Z"
   },
   {
    "duration": 989,
    "start_time": "2021-09-02T18:18:55.630Z"
   },
   {
    "duration": 1087,
    "start_time": "2021-09-02T18:18:56.622Z"
   },
   {
    "duration": 20,
    "start_time": "2021-09-02T18:18:57.712Z"
   },
   {
    "duration": 83,
    "start_time": "2021-09-02T18:18:57.734Z"
   },
   {
    "duration": 52,
    "start_time": "2021-09-02T18:18:57.820Z"
   },
   {
    "duration": 8,
    "start_time": "2021-09-02T18:18:57.874Z"
   },
   {
    "duration": 26,
    "start_time": "2021-09-02T18:18:57.884Z"
   },
   {
    "duration": 7,
    "start_time": "2021-09-02T18:18:57.913Z"
   },
   {
    "duration": 1132,
    "start_time": "2021-09-02T18:18:57.930Z"
   },
   {
    "duration": 6,
    "start_time": "2021-09-02T18:18:59.067Z"
   },
   {
    "duration": 4809,
    "start_time": "2021-09-02T18:18:59.076Z"
   },
   {
    "duration": 15,
    "start_time": "2021-09-02T18:19:03.888Z"
   },
   {
    "duration": 18,
    "start_time": "2021-09-02T18:19:03.905Z"
   },
   {
    "duration": 47,
    "start_time": "2021-09-02T18:19:03.925Z"
   },
   {
    "duration": 13,
    "start_time": "2021-09-02T18:19:03.975Z"
   },
   {
    "duration": 19,
    "start_time": "2021-09-02T18:19:03.990Z"
   },
   {
    "duration": 44,
    "start_time": "2021-09-02T18:19:04.011Z"
   },
   {
    "duration": 42,
    "start_time": "2021-09-02T18:19:04.058Z"
   },
   {
    "duration": 14,
    "start_time": "2021-09-02T18:19:04.102Z"
   },
   {
    "duration": 48,
    "start_time": "2021-09-02T18:19:04.120Z"
   },
   {
    "duration": 9,
    "start_time": "2021-09-02T18:19:04.171Z"
   },
   {
    "duration": 13,
    "start_time": "2021-09-02T18:19:04.182Z"
   },
   {
    "duration": 62,
    "start_time": "2021-09-02T18:19:04.197Z"
   },
   {
    "duration": 22,
    "start_time": "2021-09-02T18:19:04.261Z"
   },
   {
    "duration": 8,
    "start_time": "2021-09-02T18:19:04.285Z"
   },
   {
    "duration": 17,
    "start_time": "2021-09-02T18:19:04.296Z"
   },
   {
    "duration": 57,
    "start_time": "2021-09-02T18:19:04.315Z"
   },
   {
    "duration": 17,
    "start_time": "2021-09-02T18:19:04.375Z"
   },
   {
    "duration": 17,
    "start_time": "2021-09-02T18:19:04.395Z"
   },
   {
    "duration": 41,
    "start_time": "2021-09-02T18:19:04.414Z"
   },
   {
    "duration": 22,
    "start_time": "2021-09-02T18:19:04.457Z"
   },
   {
    "duration": 28,
    "start_time": "2021-09-02T18:19:04.482Z"
   },
   {
    "duration": 10,
    "start_time": "2021-09-02T18:19:04.512Z"
   },
   {
    "duration": 33,
    "start_time": "2021-09-02T18:19:04.524Z"
   },
   {
    "duration": 9,
    "start_time": "2021-09-02T18:19:04.560Z"
   },
   {
    "duration": 9,
    "start_time": "2021-09-02T18:19:04.572Z"
   },
   {
    "duration": 12,
    "start_time": "2021-09-02T18:19:04.584Z"
   },
   {
    "duration": 11,
    "start_time": "2021-09-02T18:19:04.599Z"
   },
   {
    "duration": 51,
    "start_time": "2021-09-02T18:19:04.613Z"
   },
   {
    "duration": 10,
    "start_time": "2021-09-02T18:19:04.667Z"
   },
   {
    "duration": 24,
    "start_time": "2021-09-02T18:19:04.679Z"
   },
   {
    "duration": 61,
    "start_time": "2021-09-02T18:19:04.705Z"
   },
   {
    "duration": 13,
    "start_time": "2021-09-02T18:19:04.768Z"
   },
   {
    "duration": 136,
    "start_time": "2021-09-02T18:19:04.784Z"
   },
   {
    "duration": 408,
    "start_time": "2021-09-02T18:19:04.923Z"
   },
   {
    "duration": 24,
    "start_time": "2021-09-02T18:19:05.334Z"
   },
   {
    "duration": 19,
    "start_time": "2021-09-02T18:19:05.361Z"
   },
   {
    "duration": 24,
    "start_time": "2021-09-02T18:19:05.383Z"
   },
   {
    "duration": 11,
    "start_time": "2021-09-02T18:19:05.409Z"
   },
   {
    "duration": 42,
    "start_time": "2021-09-02T18:19:05.423Z"
   },
   {
    "duration": 14,
    "start_time": "2021-09-02T18:19:05.468Z"
   },
   {
    "duration": 19,
    "start_time": "2021-09-02T18:19:05.485Z"
   },
   {
    "duration": 108,
    "start_time": "2021-09-02T18:19:05.507Z"
   },
   {
    "duration": 11,
    "start_time": "2021-09-02T18:19:05.619Z"
   },
   {
    "duration": 34,
    "start_time": "2021-09-02T18:19:05.633Z"
   },
   {
    "duration": 1442,
    "start_time": "2021-09-02T18:19:05.670Z"
   },
   {
    "duration": 1364,
    "start_time": "2021-09-02T18:19:07.114Z"
   },
   {
    "duration": 10,
    "start_time": "2021-09-02T18:19:08.480Z"
   },
   {
    "duration": 650,
    "start_time": "2021-09-02T18:19:08.492Z"
   },
   {
    "duration": 785,
    "start_time": "2021-09-02T18:19:09.145Z"
   },
   {
    "duration": 848,
    "start_time": "2021-09-03T13:13:20.066Z"
   },
   {
    "duration": 7,
    "start_time": "2021-09-03T13:13:26.832Z"
   },
   {
    "duration": 11,
    "start_time": "2021-09-03T13:13:35.397Z"
   },
   {
    "duration": 128,
    "start_time": "2021-09-03T13:15:47.037Z"
   },
   {
    "duration": 978,
    "start_time": "2021-09-03T13:15:49.766Z"
   },
   {
    "duration": 25,
    "start_time": "2021-09-03T13:16:42.192Z"
   },
   {
    "duration": 10,
    "start_time": "2021-09-03T13:17:02.337Z"
   },
   {
    "duration": 10,
    "start_time": "2021-09-03T13:17:13.706Z"
   },
   {
    "duration": 9,
    "start_time": "2021-09-03T13:18:40.370Z"
   },
   {
    "duration": 444,
    "start_time": "2021-09-03T13:19:05.955Z"
   },
   {
    "duration": 8,
    "start_time": "2021-09-03T13:19:11.744Z"
   },
   {
    "duration": 9,
    "start_time": "2021-09-03T13:19:16.555Z"
   },
   {
    "duration": 440,
    "start_time": "2021-09-03T13:19:36.789Z"
   },
   {
    "duration": 10,
    "start_time": "2021-09-03T13:19:46.009Z"
   },
   {
    "duration": 9,
    "start_time": "2021-09-03T13:19:48.579Z"
   },
   {
    "duration": 10,
    "start_time": "2021-09-03T13:19:51.369Z"
   },
   {
    "duration": 10,
    "start_time": "2021-09-03T13:20:36.116Z"
   },
   {
    "duration": 12,
    "start_time": "2021-09-03T13:20:42.169Z"
   },
   {
    "duration": 13,
    "start_time": "2021-09-03T13:20:55.281Z"
   },
   {
    "duration": 181,
    "start_time": "2021-09-03T13:25:57.365Z"
   },
   {
    "duration": 134,
    "start_time": "2021-09-03T13:26:55.880Z"
   },
   {
    "duration": 141,
    "start_time": "2021-09-03T13:38:30.706Z"
   },
   {
    "duration": 346,
    "start_time": "2021-09-03T13:38:39.246Z"
   },
   {
    "duration": 124,
    "start_time": "2021-09-03T13:39:02.567Z"
   },
   {
    "duration": 364,
    "start_time": "2021-09-03T13:39:09.951Z"
   },
   {
    "duration": 372,
    "start_time": "2021-09-03T13:39:47.794Z"
   },
   {
    "duration": 7556,
    "start_time": "2021-09-03T13:40:28.775Z"
   },
   {
    "duration": 4,
    "start_time": "2021-09-03T13:41:51.733Z"
   },
   {
    "duration": 7,
    "start_time": "2021-09-03T13:41:51.740Z"
   },
   {
    "duration": 371,
    "start_time": "2021-09-03T13:41:51.750Z"
   },
   {
    "duration": 41,
    "start_time": "2021-09-03T13:41:52.123Z"
   },
   {
    "duration": 13,
    "start_time": "2021-09-03T13:41:52.166Z"
   },
   {
    "duration": 24,
    "start_time": "2021-09-03T13:41:52.182Z"
   },
   {
    "duration": 57,
    "start_time": "2021-09-03T13:41:52.209Z"
   },
   {
    "duration": 32,
    "start_time": "2021-09-03T13:41:52.268Z"
   },
   {
    "duration": 10,
    "start_time": "2021-09-03T13:41:52.303Z"
   },
   {
    "duration": 54,
    "start_time": "2021-09-03T13:41:52.315Z"
   },
   {
    "duration": 5,
    "start_time": "2021-09-03T13:41:52.372Z"
   },
   {
    "duration": 18,
    "start_time": "2021-09-03T13:41:52.379Z"
   },
   {
    "duration": 9,
    "start_time": "2021-09-03T13:41:52.399Z"
   },
   {
    "duration": 7,
    "start_time": "2021-09-03T13:41:52.413Z"
   },
   {
    "duration": 7,
    "start_time": "2021-09-03T13:41:52.464Z"
   },
   {
    "duration": 17,
    "start_time": "2021-09-03T13:41:52.473Z"
   },
   {
    "duration": 12,
    "start_time": "2021-09-03T13:41:52.492Z"
   },
   {
    "duration": 4,
    "start_time": "2021-09-03T13:41:52.506Z"
   },
   {
    "duration": 12,
    "start_time": "2021-09-03T13:41:52.512Z"
   },
   {
    "duration": 10,
    "start_time": "2021-09-03T13:41:52.563Z"
   },
   {
    "duration": 13,
    "start_time": "2021-09-03T13:41:52.575Z"
   },
   {
    "duration": 15,
    "start_time": "2021-09-03T13:41:52.591Z"
   },
   {
    "duration": 16,
    "start_time": "2021-09-03T13:41:52.609Z"
   },
   {
    "duration": 44,
    "start_time": "2021-09-03T13:41:52.627Z"
   },
   {
    "duration": 15,
    "start_time": "2021-09-03T13:41:52.674Z"
   },
   {
    "duration": 13,
    "start_time": "2021-09-03T13:41:52.691Z"
   },
   {
    "duration": 7,
    "start_time": "2021-09-03T13:41:52.707Z"
   },
   {
    "duration": 48,
    "start_time": "2021-09-03T13:41:52.716Z"
   },
   {
    "duration": 22,
    "start_time": "2021-09-03T13:41:52.766Z"
   },
   {
    "duration": 7,
    "start_time": "2021-09-03T13:41:52.791Z"
   },
   {
    "duration": 10,
    "start_time": "2021-09-03T13:41:52.800Z"
   },
   {
    "duration": 9,
    "start_time": "2021-09-03T13:41:52.813Z"
   },
   {
    "duration": 8,
    "start_time": "2021-09-03T13:41:52.862Z"
   },
   {
    "duration": 8,
    "start_time": "2021-09-03T13:41:52.873Z"
   },
   {
    "duration": 12,
    "start_time": "2021-09-03T13:41:52.884Z"
   },
   {
    "duration": 24,
    "start_time": "2021-09-03T13:41:52.898Z"
   },
   {
    "duration": 39,
    "start_time": "2021-09-03T13:41:52.924Z"
   },
   {
    "duration": 9,
    "start_time": "2021-09-03T13:41:52.972Z"
   },
   {
    "duration": 19,
    "start_time": "2021-09-03T13:41:52.985Z"
   },
   {
    "duration": 13,
    "start_time": "2021-09-03T13:41:53.007Z"
   },
   {
    "duration": 41,
    "start_time": "2021-09-03T13:41:53.022Z"
   },
   {
    "duration": 10,
    "start_time": "2021-09-03T13:41:53.066Z"
   },
   {
    "duration": 11,
    "start_time": "2021-09-03T13:41:53.078Z"
   },
   {
    "duration": 21,
    "start_time": "2021-09-03T13:41:53.092Z"
   },
   {
    "duration": 12,
    "start_time": "2021-09-03T13:41:53.116Z"
   },
   {
    "duration": 37,
    "start_time": "2021-09-03T13:41:53.130Z"
   },
   {
    "duration": 13,
    "start_time": "2021-09-03T13:41:53.170Z"
   },
   {
    "duration": 18,
    "start_time": "2021-09-03T13:41:53.185Z"
   },
   {
    "duration": 17,
    "start_time": "2021-09-03T13:41:53.206Z"
   },
   {
    "duration": 39,
    "start_time": "2021-09-03T13:41:53.225Z"
   },
   {
    "duration": 9,
    "start_time": "2021-09-03T13:41:53.267Z"
   },
   {
    "duration": 7,
    "start_time": "2021-09-03T13:41:53.279Z"
   },
   {
    "duration": 13,
    "start_time": "2021-09-03T13:41:53.289Z"
   },
   {
    "duration": 58,
    "start_time": "2021-09-03T13:41:53.304Z"
   },
   {
    "duration": 33,
    "start_time": "2021-09-03T13:41:53.365Z"
   },
   {
    "duration": 6,
    "start_time": "2021-09-03T13:41:53.401Z"
   },
   {
    "duration": 54,
    "start_time": "2021-09-03T13:41:53.409Z"
   },
   {
    "duration": 22,
    "start_time": "2021-09-03T13:41:53.466Z"
   },
   {
    "duration": 8,
    "start_time": "2021-09-03T13:41:53.490Z"
   },
   {
    "duration": 24,
    "start_time": "2021-09-03T13:41:53.500Z"
   },
   {
    "duration": 35,
    "start_time": "2021-09-03T13:41:53.527Z"
   },
   {
    "duration": 25,
    "start_time": "2021-09-03T13:41:53.565Z"
   },
   {
    "duration": 5,
    "start_time": "2021-09-03T13:41:53.593Z"
   },
   {
    "duration": 20,
    "start_time": "2021-09-03T13:41:53.600Z"
   },
   {
    "duration": 6367,
    "start_time": "2021-09-03T13:41:53.623Z"
   },
   {
    "duration": 5,
    "start_time": "2021-09-03T13:41:59.993Z"
   },
   {
    "duration": 29,
    "start_time": "2021-09-03T13:42:00.000Z"
   },
   {
    "duration": 9,
    "start_time": "2021-09-03T13:42:00.031Z"
   },
   {
    "duration": 18,
    "start_time": "2021-09-03T13:42:00.043Z"
   },
   {
    "duration": 17,
    "start_time": "2021-09-03T13:42:00.064Z"
   },
   {
    "duration": 925,
    "start_time": "2021-09-03T13:42:00.083Z"
   },
   {
    "duration": 919,
    "start_time": "2021-09-03T13:42:01.011Z"
   },
   {
    "duration": 186,
    "start_time": "2021-09-03T13:42:01.933Z"
   },
   {
    "duration": 425,
    "start_time": "2021-09-03T13:42:02.121Z"
   },
   {
    "duration": 43,
    "start_time": "2021-09-03T13:42:02.548Z"
   },
   {
    "duration": 31,
    "start_time": "2021-09-03T13:42:02.593Z"
   },
   {
    "duration": 15,
    "start_time": "2021-09-03T13:42:02.627Z"
   },
   {
    "duration": 9,
    "start_time": "2021-09-03T13:42:02.645Z"
   },
   {
    "duration": 1064,
    "start_time": "2021-09-03T13:42:02.657Z"
   },
   {
    "duration": 7,
    "start_time": "2021-09-03T13:42:03.723Z"
   },
   {
    "duration": 4678,
    "start_time": "2021-09-03T13:42:03.733Z"
   },
   {
    "duration": 369,
    "start_time": "2021-09-03T13:42:08.414Z"
   },
   {
    "duration": 47509,
    "start_time": "2021-09-03T13:41:21.278Z"
   },
   {
    "duration": 47505,
    "start_time": "2021-09-03T13:41:21.283Z"
   },
   {
    "duration": 47502,
    "start_time": "2021-09-03T13:41:21.288Z"
   },
   {
    "duration": 47499,
    "start_time": "2021-09-03T13:41:21.292Z"
   },
   {
    "duration": 47497,
    "start_time": "2021-09-03T13:41:21.296Z"
   },
   {
    "duration": 47495,
    "start_time": "2021-09-03T13:41:21.300Z"
   },
   {
    "duration": 47492,
    "start_time": "2021-09-03T13:41:21.304Z"
   },
   {
    "duration": 47489,
    "start_time": "2021-09-03T13:41:21.308Z"
   },
   {
    "duration": 47481,
    "start_time": "2021-09-03T13:41:21.318Z"
   },
   {
    "duration": 47478,
    "start_time": "2021-09-03T13:41:21.322Z"
   },
   {
    "duration": 47474,
    "start_time": "2021-09-03T13:41:21.327Z"
   },
   {
    "duration": 47471,
    "start_time": "2021-09-03T13:41:21.332Z"
   },
   {
    "duration": 47467,
    "start_time": "2021-09-03T13:41:21.337Z"
   },
   {
    "duration": 47463,
    "start_time": "2021-09-03T13:41:21.342Z"
   },
   {
    "duration": 47461,
    "start_time": "2021-09-03T13:41:21.346Z"
   },
   {
    "duration": 47457,
    "start_time": "2021-09-03T13:41:21.351Z"
   },
   {
    "duration": 47455,
    "start_time": "2021-09-03T13:41:21.355Z"
   },
   {
    "duration": 47445,
    "start_time": "2021-09-03T13:41:21.367Z"
   },
   {
    "duration": 47441,
    "start_time": "2021-09-03T13:41:21.372Z"
   },
   {
    "duration": 47438,
    "start_time": "2021-09-03T13:41:21.376Z"
   },
   {
    "duration": 47436,
    "start_time": "2021-09-03T13:41:21.380Z"
   },
   {
    "duration": 47433,
    "start_time": "2021-09-03T13:41:21.384Z"
   },
   {
    "duration": 47431,
    "start_time": "2021-09-03T13:41:21.388Z"
   },
   {
    "duration": 47428,
    "start_time": "2021-09-03T13:41:21.392Z"
   },
   {
    "duration": 47425,
    "start_time": "2021-09-03T13:41:21.396Z"
   },
   {
    "duration": 47461,
    "start_time": "2021-09-03T13:41:21.401Z"
   },
   {
    "duration": 47459,
    "start_time": "2021-09-03T13:41:21.405Z"
   },
   {
    "duration": 47456,
    "start_time": "2021-09-03T13:41:21.409Z"
   },
   {
    "duration": 47454,
    "start_time": "2021-09-03T13:41:21.413Z"
   },
   {
    "duration": 47451,
    "start_time": "2021-09-03T13:41:21.418Z"
   },
   {
    "duration": 47448,
    "start_time": "2021-09-03T13:41:21.422Z"
   },
   {
    "duration": 47444,
    "start_time": "2021-09-03T13:41:21.427Z"
   },
   {
    "duration": 47442,
    "start_time": "2021-09-03T13:41:21.431Z"
   },
   {
    "duration": 47429,
    "start_time": "2021-09-03T13:41:21.445Z"
   },
   {
    "duration": 47424,
    "start_time": "2021-09-03T13:41:21.451Z"
   },
   {
    "duration": 47422,
    "start_time": "2021-09-03T13:41:21.455Z"
   },
   {
    "duration": 47404,
    "start_time": "2021-09-03T13:41:21.474Z"
   },
   {
    "duration": 47272,
    "start_time": "2021-09-03T13:41:21.607Z"
   },
   {
    "duration": 47270,
    "start_time": "2021-09-03T13:41:21.611Z"
   },
   {
    "duration": 47256,
    "start_time": "2021-09-03T13:41:21.626Z"
   },
   {
    "duration": 47253,
    "start_time": "2021-09-03T13:41:21.630Z"
   },
   {
    "duration": 47219,
    "start_time": "2021-09-03T13:41:21.666Z"
   },
   {
    "duration": 47216,
    "start_time": "2021-09-03T13:41:21.670Z"
   },
   {
    "duration": 47213,
    "start_time": "2021-09-03T13:41:21.674Z"
   },
   {
    "duration": 47211,
    "start_time": "2021-09-03T13:41:21.678Z"
   },
   {
    "duration": 47208,
    "start_time": "2021-09-03T13:41:21.682Z"
   },
   {
    "duration": 47205,
    "start_time": "2021-09-03T13:41:21.686Z"
   },
   {
    "duration": 47199,
    "start_time": "2021-09-03T13:41:21.694Z"
   },
   {
    "duration": 47196,
    "start_time": "2021-09-03T13:41:21.698Z"
   },
   {
    "duration": 47191,
    "start_time": "2021-09-03T13:41:21.705Z"
   },
   {
    "duration": 47188,
    "start_time": "2021-09-03T13:41:21.709Z"
   },
   {
    "duration": 4,
    "start_time": "2021-09-03T13:42:50.912Z"
   },
   {
    "duration": 9,
    "start_time": "2021-09-03T13:42:50.919Z"
   },
   {
    "duration": 346,
    "start_time": "2021-09-03T13:42:50.931Z"
   },
   {
    "duration": 16,
    "start_time": "2021-09-03T13:42:51.279Z"
   },
   {
    "duration": 13,
    "start_time": "2021-09-03T13:42:51.298Z"
   },
   {
    "duration": 59,
    "start_time": "2021-09-03T13:42:51.315Z"
   },
   {
    "duration": 8,
    "start_time": "2021-09-03T13:42:51.377Z"
   },
   {
    "duration": 74,
    "start_time": "2021-09-03T13:42:51.388Z"
   },
   {
    "duration": 11,
    "start_time": "2021-09-03T13:42:51.464Z"
   },
   {
    "duration": 19,
    "start_time": "2021-09-03T13:42:51.477Z"
   },
   {
    "duration": 29,
    "start_time": "2021-09-03T13:42:51.498Z"
   },
   {
    "duration": 36,
    "start_time": "2021-09-03T13:42:51.529Z"
   },
   {
    "duration": 19,
    "start_time": "2021-09-03T13:42:51.568Z"
   },
   {
    "duration": 17,
    "start_time": "2021-09-03T13:42:51.592Z"
   },
   {
    "duration": 8,
    "start_time": "2021-09-03T13:42:51.612Z"
   },
   {
    "duration": 16,
    "start_time": "2021-09-03T13:42:51.622Z"
   },
   {
    "duration": 14,
    "start_time": "2021-09-03T13:42:51.661Z"
   },
   {
    "duration": 17,
    "start_time": "2021-09-03T13:42:51.677Z"
   },
   {
    "duration": 16,
    "start_time": "2021-09-03T13:42:51.697Z"
   },
   {
    "duration": 23,
    "start_time": "2021-09-03T13:42:51.716Z"
   },
   {
    "duration": 24,
    "start_time": "2021-09-03T13:42:51.741Z"
   },
   {
    "duration": 15,
    "start_time": "2021-09-03T13:42:51.767Z"
   },
   {
    "duration": 13,
    "start_time": "2021-09-03T13:42:51.784Z"
   },
   {
    "duration": 20,
    "start_time": "2021-09-03T13:42:51.799Z"
   },
   {
    "duration": 42,
    "start_time": "2021-09-03T13:42:51.821Z"
   },
   {
    "duration": 15,
    "start_time": "2021-09-03T13:42:51.865Z"
   },
   {
    "duration": 17,
    "start_time": "2021-09-03T13:42:51.882Z"
   },
   {
    "duration": 15,
    "start_time": "2021-09-03T13:42:51.901Z"
   },
   {
    "duration": 24,
    "start_time": "2021-09-03T13:42:51.919Z"
   },
   {
    "duration": 7,
    "start_time": "2021-09-03T13:42:51.961Z"
   },
   {
    "duration": 13,
    "start_time": "2021-09-03T13:42:51.971Z"
   },
   {
    "duration": 9,
    "start_time": "2021-09-03T13:42:51.987Z"
   },
   {
    "duration": 14,
    "start_time": "2021-09-03T13:42:51.998Z"
   },
   {
    "duration": 18,
    "start_time": "2021-09-03T13:42:52.014Z"
   },
   {
    "duration": 31,
    "start_time": "2021-09-03T13:42:52.034Z"
   },
   {
    "duration": 33,
    "start_time": "2021-09-03T13:42:52.068Z"
   },
   {
    "duration": 8,
    "start_time": "2021-09-03T13:42:52.104Z"
   },
   {
    "duration": 20,
    "start_time": "2021-09-03T13:42:52.121Z"
   },
   {
    "duration": 17,
    "start_time": "2021-09-03T13:42:52.165Z"
   },
   {
    "duration": 21,
    "start_time": "2021-09-03T13:42:52.185Z"
   },
   {
    "duration": 15,
    "start_time": "2021-09-03T13:42:52.209Z"
   },
   {
    "duration": 16,
    "start_time": "2021-09-03T13:42:52.227Z"
   },
   {
    "duration": 9,
    "start_time": "2021-09-03T13:42:52.263Z"
   },
   {
    "duration": 22,
    "start_time": "2021-09-03T13:42:52.274Z"
   },
   {
    "duration": 23,
    "start_time": "2021-09-03T13:42:52.298Z"
   },
   {
    "duration": 15,
    "start_time": "2021-09-03T13:42:52.323Z"
   },
   {
    "duration": 32,
    "start_time": "2021-09-03T13:42:52.340Z"
   },
   {
    "duration": 23,
    "start_time": "2021-09-03T13:42:52.374Z"
   },
   {
    "duration": 25,
    "start_time": "2021-09-03T13:42:52.400Z"
   },
   {
    "duration": 14,
    "start_time": "2021-09-03T13:42:52.427Z"
   },
   {
    "duration": 12,
    "start_time": "2021-09-03T13:42:52.443Z"
   },
   {
    "duration": 13,
    "start_time": "2021-09-03T13:42:52.462Z"
   },
   {
    "duration": 43,
    "start_time": "2021-09-03T13:42:52.477Z"
   },
   {
    "duration": 39,
    "start_time": "2021-09-03T13:42:52.522Z"
   },
   {
    "duration": 34,
    "start_time": "2021-09-03T13:42:52.564Z"
   },
   {
    "duration": 6,
    "start_time": "2021-09-03T13:42:52.600Z"
   },
   {
    "duration": 55,
    "start_time": "2021-09-03T13:42:52.608Z"
   },
   {
    "duration": 23,
    "start_time": "2021-09-03T13:42:52.665Z"
   },
   {
    "duration": 7,
    "start_time": "2021-09-03T13:42:52.690Z"
   },
   {
    "duration": 43,
    "start_time": "2021-09-03T13:42:52.699Z"
   },
   {
    "duration": 18,
    "start_time": "2021-09-03T13:42:52.744Z"
   },
   {
    "duration": 32,
    "start_time": "2021-09-03T13:42:52.764Z"
   },
   {
    "duration": 6,
    "start_time": "2021-09-03T13:42:52.798Z"
   },
   {
    "duration": 34,
    "start_time": "2021-09-03T13:42:52.806Z"
   },
   {
    "duration": 7048,
    "start_time": "2021-09-03T13:42:52.842Z"
   },
   {
    "duration": 7,
    "start_time": "2021-09-03T13:42:59.894Z"
   },
   {
    "duration": 5,
    "start_time": "2021-09-03T13:42:59.905Z"
   },
   {
    "duration": 10,
    "start_time": "2021-09-03T13:42:59.913Z"
   },
   {
    "duration": 44,
    "start_time": "2021-09-03T13:42:59.926Z"
   },
   {
    "duration": 12,
    "start_time": "2021-09-03T13:42:59.973Z"
   },
   {
    "duration": 931,
    "start_time": "2021-09-03T13:42:59.987Z"
   },
   {
    "duration": 914,
    "start_time": "2021-09-03T13:43:00.920Z"
   },
   {
    "duration": 4,
    "start_time": "2021-09-03T13:43:01.836Z"
   },
   {
    "duration": 86,
    "start_time": "2021-09-03T13:43:01.842Z"
   },
   {
    "duration": 53,
    "start_time": "2021-09-03T13:43:01.930Z"
   },
   {
    "duration": 6,
    "start_time": "2021-09-03T13:43:01.986Z"
   },
   {
    "duration": 26,
    "start_time": "2021-09-03T13:43:01.995Z"
   },
   {
    "duration": 39,
    "start_time": "2021-09-03T13:43:02.024Z"
   },
   {
    "duration": 1098,
    "start_time": "2021-09-03T13:43:02.065Z"
   },
   {
    "duration": 8,
    "start_time": "2021-09-03T13:43:03.166Z"
   },
   {
    "duration": 4638,
    "start_time": "2021-09-03T13:43:03.177Z"
   },
   {
    "duration": 3,
    "start_time": "2021-09-03T13:43:07.817Z"
   },
   {
    "duration": 10,
    "start_time": "2021-09-03T13:43:07.823Z"
   },
   {
    "duration": 8,
    "start_time": "2021-09-03T13:43:07.836Z"
   },
   {
    "duration": 29,
    "start_time": "2021-09-03T13:43:07.846Z"
   },
   {
    "duration": 17,
    "start_time": "2021-09-03T13:43:07.878Z"
   },
   {
    "duration": 22,
    "start_time": "2021-09-03T13:43:07.897Z"
   },
   {
    "duration": 49,
    "start_time": "2021-09-03T13:43:07.922Z"
   },
   {
    "duration": 18,
    "start_time": "2021-09-03T13:43:07.974Z"
   },
   {
    "duration": 11,
    "start_time": "2021-09-03T13:43:07.994Z"
   },
   {
    "duration": 74,
    "start_time": "2021-09-03T13:43:08.007Z"
   },
   {
    "duration": 14,
    "start_time": "2021-09-03T13:43:08.084Z"
   },
   {
    "duration": 17,
    "start_time": "2021-09-03T13:43:08.101Z"
   },
   {
    "duration": 42,
    "start_time": "2021-09-03T13:43:08.120Z"
   },
   {
    "duration": 9,
    "start_time": "2021-09-03T13:43:08.165Z"
   },
   {
    "duration": 28,
    "start_time": "2021-09-03T13:43:08.177Z"
   },
   {
    "duration": 54,
    "start_time": "2021-09-03T13:43:08.208Z"
   },
   {
    "duration": 9,
    "start_time": "2021-09-03T13:43:08.265Z"
   },
   {
    "duration": 12,
    "start_time": "2021-09-03T13:43:08.276Z"
   },
   {
    "duration": 19,
    "start_time": "2021-09-03T13:43:08.291Z"
   },
   {
    "duration": 12,
    "start_time": "2021-09-03T13:43:08.312Z"
   },
   {
    "duration": 17,
    "start_time": "2021-09-03T13:43:08.363Z"
   },
   {
    "duration": 25,
    "start_time": "2021-09-03T13:43:08.383Z"
   },
   {
    "duration": 11,
    "start_time": "2021-09-03T13:43:08.411Z"
   },
   {
    "duration": 58,
    "start_time": "2021-09-03T13:43:08.425Z"
   },
   {
    "duration": 11,
    "start_time": "2021-09-03T13:43:08.486Z"
   },
   {
    "duration": 11,
    "start_time": "2021-09-03T13:43:08.500Z"
   },
   {
    "duration": 51,
    "start_time": "2021-09-03T13:43:08.514Z"
   },
   {
    "duration": 12,
    "start_time": "2021-09-03T13:43:08.567Z"
   },
   {
    "duration": 12,
    "start_time": "2021-09-03T13:43:08.591Z"
   },
   {
    "duration": 12,
    "start_time": "2021-09-03T13:43:08.606Z"
   },
   {
    "duration": 47,
    "start_time": "2021-09-03T13:43:08.620Z"
   },
   {
    "duration": 12,
    "start_time": "2021-09-03T13:43:08.670Z"
   },
   {
    "duration": 24,
    "start_time": "2021-09-03T13:43:08.685Z"
   },
   {
    "duration": 73,
    "start_time": "2021-09-03T13:43:08.712Z"
   },
   {
    "duration": 13,
    "start_time": "2021-09-03T13:43:08.788Z"
   },
   {
    "duration": 4,
    "start_time": "2021-09-03T13:43:08.804Z"
   },
   {
    "duration": 414,
    "start_time": "2021-09-03T13:43:08.812Z"
   },
   {
    "duration": 12,
    "start_time": "2021-09-03T13:43:09.230Z"
   },
   {
    "duration": 9,
    "start_time": "2021-09-03T13:43:09.263Z"
   },
   {
    "duration": 26,
    "start_time": "2021-09-03T13:43:09.275Z"
   },
   {
    "duration": 13,
    "start_time": "2021-09-03T13:43:09.304Z"
   },
   {
    "duration": 13,
    "start_time": "2021-09-03T13:43:09.363Z"
   },
   {
    "duration": 7,
    "start_time": "2021-09-03T13:43:09.379Z"
   },
   {
    "duration": 11,
    "start_time": "2021-09-03T13:43:09.389Z"
   },
   {
    "duration": 19,
    "start_time": "2021-09-03T13:43:09.402Z"
   },
   {
    "duration": 47,
    "start_time": "2021-09-03T13:43:09.423Z"
   },
   {
    "duration": 10,
    "start_time": "2021-09-03T13:43:09.472Z"
   },
   {
    "duration": 1406,
    "start_time": "2021-09-03T13:43:09.485Z"
   },
   {
    "duration": 1360,
    "start_time": "2021-09-03T13:43:10.894Z"
   },
   {
    "duration": 14,
    "start_time": "2021-09-03T13:43:12.256Z"
   },
   {
    "duration": 664,
    "start_time": "2021-09-03T13:43:12.273Z"
   },
   {
    "duration": 786,
    "start_time": "2021-09-03T13:43:12.940Z"
   }
  ],
  "kernelspec": {
   "display_name": "Python 3 (ipykernel)",
   "language": "python",
   "name": "python3"
  },
  "language_info": {
   "codemirror_mode": {
    "name": "ipython",
    "version": 3
   },
   "file_extension": ".py",
   "mimetype": "text/x-python",
   "name": "python",
   "nbconvert_exporter": "python",
   "pygments_lexer": "ipython3",
   "version": "3.7.8"
  },
  "toc": {
   "base_numbering": 1,
   "nav_menu": {},
   "number_sections": false,
   "sideBar": true,
   "skip_h1_title": true,
   "title_cell": "Содержание",
   "title_sidebar": "Содержание",
   "toc_cell": true,
   "toc_position": {
    "height": "calc(100% - 180px)",
    "left": "10px",
    "top": "150px",
    "width": "426.667px"
   },
   "toc_section_display": true,
   "toc_window_display": true
  }
 },
 "nbformat": 4,
 "nbformat_minor": 2
}
